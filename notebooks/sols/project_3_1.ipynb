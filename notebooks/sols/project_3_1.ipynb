{
 "cells": [
  {
   "cell_type": "markdown",
   "id": "52a35619-ab69-489c-a5ac-7cef6a26a9f8",
   "metadata": {},
   "source": [
    "# 3.1 Adapting to Real Predictions"
   ]
  },
  {
   "cell_type": "code",
   "execution_count": 1, 
   "id": "afb7eabb-721b-4f50-b355-ea26a43ebdab",
   "metadata": {},
   "outputs": [],
   "source": [
    "import json\n",
    "import numpy as np\n",
    "import pandas as pd\n",
    "import tensorflow as tf\n",
    "import tensorflow_recommenders as tfrs\n",
    "from math import sqrt\n",
    "from statistics import mean\n",
    "from collections import Counter"
   ]
  },
  {
   "cell_type": "markdown",
   "id": "eb94374f-a54e-42f2-9517-3545f17310ee",
   "metadata": {},
   "source": [
    "We begin by importing the data and metadata we saved on project #1 and exporting vocabularies:"
   ]
  },
  {
   "cell_type": "code",
   "execution_count": 2, 
   "id": "7c3116b9-6465-47f6-97e9-1c3b16966405",
   "metadata": {},
   "outputs": [],
   "source": [
    "train_df = pd.read_csv('../local_data/train_data.csv', header=0)[['user','movie','rating']]\n",
    "test_df = pd.read_csv('../local_data/test_data.csv', header=0)[['user','movie','rating']]\n",
    "with open('../local_data/metadata.json', 'r') as f:\n",
    "    metadata = json.load(f)"
   ]
  },
  {
   "cell_type": "code",
   "execution_count": 3, 
   "id": "79c92176-eae8-4cbe-b065-a2053961020d",
   "metadata": {},
   "outputs": [],
   "source": [
    "all_users = [str(int(i)) for i in metadata['users']]\n",
    "all_movies = [str(int(i)) for i in metadata['movies']]"
   ]
  },
  {
   "cell_type": "markdown",
   "id": "609048af-44e4-46bb-93f2-0fc1ae45ce3e",
   "metadata": {},
   "source": [
    "Converting to datasets:"
   ]
  },
  {
   "cell_type": "code",
   "execution_count": 4, 
   "id": "e9bea9ff-6a4f-46d6-a62f-2ea9c131481e",
   "metadata": {},
   "outputs": [
    {
     "name": "stderr",
     "output_type": "stream",
     "text": [
      "2022-02-02 22:42:05.921888: I tensorflow/core/platform/cpu_feature_guard.cc:142] This TensorFlow binary is optimized with oneAPI Deep Neural Network Library (oneDNN) to use the following CPU instructions in performance-critical operations:  AVX2 FMA\n",
      "To enable them in other operations, rebuild TensorFlow with the appropriate compiler flags.\n"
     ]
    }
   ],
   "source": [
    "def convert_to_dataset(df):\n",
    "    d = {k:v.to_numpy() for k,v in dict(df).items()}\n",
    "    d = {k:(np.expand_dims(v, axis=1) if k != 'user' else v) for k,v in d.items()}  # expanding dimensions of movie and rating features\n",
    "    return tf.data.Dataset.from_tensor_slices(d)\n",
    "\n",
    "train_dataset = convert_to_dataset(train_df)\n",
    "test_dataset = convert_to_dataset(test_df)"
   ]
  },
  {
   "cell_type": "markdown",
   "id": "333ec8ef-e803-4499-a4bc-7deb720a306b",
   "metadata": {},
   "source": [
    "Below is the model design of milestone #2.2, but this time, note that the shape of `movie_input` has an additional dimension. As a result, the `towers_multiplied` layer requires a creaful handling."
   ]
  },
  {
   "cell_type": "code",
   "execution_count": 5, 
   "id": "f435dc29-62d0-4805-a2f1-e9ca016e8372",
   "metadata": {},
   "outputs": [],
   "source": [
    "class RatingPredictionModel(tfrs.models.Model):\n",
    "    def __init__(self):\n",
    "        super().__init__()\n",
    "        \n",
    "        # User tower\n",
    "        self.user_input = tf.keras.Input(shape=(1,), dtype=tf.string, name='user_input')\n",
    "        self.user_sl = tf.keras.layers.StringLookup(vocabulary=all_users, name='user_string_lookup')(self.user_input)\n",
    "        self.user_emb = tf.squeeze(tf.keras.layers.Embedding(len(all_users)+1, 25, name='user_emb')(self.user_sl), axis=1)\n",
    "        self.user_dense = tf.keras.layers.Dense(20, activation='relu', name='user_dense')(self.user_emb)\n",
    "        \n",
    "        # Movie tower\n",
    "        self.movie_input = tf.keras.Input(shape=(None,1), dtype=tf.string, name='movie_input')\n",
    "        self.movie_sl = tf.keras.layers.StringLookup(vocabulary=all_movies, name='movie_string_lookup')(self.movie_input)\n",
    "        self.movie_emb = tf.squeeze(tf.keras.layers.Embedding(len(all_movies)+1, 25, name='movie_emb')(self.movie_sl), axis=2)\n",
    "        self.movie_dense = tf.keras.layers.Dense(20, activation='relu', name='movie_dense')(self.movie_emb)\n",
    "        \n",
    "        # Merging towers\n",
    "        self.towers_multiplied = tf.keras.layers.Multiply(name='towers_multiplied')([tf.expand_dims(self.user_dense, axis=2), \n",
    "                                                                                     tf.transpose(self.movie_dense, perm=[0,2,1])])  # the 0-axis is the batch size, and it must always remain the first dimension.\n",
    "        self.towers_dense = tf.keras.layers.Dense(10, activation='relu', name='towers_dense')(tf.transpose(self.towers_multiplied, perm=[0,2,1]))\n",
    "        self.output_node = tf.keras.layers.Dense(1, name='output_node')(self.towers_dense)\n",
    "        \n",
    "        # Model definition\n",
    "        self.model = tf.keras.Model(inputs={'user': self.user_input, \n",
    "                                            'movie': self.movie_input}, \n",
    "                                    outputs=self.output_node)\n",
    "        \n",
    "        self.task = tfrs.tasks.Ranking(\n",
    "            loss = tf.keras.losses.MeanSquaredError(),\n",
    "            metrics=[tf.keras.metrics.RootMeanSquaredError()]\n",
    "        )\n",
    "        \n",
    "    def call(self, features):\n",
    "        return self.model({'user': tf.strings.as_string(features[\"user\"]),\n",
    "                           'movie': tf.strings.as_string(features[\"movie\"])})\n",
    "    \n",
    "    def compute_loss(self, features_dict, training=False):\n",
    "        labels = features_dict[\"rating\"]\n",
    "        predictions = self(features_dict)\n",
    "        return self.task(labels=labels, predictions=predictions)"
   ]
  },
  {
   "cell_type": "markdown",
   "id": "921c9270-4509-4595-a4a8-b776648f552f",
   "metadata": {},
   "source": [
    "Training and evaluating:"
   ]
  },
  {
   "cell_type": "code",
   "execution_count": 6, 
   "id": "b15d0132-9205-4d4c-b2fe-d14338611afb",
   "metadata": {
    "scrolled": true,
    "tags": []
   },
   "outputs": [
    {
     "name": "stdout",
     "output_type": "stream",
     "text": [
      "Epoch 1/1000\n"
     ]
    },
    {
     "name": "stderr",
     "output_type": "stream",
     "text": [
      "2022-02-02 22:48:00.021888: I tensorflow/compiler/mlir/mlir_graph_optimization_pass.cc:185] None of the MLIR Optimization Passes are enabled (registered 2)\n"
     ]
    },
    {
     "name": "stdout",
     "output_type": "stream",
     "text": [
      "96/96 [==============================] - 6s 51ms/step - root_mean_squared_error: 2.8754 - loss: 8.1221 - regularization_loss: 0.0000e+00 - total_loss: 8.1221\n",
      "Epoch 2/1000\n",
      "96/96 [==============================] - 1s 9ms/step - root_mean_squared_error: 1.0119 - loss: 1.0223 - regularization_loss: 0.0000e+00 - total_loss: 1.0223\n",
      "Epoch 3/1000\n",
      "96/96 [==============================] - 1s 9ms/step - root_mean_squared_error: 0.9713 - loss: 0.9428 - regularization_loss: 0.0000e+00 - total_loss: 0.9428\n",
      "Epoch 4/1000\n",
      "96/96 [==============================] - 1s 9ms/step - root_mean_squared_error: 0.9653 - loss: 0.9312 - regularization_loss: 0.0000e+00 - total_loss: 0.9312\n",
      "Epoch 5/1000\n",
      "96/96 [==============================] - 1s 9ms/step - root_mean_squared_error: 0.9645 - loss: 0.9295 - regularization_loss: 0.0000e+00 - total_loss: 0.9295\n",
      "Epoch 6/1000\n",
      "96/96 [==============================] - 1s 10ms/step - root_mean_squared_error: 0.9632 - loss: 0.9268 - regularization_loss: 0.0000e+00 - total_loss: 0.9268\n",
      "Epoch 7/1000\n",
      "96/96 [==============================] - 1s 12ms/step - root_mean_squared_error: 0.9614 - loss: 0.9230 - regularization_loss: 0.0000e+00 - total_loss: 0.9230\n",
      "Epoch 8/1000\n",
      "96/96 [==============================] - 1s 11ms/step - root_mean_squared_error: 0.9578 - loss: 0.9154 - regularization_loss: 0.0000e+00 - total_loss: 0.9154\n",
      "Epoch 9/1000\n",
      "96/96 [==============================] - 1s 9ms/step - root_mean_squared_error: 0.9513 - loss: 0.9020 - regularization_loss: 0.0000e+00 - total_loss: 0.9020\n",
      "Epoch 10/1000\n",
      "96/96 [==============================] - 1s 10ms/step - root_mean_squared_error: 0.9477 - loss: 0.8947 - regularization_loss: 0.0000e+00 - total_loss: 0.8947\n",
      "Epoch 11/1000\n",
      "96/96 [==============================] - 1s 9ms/step - root_mean_squared_error: 0.9452 - loss: 0.8900 - regularization_loss: 0.0000e+00 - total_loss: 0.8900\n",
      "Epoch 12/1000\n",
      "96/96 [==============================] - 1s 9ms/step - root_mean_squared_error: 0.9429 - loss: 0.8853 - regularization_loss: 0.0000e+00 - total_loss: 0.8853\n",
      "Epoch 13/1000\n",
      "96/96 [==============================] - 1s 11ms/step - root_mean_squared_error: 0.9401 - loss: 0.8795 - regularization_loss: 0.0000e+00 - total_loss: 0.8795\n",
      "Epoch 14/1000\n",
      "96/96 [==============================] - 1s 10ms/step - root_mean_squared_error: 0.9352 - loss: 0.8698 - regularization_loss: 0.0000e+00 - total_loss: 0.8698\n",
      "Epoch 15/1000\n",
      "96/96 [==============================] - 1s 9ms/step - root_mean_squared_error: 0.9303 - loss: 0.8601 - regularization_loss: 0.0000e+00 - total_loss: 0.8601\n",
      "Epoch 16/1000\n",
      "96/96 [==============================] - 1s 9ms/step - root_mean_squared_error: 0.9281 - loss: 0.8556 - regularization_loss: 0.0000e+00 - total_loss: 0.8556\n",
      "Epoch 17/1000\n",
      "96/96 [==============================] - 1s 10ms/step - root_mean_squared_error: 0.9268 - loss: 0.8528 - regularization_loss: 0.0000e+00 - total_loss: 0.8528\n",
      "Epoch 18/1000\n",
      "96/96 [==============================] - 1s 9ms/step - root_mean_squared_error: 0.9259 - loss: 0.8509 - regularization_loss: 0.0000e+00 - total_loss: 0.8509\n",
      "Epoch 19/1000\n",
      "96/96 [==============================] - 1s 10ms/step - root_mean_squared_error: 0.9250 - loss: 0.8488 - regularization_loss: 0.0000e+00 - total_loss: 0.8488\n",
      "Epoch 20/1000\n",
      "96/96 [==============================] - 1s 10ms/step - root_mean_squared_error: 0.9246 - loss: 0.8478 - regularization_loss: 0.0000e+00 - total_loss: 0.8478\n",
      "Epoch 21/1000\n",
      "96/96 [==============================] - 1s 9ms/step - root_mean_squared_error: 0.9272 - loss: 0.8521 - regularization_loss: 0.0000e+00 - total_loss: 0.8521\n",
      "Epoch 22/1000\n",
      "96/96 [==============================] - 1s 10ms/step - root_mean_squared_error: 0.9261 - loss: 0.8499 - regularization_loss: 0.0000e+00 - total_loss: 0.8499\n",
      "Epoch 23/1000\n",
      "96/96 [==============================] - 1s 10ms/step - root_mean_squared_error: 0.9237 - loss: 0.8451 - regularization_loss: 0.0000e+00 - total_loss: 0.8451\n",
      "Epoch 24/1000\n",
      "96/96 [==============================] - 1s 11ms/step - root_mean_squared_error: 0.9214 - loss: 0.8406 - regularization_loss: 0.0000e+00 - total_loss: 0.8406\n",
      "Epoch 25/1000\n",
      "96/96 [==============================] - 1s 10ms/step - root_mean_squared_error: 0.9194 - loss: 0.8367 - regularization_loss: 0.0000e+00 - total_loss: 0.8367\n",
      "Epoch 26/1000\n",
      "96/96 [==============================] - 1s 9ms/step - root_mean_squared_error: 0.9167 - loss: 0.8314 - regularization_loss: 0.0000e+00 - total_loss: 0.8314\n",
      "Epoch 27/1000\n",
      "96/96 [==============================] - 1s 9ms/step - root_mean_squared_error: 0.9141 - loss: 0.8266 - regularization_loss: 0.0000e+00 - total_loss: 0.8266\n",
      "Epoch 28/1000\n",
      "96/96 [==============================] - 1s 9ms/step - root_mean_squared_error: 0.9124 - loss: 0.8232 - regularization_loss: 0.0000e+00 - total_loss: 0.8232\n",
      "Epoch 29/1000\n",
      "96/96 [==============================] - 1s 9ms/step - root_mean_squared_error: 0.9113 - loss: 0.8211 - regularization_loss: 0.0000e+00 - total_loss: 0.8211\n",
      "Epoch 30/1000\n",
      "96/96 [==============================] - 1s 9ms/step - root_mean_squared_error: 0.9114 - loss: 0.8212 - regularization_loss: 0.0000e+00 - total_loss: 0.8212\n",
      "Epoch 31/1000\n",
      "96/96 [==============================] - 1s 9ms/step - root_mean_squared_error: 0.9116 - loss: 0.8215 - regularization_loss: 0.0000e+00 - total_loss: 0.8215\n",
      "Epoch 32/1000\n",
      "96/96 [==============================] - 1s 9ms/step - root_mean_squared_error: 0.9106 - loss: 0.8196 - regularization_loss: 0.0000e+00 - total_loss: 0.8196\n",
      "Epoch 33/1000\n",
      "96/96 [==============================] - 1s 9ms/step - root_mean_squared_error: 0.9081 - loss: 0.8151 - regularization_loss: 0.0000e+00 - total_loss: 0.8151\n",
      "Epoch 34/1000\n",
      "96/96 [==============================] - 1s 9ms/step - root_mean_squared_error: 0.9060 - loss: 0.8112 - regularization_loss: 0.0000e+00 - total_loss: 0.8112\n",
      "Epoch 35/1000\n",
      "96/96 [==============================] - 1s 11ms/step - root_mean_squared_error: 0.9052 - loss: 0.8097 - regularization_loss: 0.0000e+00 - total_loss: 0.8097\n",
      "Epoch 36/1000\n",
      "96/96 [==============================] - 1s 9ms/step - root_mean_squared_error: 0.9068 - loss: 0.8127 - regularization_loss: 0.0000e+00 - total_loss: 0.8127\n",
      "Epoch 37/1000\n",
      "96/96 [==============================] - 1s 11ms/step - root_mean_squared_error: 0.9078 - loss: 0.8142 - regularization_loss: 0.0000e+00 - total_loss: 0.8142\n",
      "Epoch 38/1000\n",
      "96/96 [==============================] - 1s 11ms/step - root_mean_squared_error: 0.9071 - loss: 0.8129 - regularization_loss: 0.0000e+00 - total_loss: 0.8129\n",
      "Epoch 39/1000\n",
      "96/96 [==============================] - 1s 9ms/step - root_mean_squared_error: 0.9047 - loss: 0.8089 - regularization_loss: 0.0000e+00 - total_loss: 0.8089\n",
      "Epoch 40/1000\n",
      "96/96 [==============================] - 1s 10ms/step - root_mean_squared_error: 0.9048 - loss: 0.8088 - regularization_loss: 0.0000e+00 - total_loss: 0.8088\n",
      "Epoch 41/1000\n",
      "96/96 [==============================] - 1s 11ms/step - root_mean_squared_error: 0.9025 - loss: 0.8045 - regularization_loss: 0.0000e+00 - total_loss: 0.8045\n",
      "Epoch 42/1000\n",
      "96/96 [==============================] - 1s 10ms/step - root_mean_squared_error: 0.9012 - loss: 0.8023 - regularization_loss: 0.0000e+00 - total_loss: 0.8023\n",
      "Epoch 43/1000\n",
      "96/96 [==============================] - 1s 10ms/step - root_mean_squared_error: 0.8981 - loss: 0.7968 - regularization_loss: 0.0000e+00 - total_loss: 0.7968\n",
      "Epoch 44/1000\n",
      "96/96 [==============================] - 1s 10ms/step - root_mean_squared_error: 0.8985 - loss: 0.7972 - regularization_loss: 0.0000e+00 - total_loss: 0.7972\n",
      "Epoch 45/1000\n",
      "96/96 [==============================] - 1s 10ms/step - root_mean_squared_error: 0.8971 - loss: 0.7951 - regularization_loss: 0.0000e+00 - total_loss: 0.7951\n",
      "Epoch 46/1000\n",
      "96/96 [==============================] - 1s 9ms/step - root_mean_squared_error: 0.8956 - loss: 0.7922 - regularization_loss: 0.0000e+00 - total_loss: 0.7922\n",
      "Epoch 47/1000\n",
      "96/96 [==============================] - 1s 10ms/step - root_mean_squared_error: 0.8949 - loss: 0.7908 - regularization_loss: 0.0000e+00 - total_loss: 0.7908\n",
      "Epoch 48/1000\n",
      "96/96 [==============================] - 1s 9ms/step - root_mean_squared_error: 0.8937 - loss: 0.7889 - regularization_loss: 0.0000e+00 - total_loss: 0.7889\n",
      "Epoch 49/1000\n",
      "96/96 [==============================] - 1s 9ms/step - root_mean_squared_error: 0.8935 - loss: 0.7884 - regularization_loss: 0.0000e+00 - total_loss: 0.7884\n",
      "Epoch 50/1000\n",
      "96/96 [==============================] - 1s 10ms/step - root_mean_squared_error: 0.8929 - loss: 0.7871 - regularization_loss: 0.0000e+00 - total_loss: 0.7871\n",
      "Epoch 51/1000\n",
      "96/96 [==============================] - 1s 10ms/step - root_mean_squared_error: 0.8911 - loss: 0.7842 - regularization_loss: 0.0000e+00 - total_loss: 0.7842\n",
      "Epoch 52/1000\n",
      "96/96 [==============================] - 1s 10ms/step - root_mean_squared_error: 0.8909 - loss: 0.7837 - regularization_loss: 0.0000e+00 - total_loss: 0.7837\n",
      "Epoch 53/1000\n",
      "96/96 [==============================] - 1s 10ms/step - root_mean_squared_error: 0.8905 - loss: 0.7828 - regularization_loss: 0.0000e+00 - total_loss: 0.7828\n",
      "Epoch 54/1000\n",
      "96/96 [==============================] - 1s 9ms/step - root_mean_squared_error: 0.8891 - loss: 0.7807 - regularization_loss: 0.0000e+00 - total_loss: 0.7807\n",
      "Epoch 55/1000\n",
      "96/96 [==============================] - 1s 9ms/step - root_mean_squared_error: 0.8888 - loss: 0.7800 - regularization_loss: 0.0000e+00 - total_loss: 0.7800\n",
      "Epoch 56/1000\n",
      "96/96 [==============================] - 1s 10ms/step - root_mean_squared_error: 0.8879 - loss: 0.7782 - regularization_loss: 0.0000e+00 - total_loss: 0.7782\n",
      "Epoch 57/1000\n",
      "96/96 [==============================] - 1s 9ms/step - root_mean_squared_error: 0.8874 - loss: 0.7775 - regularization_loss: 0.0000e+00 - total_loss: 0.7775\n",
      "Epoch 58/1000\n",
      "96/96 [==============================] - 1s 9ms/step - root_mean_squared_error: 0.8869 - loss: 0.7766 - regularization_loss: 0.0000e+00 - total_loss: 0.7766\n",
      "Epoch 59/1000\n",
      "96/96 [==============================] - 1s 10ms/step - root_mean_squared_error: 0.8855 - loss: 0.7739 - regularization_loss: 0.0000e+00 - total_loss: 0.7739\n",
      "Epoch 60/1000\n",
      "96/96 [==============================] - 1s 13ms/step - root_mean_squared_error: 0.8845 - loss: 0.7724 - regularization_loss: 0.0000e+00 - total_loss: 0.7724\n",
      "Epoch 61/1000\n",
      "96/96 [==============================] - 1s 10ms/step - root_mean_squared_error: 0.8841 - loss: 0.7717 - regularization_loss: 0.0000e+00 - total_loss: 0.7717\n",
      "Epoch 62/1000\n",
      "96/96 [==============================] - 1s 9ms/step - root_mean_squared_error: 0.8834 - loss: 0.7704 - regularization_loss: 0.0000e+00 - total_loss: 0.7704\n",
      "Epoch 63/1000\n",
      "96/96 [==============================] - 1s 10ms/step - root_mean_squared_error: 0.8827 - loss: 0.7691 - regularization_loss: 0.0000e+00 - total_loss: 0.7691\n",
      "Epoch 64/1000\n",
      "96/96 [==============================] - 1s 10ms/step - root_mean_squared_error: 0.8824 - loss: 0.7686 - regularization_loss: 0.0000e+00 - total_loss: 0.7686\n",
      "Epoch 65/1000\n",
      "96/96 [==============================] - 1s 11ms/step - root_mean_squared_error: 0.8822 - loss: 0.7685 - regularization_loss: 0.0000e+00 - total_loss: 0.7685\n",
      "Epoch 66/1000\n",
      "96/96 [==============================] - 1s 10ms/step - root_mean_squared_error: 0.8818 - loss: 0.7678 - regularization_loss: 0.0000e+00 - total_loss: 0.7678\n",
      "Epoch 67/1000\n",
      "96/96 [==============================] - 1s 9ms/step - root_mean_squared_error: 0.8823 - loss: 0.7686 - regularization_loss: 0.0000e+00 - total_loss: 0.7686\n",
      "Epoch 68/1000\n",
      "96/96 [==============================] - 1s 9ms/step - root_mean_squared_error: 0.8835 - loss: 0.7708 - regularization_loss: 0.0000e+00 - total_loss: 0.7708\n"
     ]
    },
    {
     "data": {
      "text/plain": [
       "<keras.callbacks.History at 0x1462aae20>"
      ]
     },
     "execution_count": 6, 
     "metadata": {},
     "output_type": "execute_result"
    }
   ],
   "source": [
    "model = RatingPredictionModel()\n",
    "learning_rate = 2e-3\n",
    "model.compile(optimizer=tf.keras.optimizers.Adam(learning_rate=learning_rate))\n",
    "cached_train = train_dataset.shuffle(15_000).batch(10_000).cache()\n",
    "early_stopping = tf.keras.callbacks.EarlyStopping(monitor='loss', restore_best_weights=True, patience=5)\n",
    "model.fit(cached_train, epochs=1000, callbacks=[early_stopping])"
   ]
  },
  {
   "cell_type": "code",
   "execution_count": 7, 
   "id": "b1c5f884-d574-41d7-8acc-e880f3be762a",
   "metadata": {},
   "outputs": [
    {
     "name": "stdout",
     "output_type": "stream",
     "text": [
      "11/11 [==============================] - 0s 15ms/step - root_mean_squared_error: 0.9231 - loss: 0.9275 - regularization_loss: 0.0000e+00 - total_loss: 0.9275\n"
     ]
    },
    {
     "data": {
      "text/plain": [
       "{'root_mean_squared_error': 0.9231146574020386,\n",
       " 'loss': 1.304904818534851,\n",
       " 'regularization_loss': 0,\n",
       " 'total_loss': 1.304904818534851}"
      ]
     },
     "execution_count": 7, 
     "metadata": {},
     "output_type": "execute_result"
    }
   ],
   "source": [
    "cached_test = test_dataset.batch(5000).cache()\n",
    "model.evaluate(cached_test, return_dict=True)"
   ]
  },
  {
   "cell_type": "markdown",
   "id": "6eb0b6fb-cddd-4c45-a3a3-b1c169386759",
   "metadata": {},
   "source": [
    "We've reached $RMSE = 0.92$.\n",
    "\n",
    "We'll now plot and save the model."
   ]
  },
  {
   "cell_type": "code",
   "execution_count": 8, 
   "id": "7a610dd0-7757-4eed-80f0-be42bbb29616",
   "metadata": {},
   "outputs": [
    {
     "data": {
      "image/png": "[encoded data removed]",
      "text/plain": [
       "<IPython.core.display.Image object>"
      ]
     },
     "execution_count": 8, 
     "metadata": {},
     "output_type": "execute_result"
    }
   ],
   "source": [
    "tf.keras.utils.plot_model(model.model, to_file=\"project_3_1.png\")"
   ]
  },
  {
   "cell_type": "code",
   "execution_count": 9, 
   "id": "9027de28-ab39-451a-958d-3b85efc3de21",
   "metadata": {},
   "outputs": [
    {
     "name": "stdout",
     "output_type": "stream",
     "text": [
      "Model: \"model_1\"\n",
      "__________________________________________________________________________________________________\n",
      "Layer (type)                    Output Shape         Param #     Connected to                     \n",
      "==================================================================================================\n",
      "user_input (InputLayer)         [(None, 1)]          0                                            \n",
      "__________________________________________________________________________________________________\n",
      "movie_input (InputLayer)        [(None, None, 1)]    0                                            \n",
      "__________________________________________________________________________________________________\n",
      "user_string_lookup (StringLooku (None, 1)            0           user_input[0][0]                 \n",
      "__________________________________________________________________________________________________\n",
      "movie_string_lookup (StringLook (None, None, 1)      0           movie_input[0][0]                \n",
      "__________________________________________________________________________________________________\n",
      "user_emb (Embedding)            (None, 1, 25)        62525       user_string_lookup[0][0]         \n",
      "__________________________________________________________________________________________________\n",
      "movie_emb (Embedding)           (None, None, 1, 25)  30025       movie_string_lookup[0][0]        \n",
      "__________________________________________________________________________________________________\n",
      "tf.compat.v1.squeeze_4 (TFOpLam (None, 25)           0           user_emb[0][0]                   \n",
      "__________________________________________________________________________________________________\n",
      "tf.compat.v1.squeeze_5 (TFOpLam (None, None, 25)     0           movie_emb[0][0]                  \n",
      "__________________________________________________________________________________________________\n",
      "user_dense (Dense)              (None, 20)           520         tf.compat.v1.squeeze_4[0][0]     \n",
      "__________________________________________________________________________________________________\n",
      "movie_dense (Dense)             (None, None, 20)     520         tf.compat.v1.squeeze_5[0][0]     \n",
      "__________________________________________________________________________________________________\n",
      "tf.expand_dims_2 (TFOpLambda)   (None, 20, 1)        0           user_dense[0][0]                 \n",
      "__________________________________________________________________________________________________\n",
      "tf.compat.v1.transpose_2 (TFOpL (None, 20, None)     0           movie_dense[0][0]                \n",
      "__________________________________________________________________________________________________\n",
      "towers_multiplied (Multiply)    (None, 20, None)     0           tf.expand_dims_2[0][0]           \n",
      "                                                                 tf.compat.v1.transpose_2[0][0]   \n",
      "__________________________________________________________________________________________________\n",
      "tf.compat.v1.transpose_3 (TFOpL (None, None, 20)     0           towers_multiplied[0][0]          \n",
      "__________________________________________________________________________________________________\n",
      "towers_dense (Dense)            (None, None, 10)     210         tf.compat.v1.transpose_3[0][0]   \n",
      "__________________________________________________________________________________________________\n",
      "output_node (Dense)             (None, None, 1)      11          towers_dense[0][0]               \n",
      "==================================================================================================\n",
      "Total params: 93,811\n",
      "Trainable params: 93,811\n",
      "Non-trainable params: 0\n",
      "__________________________________________________________________________________________________\n"
     ]
    }
   ],
   "source": [
    "model.model.summary()"
   ]
  },
  {
   "cell_type": "code",
   "execution_count": 10, 
   "id": "2ecfdd8e-d6eb-4f51-815a-6756ef980173",
   "metadata": {},
   "outputs": [],
   "source": [
    "model.save_weights('weights_3_1/p31')"
   ]
  },
  {
   "cell_type": "code",
   "id": "c382fde0-d0ec-4a94-828f-a87556781bad",
   "metadata": {},
   "outputs": [],
   "source": []
  }
 ],
 "metadata": {
  "kernelspec": {
   "display_name": "Python 3 (ipykernel)",
   "language": "python",
   "name": "python3"
  },
  "language_info": {
   "codemirror_mode": {
    "name": "ipython",
    "version": 3
   },
   "file_extension": ".py",
   "mimetype": "text/x-python",
   "name": "python",
   "nbconvert_exporter": "python",
   "pygments_lexer": "ipython3",
   "version": "3.9.6"
  }
 },
 "nbformat": 4,
 "nbformat_minor": 5
}
