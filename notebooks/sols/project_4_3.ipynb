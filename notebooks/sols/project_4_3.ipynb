{
 "cells": [
  {
   "cell_type": "markdown",
   "id": "f882d78f-b919-4502-9e3c-ebd1e0210dfc",
   "metadata": {},
   "source": [
    "# 4.3 Offline Retrieval"
   ]
  },
  {
   "cell_type": "code",
   "execution_count": 1, 
   "id": "df85505d-c43d-4e54-be68-23147f00bced",
   "metadata": {},
   "outputs": [],
   "source": [
    "import json\n",
    "import numpy as np\n",
    "import pandas as pd\n",
    "import tensorflow as tf\n",
    "import tensorflow_recommenders as tfrs"
   ]
  },
  {
   "cell_type": "markdown",
   "id": "af09ec11-f34a-43ef-af80-bba09c27368c",
   "metadata": {},
   "source": [
    "Loading data and metadata:"
   ]
  },
  {
   "cell_type": "code",
   "execution_count": 2, 
   "id": "3e48098e-55a8-4af4-ae1a-7d9e133829e0",
   "metadata": {},
   "outputs": [],
   "source": [
    "train_df = pd.read_csv('../local_data/train_data.csv', header=0)\n",
    "test_df = pd.read_csv('../local_data/test_data.csv', header=0)\n",
    "with open('../local_data/metadata.json', 'r') as f:\n",
    "    metadata = json.load(f)"
   ]
  },
  {
   "cell_type": "code",
   "execution_count": 3, 
   "id": "2fbaa22f-8612-4996-9a14-708f6a786414",
   "metadata": {},
   "outputs": [],
   "source": [
    "all_users = [str(int(i)) for i in metadata['users']]\n",
    "all_movies = [str(int(i)) for i in metadata['movies']]\n",
    "all_cities = metadata['cities']\n",
    "all_states = metadata['states']\n",
    "all_ages = [str(int(i)) for i in metadata['ages']]\n",
    "all_occupations = [str(int(i)) for i in metadata['occupations']]\n",
    "all_genres = metadata['genres']\n",
    "title_emb_len = metadata['title_emb_size']\n",
    "na_value = metadata['string_na']"
   ]
  },
  {
   "cell_type": "code",
   "execution_count": 4, 
   "id": "eeea7c02-dee3-450a-b635-83a5411e578b",
   "metadata": {},
   "outputs": [],
   "source": [
    "movies_candidates = tf.data.Dataset.from_tensor_slices({'movie': train_df['movie'].unique()}).map(lambda x: x['movie']).batch(200).map(tf.strings.as_string)"
   ]
  },
  {
   "cell_type": "markdown",
   "id": "75cb170a-e86e-4241-9b73-8d8b7d2298ea",
   "metadata": {},
   "source": [
    "Creating our Feature Store:"
   ]
  },
  {
   "cell_type": "code",
   "execution_count": 5, 
   "id": "40b7f509-b903-4735-ae1d-967bd0af97f6",
   "metadata": {},
   "outputs": [],
   "source": [
    "movies_db = pd.concat([train_df, test_df]).drop(['user','city','state','gender','age','occupation','hour','day','month','rating'], axis=1)\n",
    "movies_db = movies_db.groupby('movie').first()\n",
    "movies_db['movie'] = movies_db.index"
   ]
  },
  {
   "cell_type": "code",
   "execution_count": 6, 
   "id": "cfb1a599-c8ab-4014-b022-feb8c049fe06",
   "metadata": {},
   "outputs": [],
   "source": [
    "def get_movie_features(movies_list):\n",
    "    df = movies_db.loc[movies_list,:]\n",
    "    d = {k:v.to_numpy() for k,v in dict(df).items()}\n",
    "    d['genres'] = np.transpose(np.array([d[x] for x in all_genres]))\n",
    "    d['title_emb'] = np.transpose(np.array([d[f'title_emb_{i}'] for i in range(title_emb_len)]))\n",
    "    for x in all_genres + [f'title_emb_{i}' for i in range(title_emb_len)]:\n",
    "        d.pop(x)\n",
    "    d.update({k:np.expand_dims(np.vstack(v), axis=0) for k,v in d.items()})\n",
    "    return d"
   ]
  },
  {
   "cell_type": "markdown",
   "id": "0a71464b-7c7a-47ca-88aa-ef4e3f173114",
   "metadata": {},
   "source": [
    "Training (and testing) data will consist of `state` and `movie` featuers alone:"
   ]
  },
  {
   "cell_type": "code",
   "execution_count": 7, 
   "id": "ee623a0f-0400-4cb3-973c-010986132749",
   "metadata": {},
   "outputs": [],
   "source": [
    "def convert_to_dataset(df):\n",
    "    d = {k:v.to_numpy() for k,v in dict(df).items() if k in ['state','movie']}\n",
    "    return tf.data.Dataset.from_tensor_slices(d)\n",
    "\n",
    "train_df_liked = train_df[train_df['rating'] >= 3]\n",
    "test_df_liked = test_df[test_df['rating'] >= 3]\n",
    "\n",
    "train_dataset = convert_to_dataset(train_df_liked)\n",
    "test_dataset = convert_to_dataset(test_df_liked)"
   ]
  },
  {
   "cell_type": "markdown",
   "id": "4539808c-0d03-48f5-8624-cca5ed95d05b",
   "metadata": {},
   "source": [
    "A simple retrieval model:"
   ]
  },
  {
   "cell_type": "code",
   "execution_count": 8, 
   "id": "c720b5f5-4862-47ef-acba-02ab7850a46d",
   "metadata": {},
   "outputs": [],
   "source": [
    "class MoviesRetrievalModel(tfrs.models.Model):\n",
    "    def __init__(self):\n",
    "        super().__init__()\n",
    "        \n",
    "        embedding_size = 10\n",
    "        \n",
    "        # User Network\n",
    "        \n",
    "        self.user_model = tf.keras.Sequential([\n",
    "                                tf.keras.layers.StringLookup(vocabulary=all_states, mask_token=na_value, name='state_string_lookup'),\n",
    "                                tf.keras.layers.Embedding(len(all_states)+2, embedding_size, name='state_emb')\n",
    "                            ])\n",
    "        \n",
    "        \n",
    "        # Movie Network\n",
    "        \n",
    "        self.movie_model = tf.keras.Sequential([\n",
    "                                tf.keras.layers.StringLookup(vocabulary=all_movies, name='movie_string_lookup'),\n",
    "                                tf.keras.layers.Embedding(len(all_movies)+1, embedding_size, name='movie_emb')\n",
    "                            ])\n",
    "        \n",
    "        \n",
    "        # Task\n",
    "        \n",
    "        task_candidates = movies_candidates.map(self.movie_model)  \n",
    "        top_k_metrics = [tf.keras.metrics.TopKCategoricalAccuracy(k=x, name=f'top_{x}_categorical_accuracy') for x in [10, 100]]\n",
    "        task_metric = tfrs.metrics.FactorizedTopK(candidates=task_candidates, metrics=top_k_metrics)\n",
    "        self.task = tfrs.tasks.Retrieval(metrics=task_metric)  # Default loss: tf.keras.losses.CategoricalCrossentropy\n",
    "        \n",
    "    \n",
    "    def compute_loss(self, features, training=False):\n",
    "        return self.task(\n",
    "            self.user_model(features[\"state\"]),\n",
    "            self.movie_model(tf.strings.as_string(features[\"movie\"]))\n",
    "        )"
   ]
  },
  {
   "cell_type": "code",
   "execution_count": 9, 
   "id": "bbdcf38f-9974-4a5a-ab9e-4677c91a062b",
   "metadata": {},
   "outputs": [
    {
     "name": "stdout",
     "output_type": "stream",
     "text": [
      "Epoch 1/5\n",
      "80/80 [==============================] - 71s 885ms/step - top_10_categorical_accuracy: 0.0114 - top_100_categorical_accuracy: 0.0906 - loss: 90785.6565 - regularization_loss: 0.0000e+00 - total_loss: 90785.6565\n",
      "Epoch 2/5\n",
      "80/80 [==============================] - 80s 1s/step - top_10_categorical_accuracy: 0.0057 - top_100_categorical_accuracy: 0.0687 - loss: 90758.1644 - regularization_loss: 0.0000e+00 - total_loss: 90758.1644\n",
      "Epoch 3/5\n",
      "80/80 [==============================] - 74s 929ms/step - top_10_categorical_accuracy: 0.0053 - top_100_categorical_accuracy: 0.0640 - loss: 90743.3595 - regularization_loss: 0.0000e+00 - total_loss: 90743.3595\n",
      "Epoch 4/5\n",
      "80/80 [==============================] - 77s 961ms/step - top_10_categorical_accuracy: 0.0052 - top_100_categorical_accuracy: 0.0625 - loss: 90733.4784 - regularization_loss: 0.0000e+00 - total_loss: 90733.4784\n"
     ]
    },
    {
     "data": {
      "text/plain": [
       "<keras.callbacks.History at 0x16fe14310>"
      ]
     },
     "execution_count": 9, 
     "metadata": {},
     "output_type": "execute_result"
    }
   ],
   "source": [
    "retrieval_model = MoviesRetrievalModel()\n",
    "learning_rate = 1e-1\n",
    "retrieval_model.compile(optimizer=tf.keras.optimizers.Adagrad(learning_rate=learning_rate))\n",
    "cached_train = train_dataset.shuffle(15_000).batch(10_000).cache()\n",
    "early_stopping = tf.keras.callbacks.EarlyStopping(monitor='loss', restore_best_weights=True, patience=3)\n",
    "retrieval_model.fit(cached_train, epochs=5, callbacks=[early_stopping])"
   ]
  },
  {
   "cell_type": "code",
   "execution_count": 10, 
   "id": "46bfc774-c087-4be5-b08f-64a2120d77a9",
   "metadata": {},
   "outputs": [
    {
     "name": "stdout",
     "output_type": "stream",
     "text": [
      "9/9 [==============================] - 3s 294ms/step - top_10_categorical_accuracy: 0.0051 - top_100_categorical_accuracy: 0.0679 - loss: 36794.2623 - regularization_loss: 0.0000e+00 - total_loss: 36794.2623\n"
     ]
    },
    {
     "data": {
      "text/plain": [
       "{'top_10_categorical_accuracy': 0.005069344770163298,\n",
       " 'top_100_categorical_accuracy': 0.06788618117570877,\n",
       " 'loss': 13654.3271484375,\n",
       " 'regularization_loss': 0,\n",
       " 'total_loss': 13654.3271484375}"
      ]
     },
     "execution_count": 10, 
     "metadata": {},
     "output_type": "execute_result"
    }
   ],
   "source": [
    "cached_test = test_dataset.batch(5000).cache()\n",
    "retrieval_model.evaluate(cached_test, return_dict=True)"
   ]
  },
  {
   "cell_type": "markdown",
   "id": "fcce991d-2568-4a53-adaa-246de3bea2dc",
   "metadata": {},
   "source": [
    "This retrieval model places the correct movie in the top 100 movies in 6.7% of the times.\n",
    "\n",
    "Next, we define the retrieval extra layer:"
   ]
  },
  {
   "cell_type": "code",
   "execution_count": 11, 
   "id": "c1c21893-5b37-426c-9e44-711374d8871f",
   "metadata": {},
   "outputs": [
    {
     "data": {
      "text/plain": [
       "<tensorflow_recommenders.layers.factorized_top_k.BruteForce at 0x17041f730>"
      ]
     },
     "execution_count": 11, 
     "metadata": {},
     "output_type": "execute_result"
    }
   ],
   "source": [
    "retrieval = tfrs.layers.factorized_top_k.BruteForce(retrieval_model.user_model, k=100)\n",
    "retrieval.index_from_dataset(\n",
    "  tf.data.Dataset.zip((movies_candidates, movies_candidates.map(retrieval_model.movie_model)))\n",
    ")"
   ]
  },
  {
   "cell_type": "markdown",
   "id": "9a1f26ef-bdf7-4a45-8771-67fc05f38ca0",
   "metadata": {},
   "source": [
    "Loading our ranking model and weights from project #3.2:"
   ]
  },
  {
   "cell_type": "code",
   "execution_count": 12, 
   "id": "4278dee2-27e9-4eb0-8e1e-0cc9bea780ba",
   "metadata": {},
   "outputs": [],
   "source": [
    "class RatingPredictionModel(tfrs.models.Model):\n",
    "    def __init__(self):\n",
    "        super().__init__()\n",
    "        \n",
    "        tower_last_layer_size = 50\n",
    "        large_embedding_size = 25\n",
    "        medium_embedding_size = 5\n",
    "        small_embedding_size = 3\n",
    "        \n",
    "        # User tower\n",
    "        \n",
    "        self.user_input = tf.keras.Input(shape=(1,), dtype=tf.string, name='user_input')\n",
    "        self.user_sl = tf.keras.layers.StringLookup(vocabulary=all_users, name='user_string_lookup')(self.user_input)\n",
    "        self.user_emb = tf.squeeze(tf.keras.layers.Embedding(len(all_users)+1, large_embedding_size, name='user_emb')(self.user_sl), axis=1)\n",
    "        \n",
    "        self.city_input = tf.keras.Input(shape=(1,), dtype=tf.string, name='city_input')\n",
    "        self.city_sl = tf.keras.layers.StringLookup(vocabulary=all_cities, mask_token=na_value, name='city_string_lookup')(self.city_input)\n",
    "        self.city_emb = tf.squeeze(tf.keras.layers.Embedding(len(all_cities)+2, medium_embedding_size, name='city_emb')(self.city_sl), axis=1)\n",
    "        \n",
    "        self.state_input = tf.keras.Input(shape=(1,), dtype=tf.string, name='state_input')\n",
    "        self.state_sl = tf.keras.layers.StringLookup(vocabulary=all_states, mask_token=na_value, name='state_string_lookup')(self.state_input)\n",
    "        self.state_emb = tf.squeeze(tf.keras.layers.Embedding(len(all_states)+2, small_embedding_size, name='state_emb')(self.state_sl), axis=1)\n",
    "        \n",
    "        self.age_input = tf.keras.Input(shape=(1,), dtype=tf.string, name='age_input')\n",
    "        self.age_sl = tf.keras.layers.StringLookup(vocabulary=all_ages, num_oov_indices=0, name='age_string_lookup')(self.age_input)\n",
    "        self.age_emb = tf.squeeze(tf.keras.layers.Embedding(len(all_ages), small_embedding_size, name='age_emb')(self.age_sl), axis=1)\n",
    "        \n",
    "        self.occupation_input = tf.keras.Input(shape=(1,), dtype=tf.string, name='occupation_input')\n",
    "        self.occupation_sl = tf.keras.layers.StringLookup(vocabulary=all_occupations, num_oov_indices=0, name='occupation_string_lookup')(self.occupation_input)\n",
    "        self.occupation_emb = tf.squeeze(tf.keras.layers.Embedding(len(all_occupations), small_embedding_size, name='occupation_emb')(self.occupation_sl), axis=1)\n",
    "        \n",
    "        self.gender_input = tf.keras.Input(shape=(1,), name='gender_input')\n",
    "        self.hour_input = tf.keras.Input(shape=(1,), name='hour_input')\n",
    "        self.day_input = tf.keras.Input(shape=(1,), name='day_input')\n",
    "        self.month_input = tf.keras.Input(shape=(1,), name='month_input')\n",
    "        \n",
    "        self.user_merged = tf.keras.layers.concatenate([self.user_emb, self.city_emb, self.state_emb, self.age_emb, \n",
    "                                                        self.occupation_emb, self.gender_input, self.hour_input,\n",
    "                                                        self.day_input, self.month_input], \n",
    "                                                       axis=-1, name='user_merged')\n",
    "        self.user_dense = tf.keras.layers.Dense(100, activation='relu', name='user_dense')(self.user_merged)\n",
    "        self.user_last_layer = tf.keras.layers.Dense(tower_last_layer_size, activation='relu', name='user_last_layer')(self.user_dense)\n",
    "        \n",
    "        # Movie tower\n",
    "        \n",
    "        self.movie_input = tf.keras.Input(shape=(None,1), dtype=tf.string, name='movie_input')\n",
    "        self.movie_sl = tf.keras.layers.StringLookup(vocabulary=all_movies, name='movie_string_lookup')(self.movie_input)\n",
    "        self.movie_emb = tf.squeeze(tf.keras.layers.Embedding(len(all_movies)+1, large_embedding_size, name='movie_emb')(self.movie_sl), axis=2)\n",
    "        \n",
    "        self.title_input = tf.keras.Input(shape=(None,title_emb_len), name='title_input')\n",
    "        self.title_dense = tf.keras.layers.Dense(title_emb_len, activation='softmax', name='title_softmax')(self.title_input)\n",
    "        \n",
    "        self.genres_input = tf.keras.Input(shape=(None,len(all_genres)), name='genres_input')\n",
    "        self.year_input = tf.keras.Input(shape=(None,1), name='year_input')\n",
    "        \n",
    "        self.movie_merged = tf.keras.layers.concatenate([self.movie_emb, self.title_dense, self.genres_input, self.year_input] ,axis=-1, name='movie_merged')\n",
    "        self.movie_dense = tf.keras.layers.Dense(100, activation='relu', name='movie_dense')(self.movie_merged)\n",
    "        self.movie_last_layer = tf.keras.layers.Dense(tower_last_layer_size, activation='relu', name='movie_last_layer')(self.movie_dense)\n",
    "        \n",
    "        # Combining towers\n",
    "        \n",
    "        self.towers_multiplied = tf.keras.layers.Multiply(name='towers_multiplied')([tf.expand_dims(self.user_last_layer, axis=2), \n",
    "                                                                                     tf.transpose(self.movie_last_layer, perm=[0,2,1])])\n",
    "        self.towers_dense1 = tf.keras.layers.Dense(40, activation='relu', name='towers_dense1')(tf.transpose(self.towers_multiplied, perm=[0,2,1]))\n",
    "        self.towers_dense2 = tf.keras.layers.Dense(20, activation='relu', name='towers_dense2')(self.towers_dense1)\n",
    "        self.output_node = tf.keras.layers.Dense(1, name='output_node')(self.towers_dense2)\n",
    "        \n",
    "        # Model definition\n",
    "        \n",
    "        self.model = tf.keras.Model(inputs={'user': self.user_input, \n",
    "                                            'city': self.city_input,\n",
    "                                            'state': self.state_input,\n",
    "                                            'age': self.age_input,\n",
    "                                            'occupation': self.occupation_input,\n",
    "                                            'gender': self.gender_input,\n",
    "                                            'hour': self.hour_input,\n",
    "                                            'day': self.day_input,\n",
    "                                            'month': self.month_input,\n",
    "                                            'movie': self.movie_input,\n",
    "                                            'title': self.title_input,\n",
    "                                            'genres': self.genres_input,\n",
    "                                            'year': self.year_input\n",
    "                                            }, \n",
    "                                    outputs=self.output_node)\n",
    "        \n",
    "        self.task = tfrs.tasks.Ranking(\n",
    "            loss = tf.keras.losses.MeanSquaredError(),\n",
    "            metrics=[tf.keras.metrics.RootMeanSquaredError()]\n",
    "        )\n",
    "        \n",
    "    def call(self, features):\n",
    "        return self.model({'user': tf.strings.as_string(features[\"user\"]), \n",
    "                           'city': features[\"city\"], \n",
    "                           'state': features[\"state\"],\n",
    "                           'age': tf.strings.as_string(features[\"age\"]),\n",
    "                           'occupation': tf.strings.as_string(features[\"occupation\"]), \n",
    "                           'gender': features[\"gender\"],\n",
    "                           'hour': features[\"hour\"],\n",
    "                           'day': features[\"day\"],\n",
    "                           'month': features[\"month\"],\n",
    "                           'movie': tf.strings.as_string(features[\"movie\"]),\n",
    "                           'title': features[\"title_emb\"],\n",
    "                           'genres': features[\"genres\"],\n",
    "                           'year': features[\"movie_year\"]\n",
    "                           })\n",
    "    \n",
    "    def compute_loss(self, features_dict, training=False):\n",
    "        labels = features_dict[\"rating\"]\n",
    "        predictions = self(features_dict)\n",
    "        return self.task(labels=labels, predictions=predictions)"
   ]
  },
  {
   "cell_type": "code",
   "execution_count": 13, 
   "id": "0ce587d8-c6c8-4dfa-89bc-bbd05aac5b69",
   "metadata": {},
   "outputs": [
    {
     "data": {
      "text/plain": [
       "<tensorflow.python.training.tracking.util.CheckpointLoadStatus at 0x16f1292b0>"
      ]
     },
     "execution_count": 13, 
     "metadata": {},
     "output_type": "execute_result"
    }
   ],
   "source": [
    "ranking_model = RatingPredictionModel()\n",
    "ranking_model.compile(optimizer=tf.keras.optimizers.Adam())\n",
    "ranking_model.load_weights('../project_3/weights_3_2/p32')"
   ]
  },
  {
   "cell_type": "markdown",
   "id": "1bdb365a-2b1f-41a5-a394-816359bf66b6",
   "metadata": {},
   "source": [
    "## Offline predictions\n",
    "The follwong code is our offline preparation for predictions. We scan through all possible state values, predict the top 100 movies per state and save them in another feature store."
   ]
  },
  {
   "cell_type": "code",
   "execution_count": 14, 
   "id": "29277c28-841b-4598-b86b-d372cd1c3729",
   "metadata": {},
   "outputs": [],
   "source": [
    "states_db = pd.DataFrame(columns=['state','movies'])\n",
    "for state in pd.concat([train_df, test_df])['state'].unique():\n",
    "    states_db = states_db.append({'state': state,\n",
    "                                  'movies': retrieval(tf.constant([state]))[1].numpy()[0]}, \n",
    "                                 ignore_index=True)\n",
    "states_db.index = states_db['state']"
   ]
  },
  {
   "cell_type": "markdown",
   "id": "7d958eb2-e1b1-4bf6-86e1-009978a8c770",
   "metadata": {},
   "source": [
    "## Online predictions\n",
    "We now repeat the same process as in the previous milestone (#4.2), only this time, instead of calling the retrieval model online, we query our states database, and retrieve the movis list from there."
   ]
  },
  {
   "cell_type": "code",
   "execution_count": 15, 
   "id": "453638f6-2518-4d29-bdc1-9fd70b785cee",
   "metadata": {},
   "outputs": [
    {
     "data": {
      "text/plain": [
       "{'user': 6040,\n",
       " 'city': 'Astoria',\n",
       " 'state': 'NY',\n",
       " 'gender': 0.0,\n",
       " 'age': 25,\n",
       " 'occupation': 6,\n",
       " 'hour': 2,\n",
       " 'day': 3,\n",
       " 'month': 4}"
      ]
     },
     "execution_count": 15, 
     "metadata": {},
     "output_type": "execute_result"
    }
   ],
   "source": [
    "test_user = dict(test_df[['user','city','state','gender','age','occupation','hour','day','month']].iloc[0])\n",
    "test_user"
   ]
  },
  {
   "cell_type": "code",
   "execution_count": 16, 
   "id": "7becec8c-a331-42a0-9731-69e9a3b1118d",
   "metadata": {},
   "outputs": [
    {
     "name": "stdout",
     "output_type": "stream",
     "text": [
      "Top 10 predicted movies for user 6040:\n"
     ]
    },
    {
     "data": {
      "text/plain": [
       "[(b'50', 4.176804),\n",
       " (b'922', 4.1622043),\n",
       " (b'908', 4.076473),\n",
       " (b'1252', 4.033038),\n",
       " (b'1284', 4.0181303),\n",
       " (b'3307', 4.0040264),\n",
       " (b'905', 3.9932475),\n",
       " (b'898', 3.9889417),\n",
       " (b'1172', 3.9873157),\n",
       " (b'2186', 3.9869547)]"
      ]
     },
     "execution_count": 16, 
     "metadata": {},
     "output_type": "execute_result"
    }
   ],
   "source": [
    "movies_list = states_db.loc[test_user['state'], 'movies']\n",
    "movies_data = get_movie_features([int(x) for x in movies_list])\n",
    "ranking_input = {k:np.array([v]) for k,v in test_user.items()}\n",
    "ranking_input.update(movies_data)\n",
    "predicted_rating = ranking_model.predict(ranking_input)[0]\n",
    "\n",
    "print(f'Top 10 predicted movies for user {test_user[\"user\"]}:')\n",
    "sorted(zip(movies_list, np.squeeze(predicted_rating)), key=lambda x: x[1], reverse=True)[:10]"
   ]
  },
  {
   "cell_type": "markdown",
   "id": "83a9bc81-9180-4487-ab6d-d21ecbe8a617",
   "metadata": {},
   "source": [
    "Save retrieval model weights and plots:"
   ]
  },
  {
   "cell_type": "code",
   "execution_count": 17, 
   "id": "67201332-208a-4a45-8a7a-9ed03949451f",
   "metadata": {},
   "outputs": [],
   "source": [
    "retrieval_model.save_weights('weights_4_3/p43')"
   ]
  },
  {
   "cell_type": "code",
   "execution_count": 18, 
   "id": "df783f63-36d5-43b7-9f18-698640104846",
   "metadata": {},
   "outputs": [
    {
     "data": {
      "image/png": "[encoded data removed]",
      "text/plain": [
       "<IPython.core.display.Image object>"
      ]
     },
     "execution_count": 18, 
     "metadata": {},
     "output_type": "execute_result"
    }
   ],
   "source": [
    "tf.keras.utils.plot_model(retrieval_model.user_model, to_file=\"project_4_3_user.png\")"
   ]
  },
  {
   "cell_type": "code",
   "execution_count": 19, 
   "id": "61560bd5-8d2f-4130-adca-e09932daef82",
   "metadata": {},
   "outputs": [
    {
     "data": {
      "image/png": "[encoded data removed]",
      "text/plain": [
       "<IPython.core.display.Image object>"
      ]
     },
     "execution_count": 19, 
     "metadata": {},
     "output_type": "execute_result"
    }
   ],
   "source": [
    "tf.keras.utils.plot_model(retrieval_model.movie_model, to_file=\"project_4_3_movie.png\")"
   ]
  },
  {
   "cell_type": "code",
   "execution_count": 20, 
   "id": "4390122b-6a31-43a3-b042-55ae8223eb57",
   "metadata": {},
   "outputs": [
    {
     "name": "stdout",
     "output_type": "stream",
     "text": [
      "Model: \"sequential_31\"\n",
      "_________________________________________________________________\n",
      "Layer (type)                 Output Shape              Param #   \n",
      "=================================================================\n",
      "state_string_lookup (StringL (None,)                   0         \n",
      "_________________________________________________________________\n",
      "state_emb (Embedding)        (None, 10)                220       \n",
      "=================================================================\n",
      "Total params: 220\n",
      "Trainable params: 220\n",
      "Non-trainable params: 0\n",
      "_________________________________________________________________\n"
     ]
    }
   ],
   "source": [
    "retrieval_model.user_model.summary()"
   ]
  },
  {
   "cell_type": "code",
   "execution_count": 21, 
   "id": "1db8b526-27d8-4936-b6bd-af0b88c639ed",
   "metadata": {},
   "outputs": [
    {
     "name": "stdout",
     "output_type": "stream",
     "text": [
      "Model: \"sequential_32\"\n",
      "_________________________________________________________________\n",
      "Layer (type)                 Output Shape              Param #   \n",
      "=================================================================\n",
      "movie_string_lookup (StringL (None,)                   0         \n",
      "_________________________________________________________________\n",
      "movie_emb (Embedding)        (None, 10)                12010     \n",
      "=================================================================\n",
      "Total params: 12,010\n",
      "Trainable params: 12,010\n",
      "Non-trainable params: 0\n",
      "_________________________________________________________________\n"
     ]
    }
   ],
   "source": [
    "retrieval_model.movie_model.summary()"
   ]
  },
  {
   "cell_type": "code",
   "id": "b9cc1277-01bc-4c94-8cba-1822c73e52f3",
   "metadata": {},
   "outputs": [],
   "source": []
  }
 ],
 "metadata": {
  "kernelspec": {
   "display_name": "Python 3 (ipykernel)",
   "language": "python",
   "name": "python3"
  },
  "language_info": {
   "codemirror_mode": {
    "name": "ipython",
    "version": 3
   },
   "file_extension": ".py",
   "mimetype": "text/x-python",
   "name": "python",
   "nbconvert_exporter": "python",
   "pygments_lexer": "ipython3",
   "version": "3.9.6"
  }
 },
 "nbformat": 4,
 "nbformat_minor": 5
}
