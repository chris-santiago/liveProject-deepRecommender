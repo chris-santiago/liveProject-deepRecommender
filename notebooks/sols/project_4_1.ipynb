{
 "cells": [
  {
   "cell_type": "markdown",
   "id": "4e0652c7-d4cf-4ddf-b27b-9cc930a0cd58",
   "metadata": {},
   "source": [
    "# 4.1 First Retrieval Model"
   ]
  },
  {
   "cell_type": "code",
   "execution_count": 1,
   "id": "8fbcca4c-74c8-424c-a037-d7d8396d7542",
   "metadata": {},
   "outputs": [],
   "source": [
    "import json\n",
    "import numpy as np\n",
    "import pandas as pd\n",
    "import tensorflow as tf\n",
    "import tensorflow_recommenders as tfrs"
   ]
  },
  {
   "cell_type": "markdown",
   "id": "463e8f7f-ef05-447c-bfd0-e5256f209166",
   "metadata": {},
   "source": [
    "Load data and metadata:"
   ]
  },
  {
   "cell_type": "code",
   "execution_count": 2,
   "id": "7bea7991-e6c0-44b6-9dab-f4a1a0d1ac34",
   "metadata": {},
   "outputs": [],
   "source": [
    "train_df = pd.read_csv('../local_data/train_data.csv', header=0)\n",
    "test_df = pd.read_csv('../local_data/test_data.csv', header=0)\n",
    "with open('../local_data/metadata.json', 'r') as f:\n",
    "    metadata = json.load(f)"
   ]
  },
  {
   "cell_type": "code",
   "execution_count": 3,
   "id": "2dfb59cf-8556-4266-86e2-3f76da843a2e",
   "metadata": {},
   "outputs": [],
   "source": [
    "all_users = [str(int(i)) for i in metadata['users']]\n",
    "all_movies = [str(int(i)) for i in metadata['movies']]\n",
    "all_cities = metadata['cities']\n",
    "all_states = metadata['states']\n",
    "na_value = metadata['string_na']"
   ]
  },
  {
   "cell_type": "markdown",
   "id": "3f9a75d0-8f42-4b17-87f8-52e497134a62",
   "metadata": {},
   "source": [
    "The retrieval model in TFRS is adjusted to be trained with implicit feedback. We'll use all training samples which user liked, which willbe rating of 3 stars or more. "
   ]
  },
  {
   "cell_type": "code",
   "execution_count": 4,
   "id": "82f9fd2b-8490-4a21-9dea-6250cb8fa259",
   "metadata": {},
   "outputs": [],
   "source": [
    "train_df_liked = train_df[train_df['rating'] >= 3]\n",
    "test_df_liked = test_df[test_df['rating'] >= 3]"
   ]
  },
  {
   "cell_type": "code",
   "execution_count": 5,
   "id": "d4265681-31c4-4966-ba8a-71ab661d14ec",
   "metadata": {},
   "outputs": [],
   "source": [
    "def convert_to_dataset(df):\n",
    "    d = {k:v.to_numpy() for k,v in dict(df).items() if k in ['user','city','state','movie']}\n",
    "    return tf.data.Dataset.from_tensor_slices(d)\n",
    "\n",
    "train_dataset = convert_to_dataset(train_df_liked)\n",
    "test_dataset = convert_to_dataset(test_df_liked)"
   ]
  },
  {
   "cell_type": "markdown",
   "id": "114d743a-cac7-4b95-bd6f-125b4026421e",
   "metadata": {},
   "source": [
    "The following is a list of all movies the model should recognize, which will be used for the retrieval task."
   ]
  },
  {
   "cell_type": "code",
   "execution_count": 6,
   "id": "875f00b1-e58e-4391-8532-168b027ea8e3",
   "metadata": {},
   "outputs": [],
   "source": [
    "movies_candidates = tf.data.Dataset.from_tensor_slices({'movie': train_df['movie'].unique()}).map(lambda x: x['movie']).batch(200).map(tf.strings.as_string)"
   ]
  },
  {
   "cell_type": "markdown",
   "id": "7c05d221-3332-44e7-a207-979c674af700",
   "metadata": {},
   "source": [
    "Below is the implementation of the retrieval model. Note it is made of two separate models, which only interact as part of the Task. Also, as we'll call the model in unique way to retrieval models, there's no need to implement `call()`."
   ]
  },
  {
   "cell_type": "code",
   "execution_count": 7,
   "id": "ee1a2337-eaf4-4a4e-999b-f946b81f21c2",
   "metadata": {},
   "outputs": [],
   "source": [
    "class MoviesRetrievalModel(tfrs.models.Model):\n",
    "    def __init__(self):\n",
    "        super().__init__()\n",
    "        \n",
    "        large_embedding_size = 20\n",
    "        medium_embedding_size = 5\n",
    "        small_embedding_size = 3\n",
    "        last_layer_size = 20\n",
    "        \n",
    "        # User Model\n",
    "        \n",
    "        self.user_input = tf.keras.Input(shape=(1,), dtype=tf.string, name='user_input')\n",
    "        self.user_sl = tf.keras.layers.StringLookup(vocabulary=all_users, name='user_string_lookup')(self.user_input)\n",
    "        self.user_emb = tf.squeeze(tf.keras.layers.Embedding(len(all_users)+1, large_embedding_size, name='user_emb')(self.user_sl), axis=1)\n",
    "        \n",
    "        self.city_input = tf.keras.Input(shape=(1,), dtype=tf.string, name='city_input')\n",
    "        self.city_sl = tf.keras.layers.StringLookup(vocabulary=all_cities, mask_token=na_value, name='city_string_lookup')(self.city_input)\n",
    "        self.city_emb = tf.squeeze(tf.keras.layers.Embedding(len(all_cities)+2, medium_embedding_size, name='city_emb')(self.city_sl), axis=1)\n",
    "        \n",
    "        self.state_input = tf.keras.Input(shape=(1,), dtype=tf.string, name='state_input')\n",
    "        self.state_sl = tf.keras.layers.StringLookup(vocabulary=all_states, mask_token=na_value, name='state_string_lookup')(self.state_input)\n",
    "        self.state_emb = tf.squeeze(tf.keras.layers.Embedding(len(all_states)+2, small_embedding_size, name='state_emb')(self.state_sl), axis=1)\n",
    "        \n",
    "        self.user_merged = tf.keras.layers.concatenate([self.user_emb, self.city_emb, self.state_emb], \n",
    "                                                       axis=-1, name='user_merged')\n",
    "        self.user_dense = tf.keras.layers.Dense(last_layer_size, activation='relu', name='user_dense')(self.user_merged)\n",
    "        \n",
    "        self.user_model = tf.keras.Model(inputs={'user': self.user_input,\n",
    "                                                 'city': self.city_input,\n",
    "                                                 'state': self.state_input},\n",
    "                                         outputs=self.user_dense)\n",
    "        \n",
    "        \n",
    "        # Movie Model\n",
    "        \n",
    "        self.movie_input = tf.keras.Input(shape=(1,), dtype=tf.string, name='movie_input ')\n",
    "        self.movie_sl = tf.keras.layers.StringLookup(vocabulary=all_movies, name='movie_string_lookup')(self.movie_input)\n",
    "        self.movie_emb = tf.squeeze(tf.keras.layers.Embedding(len(all_movies)+1, last_layer_size, name='movie_emb')(self.movie_sl), axis=1)\n",
    "        \n",
    "        self.movie_model = tf.keras.Model(inputs={'movie': self.movie_input},\n",
    "                                          outputs=self.movie_emb)\n",
    "        \n",
    "        \n",
    "        # Task\n",
    "        \n",
    "        task_candidates = movies_candidates.map(self.movie_model)  \n",
    "        top_k_metrics = [tf.keras.metrics.TopKCategoricalAccuracy(k=x, name=f'top_{x}_categorical_accuracy') for x in [10, 100]]\n",
    "        task_metric = tfrs.metrics.FactorizedTopK(candidates=task_candidates, metrics=top_k_metrics)\n",
    "        self.task = tfrs.tasks.Retrieval(metrics=task_metric)  # Default loss: tf.keras.losses.CategoricalCrossentropy\n",
    "        \n",
    "    \n",
    "    def compute_loss(self, features, training=False):\n",
    "        return self.task(\n",
    "            self.user_model({'user': tf.strings.as_string(features[\"user\"]), \n",
    "                             'city': features[\"city\"],\n",
    "                             'state': features[\"state\"]}),\n",
    "            self.movie_model(tf.strings.as_string(features[\"movie\"]))\n",
    "        )"
   ]
  },
  {
   "cell_type": "code",
   "execution_count": 8,
   "id": "979749cf-7575-4b5e-a96e-3f9fd5f54a01",
   "metadata": {
    "scrolled": true,
    "tags": []
   },
   "outputs": [
    {
     "name": "stdout",
     "output_type": "stream",
     "text": [
      "Epoch 1/10\n",
      "80/80 [==============================] - 76s 934ms/step - top_10_categorical_accuracy: 0.0160 - top_100_categorical_accuracy: 0.1310 - loss: 90110.9673 - regularization_loss: 0.0000e+00 - total_loss: 90110.9673\n",
      "Epoch 2/10\n",
      "80/80 [==============================] - 74s 925ms/step - top_10_categorical_accuracy: 0.0179 - top_100_categorical_accuracy: 0.1580 - loss: 89316.2434 - regularization_loss: 0.0000e+00 - total_loss: 89316.2434\n",
      "Epoch 3/10\n",
      "80/80 [==============================] - 73s 913ms/step - top_10_categorical_accuracy: 0.0183 - top_100_categorical_accuracy: 0.1711 - loss: 88861.5248 - regularization_loss: 0.0000e+00 - total_loss: 88861.5248\n",
      "Epoch 4/10\n",
      "80/80 [==============================] - 74s 924ms/step - top_10_categorical_accuracy: 0.0194 - top_100_categorical_accuracy: 0.1770 - loss: 88602.1084 - regularization_loss: 0.0000e+00 - total_loss: 88602.1084\n",
      "Epoch 5/10\n",
      "80/80 [==============================] - 75s 942ms/step - top_10_categorical_accuracy: 0.0196 - top_100_categorical_accuracy: 0.1798 - loss: 88438.9797 - regularization_loss: 0.0000e+00 - total_loss: 88438.9797\n",
      "Epoch 6/10\n",
      "80/80 [==============================] - 76s 948ms/step - top_10_categorical_accuracy: 0.0203 - top_100_categorical_accuracy: 0.1827 - loss: 88326.1156 - regularization_loss: 0.0000e+00 - total_loss: 88326.1156\n",
      "Epoch 7/10\n",
      "80/80 [==============================] - 75s 943ms/step - top_10_categorical_accuracy: 0.0200 - top_100_categorical_accuracy: 0.1840 - loss: 88242.7052 - regularization_loss: 0.0000e+00 - total_loss: 88242.7052\n",
      "Epoch 8/10\n",
      "80/80 [==============================] - 76s 953ms/step - top_10_categorical_accuracy: 0.0203 - top_100_categorical_accuracy: 0.1862 - loss: 88175.1801 - regularization_loss: 0.0000e+00 - total_loss: 88175.1801\n",
      "Epoch 9/10\n",
      "80/80 [==============================] - 75s 939ms/step - top_10_categorical_accuracy: 0.0207 - top_100_categorical_accuracy: 0.1889 - loss: 88119.9476 - regularization_loss: 0.0000e+00 - total_loss: 88119.9476\n",
      "Epoch 10/10\n",
      "80/80 [==============================] - 75s 944ms/step - top_10_categorical_accuracy: 0.0207 - top_100_categorical_accuracy: 0.1900 - loss: 88073.8363 - regularization_loss: 0.0000e+00 - total_loss: 88073.8363\n"
     ]
    },
    {
     "data": {
      "text/plain": [
       "<keras.callbacks.History at 0x16eca22b0>"
      ]
     },
     "execution_count": 8,
     "metadata": {},
     "output_type": "execute_result"
    }
   ],
   "source": [
    "model = MoviesRetrievalModel()\n",
    "learning_rate = 1e-1\n",
    "model.compile(optimizer=tf.keras.optimizers.Adagrad(learning_rate=learning_rate))\n",
    "cached_train = train_dataset.shuffle(15_000).batch(10_000).cache()\n",
    "early_stopping = tf.keras.callbacks.EarlyStopping(monitor='loss', restore_best_weights=True, patience=3)\n",
    "model.fit(cached_train, epochs=10, callbacks=[early_stopping])"
   ]
  },
  {
   "cell_type": "code",
   "execution_count": 9,
   "id": "1abb35c9-d9ee-4d32-9dd1-2f9ead6c4bf7",
   "metadata": {},
   "outputs": [
    {
     "name": "stdout",
     "output_type": "stream",
     "text": [
      "9/9 [==============================] - 3s 352ms/step - top_10_categorical_accuracy: 0.0208 - top_100_categorical_accuracy: 0.1874 - loss: 35770.5689 - regularization_loss: 0.0000e+00 - total_loss: 35770.5689\n"
     ]
    },
    {
     "data": {
      "text/plain": [
       "{'top_10_categorical_accuracy': 0.02080344408750534,\n",
       " 'top_100_categorical_accuracy': 0.18737445771694183,\n",
       " 'loss': 13374.6318359375,\n",
       " 'regularization_loss': 0,\n",
       " 'total_loss': 13374.6318359375}"
      ]
     },
     "execution_count": 9,
     "metadata": {},
     "output_type": "execute_result"
    }
   ],
   "source": [
    "cached_test = test_dataset.batch(5000).cache()\n",
    "model.evaluate(cached_test, return_dict=True)"
   ]
  },
  {
   "cell_type": "markdown",
   "id": "66e2e0c6-cb8e-4a2d-a2d5-bc9978fdf9c7",
   "metadata": {},
   "source": [
    "The model get the right match as part of its top 10 recommendations in 2% of the cases, and at the top 100 recommendations in 19% of the cases.\n",
    "\n",
    "Next, it's time to call the model for predictions. We use a special layer on top of the model to get a list of top movies per user. We supply the layer with the output of the user model (which is the user embedding), and build an index using movie embeddings."
   ]
  },
  {
   "cell_type": "code",
   "execution_count": 10,
   "id": "cccdc7c2-0826-43af-b185-2073522e7a4b",
   "metadata": {},
   "outputs": [
    {
     "data": {
      "text/plain": [
       "<tensorflow_recommenders.layers.factorized_top_k.BruteForce at 0x16e677280>"
      ]
     },
     "execution_count": 10,
     "metadata": {},
     "output_type": "execute_result"
    }
   ],
   "source": [
    "retrieval = tfrs.layers.factorized_top_k.BruteForce(model.user_model)\n",
    "retrieval.index_from_dataset(\n",
    "  tf.data.Dataset.zip((movies_candidates, movies_candidates.map(model.movie_model)))\n",
    ")"
   ]
  },
  {
   "cell_type": "markdown",
   "id": "b30f83a2-9060-48c9-b95f-2bc3b559a7e4",
   "metadata": {},
   "source": [
    "Let's see how it works. We'll select a testing user for this demo."
   ]
  },
  {
   "cell_type": "code",
   "execution_count": 11,
   "id": "cec87f2b-46fe-4ae6-a85c-cfcbe3595e86",
   "metadata": {},
   "outputs": [
    {
     "data": {
      "text/html": [
       "<div>\n",
       "<style scoped>\n",
       "    .dataframe tbody tr th:only-of-type {\n",
       "        vertical-align: middle;\n",
       "    }\n",
       "\n",
       "    .dataframe tbody tr th {\n",
       "        vertical-align: top;\n",
       "    }\n",
       "\n",
       "    .dataframe thead th {\n",
       "        text-align: right;\n",
       "    }\n",
       "</style>\n",
       "<table border=\"1\" class=\"dataframe\">\n",
       "  <thead>\n",
       "    <tr style=\"text-align: right;\">\n",
       "      <th></th>\n",
       "      <th>user</th>\n",
       "      <th>city</th>\n",
       "      <th>state</th>\n",
       "    </tr>\n",
       "  </thead>\n",
       "  <tbody>\n",
       "    <tr>\n",
       "      <th>0</th>\n",
       "      <td>6040</td>\n",
       "      <td>Astoria</td>\n",
       "      <td>NY</td>\n",
       "    </tr>\n",
       "  </tbody>\n",
       "</table>\n",
       "</div>"
      ],
      "text/plain": [
       "   user     city state\n",
       "0  6040  Astoria    NY"
      ]
     },
     "execution_count": 11,
     "metadata": {},
     "output_type": "execute_result"
    }
   ],
   "source": [
    "test_df.head(1)[['user','city','state']]"
   ]
  },
  {
   "cell_type": "markdown",
   "id": "6afbbaf4-2976-4701-a1b3-4a03db2d660c",
   "metadata": {},
   "source": [
    "We pass the extra layer we've just defined the features of the user, and recieve a list of top movies fot that user:"
   ]
  },
  {
   "cell_type": "code",
   "execution_count": 12,
   "id": "5a8b6c84-9d03-4b31-9ab5-4b89da8e4ecd",
   "metadata": {},
   "outputs": [
    {
     "data": {
      "text/plain": [
       "array([b'3593', b'3753', b'3798', b'260', b'2881', b'2013', b'3615',\n",
       "       b'3555', b'1210', b'2827'], dtype=object)"
      ]
     },
     "execution_count": 12,
     "metadata": {},
     "output_type": "execute_result"
    }
   ],
   "source": [
    "retrieval([tf.constant(['6040']), tf.constant(['Astoria']), tf.constant(['NY'])])[1].numpy()[0]"
   ]
  },
  {
   "cell_type": "markdown",
   "id": "233b3139-4bfb-4704-b0e8-f71e4066fc8a",
   "metadata": {},
   "source": [
    "Save model weights and plots:"
   ]
  },
  {
   "cell_type": "code",
   "execution_count": 13,
   "id": "784fb5f7-6d9a-49ef-9f8f-a5894fb6a75d",
   "metadata": {},
   "outputs": [],
   "source": [
    "model.save_weights('weights_4_1/p41')"
   ]
  },
  {
   "cell_type": "code",
   "execution_count": 14,
   "id": "85e3f4d4-8f82-4faf-923e-0033498d3ea1",
   "metadata": {},
   "outputs": [
    {
     "data": {
      "image/png": "[encoded data removed]",
      "text/plain": [
       "<IPython.core.display.Image object>"
      ]
     },
     "execution_count": 14,
     "metadata": {},
     "output_type": "execute_result"
    }
   ],
   "source": [
    "tf.keras.utils.plot_model(model.user_model, to_file=\"project_4_1_user.png\")"
   ]
  },
  {
   "cell_type": "code",
   "execution_count": 15,
   "id": "ad525425-0f65-4454-a773-c6eee92fc756",
   "metadata": {},
   "outputs": [
    {
     "data": {
      "image/png": "[encoded data removed]",
      "text/plain": [
       "<IPython.core.display.Image object>"
      ]
     },
     "execution_count": 15,
     "metadata": {},
     "output_type": "execute_result"
    }
   ],
   "source": [
    "tf.keras.utils.plot_model(model.movie_model, to_file=\"project_4_1_movie.png\")"
   ]
  },
  {
   "cell_type": "code",
   "execution_count": 16,
   "id": "954daad9-fe5d-45f5-aee6-465bfaaa99da",
   "metadata": {},
   "outputs": [
    {
     "name": "stdout",
     "output_type": "stream",
     "text": [
      "Model: \"model_16\"\n",
      "__________________________________________________________________________________________________\n",
      "Layer (type)                    Output Shape         Param #     Connected to                     \n",
      "==================================================================================================\n",
      "user_input (InputLayer)         [(None, 1)]          0                                            \n",
      "__________________________________________________________________________________________________\n",
      "city_input (InputLayer)         [(None, 1)]          0                                            \n",
      "__________________________________________________________________________________________________\n",
      "user_string_lookup (StringLooku (None, 1)            0           user_input[0][0]                 \n",
      "__________________________________________________________________________________________________\n",
      "city_string_lookup (StringLooku (None, 1)            0           city_input[0][0]                 \n",
      "__________________________________________________________________________________________________\n",
      "user_emb (Embedding)            (None, 1, 20)        50020       user_string_lookup[0][0]         \n",
      "__________________________________________________________________________________________________\n",
      "city_emb (Embedding)            (None, 1, 5)         2510        city_string_lookup[0][0]         \n",
      "__________________________________________________________________________________________________\n",
      "tf.compat.v1.squeeze_63 (TFOpLa (None, 20)           0           user_emb[0][0]                   \n",
      "__________________________________________________________________________________________________\n",
      "tf.compat.v1.squeeze_64 (TFOpLa (None, 5)            0           city_emb[0][0]                   \n",
      "__________________________________________________________________________________________________\n",
      "user_merged (Concatenate)       (None, 25)           0           tf.compat.v1.squeeze_63[0][0]    \n",
      "                                                                 tf.compat.v1.squeeze_64[0][0]    \n",
      "__________________________________________________________________________________________________\n",
      "user_dense (Dense)              (None, 20)           520         user_merged[0][0]                \n",
      "==================================================================================================\n",
      "Total params: 53,050\n",
      "Trainable params: 53,050\n",
      "Non-trainable params: 0\n",
      "__________________________________________________________________________________________________\n"
     ]
    }
   ],
   "source": [
    "model.user_model.summary()"
   ]
  },
  {
   "cell_type": "code",
   "execution_count": 17,
   "id": "942245e0-7d21-4d7a-8640-e6647487c268",
   "metadata": {},
   "outputs": [
    {
     "name": "stdout",
     "output_type": "stream",
     "text": [
      "Model: \"model_43\"\n",
      "_________________________________________________________________\n",
      "Layer (type)                 Output Shape              Param #   \n",
      "=================================================================\n",
      "movie_input (InputLayer)     [(None, 1)]               0         \n",
      "_________________________________________________________________\n",
      "movie_string_lookup (StringL (None, 1)                 0         \n",
      "_________________________________________________________________\n",
      "movie_emb (Embedding)        (None, 1, 20)             24020     \n",
      "_________________________________________________________________\n",
      "tf.compat.v1.squeeze_116 (TF (None, 20)                0         \n",
      "=================================================================\n",
      "Total params: 24,020\n",
      "Trainable params: 24,020\n",
      "Non-trainable params: 0\n",
      "_________________________________________________________________\n"
     ]
    }
   ],
   "source": [
    "model.movie_model.summary()"
   ]
  }
 ],
 "metadata": {
  "kernelspec": {
   "display_name": "Python 3 (ipykernel)",
   "language": "python",
   "name": "python3"
  },
  "language_info": {
   "codemirror_mode": {
    "name": "ipython",
    "version": 3
   },
   "file_extension": ".py",
   "mimetype": "text/x-python",
   "name": "python",
   "nbconvert_exporter": "python",
   "pygments_lexer": "ipython3",
   "version": "3.9.6"
  }
 },
 "nbformat": 4,
 "nbformat_minor": 5
}
