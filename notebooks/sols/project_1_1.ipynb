{
 "cells": [
  {
   "cell_type": "markdown",
   "id": "cb5a8fee-d673-4ba3-bce8-c803e5c918aa",
   "metadata": {
    "pycharm": {
     "name": "#%% md\n"
    }
   },
   "source": [
    "# 1.1 Data Examination and Feature Engineering"
   ]
  },
  {
   "cell_type": "code",
   "execution_count": 1,
   "id": "c64ad5a4-e832-4efe-ae61-f135f7abcd84",
   "metadata": {
    "pycharm": {
     "name": "#%%\n"
    }
   },
   "outputs": [
    {
     "name": "stderr",
     "output_type": "stream",
     "text": [
      "/opt/homebrew/Caskroom/miniforge/base/envs/deeprec/lib/python3.9/site-packages/fuzzywuzzy/fuzz.py:11: UserWarning: Using slow pure-python SequenceMatcher. Install python-Levenshtein to remove this warning\n",
      "  warnings.warn('Using slow pure-python SequenceMatcher. Install python-Levenshtein to remove this warning')\n"
     ]
    }
   ],
   "source": [
    "import pandas as pd\n",
    "from datetime import datetime\n",
    "from uszipcode import SearchEngine"
   ]
  },
  {
   "cell_type": "markdown",
   "id": "d2eb9cd9-c585-4ab2-8b07-4c644605c019",
   "metadata": {
    "pycharm": {
     "name": "#%% md\n"
    }
   },
   "source": [
    "We begin by reading all three files:"
   ]
  },
  {
   "cell_type": "code",
   "execution_count": 2,
   "id": "8d0ad9ef-4d18-4f08-91ad-069f19e93764",
   "metadata": {
    "pycharm": {
     "name": "#%%\n"
    }
   },
   "outputs": [],
   "source": [
    "ratings = pd.read_csv(\"../data/ratings.csv\", header=0)\n",
    "users = pd.read_csv(\"../data/users.csv\", header=0)\n",
    "movies = pd.read_csv(\"../data/movies.csv\", header=0, encoding=\"latin-1\")"
   ]
  },
  {
   "cell_type": "markdown",
   "id": "15168ba9-2b35-4ba5-a100-9e45775f49bb",
   "metadata": {
    "pycharm": {
     "name": "#%% md\n"
    }
   },
   "source": [
    "### Movies table\n",
    "Let's take alook at the movies table first:"
   ]
  },
  {
   "cell_type": "code",
   "execution_count": 3,
   "id": "8a09a931-381f-437d-9f3c-a97016f836e2",
   "metadata": {
    "pycharm": {
     "name": "#%%\n"
    }
   },
   "outputs": [
    {
     "data": {
      "text/html": [
       "<div>\n",
       "<style scoped>\n",
       "    .dataframe tbody tr th:only-of-type {\n",
       "        vertical-align: middle;\n",
       "    }\n",
       "\n",
       "    .dataframe tbody tr th {\n",
       "        vertical-align: top;\n",
       "    }\n",
       "\n",
       "    .dataframe thead th {\n",
       "        text-align: right;\n",
       "    }\n",
       "</style>\n",
       "<table border=\"1\" class=\"dataframe\">\n",
       "  <thead>\n",
       "    <tr style=\"text-align: right;\">\n",
       "      <th></th>\n",
       "      <th>movie</th>\n",
       "      <th>title</th>\n",
       "      <th>genres</th>\n",
       "    </tr>\n",
       "  </thead>\n",
       "  <tbody>\n",
       "    <tr>\n",
       "      <th>0</th>\n",
       "      <td>1</td>\n",
       "      <td>Toy Story (1995)</td>\n",
       "      <td>Animation|Children's|Comedy</td>\n",
       "    </tr>\n",
       "    <tr>\n",
       "      <th>1</th>\n",
       "      <td>2</td>\n",
       "      <td>Jumanji (1995)</td>\n",
       "      <td>Adventure|Children's|Fantasy</td>\n",
       "    </tr>\n",
       "    <tr>\n",
       "      <th>2</th>\n",
       "      <td>3</td>\n",
       "      <td>Grumpier Old Men (1995)</td>\n",
       "      <td>Comedy|Romance</td>\n",
       "    </tr>\n",
       "    <tr>\n",
       "      <th>3</th>\n",
       "      <td>4</td>\n",
       "      <td>Waiting to Exhale (1995)</td>\n",
       "      <td>Comedy|Drama</td>\n",
       "    </tr>\n",
       "    <tr>\n",
       "      <th>4</th>\n",
       "      <td>5</td>\n",
       "      <td>Father of the Bride Part II (1995)</td>\n",
       "      <td>Comedy</td>\n",
       "    </tr>\n",
       "  </tbody>\n",
       "</table>\n",
       "</div>"
      ],
      "text/plain": [
       "   movie                               title                        genres\n",
       "0      1                    Toy Story (1995)   Animation|Children's|Comedy\n",
       "1      2                      Jumanji (1995)  Adventure|Children's|Fantasy\n",
       "2      3             Grumpier Old Men (1995)                Comedy|Romance\n",
       "3      4            Waiting to Exhale (1995)                  Comedy|Drama\n",
       "4      5  Father of the Bride Part II (1995)                        Comedy"
      ]
     },
     "execution_count": 3,
     "metadata": {},
     "output_type": "execute_result"
    }
   ],
   "source": [
    "movies.head()"
   ]
  },
  {
   "cell_type": "code",
   "execution_count": 4,
   "id": "ec0530b0-258a-401c-a6e6-27aad23dec9a",
   "metadata": {
    "pycharm": {
     "name": "#%%\n"
    }
   },
   "outputs": [
    {
     "data": {
      "text/plain": [
       "movie     False\n",
       "title     False\n",
       "genres    False\n",
       "dtype: bool"
      ]
     },
     "execution_count": 4,
     "metadata": {},
     "output_type": "execute_result"
    }
   ],
   "source": [
    "movies.isna().any()"
   ]
  },
  {
   "cell_type": "markdown",
   "id": "a23909f3-da6b-4f33-8d12-237b18bce537",
   "metadata": {
    "pycharm": {
     "name": "#%% md\n"
    }
   },
   "source": [
    "We can clearly see that both the movie's title and the year it was released are stored under `title`. We'll split these two into different features. We also see that the `genres` feature is a list of all matching genres, separated by `|`. We can split it too."
   ]
  },
  {
   "cell_type": "code",
   "execution_count": 5,
   "id": "501152db-ce0d-45f5-a064-f0feb1017fe4",
   "metadata": {
    "pycharm": {
     "name": "#%%\n"
    }
   },
   "outputs": [
    {
     "data": {
      "text/html": [
       "<div>\n",
       "<style scoped>\n",
       "    .dataframe tbody tr th:only-of-type {\n",
       "        vertical-align: middle;\n",
       "    }\n",
       "\n",
       "    .dataframe tbody tr th {\n",
       "        vertical-align: top;\n",
       "    }\n",
       "\n",
       "    .dataframe thead th {\n",
       "        text-align: right;\n",
       "    }\n",
       "</style>\n",
       "<table border=\"1\" class=\"dataframe\">\n",
       "  <thead>\n",
       "    <tr style=\"text-align: right;\">\n",
       "      <th></th>\n",
       "      <th>movie</th>\n",
       "      <th>title</th>\n",
       "      <th>genres</th>\n",
       "      <th>movie_year</th>\n",
       "    </tr>\n",
       "  </thead>\n",
       "  <tbody>\n",
       "    <tr>\n",
       "      <th>0</th>\n",
       "      <td>1</td>\n",
       "      <td>Toy Story</td>\n",
       "      <td>[Animation, Children's, Comedy]</td>\n",
       "      <td>1995</td>\n",
       "    </tr>\n",
       "    <tr>\n",
       "      <th>1</th>\n",
       "      <td>2</td>\n",
       "      <td>Jumanji</td>\n",
       "      <td>[Adventure, Children's, Fantasy]</td>\n",
       "      <td>1995</td>\n",
       "    </tr>\n",
       "    <tr>\n",
       "      <th>2</th>\n",
       "      <td>3</td>\n",
       "      <td>Grumpier Old Men</td>\n",
       "      <td>[Comedy, Romance]</td>\n",
       "      <td>1995</td>\n",
       "    </tr>\n",
       "    <tr>\n",
       "      <th>3</th>\n",
       "      <td>4</td>\n",
       "      <td>Waiting to Exhale</td>\n",
       "      <td>[Comedy, Drama]</td>\n",
       "      <td>1995</td>\n",
       "    </tr>\n",
       "    <tr>\n",
       "      <th>4</th>\n",
       "      <td>5</td>\n",
       "      <td>Father of the Bride Part II</td>\n",
       "      <td>[Comedy]</td>\n",
       "      <td>1995</td>\n",
       "    </tr>\n",
       "  </tbody>\n",
       "</table>\n",
       "</div>"
      ],
      "text/plain": [
       "   movie                        title                            genres  \\\n",
       "0      1                    Toy Story   [Animation, Children's, Comedy]   \n",
       "1      2                      Jumanji  [Adventure, Children's, Fantasy]   \n",
       "2      3             Grumpier Old Men                 [Comedy, Romance]   \n",
       "3      4            Waiting to Exhale                   [Comedy, Drama]   \n",
       "4      5  Father of the Bride Part II                          [Comedy]   \n",
       "\n",
       "   movie_year  \n",
       "0        1995  \n",
       "1        1995  \n",
       "2        1995  \n",
       "3        1995  \n",
       "4        1995  "
      ]
     },
     "execution_count": 5,
     "metadata": {},
     "output_type": "execute_result"
    }
   ],
   "source": [
    "movies[['title', 'movie_year', 'genres']] = movies.apply(lambda row: pd.Series({\n",
    "    'title': row['title'][:-7],\n",
    "    'movie_year': int(row['title'][-5:-1]),\n",
    "    'genres': str(row['genres']).split('|') if not pd.isnull(row['genres']) else list()\n",
    "}), axis=1)\n",
    "movies.head()"
   ]
  },
  {
   "cell_type": "code",
   "execution_count": 13,
   "id": "ec99b254-478b-4d43-a261-60f7f560df10",
   "metadata": {
    "pycharm": {
     "name": "#%%\n"
    }
   },
   "outputs": [
    {
     "data": {
      "text/plain": [
       "array([1995, 1994, 1996, 1976, 1993, 1992, 1988, 1967, 1964, 1977, 1965,\n",
       "       1982, 1962, 1990, 1991, 1989, 1937, 1940, 1969, 1981, 1973, 1970,\n",
       "       1960, 1955, 1956, 1959, 1968, 1980, 1975, 1986, 1948, 1943, 1963,\n",
       "       1950, 1946, 1987, 1997, 1974, 1958, 1949, 1972, 1998, 1933, 1952,\n",
       "       1951, 1957, 1961, 1954, 1934, 1944, 1942, 1941, 1953, 1939, 1947,\n",
       "       1945, 1938, 1935, 1936, 1926, 1932, 1930, 1971, 1979, 1966, 1978,\n",
       "       1985, 1983, 1984, 1931, 1922, 1927, 1929, 1928, 1925, 1923, 1999,\n",
       "       1919, 2000, 1920, 1921])"
      ]
     },
     "execution_count": 13,
     "metadata": {},
     "output_type": "execute_result"
    }
   ],
   "source": [
    "movies['movie_year'].unique()"
   ]
  },
  {
   "cell_type": "markdown",
   "id": "17868b19-5e8d-4f36-8409-20598ee11c03",
   "metadata": {
    "pycharm": {
     "name": "#%% md\n"
    }
   },
   "source": [
    "### Ratings table\n",
    "Let's take a look at the ratings data:"
   ]
  },
  {
   "cell_type": "code",
   "execution_count": 6,
   "id": "f738e7d9-4a45-4cad-8a8b-b5c0fc950969",
   "metadata": {
    "pycharm": {
     "name": "#%%\n"
    }
   },
   "outputs": [
    {
     "data": {
      "text/html": [
       "<div>\n",
       "<style scoped>\n",
       "    .dataframe tbody tr th:only-of-type {\n",
       "        vertical-align: middle;\n",
       "    }\n",
       "\n",
       "    .dataframe tbody tr th {\n",
       "        vertical-align: top;\n",
       "    }\n",
       "\n",
       "    .dataframe thead th {\n",
       "        text-align: right;\n",
       "    }\n",
       "</style>\n",
       "<table border=\"1\" class=\"dataframe\">\n",
       "  <thead>\n",
       "    <tr style=\"text-align: right;\">\n",
       "      <th></th>\n",
       "      <th>user</th>\n",
       "      <th>movie</th>\n",
       "      <th>rating</th>\n",
       "      <th>timestamp</th>\n",
       "    </tr>\n",
       "  </thead>\n",
       "  <tbody>\n",
       "    <tr>\n",
       "      <th>0</th>\n",
       "      <td>1</td>\n",
       "      <td>1193</td>\n",
       "      <td>5</td>\n",
       "      <td>978300760</td>\n",
       "    </tr>\n",
       "    <tr>\n",
       "      <th>1</th>\n",
       "      <td>1</td>\n",
       "      <td>661</td>\n",
       "      <td>3</td>\n",
       "      <td>978302109</td>\n",
       "    </tr>\n",
       "    <tr>\n",
       "      <th>2</th>\n",
       "      <td>1</td>\n",
       "      <td>914</td>\n",
       "      <td>3</td>\n",
       "      <td>978301968</td>\n",
       "    </tr>\n",
       "    <tr>\n",
       "      <th>3</th>\n",
       "      <td>1</td>\n",
       "      <td>3408</td>\n",
       "      <td>4</td>\n",
       "      <td>978300275</td>\n",
       "    </tr>\n",
       "    <tr>\n",
       "      <th>4</th>\n",
       "      <td>1</td>\n",
       "      <td>2355</td>\n",
       "      <td>5</td>\n",
       "      <td>978824291</td>\n",
       "    </tr>\n",
       "  </tbody>\n",
       "</table>\n",
       "</div>"
      ],
      "text/plain": [
       "   user  movie  rating  timestamp\n",
       "0     1   1193       5  978300760\n",
       "1     1    661       3  978302109\n",
       "2     1    914       3  978301968\n",
       "3     1   3408       4  978300275\n",
       "4     1   2355       5  978824291"
      ]
     },
     "execution_count": 6,
     "metadata": {},
     "output_type": "execute_result"
    }
   ],
   "source": [
    "ratings.head()"
   ]
  },
  {
   "cell_type": "code",
   "execution_count": 7,
   "id": "8cea2739-268f-4cf0-9079-edc897611e0b",
   "metadata": {
    "pycharm": {
     "name": "#%%\n"
    }
   },
   "outputs": [
    {
     "data": {
      "text/plain": [
       "user         False\n",
       "movie        False\n",
       "rating       False\n",
       "timestamp    False\n",
       "dtype: bool"
      ]
     },
     "execution_count": 7,
     "metadata": {},
     "output_type": "execute_result"
    }
   ],
   "source": [
    "ratings.isna().any()"
   ]
  },
  {
   "cell_type": "markdown",
   "id": "3ad0630b-0071-45f3-9a4c-b2167d95cc18",
   "metadata": {
    "pycharm": {
     "name": "#%% md\n"
    }
   },
   "source": [
    "The time the user rated the movie is expressed as an [_epoch_](https://www.epochconverter.com/). We'll translate it to the three features which it is reasonable to believe will hav ean impact on a user's preference:\n",
    "\n",
    "* hour of the day\n",
    "* day of the week\n",
    "* month\n",
    "\n",
    "We'll extract those from the `timestamp` feature."
   ]
  },
  {
   "cell_type": "code",
   "execution_count": 8,
   "id": "9fdb957f-678d-49af-91b2-d5e4ab412289",
   "metadata": {
    "pycharm": {
     "name": "#%%\n"
    }
   },
   "outputs": [
    {
     "data": {
      "text/html": [
       "<div>\n",
       "<style scoped>\n",
       "    .dataframe tbody tr th:only-of-type {\n",
       "        vertical-align: middle;\n",
       "    }\n",
       "\n",
       "    .dataframe tbody tr th {\n",
       "        vertical-align: top;\n",
       "    }\n",
       "\n",
       "    .dataframe thead th {\n",
       "        text-align: right;\n",
       "    }\n",
       "</style>\n",
       "<table border=\"1\" class=\"dataframe\">\n",
       "  <thead>\n",
       "    <tr style=\"text-align: right;\">\n",
       "      <th></th>\n",
       "      <th>user</th>\n",
       "      <th>movie</th>\n",
       "      <th>rating</th>\n",
       "      <th>timestamp</th>\n",
       "      <th>hour</th>\n",
       "      <th>day</th>\n",
       "      <th>month</th>\n",
       "    </tr>\n",
       "  </thead>\n",
       "  <tbody>\n",
       "    <tr>\n",
       "      <th>0</th>\n",
       "      <td>1</td>\n",
       "      <td>1193</td>\n",
       "      <td>5</td>\n",
       "      <td>978300760</td>\n",
       "      <td>0</td>\n",
       "      <td>1</td>\n",
       "      <td>1</td>\n",
       "    </tr>\n",
       "    <tr>\n",
       "      <th>1</th>\n",
       "      <td>1</td>\n",
       "      <td>661</td>\n",
       "      <td>3</td>\n",
       "      <td>978302109</td>\n",
       "      <td>0</td>\n",
       "      <td>1</td>\n",
       "      <td>1</td>\n",
       "    </tr>\n",
       "    <tr>\n",
       "      <th>2</th>\n",
       "      <td>1</td>\n",
       "      <td>914</td>\n",
       "      <td>3</td>\n",
       "      <td>978301968</td>\n",
       "      <td>0</td>\n",
       "      <td>1</td>\n",
       "      <td>1</td>\n",
       "    </tr>\n",
       "    <tr>\n",
       "      <th>3</th>\n",
       "      <td>1</td>\n",
       "      <td>3408</td>\n",
       "      <td>4</td>\n",
       "      <td>978300275</td>\n",
       "      <td>0</td>\n",
       "      <td>1</td>\n",
       "      <td>1</td>\n",
       "    </tr>\n",
       "    <tr>\n",
       "      <th>4</th>\n",
       "      <td>1</td>\n",
       "      <td>2355</td>\n",
       "      <td>5</td>\n",
       "      <td>978824291</td>\n",
       "      <td>1</td>\n",
       "      <td>0</td>\n",
       "      <td>1</td>\n",
       "    </tr>\n",
       "  </tbody>\n",
       "</table>\n",
       "</div>"
      ],
      "text/plain": [
       "   user  movie  rating  timestamp  hour  day  month\n",
       "0     1   1193       5  978300760     0    1      1\n",
       "1     1    661       3  978302109     0    1      1\n",
       "2     1    914       3  978301968     0    1      1\n",
       "3     1   3408       4  978300275     0    1      1\n",
       "4     1   2355       5  978824291     1    0      1"
      ]
     },
     "execution_count": 8,
     "metadata": {},
     "output_type": "execute_result"
    }
   ],
   "source": [
    "def features_from_epoch(row):\n",
    "    dt = datetime.fromtimestamp(row['timestamp'])\n",
    "    return pd.Series({\n",
    "        'hour': int(dt.strftime(\"%H\")),\n",
    "        'day': int(dt.strftime(\"%w\")),\n",
    "        'month': int(dt.strftime(\"%m\"))\n",
    "    })\n",
    "\n",
    "ratings[['hour','day','month']] = ratings.apply(features_from_epoch, axis=1)\n",
    "ratings.head()"
   ]
  },
  {
   "cell_type": "markdown",
   "id": "00a0e546-9783-42b9-b285-17b8f4aa13cb",
   "metadata": {
    "pycharm": {
     "name": "#%% md\n"
    }
   },
   "source": [
    "### Users table\n",
    "Finally, the users table:"
   ]
  },
  {
   "cell_type": "code",
   "execution_count": 9,
   "id": "78d217fe-83a9-4b57-a77b-c7fcbaecfe76",
   "metadata": {
    "pycharm": {
     "name": "#%%\n"
    }
   },
   "outputs": [
    {
     "data": {
      "text/html": [
       "<div>\n",
       "<style scoped>\n",
       "    .dataframe tbody tr th:only-of-type {\n",
       "        vertical-align: middle;\n",
       "    }\n",
       "\n",
       "    .dataframe tbody tr th {\n",
       "        vertical-align: top;\n",
       "    }\n",
       "\n",
       "    .dataframe thead th {\n",
       "        text-align: right;\n",
       "    }\n",
       "</style>\n",
       "<table border=\"1\" class=\"dataframe\">\n",
       "  <thead>\n",
       "    <tr style=\"text-align: right;\">\n",
       "      <th></th>\n",
       "      <th>user</th>\n",
       "      <th>gender</th>\n",
       "      <th>age</th>\n",
       "      <th>occupation</th>\n",
       "      <th>zip</th>\n",
       "    </tr>\n",
       "  </thead>\n",
       "  <tbody>\n",
       "    <tr>\n",
       "      <th>0</th>\n",
       "      <td>1</td>\n",
       "      <td>F</td>\n",
       "      <td>1</td>\n",
       "      <td>10</td>\n",
       "      <td>48067</td>\n",
       "    </tr>\n",
       "    <tr>\n",
       "      <th>1</th>\n",
       "      <td>2</td>\n",
       "      <td>M</td>\n",
       "      <td>56</td>\n",
       "      <td>16</td>\n",
       "      <td>70072</td>\n",
       "    </tr>\n",
       "    <tr>\n",
       "      <th>2</th>\n",
       "      <td>3</td>\n",
       "      <td>M</td>\n",
       "      <td>25</td>\n",
       "      <td>15</td>\n",
       "      <td>55117</td>\n",
       "    </tr>\n",
       "    <tr>\n",
       "      <th>3</th>\n",
       "      <td>4</td>\n",
       "      <td>M</td>\n",
       "      <td>45</td>\n",
       "      <td>7</td>\n",
       "      <td>02460</td>\n",
       "    </tr>\n",
       "    <tr>\n",
       "      <th>4</th>\n",
       "      <td>5</td>\n",
       "      <td>M</td>\n",
       "      <td>25</td>\n",
       "      <td>20</td>\n",
       "      <td>55455</td>\n",
       "    </tr>\n",
       "  </tbody>\n",
       "</table>\n",
       "</div>"
      ],
      "text/plain": [
       "   user gender  age  occupation    zip\n",
       "0     1      F    1          10  48067\n",
       "1     2      M   56          16  70072\n",
       "2     3      M   25          15  55117\n",
       "3     4      M   45           7  02460\n",
       "4     5      M   25          20  55455"
      ]
     },
     "execution_count": 9,
     "metadata": {},
     "output_type": "execute_result"
    }
   ],
   "source": [
    "users.head()"
   ]
  },
  {
   "cell_type": "code",
   "execution_count": 10,
   "id": "a831e2bc-b3f4-48c2-8ab8-342674b5a4f8",
   "metadata": {
    "pycharm": {
     "name": "#%%\n"
    }
   },
   "outputs": [
    {
     "data": {
      "text/plain": [
       "user          False\n",
       "gender        False\n",
       "age           False\n",
       "occupation    False\n",
       "zip           False\n",
       "dtype: bool"
      ]
     },
     "execution_count": 10,
     "metadata": {},
     "output_type": "execute_result"
    }
   ],
   "source": [
    "users.isna().any()"
   ]
  },
  {
   "cell_type": "markdown",
   "id": "5d3fa891-9452-4be0-a6ed-713873bc58c0",
   "metadata": {
    "pycharm": {
     "name": "#%% md\n"
    }
   },
   "source": [
    "First, let's consider the `gender` feature. There are 2 possible values: `M`, `F`, stores as a string. For simplicity, we'll transform these to numbers - `1` for `F` and `0` for `M`.\n",
    "\n",
    "Next, let's take a look at the `zip` feature. Note that all users who provided zip codes are from the US, and therefore the first thing we'll have to do is clean the zip codes and keep only the first 5 digits (Non-US students can read about the US ZIP Code system [here](https://en.wikipedia.org/wiki/ZIP_Code)). We can therefore extract the city and state from the zip code. For this, we'll use the `uszipcode` library and it's `SearchEngine` (running this for the first time requires network connection)."
   ]
  },
  {
   "cell_type": "code",
   "execution_count": 11,
   "id": "1dcfacc1-1888-46e8-bea6-ac09ae791009",
   "metadata": {
    "pycharm": {
     "name": "#%%\n"
    }
   },
   "outputs": [],
   "source": [
    "zip_code_search = SearchEngine()"
   ]
  },
  {
   "cell_type": "code",
   "execution_count": 12,
   "id": "5d9812ac-f459-4e2d-875c-8b1289c1b301",
   "metadata": {
    "pycharm": {
     "name": "#%%\n"
    }
   },
   "outputs": [
    {
     "data": {
      "text/html": [
       "<div>\n",
       "<style scoped>\n",
       "    .dataframe tbody tr th:only-of-type {\n",
       "        vertical-align: middle;\n",
       "    }\n",
       "\n",
       "    .dataframe tbody tr th {\n",
       "        vertical-align: top;\n",
       "    }\n",
       "\n",
       "    .dataframe thead th {\n",
       "        text-align: right;\n",
       "    }\n",
       "</style>\n",
       "<table border=\"1\" class=\"dataframe\">\n",
       "  <thead>\n",
       "    <tr style=\"text-align: right;\">\n",
       "      <th></th>\n",
       "      <th>user</th>\n",
       "      <th>gender</th>\n",
       "      <th>age</th>\n",
       "      <th>occupation</th>\n",
       "      <th>zip</th>\n",
       "      <th>city</th>\n",
       "      <th>state</th>\n",
       "    </tr>\n",
       "  </thead>\n",
       "  <tbody>\n",
       "    <tr>\n",
       "      <th>0</th>\n",
       "      <td>1</td>\n",
       "      <td>1.0</td>\n",
       "      <td>1</td>\n",
       "      <td>10</td>\n",
       "      <td>48067.0</td>\n",
       "      <td>Royal Oak</td>\n",
       "      <td>MI</td>\n",
       "    </tr>\n",
       "    <tr>\n",
       "      <th>1</th>\n",
       "      <td>2</td>\n",
       "      <td>0.0</td>\n",
       "      <td>56</td>\n",
       "      <td>16</td>\n",
       "      <td>70072.0</td>\n",
       "      <td>Marrero</td>\n",
       "      <td>LA</td>\n",
       "    </tr>\n",
       "    <tr>\n",
       "      <th>2</th>\n",
       "      <td>3</td>\n",
       "      <td>0.0</td>\n",
       "      <td>25</td>\n",
       "      <td>15</td>\n",
       "      <td>55117.0</td>\n",
       "      <td>Saint Paul</td>\n",
       "      <td>MN</td>\n",
       "    </tr>\n",
       "    <tr>\n",
       "      <th>3</th>\n",
       "      <td>4</td>\n",
       "      <td>0.0</td>\n",
       "      <td>45</td>\n",
       "      <td>7</td>\n",
       "      <td>2460.0</td>\n",
       "      <td>Newtonville</td>\n",
       "      <td>MA</td>\n",
       "    </tr>\n",
       "    <tr>\n",
       "      <th>4</th>\n",
       "      <td>5</td>\n",
       "      <td>0.0</td>\n",
       "      <td>25</td>\n",
       "      <td>20</td>\n",
       "      <td>55455.0</td>\n",
       "      <td>Minneapolis</td>\n",
       "      <td>MN</td>\n",
       "    </tr>\n",
       "  </tbody>\n",
       "</table>\n",
       "</div>"
      ],
      "text/plain": [
       "   user  gender  age  occupation      zip         city state\n",
       "0     1     1.0    1          10  48067.0    Royal Oak    MI\n",
       "1     2     0.0   56          16  70072.0      Marrero    LA\n",
       "2     3     0.0   25          15  55117.0   Saint Paul    MN\n",
       "3     4     0.0   45           7   2460.0  Newtonville    MA\n",
       "4     5     0.0   25          20  55455.0  Minneapolis    MN"
      ]
     },
     "execution_count": 12,
     "metadata": {},
     "output_type": "execute_result"
    }
   ],
   "source": [
    "def user_features(row):\n",
    "    zip_code = int(str(row['zip'])[:5]) if not pd.isnull(row['zip']) else 0\n",
    "    z = zip_code_search.by_zipcode(zip_code).to_dict()\n",
    "    return pd.Series({\n",
    "        'gender': int(row['gender'] == 'F'),\n",
    "        'city': z.get('major_city', ''),\n",
    "        'state': z.get('state', ''),\n",
    "        'zip': zip_code\n",
    "    })\n",
    "\n",
    "users[['gender', 'city', 'state', 'zip']] = users.apply(user_features, axis=1)\n",
    "users.head()"
   ]
  },
  {
   "cell_type": "markdown",
   "id": "a228c111-09cf-427e-8e10-61230e7fe923",
   "metadata": {
    "pycharm": {
     "name": "#%% md\n"
    }
   },
   "source": [
    "### Joined table\n",
    "Next, we'll join all three tables to a single dataset, and handle missing values. We'll also keep the `timestamp` column to use it to split the dataset to train and test data"
   ]
  },
  {
   "cell_type": "code",
   "execution_count": 13,
   "id": "ff9d71ab-4a35-400a-a8c1-dcbab7e4a5e3",
   "metadata": {
    "pycharm": {
     "name": "#%%\n"
    }
   },
   "outputs": [
    {
     "name": "stdout",
     "output_type": "stream",
     "text": [
      "Samples count: 1000209\n"
     ]
    },
    {
     "data": {
      "text/html": [
       "<div>\n",
       "<style scoped>\n",
       "    .dataframe tbody tr th:only-of-type {\n",
       "        vertical-align: middle;\n",
       "    }\n",
       "\n",
       "    .dataframe tbody tr th {\n",
       "        vertical-align: top;\n",
       "    }\n",
       "\n",
       "    .dataframe thead th {\n",
       "        text-align: right;\n",
       "    }\n",
       "</style>\n",
       "<table border=\"1\" class=\"dataframe\">\n",
       "  <thead>\n",
       "    <tr style=\"text-align: right;\">\n",
       "      <th></th>\n",
       "      <th>user</th>\n",
       "      <th>movie</th>\n",
       "      <th>rating</th>\n",
       "      <th>timestamp</th>\n",
       "      <th>hour</th>\n",
       "      <th>day</th>\n",
       "      <th>month</th>\n",
       "      <th>gender</th>\n",
       "      <th>age</th>\n",
       "      <th>occupation</th>\n",
       "      <th>zip</th>\n",
       "      <th>city</th>\n",
       "      <th>state</th>\n",
       "      <th>title</th>\n",
       "      <th>genres</th>\n",
       "      <th>movie_year</th>\n",
       "    </tr>\n",
       "  </thead>\n",
       "  <tbody>\n",
       "    <tr>\n",
       "      <th>0</th>\n",
       "      <td>1</td>\n",
       "      <td>1193</td>\n",
       "      <td>5</td>\n",
       "      <td>978300760</td>\n",
       "      <td>0</td>\n",
       "      <td>1</td>\n",
       "      <td>1</td>\n",
       "      <td>1.0</td>\n",
       "      <td>1</td>\n",
       "      <td>10</td>\n",
       "      <td>48067.0</td>\n",
       "      <td>Royal Oak</td>\n",
       "      <td>MI</td>\n",
       "      <td>One Flew Over the Cuckoo's Nest</td>\n",
       "      <td>[Drama]</td>\n",
       "      <td>1975</td>\n",
       "    </tr>\n",
       "    <tr>\n",
       "      <th>120</th>\n",
       "      <td>2</td>\n",
       "      <td>1193</td>\n",
       "      <td>5</td>\n",
       "      <td>978298413</td>\n",
       "      <td>23</td>\n",
       "      <td>0</td>\n",
       "      <td>12</td>\n",
       "      <td>0.0</td>\n",
       "      <td>56</td>\n",
       "      <td>16</td>\n",
       "      <td>70072.0</td>\n",
       "      <td>Marrero</td>\n",
       "      <td>LA</td>\n",
       "      <td>One Flew Over the Cuckoo's Nest</td>\n",
       "      <td>[Drama]</td>\n",
       "      <td>1975</td>\n",
       "    </tr>\n",
       "    <tr>\n",
       "      <th>1339</th>\n",
       "      <td>12</td>\n",
       "      <td>1193</td>\n",
       "      <td>4</td>\n",
       "      <td>978220179</td>\n",
       "      <td>1</td>\n",
       "      <td>0</td>\n",
       "      <td>12</td>\n",
       "      <td>0.0</td>\n",
       "      <td>25</td>\n",
       "      <td>12</td>\n",
       "      <td>32793.0</td>\n",
       "      <td>Winter Park</td>\n",
       "      <td>FL</td>\n",
       "      <td>One Flew Over the Cuckoo's Nest</td>\n",
       "      <td>[Drama]</td>\n",
       "      <td>1975</td>\n",
       "    </tr>\n",
       "    <tr>\n",
       "      <th>1518</th>\n",
       "      <td>15</td>\n",
       "      <td>1193</td>\n",
       "      <td>4</td>\n",
       "      <td>978199279</td>\n",
       "      <td>20</td>\n",
       "      <td>6</td>\n",
       "      <td>12</td>\n",
       "      <td>0.0</td>\n",
       "      <td>25</td>\n",
       "      <td>7</td>\n",
       "      <td>22903.0</td>\n",
       "      <td>Charlottesville</td>\n",
       "      <td>VA</td>\n",
       "      <td>One Flew Over the Cuckoo's Nest</td>\n",
       "      <td>[Drama]</td>\n",
       "      <td>1975</td>\n",
       "    </tr>\n",
       "    <tr>\n",
       "      <th>1747</th>\n",
       "      <td>17</td>\n",
       "      <td>1193</td>\n",
       "      <td>5</td>\n",
       "      <td>978158471</td>\n",
       "      <td>8</td>\n",
       "      <td>6</td>\n",
       "      <td>12</td>\n",
       "      <td>0.0</td>\n",
       "      <td>50</td>\n",
       "      <td>1</td>\n",
       "      <td>95350.0</td>\n",
       "      <td>Modesto</td>\n",
       "      <td>CA</td>\n",
       "      <td>One Flew Over the Cuckoo's Nest</td>\n",
       "      <td>[Drama]</td>\n",
       "      <td>1975</td>\n",
       "    </tr>\n",
       "  </tbody>\n",
       "</table>\n",
       "</div>"
      ],
      "text/plain": [
       "      user  movie  rating  timestamp  hour  day  month  gender  age  \\\n",
       "0        1   1193       5  978300760     0    1      1     1.0    1   \n",
       "120      2   1193       5  978298413    23    0     12     0.0   56   \n",
       "1339    12   1193       4  978220179     1    0     12     0.0   25   \n",
       "1518    15   1193       4  978199279    20    6     12     0.0   25   \n",
       "1747    17   1193       5  978158471     8    6     12     0.0   50   \n",
       "\n",
       "      occupation      zip             city state  \\\n",
       "0             10  48067.0        Royal Oak    MI   \n",
       "120           16  70072.0          Marrero    LA   \n",
       "1339          12  32793.0      Winter Park    FL   \n",
       "1518           7  22903.0  Charlottesville    VA   \n",
       "1747           1  95350.0          Modesto    CA   \n",
       "\n",
       "                                title   genres  movie_year  \n",
       "0     One Flew Over the Cuckoo's Nest  [Drama]        1975  \n",
       "120   One Flew Over the Cuckoo's Nest  [Drama]        1975  \n",
       "1339  One Flew Over the Cuckoo's Nest  [Drama]        1975  \n",
       "1518  One Flew Over the Cuckoo's Nest  [Drama]        1975  \n",
       "1747  One Flew Over the Cuckoo's Nest  [Drama]        1975  "
      ]
     },
     "execution_count": 13,
     "metadata": {},
     "output_type": "execute_result"
    }
   ],
   "source": [
    "all_data = ratings.join(users.set_index('user'), on='user', how='inner', rsuffix='2').join(movies.set_index('movie'), on='movie', how='inner', rsuffix='2')\n",
    "print(f'Samples count: {len(all_data.index)}')\n",
    "all_data.head()"
   ]
  },
  {
   "cell_type": "code",
   "execution_count": 14,
   "id": "5f944127-97a3-46bd-9def-69e3303fcc1b",
   "metadata": {
    "pycharm": {
     "name": "#%%\n"
    }
   },
   "outputs": [
    {
     "data": {
      "text/plain": [
       "user          False\n",
       "movie         False\n",
       "rating        False\n",
       "timestamp     False\n",
       "hour          False\n",
       "day           False\n",
       "month         False\n",
       "gender        False\n",
       "age           False\n",
       "occupation    False\n",
       "zip           False\n",
       "city           True\n",
       "state          True\n",
       "title         False\n",
       "genres        False\n",
       "movie_year    False\n",
       "dtype: bool"
      ]
     },
     "execution_count": 14,
     "metadata": {},
     "output_type": "execute_result"
    }
   ],
   "source": [
    "all_data.isna().any()"
   ]
  },
  {
   "cell_type": "markdown",
   "id": "123eed22-81c7-41c5-8caf-062ead9aad07",
   "metadata": {
    "pycharm": {
     "name": "#%% md\n"
    }
   },
   "source": [
    "We see we have no missing values except for some `city` and `state` calues, due to zip codes which `SearchEngine` couldn't locate."
   ]
  },
  {
   "cell_type": "code",
   "execution_count": 15,
   "id": "e62e3de9-18c5-4b5d-829a-550ad3b719f6",
   "metadata": {
    "pycharm": {
     "name": "#%%\n"
    }
   },
   "outputs": [
    {
     "data": {
      "text/plain": [
       "user          False\n",
       "movie         False\n",
       "rating        False\n",
       "timestamp     False\n",
       "hour          False\n",
       "day           False\n",
       "month         False\n",
       "gender        False\n",
       "age           False\n",
       "occupation    False\n",
       "zip           False\n",
       "city          False\n",
       "state         False\n",
       "title         False\n",
       "genres        False\n",
       "movie_year    False\n",
       "dtype: bool"
      ]
     },
     "execution_count": 15,
     "metadata": {},
     "output_type": "execute_result"
    }
   ],
   "source": [
    "string_na = 'XX'\n",
    "all_data[['city', 'state']] = all_data[['city', 'state']].fillna(string_na)\n",
    "all_data.isna().any()"
   ]
  },
  {
   "cell_type": "code",
   "execution_count": 16,
   "id": "19957b2c-964b-4664-9d92-3b32479aa5bc",
   "metadata": {
    "pycharm": {
     "name": "#%%\n"
    }
   },
   "outputs": [
    {
     "data": {
      "text/html": [
       "<div>\n",
       "<style scoped>\n",
       "    .dataframe tbody tr th:only-of-type {\n",
       "        vertical-align: middle;\n",
       "    }\n",
       "\n",
       "    .dataframe tbody tr th {\n",
       "        vertical-align: top;\n",
       "    }\n",
       "\n",
       "    .dataframe thead th {\n",
       "        text-align: right;\n",
       "    }\n",
       "</style>\n",
       "<table border=\"1\" class=\"dataframe\">\n",
       "  <thead>\n",
       "    <tr style=\"text-align: right;\">\n",
       "      <th></th>\n",
       "      <th>user</th>\n",
       "      <th>movie</th>\n",
       "      <th>rating</th>\n",
       "      <th>timestamp</th>\n",
       "      <th>hour</th>\n",
       "      <th>day</th>\n",
       "      <th>month</th>\n",
       "      <th>gender</th>\n",
       "      <th>age</th>\n",
       "      <th>occupation</th>\n",
       "      <th>zip</th>\n",
       "      <th>city</th>\n",
       "      <th>state</th>\n",
       "      <th>title</th>\n",
       "      <th>genres</th>\n",
       "      <th>movie_year</th>\n",
       "    </tr>\n",
       "  </thead>\n",
       "  <tbody>\n",
       "    <tr>\n",
       "      <th>0</th>\n",
       "      <td>1</td>\n",
       "      <td>1193</td>\n",
       "      <td>5</td>\n",
       "      <td>978300760</td>\n",
       "      <td>0</td>\n",
       "      <td>1</td>\n",
       "      <td>1</td>\n",
       "      <td>1.0</td>\n",
       "      <td>1</td>\n",
       "      <td>10</td>\n",
       "      <td>48067.0</td>\n",
       "      <td>Royal Oak</td>\n",
       "      <td>MI</td>\n",
       "      <td>One Flew Over the Cuckoo's Nest</td>\n",
       "      <td>[Drama]</td>\n",
       "      <td>1975</td>\n",
       "    </tr>\n",
       "    <tr>\n",
       "      <th>120</th>\n",
       "      <td>2</td>\n",
       "      <td>1193</td>\n",
       "      <td>5</td>\n",
       "      <td>978298413</td>\n",
       "      <td>23</td>\n",
       "      <td>0</td>\n",
       "      <td>12</td>\n",
       "      <td>0.0</td>\n",
       "      <td>56</td>\n",
       "      <td>16</td>\n",
       "      <td>70072.0</td>\n",
       "      <td>Marrero</td>\n",
       "      <td>LA</td>\n",
       "      <td>One Flew Over the Cuckoo's Nest</td>\n",
       "      <td>[Drama]</td>\n",
       "      <td>1975</td>\n",
       "    </tr>\n",
       "    <tr>\n",
       "      <th>1339</th>\n",
       "      <td>12</td>\n",
       "      <td>1193</td>\n",
       "      <td>4</td>\n",
       "      <td>978220179</td>\n",
       "      <td>1</td>\n",
       "      <td>0</td>\n",
       "      <td>12</td>\n",
       "      <td>0.0</td>\n",
       "      <td>25</td>\n",
       "      <td>12</td>\n",
       "      <td>32793.0</td>\n",
       "      <td>Winter Park</td>\n",
       "      <td>FL</td>\n",
       "      <td>One Flew Over the Cuckoo's Nest</td>\n",
       "      <td>[Drama]</td>\n",
       "      <td>1975</td>\n",
       "    </tr>\n",
       "    <tr>\n",
       "      <th>1518</th>\n",
       "      <td>15</td>\n",
       "      <td>1193</td>\n",
       "      <td>4</td>\n",
       "      <td>978199279</td>\n",
       "      <td>20</td>\n",
       "      <td>6</td>\n",
       "      <td>12</td>\n",
       "      <td>0.0</td>\n",
       "      <td>25</td>\n",
       "      <td>7</td>\n",
       "      <td>22903.0</td>\n",
       "      <td>Charlottesville</td>\n",
       "      <td>VA</td>\n",
       "      <td>One Flew Over the Cuckoo's Nest</td>\n",
       "      <td>[Drama]</td>\n",
       "      <td>1975</td>\n",
       "    </tr>\n",
       "    <tr>\n",
       "      <th>1747</th>\n",
       "      <td>17</td>\n",
       "      <td>1193</td>\n",
       "      <td>5</td>\n",
       "      <td>978158471</td>\n",
       "      <td>8</td>\n",
       "      <td>6</td>\n",
       "      <td>12</td>\n",
       "      <td>0.0</td>\n",
       "      <td>50</td>\n",
       "      <td>1</td>\n",
       "      <td>95350.0</td>\n",
       "      <td>Modesto</td>\n",
       "      <td>CA</td>\n",
       "      <td>One Flew Over the Cuckoo's Nest</td>\n",
       "      <td>[Drama]</td>\n",
       "      <td>1975</td>\n",
       "    </tr>\n",
       "  </tbody>\n",
       "</table>\n",
       "</div>"
      ],
      "text/plain": [
       "      user  movie  rating  timestamp  hour  day  month  gender  age  \\\n",
       "0        1   1193       5  978300760     0    1      1     1.0    1   \n",
       "120      2   1193       5  978298413    23    0     12     0.0   56   \n",
       "1339    12   1193       4  978220179     1    0     12     0.0   25   \n",
       "1518    15   1193       4  978199279    20    6     12     0.0   25   \n",
       "1747    17   1193       5  978158471     8    6     12     0.0   50   \n",
       "\n",
       "      occupation      zip             city state  \\\n",
       "0             10  48067.0        Royal Oak    MI   \n",
       "120           16  70072.0          Marrero    LA   \n",
       "1339          12  32793.0      Winter Park    FL   \n",
       "1518           7  22903.0  Charlottesville    VA   \n",
       "1747           1  95350.0          Modesto    CA   \n",
       "\n",
       "                                title   genres  movie_year  \n",
       "0     One Flew Over the Cuckoo's Nest  [Drama]        1975  \n",
       "120   One Flew Over the Cuckoo's Nest  [Drama]        1975  \n",
       "1339  One Flew Over the Cuckoo's Nest  [Drama]        1975  \n",
       "1518  One Flew Over the Cuckoo's Nest  [Drama]        1975  \n",
       "1747  One Flew Over the Cuckoo's Nest  [Drama]        1975  "
      ]
     },
     "execution_count": 16,
     "metadata": {},
     "output_type": "execute_result"
    }
   ],
   "source": [
    "all_data.head()"
   ]
  },
  {
   "cell_type": "markdown",
   "id": "161c002a-98d2-47f4-bd09-12117f163de8",
   "metadata": {
    "pycharm": {
     "name": "#%% md\n"
    }
   },
   "source": [
    "Save our raw data as CSV:"
   ]
  },
  {
   "cell_type": "code",
   "execution_count": 17,
   "id": "56ec6295-17d1-4a0b-bc6a-c1c6f4f2718b",
   "metadata": {
    "pycharm": {
     "name": "#%%\n"
    }
   },
   "outputs": [],
   "source": [
    "all_data.to_csv('../local_data/all_data.csv', index=False)"
   ]
  }
 ],
 "metadata": {
  "kernelspec": {
   "display_name": "Python 3 (ipykernel)",
   "language": "python",
   "name": "python3"
  },
  "language_info": {
   "codemirror_mode": {
    "name": "ipython",
    "version": 3
   },
   "file_extension": ".py",
   "mimetype": "text/x-python",
   "name": "python",
   "nbconvert_exporter": "python",
   "pygments_lexer": "ipython3",
   "version": "3.9.13"
  }
 },
 "nbformat": 4,
 "nbformat_minor": 5
}