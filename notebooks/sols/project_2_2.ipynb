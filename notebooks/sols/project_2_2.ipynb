{
 "cells": [
  {
   "cell_type": "markdown",
   "id": "81d4a236-db30-430c-ab6f-6a738ed1e137",
   "metadata": {},
   "source": [
    "# 2.2 Tensorflow Recommenders Basics"
   ]
  },
  {
   "cell_type": "code",
   "execution_count": 1,
   "id": "afb7eabb-721b-4f50-b355-ea26a43ebdab",
   "metadata": {},
   "outputs": [],
   "source": [
    "import json\n",
    "import pandas as pd\n",
    "import tensorflow as tf\n",
    "import tensorflow_recommenders as tfrs"
   ]
  },
  {
   "cell_type": "markdown",
   "id": "431447c1-82ec-46d3-9c49-7bed446b2dab",
   "metadata": {},
   "source": [
    "Loading the data we saved on project #1:"
   ]
  },
  {
   "cell_type": "code",
   "execution_count": 2,
   "id": "7c3116b9-6465-47f6-97e9-1c3b16966405",
   "metadata": {},
   "outputs": [],
   "source": [
    "train_df = pd.read_csv('../local_data/train_data.csv', header=0)[['user','movie','rating']]\n",
    "test_df = pd.read_csv('../local_data/test_data.csv', header=0)[['user','movie','rating']]\n",
    "with open('../local_data/metadata.json', 'r') as f:\n",
    "    metadata = json.load(f)"
   ]
  },
  {
   "cell_type": "markdown",
   "id": "d9857cf1-c260-4f95-9892-d7f9c2684c7e",
   "metadata": {},
   "source": [
    "First thing we'll do is convert the dataframes to Tensorflow datasets:"
   ]
  },
  {
   "cell_type": "code",
   "execution_count": 3,
   "id": "e9bea9ff-6a4f-46d6-a62f-2ea9c131481e",
   "metadata": {},
   "outputs": [
    {
     "name": "stderr",
     "output_type": "stream",
     "text": [
      "2021-11-13 12:34:49.974783: I tensorflow/core/platform/cpu_feature_guard.cc:142] This TensorFlow binary is optimized with oneAPI Deep Neural Network Library (oneDNN) to use the following CPU instructions in performance-critical operations:  AVX2 FMA\n",
      "To enable them in other operations, rebuild TensorFlow with the appropriate compiler flags.\n"
     ]
    }
   ],
   "source": [
    "def convert_to_dataset(df):\n",
    "    d = {k:v.to_numpy() for k,v in dict(df).items()}\n",
    "    return tf.data.Dataset.from_tensor_slices(d)\n",
    "\n",
    "train_dataset = convert_to_dataset(train_df)\n",
    "test_dataset = convert_to_dataset(test_df)"
   ]
  },
  {
   "cell_type": "markdown",
   "id": "a2d4540a-d806-44b7-bb5a-ac3166d5e0b2",
   "metadata": {},
   "source": [
    "Next, we grab the users and movies vocabularies from the metadata we created:"
   ]
  },
  {
   "cell_type": "code",
   "execution_count": 4,
   "id": "79c92176-eae8-4cbe-b065-a2053961020d",
   "metadata": {},
   "outputs": [],
   "source": [
    "all_users = [str(int(i)) for i in metadata['users']]\n",
    "all_movies = [str(int(i)) for i in metadata['movies']]"
   ]
  },
  {
   "cell_type": "markdown",
   "id": "f1106295-f668-483b-a968-71cde6f52609",
   "metadata": {},
   "source": [
    "Now for the model itself. Each tower consists of an input layer, a `StringLookup`, an `Embedding` layer with an additional embedding for OOV and output embeddings of size 25, and a `Dense` layer on-top with 20 nodes. The towers are connected using a `Multiply` layer, followed by another `Dense`, and then the output. Note that as `StringLookup` requires strings as inputs, I cast the model inputs to strings inside `call`."
   ]
  },
  {
   "cell_type": "code",
   "execution_count": 5,
   "id": "f435dc29-62d0-4805-a2f1-e9ca016e8372",
   "metadata": {},
   "outputs": [],
   "source": [
    "class RatingPredictionModel(tfrs.models.Model):\n",
    "    def __init__(self):\n",
    "        super().__init__()\n",
    "        \n",
    "        # User tower\n",
    "        self.user_input = tf.keras.Input(shape=(1,), dtype=tf.string, name='user_input')\n",
    "        self.user_sl = tf.keras.layers.StringLookup(vocabulary=all_users, name='user_string_lookup')(self.user_input)\n",
    "        self.user_emb = tf.squeeze(tf.keras.layers.Embedding(len(all_users)+1, 25, name='user_emb')(self.user_sl), axis=1)\n",
    "        self.user_dense = tf.keras.layers.Dense(20, activation='relu', name='user_dense')(self.user_emb)\n",
    "        \n",
    "        # Movie tower\n",
    "        self.movie_input = tf.keras.Input(shape=(1,), dtype=tf.string, name='movie_input')\n",
    "        self.movie_sl = tf.keras.layers.StringLookup(vocabulary=all_movies, name='movie_string_lookup')(self.movie_input)\n",
    "        self.movie_emb = tf.squeeze(tf.keras.layers.Embedding(len(all_movies)+1, 25, name='movie_emb')(self.movie_sl), axis=1)\n",
    "        self.movie_dense = tf.keras.layers.Dense(20, activation='relu', name='movie_dense')(self.movie_emb)\n",
    "        \n",
    "        # Merging towers\n",
    "        self.towers_multiplied = tf.keras.layers.Multiply(name='towers_multiplied')([self.user_dense, self.movie_dense])\n",
    "        self.towers_dense = tf.keras.layers.Dense(10, activation='relu', name='towers_dense')(self.towers_multiplied)\n",
    "        self.output_node = tf.keras.layers.Dense(1, name='output_node')(self.towers_dense)\n",
    "        \n",
    "        # Model definition\n",
    "        self.model = tf.keras.Model(inputs={'user': self.user_input, \n",
    "                                            'movie': self.movie_input}, \n",
    "                                    outputs=self.output_node)\n",
    "        \n",
    "        self.task = tfrs.tasks.Ranking(\n",
    "            loss = tf.keras.losses.MeanSquaredError(),\n",
    "            metrics=[tf.keras.metrics.RootMeanSquaredError()]\n",
    "        )\n",
    "        \n",
    "    def call(self, features):\n",
    "        return self.model({'user': tf.strings.as_string(features[\"user\"]),\n",
    "                           'movie': tf.strings.as_string(features[\"movie\"])})\n",
    "    \n",
    "    def compute_loss(self, features, **kwargs):\n",
    "        return self.task(labels=features[\"rating\"], predictions=self(features))"
   ]
  },
  {
   "cell_type": "markdown",
   "id": "307fdcc8-3fe8-45cd-9ade-685da74a92cb",
   "metadata": {},
   "source": [
    "Let's train and evaluate the model:"
   ]
  },
  {
   "cell_type": "code",
   "execution_count": 6,
   "id": "b15d0132-9205-4d4c-b2fe-d14338611afb",
   "metadata": {
    "scrolled": true,
    "tags": []
   },
   "outputs": [
    {
     "name": "stdout",
     "output_type": "stream",
     "text": [
      "Epoch 1/1000\n"
     ]
    },
    {
     "name": "stderr",
     "output_type": "stream",
     "text": [
      "2021-11-13 12:34:50.779740: I tensorflow/compiler/mlir/mlir_graph_optimization_pass.cc:185] None of the MLIR Optimization Passes are enabled (registered 2)\n"
     ]
    },
    {
     "name": "stdout",
     "output_type": "stream",
     "text": [
      "96/96 [==============================] - 5s 40ms/step - root_mean_squared_error: 3.0552 - loss: 9.1658 - regularization_loss: 0.0000e+00 - total_loss: 9.1658\n",
      "Epoch 2/1000\n",
      "96/96 [==============================] - 1s 8ms/step - root_mean_squared_error: 1.0423 - loss: 1.0799 - regularization_loss: 0.0000e+00 - total_loss: 1.0799\n",
      "Epoch 3/1000\n",
      "96/96 [==============================] - 1s 8ms/step - root_mean_squared_error: 0.9744 - loss: 0.9450 - regularization_loss: 0.0000e+00 - total_loss: 0.9450\n",
      "Epoch 4/1000\n",
      "96/96 [==============================] - 1s 8ms/step - root_mean_squared_error: 0.9664 - loss: 0.9293 - regularization_loss: 0.0000e+00 - total_loss: 0.9293\n",
      "Epoch 5/1000\n",
      "96/96 [==============================] - 1s 8ms/step - root_mean_squared_error: 0.9650 - loss: 0.9266 - regularization_loss: 0.0000e+00 - total_loss: 0.9266\n",
      "Epoch 6/1000\n",
      "96/96 [==============================] - 1s 8ms/step - root_mean_squared_error: 0.9632 - loss: 0.9232 - regularization_loss: 0.0000e+00 - total_loss: 0.9232\n",
      "Epoch 7/1000\n",
      "96/96 [==============================] - 1s 8ms/step - root_mean_squared_error: 0.9623 - loss: 0.9215 - regularization_loss: 0.0000e+00 - total_loss: 0.9215\n",
      "Epoch 8/1000\n",
      "96/96 [==============================] - 1s 8ms/step - root_mean_squared_error: 0.9616 - loss: 0.9200 - regularization_loss: 0.0000e+00 - total_loss: 0.9200\n",
      "Epoch 9/1000\n",
      "96/96 [==============================] - 1s 8ms/step - root_mean_squared_error: 0.9609 - loss: 0.9186 - regularization_loss: 0.0000e+00 - total_loss: 0.9186\n",
      "Epoch 10/1000\n",
      "96/96 [==============================] - 1s 8ms/step - root_mean_squared_error: 0.9602 - loss: 0.9172 - regularization_loss: 0.0000e+00 - total_loss: 0.9172\n",
      "Epoch 11/1000\n",
      "96/96 [==============================] - 1s 8ms/step - root_mean_squared_error: 0.9589 - loss: 0.9147 - regularization_loss: 0.0000e+00 - total_loss: 0.9147\n",
      "Epoch 12/1000\n",
      "96/96 [==============================] - 1s 8ms/step - root_mean_squared_error: 0.9571 - loss: 0.9111 - regularization_loss: 0.0000e+00 - total_loss: 0.9111\n",
      "Epoch 13/1000\n",
      "96/96 [==============================] - 1s 8ms/step - root_mean_squared_error: 0.9535 - loss: 0.9041 - regularization_loss: 0.0000e+00 - total_loss: 0.9041\n",
      "Epoch 14/1000\n",
      "96/96 [==============================] - 1s 8ms/step - root_mean_squared_error: 0.9486 - loss: 0.8943 - regularization_loss: 0.0000e+00 - total_loss: 0.8943\n",
      "Epoch 15/1000\n",
      "96/96 [==============================] - 1s 8ms/step - root_mean_squared_error: 0.9454 - loss: 0.8880 - regularization_loss: 0.0000e+00 - total_loss: 0.8880\n",
      "Epoch 16/1000\n",
      "96/96 [==============================] - 1s 9ms/step - root_mean_squared_error: 0.9428 - loss: 0.8828 - regularization_loss: 0.0000e+00 - total_loss: 0.8828\n",
      "Epoch 17/1000\n",
      "96/96 [==============================] - 1s 8ms/step - root_mean_squared_error: 0.9406 - loss: 0.8785 - regularization_loss: 0.0000e+00 - total_loss: 0.8785\n",
      "Epoch 18/1000\n",
      "96/96 [==============================] - 1s 8ms/step - root_mean_squared_error: 0.9388 - loss: 0.8748 - regularization_loss: 0.0000e+00 - total_loss: 0.8748\n",
      "Epoch 19/1000\n",
      "96/96 [==============================] - 1s 8ms/step - root_mean_squared_error: 0.9362 - loss: 0.8698 - regularization_loss: 0.0000e+00 - total_loss: 0.8698\n",
      "Epoch 20/1000\n",
      "96/96 [==============================] - 1s 9ms/step - root_mean_squared_error: 0.9340 - loss: 0.8656 - regularization_loss: 0.0000e+00 - total_loss: 0.8656\n",
      "Epoch 21/1000\n",
      "96/96 [==============================] - 1s 8ms/step - root_mean_squared_error: 0.9323 - loss: 0.8624 - regularization_loss: 0.0000e+00 - total_loss: 0.8624\n",
      "Epoch 22/1000\n",
      "96/96 [==============================] - 1s 8ms/step - root_mean_squared_error: 0.9301 - loss: 0.8581 - regularization_loss: 0.0000e+00 - total_loss: 0.8581\n",
      "Epoch 23/1000\n",
      "96/96 [==============================] - 1s 8ms/step - root_mean_squared_error: 0.9284 - loss: 0.8547 - regularization_loss: 0.0000e+00 - total_loss: 0.8547\n",
      "Epoch 24/1000\n",
      "96/96 [==============================] - 1s 8ms/step - root_mean_squared_error: 0.9282 - loss: 0.8544 - regularization_loss: 0.0000e+00 - total_loss: 0.8544\n",
      "Epoch 25/1000\n",
      "96/96 [==============================] - 1s 8ms/step - root_mean_squared_error: 0.9298 - loss: 0.8572 - regularization_loss: 0.0000e+00 - total_loss: 0.8572\n",
      "Epoch 26/1000\n",
      "96/96 [==============================] - 1s 8ms/step - root_mean_squared_error: 0.9298 - loss: 0.8568 - regularization_loss: 0.0000e+00 - total_loss: 0.8568\n",
      "Epoch 27/1000\n",
      "96/96 [==============================] - 1s 8ms/step - root_mean_squared_error: 0.9289 - loss: 0.8551 - regularization_loss: 0.0000e+00 - total_loss: 0.8551\n",
      "Epoch 28/1000\n",
      "96/96 [==============================] - 1s 8ms/step - root_mean_squared_error: 0.9264 - loss: 0.8502 - regularization_loss: 0.0000e+00 - total_loss: 0.8502\n",
      "Epoch 29/1000\n",
      "96/96 [==============================] - 1s 8ms/step - root_mean_squared_error: 0.9238 - loss: 0.8454 - regularization_loss: 0.0000e+00 - total_loss: 0.8454\n",
      "Epoch 30/1000\n",
      "96/96 [==============================] - 1s 8ms/step - root_mean_squared_error: 0.9226 - loss: 0.8431 - regularization_loss: 0.0000e+00 - total_loss: 0.8431\n",
      "Epoch 31/1000\n",
      "96/96 [==============================] - 1s 8ms/step - root_mean_squared_error: 0.9214 - loss: 0.8407 - regularization_loss: 0.0000e+00 - total_loss: 0.8407\n",
      "Epoch 32/1000\n",
      "96/96 [==============================] - 1s 9ms/step - root_mean_squared_error: 0.9204 - loss: 0.8388 - regularization_loss: 0.0000e+00 - total_loss: 0.8388\n",
      "Epoch 33/1000\n",
      "96/96 [==============================] - 1s 8ms/step - root_mean_squared_error: 0.9200 - loss: 0.8378 - regularization_loss: 0.0000e+00 - total_loss: 0.8378\n",
      "Epoch 34/1000\n",
      "96/96 [==============================] - 1s 8ms/step - root_mean_squared_error: 0.9195 - loss: 0.8369 - regularization_loss: 0.0000e+00 - total_loss: 0.8369\n",
      "Epoch 35/1000\n",
      "96/96 [==============================] - 1s 8ms/step - root_mean_squared_error: 0.9194 - loss: 0.8365 - regularization_loss: 0.0000e+00 - total_loss: 0.8365\n",
      "Epoch 36/1000\n",
      "96/96 [==============================] - 1s 8ms/step - root_mean_squared_error: 0.9188 - loss: 0.8352 - regularization_loss: 0.0000e+00 - total_loss: 0.8352\n",
      "Epoch 37/1000\n",
      "96/96 [==============================] - 1s 8ms/step - root_mean_squared_error: 0.9178 - loss: 0.8332 - regularization_loss: 0.0000e+00 - total_loss: 0.8332\n",
      "Epoch 38/1000\n",
      "96/96 [==============================] - 1s 8ms/step - root_mean_squared_error: 0.9172 - loss: 0.8318 - regularization_loss: 0.0000e+00 - total_loss: 0.8318\n",
      "Epoch 39/1000\n",
      "96/96 [==============================] - 1s 8ms/step - root_mean_squared_error: 0.9166 - loss: 0.8306 - regularization_loss: 0.0000e+00 - total_loss: 0.8306\n",
      "Epoch 40/1000\n",
      "96/96 [==============================] - 1s 8ms/step - root_mean_squared_error: 0.9161 - loss: 0.8294 - regularization_loss: 0.0000e+00 - total_loss: 0.8294\n",
      "Epoch 41/1000\n",
      "96/96 [==============================] - 1s 8ms/step - root_mean_squared_error: 0.9160 - loss: 0.8291 - regularization_loss: 0.0000e+00 - total_loss: 0.8291\n",
      "Epoch 42/1000\n",
      "96/96 [==============================] - 1s 8ms/step - root_mean_squared_error: 0.9160 - loss: 0.8291 - regularization_loss: 0.0000e+00 - total_loss: 0.8291\n",
      "Epoch 43/1000\n",
      "96/96 [==============================] - 1s 8ms/step - root_mean_squared_error: 0.9156 - loss: 0.8281 - regularization_loss: 0.0000e+00 - total_loss: 0.8281\n",
      "Epoch 44/1000\n",
      "96/96 [==============================] - 1s 8ms/step - root_mean_squared_error: 0.9150 - loss: 0.8267 - regularization_loss: 0.0000e+00 - total_loss: 0.8267\n",
      "Epoch 45/1000\n",
      "96/96 [==============================] - 1s 8ms/step - root_mean_squared_error: 0.9149 - loss: 0.8267 - regularization_loss: 0.0000e+00 - total_loss: 0.8267\n",
      "Epoch 46/1000\n",
      "96/96 [==============================] - 1s 8ms/step - root_mean_squared_error: 0.9146 - loss: 0.8260 - regularization_loss: 0.0000e+00 - total_loss: 0.8260\n",
      "Epoch 47/1000\n",
      "96/96 [==============================] - 1s 9ms/step - root_mean_squared_error: 0.9139 - loss: 0.8246 - regularization_loss: 0.0000e+00 - total_loss: 0.8246\n",
      "Epoch 48/1000\n",
      "96/96 [==============================] - 1s 9ms/step - root_mean_squared_error: 0.9136 - loss: 0.8241 - regularization_loss: 0.0000e+00 - total_loss: 0.8241\n",
      "Epoch 49/1000\n",
      "96/96 [==============================] - 1s 9ms/step - root_mean_squared_error: 0.9129 - loss: 0.8227 - regularization_loss: 0.0000e+00 - total_loss: 0.8227\n",
      "Epoch 50/1000\n",
      "96/96 [==============================] - 1s 8ms/step - root_mean_squared_error: 0.9098 - loss: 0.8170 - regularization_loss: 0.0000e+00 - total_loss: 0.8170\n",
      "Epoch 51/1000\n",
      "96/96 [==============================] - 1s 9ms/step - root_mean_squared_error: 0.9083 - loss: 0.8143 - regularization_loss: 0.0000e+00 - total_loss: 0.8143\n",
      "Epoch 52/1000\n",
      "96/96 [==============================] - 1s 8ms/step - root_mean_squared_error: 0.9069 - loss: 0.8117 - regularization_loss: 0.0000e+00 - total_loss: 0.8117\n",
      "Epoch 53/1000\n",
      "96/96 [==============================] - 1s 8ms/step - root_mean_squared_error: 0.9064 - loss: 0.8106 - regularization_loss: 0.0000e+00 - total_loss: 0.8106\n",
      "Epoch 54/1000\n",
      "96/96 [==============================] - 1s 8ms/step - root_mean_squared_error: 0.9056 - loss: 0.8092 - regularization_loss: 0.0000e+00 - total_loss: 0.8092\n",
      "Epoch 55/1000\n",
      "96/96 [==============================] - 1s 8ms/step - root_mean_squared_error: 0.9041 - loss: 0.8065 - regularization_loss: 0.0000e+00 - total_loss: 0.8065\n",
      "Epoch 56/1000\n",
      "96/96 [==============================] - 1s 9ms/step - root_mean_squared_error: 0.9023 - loss: 0.8034 - regularization_loss: 0.0000e+00 - total_loss: 0.8034\n",
      "Epoch 57/1000\n",
      "96/96 [==============================] - 1s 9ms/step - root_mean_squared_error: 0.9011 - loss: 0.8011 - regularization_loss: 0.0000e+00 - total_loss: 0.8011\n",
      "Epoch 58/1000\n",
      "96/96 [==============================] - 1s 9ms/step - root_mean_squared_error: 0.9007 - loss: 0.8004 - regularization_loss: 0.0000e+00 - total_loss: 0.8004\n",
      "Epoch 59/1000\n",
      "96/96 [==============================] - 1s 8ms/step - root_mean_squared_error: 0.9006 - loss: 0.8002 - regularization_loss: 0.0000e+00 - total_loss: 0.8002\n",
      "Epoch 60/1000\n",
      "96/96 [==============================] - 1s 8ms/step - root_mean_squared_error: 0.8998 - loss: 0.7987 - regularization_loss: 0.0000e+00 - total_loss: 0.7987\n",
      "Epoch 61/1000\n",
      "96/96 [==============================] - 1s 8ms/step - root_mean_squared_error: 0.8984 - loss: 0.7961 - regularization_loss: 0.0000e+00 - total_loss: 0.7961\n",
      "Epoch 62/1000\n",
      "96/96 [==============================] - 1s 8ms/step - root_mean_squared_error: 0.8966 - loss: 0.7929 - regularization_loss: 0.0000e+00 - total_loss: 0.7929\n",
      "Epoch 63/1000\n",
      "96/96 [==============================] - 1s 8ms/step - root_mean_squared_error: 0.8962 - loss: 0.7920 - regularization_loss: 0.0000e+00 - total_loss: 0.7920\n",
      "Epoch 64/1000\n",
      "96/96 [==============================] - 1s 8ms/step - root_mean_squared_error: 0.8957 - loss: 0.7912 - regularization_loss: 0.0000e+00 - total_loss: 0.7912\n",
      "Epoch 65/1000\n",
      "96/96 [==============================] - 1s 8ms/step - root_mean_squared_error: 0.8947 - loss: 0.7896 - regularization_loss: 0.0000e+00 - total_loss: 0.7896\n",
      "Epoch 66/1000\n",
      "96/96 [==============================] - 1s 8ms/step - root_mean_squared_error: 0.8944 - loss: 0.7889 - regularization_loss: 0.0000e+00 - total_loss: 0.7889\n",
      "Epoch 67/1000\n",
      "96/96 [==============================] - 1s 8ms/step - root_mean_squared_error: 0.8937 - loss: 0.7877 - regularization_loss: 0.0000e+00 - total_loss: 0.7877\n",
      "Epoch 68/1000\n",
      "96/96 [==============================] - 1s 9ms/step - root_mean_squared_error: 0.8927 - loss: 0.7859 - regularization_loss: 0.0000e+00 - total_loss: 0.7859\n",
      "Epoch 69/1000\n",
      "96/96 [==============================] - 1s 9ms/step - root_mean_squared_error: 0.8927 - loss: 0.7857 - regularization_loss: 0.0000e+00 - total_loss: 0.7857\n",
      "Epoch 70/1000\n",
      "96/96 [==============================] - 1s 8ms/step - root_mean_squared_error: 0.8923 - loss: 0.7851 - regularization_loss: 0.0000e+00 - total_loss: 0.7851\n",
      "Epoch 71/1000\n",
      "96/96 [==============================] - 1s 8ms/step - root_mean_squared_error: 0.8913 - loss: 0.7833 - regularization_loss: 0.0000e+00 - total_loss: 0.7833\n",
      "Epoch 72/1000\n",
      "96/96 [==============================] - 1s 9ms/step - root_mean_squared_error: 0.8914 - loss: 0.7835 - regularization_loss: 0.0000e+00 - total_loss: 0.7835\n",
      "Epoch 73/1000\n",
      "96/96 [==============================] - 1s 8ms/step - root_mean_squared_error: 0.8914 - loss: 0.7836 - regularization_loss: 0.0000e+00 - total_loss: 0.7836\n",
      "Epoch 74/1000\n",
      "96/96 [==============================] - 1s 8ms/step - root_mean_squared_error: 0.8903 - loss: 0.7817 - regularization_loss: 0.0000e+00 - total_loss: 0.7817\n",
      "Epoch 75/1000\n",
      "96/96 [==============================] - 1s 8ms/step - root_mean_squared_error: 0.8904 - loss: 0.7817 - regularization_loss: 0.0000e+00 - total_loss: 0.7817\n",
      "Epoch 76/1000\n",
      "96/96 [==============================] - 1s 9ms/step - root_mean_squared_error: 0.8900 - loss: 0.7810 - regularization_loss: 0.0000e+00 - total_loss: 0.7810\n",
      "Epoch 77/1000\n",
      "96/96 [==============================] - 1s 9ms/step - root_mean_squared_error: 0.8888 - loss: 0.7789 - regularization_loss: 0.0000e+00 - total_loss: 0.7789\n",
      "Epoch 78/1000\n",
      "96/96 [==============================] - 1s 8ms/step - root_mean_squared_error: 0.8890 - loss: 0.7792 - regularization_loss: 0.0000e+00 - total_loss: 0.7792\n",
      "Epoch 79/1000\n",
      "96/96 [==============================] - 1s 8ms/step - root_mean_squared_error: 0.8884 - loss: 0.7782 - regularization_loss: 0.0000e+00 - total_loss: 0.7782\n",
      "Epoch 80/1000\n",
      "96/96 [==============================] - 1s 8ms/step - root_mean_squared_error: 0.8874 - loss: 0.7764 - regularization_loss: 0.0000e+00 - total_loss: 0.7764\n",
      "Epoch 81/1000\n",
      "96/96 [==============================] - 1s 9ms/step - root_mean_squared_error: 0.8874 - loss: 0.7764 - regularization_loss: 0.0000e+00 - total_loss: 0.7764\n",
      "Epoch 82/1000\n",
      "96/96 [==============================] - 1s 9ms/step - root_mean_squared_error: 0.8871 - loss: 0.7759 - regularization_loss: 0.0000e+00 - total_loss: 0.7759\n",
      "Epoch 83/1000\n",
      "96/96 [==============================] - 1s 9ms/step - root_mean_squared_error: 0.8862 - loss: 0.7743 - regularization_loss: 0.0000e+00 - total_loss: 0.7743\n",
      "Epoch 84/1000\n",
      "96/96 [==============================] - 1s 9ms/step - root_mean_squared_error: 0.8859 - loss: 0.7739 - regularization_loss: 0.0000e+00 - total_loss: 0.7739\n",
      "Epoch 85/1000\n",
      "96/96 [==============================] - 1s 9ms/step - root_mean_squared_error: 0.8860 - loss: 0.7740 - regularization_loss: 0.0000e+00 - total_loss: 0.7740\n",
      "Epoch 86/1000\n",
      "96/96 [==============================] - 1s 9ms/step - root_mean_squared_error: 0.8856 - loss: 0.7734 - regularization_loss: 0.0000e+00 - total_loss: 0.7734\n",
      "Epoch 87/1000\n",
      "96/96 [==============================] - 1s 9ms/step - root_mean_squared_error: 0.8869 - loss: 0.7755 - regularization_loss: 0.0000e+00 - total_loss: 0.7755\n",
      "Epoch 88/1000\n",
      "96/96 [==============================] - 1s 8ms/step - root_mean_squared_error: 0.8875 - loss: 0.7765 - regularization_loss: 0.0000e+00 - total_loss: 0.7765\n",
      "Epoch 89/1000\n",
      "96/96 [==============================] - 1s 9ms/step - root_mean_squared_error: 0.8869 - loss: 0.7756 - regularization_loss: 0.0000e+00 - total_loss: 0.7756\n",
      "Epoch 90/1000\n",
      "96/96 [==============================] - 1s 8ms/step - root_mean_squared_error: 0.8867 - loss: 0.7751 - regularization_loss: 0.0000e+00 - total_loss: 0.7751\n",
      "Epoch 91/1000\n",
      "96/96 [==============================] - 1s 8ms/step - root_mean_squared_error: 0.8869 - loss: 0.7756 - regularization_loss: 0.0000e+00 - total_loss: 0.7756\n",
      "Epoch 92/1000\n",
      "96/96 [==============================] - 1s 9ms/step - root_mean_squared_error: 0.8863 - loss: 0.7744 - regularization_loss: 0.0000e+00 - total_loss: 0.7744\n",
      "Epoch 93/1000\n",
      "96/96 [==============================] - 1s 8ms/step - root_mean_squared_error: 0.8858 - loss: 0.7735 - regularization_loss: 0.0000e+00 - total_loss: 0.7735\n",
      "Epoch 94/1000\n",
      "96/96 [==============================] - 1s 9ms/step - root_mean_squared_error: 0.8848 - loss: 0.7719 - regularization_loss: 0.0000e+00 - total_loss: 0.7719\n",
      "Epoch 95/1000\n",
      "96/96 [==============================] - 1s 9ms/step - root_mean_squared_error: 0.8838 - loss: 0.7701 - regularization_loss: 0.0000e+00 - total_loss: 0.7701\n",
      "Epoch 96/1000\n",
      "96/96 [==============================] - 1s 8ms/step - root_mean_squared_error: 0.8835 - loss: 0.7695 - regularization_loss: 0.0000e+00 - total_loss: 0.7695\n",
      "Epoch 97/1000\n",
      "96/96 [==============================] - 1s 9ms/step - root_mean_squared_error: 0.8834 - loss: 0.7693 - regularization_loss: 0.0000e+00 - total_loss: 0.7693\n",
      "Epoch 98/1000\n",
      "96/96 [==============================] - 1s 9ms/step - root_mean_squared_error: 0.8825 - loss: 0.7677 - regularization_loss: 0.0000e+00 - total_loss: 0.7677\n",
      "Epoch 99/1000\n",
      "96/96 [==============================] - 1s 10ms/step - root_mean_squared_error: 0.8817 - loss: 0.7663 - regularization_loss: 0.0000e+00 - total_loss: 0.7663\n",
      "Epoch 100/1000\n",
      "96/96 [==============================] - 1s 10ms/step - root_mean_squared_error: 0.8814 - loss: 0.7658 - regularization_loss: 0.0000e+00 - total_loss: 0.7658\n",
      "Epoch 101/1000\n",
      "96/96 [==============================] - 1s 9ms/step - root_mean_squared_error: 0.8817 - loss: 0.7663 - regularization_loss: 0.0000e+00 - total_loss: 0.7663\n",
      "Epoch 102/1000\n",
      "96/96 [==============================] - 1s 9ms/step - root_mean_squared_error: 0.8824 - loss: 0.7676 - regularization_loss: 0.0000e+00 - total_loss: 0.7676\n",
      "Epoch 103/1000\n",
      "96/96 [==============================] - 1s 8ms/step - root_mean_squared_error: 0.8820 - loss: 0.7668 - regularization_loss: 0.0000e+00 - total_loss: 0.7668\n",
      "Epoch 104/1000\n",
      "96/96 [==============================] - 1s 9ms/step - root_mean_squared_error: 0.8809 - loss: 0.7650 - regularization_loss: 0.0000e+00 - total_loss: 0.7650\n",
      "Epoch 105/1000\n",
      "96/96 [==============================] - 1s 9ms/step - root_mean_squared_error: 0.8806 - loss: 0.7647 - regularization_loss: 0.0000e+00 - total_loss: 0.7647\n",
      "Epoch 106/1000\n",
      "96/96 [==============================] - 1s 8ms/step - root_mean_squared_error: 0.8812 - loss: 0.7656 - regularization_loss: 0.0000e+00 - total_loss: 0.7656\n",
      "Epoch 107/1000\n",
      "96/96 [==============================] - 1s 8ms/step - root_mean_squared_error: 0.8825 - loss: 0.7677 - regularization_loss: 0.0000e+00 - total_loss: 0.7677\n",
      "Epoch 108/1000\n",
      "96/96 [==============================] - 1s 8ms/step - root_mean_squared_error: 0.8834 - loss: 0.7692 - regularization_loss: 0.0000e+00 - total_loss: 0.7692\n",
      "Epoch 109/1000\n",
      "96/96 [==============================] - 1s 8ms/step - root_mean_squared_error: 0.8837 - loss: 0.7699 - regularization_loss: 0.0000e+00 - total_loss: 0.7699\n",
      "Epoch 110/1000\n",
      "96/96 [==============================] - 1s 9ms/step - root_mean_squared_error: 0.8839 - loss: 0.7700 - regularization_loss: 0.0000e+00 - total_loss: 0.7700\n",
      "Epoch 111/1000\n",
      "96/96 [==============================] - 1s 8ms/step - root_mean_squared_error: 0.8848 - loss: 0.7720 - regularization_loss: 0.0000e+00 - total_loss: 0.7720\n",
      "Epoch 112/1000\n",
      "96/96 [==============================] - 1s 9ms/step - root_mean_squared_error: 0.8859 - loss: 0.7736 - regularization_loss: 0.0000e+00 - total_loss: 0.7736\n",
      "Epoch 113/1000\n",
      "96/96 [==============================] - 1s 9ms/step - root_mean_squared_error: 0.8844 - loss: 0.7709 - regularization_loss: 0.0000e+00 - total_loss: 0.7709\n",
      "Epoch 114/1000\n",
      "96/96 [==============================] - 1s 9ms/step - root_mean_squared_error: 0.8819 - loss: 0.7668 - regularization_loss: 0.0000e+00 - total_loss: 0.7668\n",
      "Epoch 115/1000\n",
      "96/96 [==============================] - 1s 9ms/step - root_mean_squared_error: 0.8812 - loss: 0.7654 - regularization_loss: 0.0000e+00 - total_loss: 0.7654\n",
      "Epoch 116/1000\n",
      "96/96 [==============================] - 1s 8ms/step - root_mean_squared_error: 0.8798 - loss: 0.7630 - regularization_loss: 0.0000e+00 - total_loss: 0.7630\n",
      "Epoch 117/1000\n",
      "96/96 [==============================] - 1s 8ms/step - root_mean_squared_error: 0.8792 - loss: 0.7619 - regularization_loss: 0.0000e+00 - total_loss: 0.7619\n",
      "Epoch 118/1000\n",
      "96/96 [==============================] - 1s 8ms/step - root_mean_squared_error: 0.8789 - loss: 0.7614 - regularization_loss: 0.0000e+00 - total_loss: 0.7614\n",
      "Epoch 119/1000\n",
      "96/96 [==============================] - 1s 8ms/step - root_mean_squared_error: 0.8783 - loss: 0.7603 - regularization_loss: 0.0000e+00 - total_loss: 0.7603\n",
      "Epoch 120/1000\n",
      "96/96 [==============================] - 1s 8ms/step - root_mean_squared_error: 0.8783 - loss: 0.7605 - regularization_loss: 0.0000e+00 - total_loss: 0.7605: 0s - root_mean_squared_error: 0.8891 - loss: 0.7906 - regularization_loss: 0.000\n",
      "Epoch 121/1000\n",
      "96/96 [==============================] - 1s 8ms/step - root_mean_squared_error: 0.8783 - loss: 0.7604 - regularization_loss: 0.0000e+00 - total_loss: 0.7604\n",
      "Epoch 122/1000\n",
      "96/96 [==============================] - 1s 8ms/step - root_mean_squared_error: 0.8781 - loss: 0.7600 - regularization_loss: 0.0000e+00 - total_loss: 0.7600\n",
      "Epoch 123/1000\n",
      "96/96 [==============================] - 1s 8ms/step - root_mean_squared_error: 0.8780 - loss: 0.7599 - regularization_loss: 0.0000e+00 - total_loss: 0.7599\n",
      "Epoch 124/1000\n",
      "96/96 [==============================] - 1s 9ms/step - root_mean_squared_error: 0.8776 - loss: 0.7592 - regularization_loss: 0.0000e+00 - total_loss: 0.7592\n",
      "Epoch 125/1000\n",
      "96/96 [==============================] - 1s 9ms/step - root_mean_squared_error: 0.8782 - loss: 0.7602 - regularization_loss: 0.0000e+00 - total_loss: 0.7602\n",
      "Epoch 126/1000\n",
      "96/96 [==============================] - 1s 9ms/step - root_mean_squared_error: 0.8778 - loss: 0.7594 - regularization_loss: 0.0000e+00 - total_loss: 0.7594\n",
      "Epoch 127/1000\n",
      "96/96 [==============================] - 1s 8ms/step - root_mean_squared_error: 0.8777 - loss: 0.7593 - regularization_loss: 0.0000e+00 - total_loss: 0.7593\n",
      "Epoch 128/1000\n",
      "96/96 [==============================] - 1s 9ms/step - root_mean_squared_error: 0.8774 - loss: 0.7589 - regularization_loss: 0.0000e+00 - total_loss: 0.7589\n",
      "Epoch 129/1000\n",
      "96/96 [==============================] - 1s 9ms/step - root_mean_squared_error: 0.8779 - loss: 0.7596 - regularization_loss: 0.0000e+00 - total_loss: 0.7596\n",
      "Epoch 130/1000\n",
      "96/96 [==============================] - 1s 8ms/step - root_mean_squared_error: 0.8778 - loss: 0.7594 - regularization_loss: 0.0000e+00 - total_loss: 0.7594\n",
      "Epoch 131/1000\n",
      "96/96 [==============================] - 1s 8ms/step - root_mean_squared_error: 0.8772 - loss: 0.7583 - regularization_loss: 0.0000e+00 - total_loss: 0.7583\n",
      "Epoch 132/1000\n",
      "96/96 [==============================] - 1s 8ms/step - root_mean_squared_error: 0.8771 - loss: 0.7582 - regularization_loss: 0.0000e+00 - total_loss: 0.7582\n",
      "Epoch 133/1000\n",
      "96/96 [==============================] - 1s 9ms/step - root_mean_squared_error: 0.8769 - loss: 0.7579 - regularization_loss: 0.0000e+00 - total_loss: 0.7579\n",
      "Epoch 134/1000\n",
      "96/96 [==============================] - 1s 9ms/step - root_mean_squared_error: 0.8773 - loss: 0.7585 - regularization_loss: 0.0000e+00 - total_loss: 0.7585\n",
      "Epoch 135/1000\n",
      "96/96 [==============================] - 1s 8ms/step - root_mean_squared_error: 0.8764 - loss: 0.7571 - regularization_loss: 0.0000e+00 - total_loss: 0.7571\n",
      "Epoch 136/1000\n",
      "96/96 [==============================] - 1s 8ms/step - root_mean_squared_error: 0.8761 - loss: 0.7565 - regularization_loss: 0.0000e+00 - total_loss: 0.7565\n",
      "Epoch 137/1000\n",
      "96/96 [==============================] - 1s 8ms/step - root_mean_squared_error: 0.8760 - loss: 0.7564 - regularization_loss: 0.0000e+00 - total_loss: 0.7564\n",
      "Epoch 138/1000\n",
      "96/96 [==============================] - 1s 8ms/step - root_mean_squared_error: 0.8760 - loss: 0.7564 - regularization_loss: 0.0000e+00 - total_loss: 0.7564\n",
      "Epoch 139/1000\n",
      "96/96 [==============================] - 1s 8ms/step - root_mean_squared_error: 0.8759 - loss: 0.7563 - regularization_loss: 0.0000e+00 - total_loss: 0.7563\n",
      "Epoch 140/1000\n",
      "96/96 [==============================] - 1s 8ms/step - root_mean_squared_error: 0.8756 - loss: 0.7557 - regularization_loss: 0.0000e+00 - total_loss: 0.7557\n"
     ]
    },
    {
     "data": {
      "text/plain": [
       "<keras.callbacks.History at 0x1643391c0>"
      ]
     },
     "execution_count": 6,
     "metadata": {},
     "output_type": "execute_result"
    }
   ],
   "source": [
    "model = RatingPredictionModel()\n",
    "learning_rate = 2e-3\n",
    "model.compile(optimizer=tf.keras.optimizers.Adam(learning_rate=learning_rate))\n",
    "cached_train = train_dataset.shuffle(15_000).batch(10_000).cache()\n",
    "early_stopping = tf.keras.callbacks.EarlyStopping(monitor='loss', restore_best_weights=True, patience=5)\n",
    "model.fit(cached_train, epochs=1000, callbacks=[early_stopping])"
   ]
  },
  {
   "cell_type": "code",
   "execution_count": 7,
   "id": "b1c5f884-d574-41d7-8acc-e880f3be762a",
   "metadata": {},
   "outputs": [
    {
     "name": "stdout",
     "output_type": "stream",
     "text": [
      "11/11 [==============================] - 0s 14ms/step - root_mean_squared_error: 0.9244 - loss: 0.9670 - regularization_loss: 0.0000e+00 - total_loss: 0.9670\n"
     ]
    },
    {
     "data": {
      "text/plain": [
       "{'root_mean_squared_error': 0.9243693947792053,\n",
       " 'loss': 1.5302753448486328,\n",
       " 'regularization_loss': 0,\n",
       " 'total_loss': 1.5302753448486328}"
      ]
     },
     "execution_count": 7,
     "metadata": {},
     "output_type": "execute_result"
    }
   ],
   "source": [
    "cached_test = test_dataset.batch(5000).cache()\n",
    "model.evaluate(cached_test, return_dict=True)"
   ]
  },
  {
   "cell_type": "markdown",
   "id": "4895e263-686a-477e-8880-dc996e0dcd01",
   "metadata": {},
   "source": [
    "We've reached $RMSE = 0.92$. Very nice!\n",
    "\n",
    "We'll now plot and save the model."
   ]
  },
  {
   "cell_type": "code",
   "execution_count": 8,
   "id": "7a610dd0-7757-4eed-80f0-be42bbb29616",
   "metadata": {},
   "outputs": [
    {
     "data": {
      "image/png": "[encoded data removed]",
      "text/plain": [
       "<IPython.core.display.Image object>"
      ]
     },
     "execution_count": 8,
     "metadata": {},
     "output_type": "execute_result"
    }
   ],
   "source": [
    "tf.keras.utils.plot_model(model.model, to_file=\"project_2_2.png\")"
   ]
  },
  {
   "cell_type": "code",
   "execution_count": 9,
   "id": "9027de28-ab39-451a-958d-3b85efc3de21",
   "metadata": {},
   "outputs": [
    {
     "name": "stdout",
     "output_type": "stream",
     "text": [
      "Model: \"model\"\n",
      "__________________________________________________________________________________________________\n",
      "Layer (type)                    Output Shape         Param #     Connected to                     \n",
      "==================================================================================================\n",
      "user_input (InputLayer)         [(None, 1)]          0                                            \n",
      "__________________________________________________________________________________________________\n",
      "movie_input (InputLayer)        [(None, 1)]          0                                            \n",
      "__________________________________________________________________________________________________\n",
      "user_string_lookup (StringLooku (None, 1)            0           user_input[0][0]                 \n",
      "__________________________________________________________________________________________________\n",
      "movie_string_lookup (StringLook (None, 1)            0           movie_input[0][0]                \n",
      "__________________________________________________________________________________________________\n",
      "user_emb (Embedding)            (None, 1, 25)        62525       user_string_lookup[0][0]         \n",
      "__________________________________________________________________________________________________\n",
      "movie_emb (Embedding)           (None, 1, 25)        30025       movie_string_lookup[0][0]        \n",
      "__________________________________________________________________________________________________\n",
      "tf.compat.v1.squeeze (TFOpLambd (None, 25)           0           user_emb[0][0]                   \n",
      "__________________________________________________________________________________________________\n",
      "tf.compat.v1.squeeze_1 (TFOpLam (None, 25)           0           movie_emb[0][0]                  \n",
      "__________________________________________________________________________________________________\n",
      "user_dense (Dense)              (None, 20)           520         tf.compat.v1.squeeze[0][0]       \n",
      "__________________________________________________________________________________________________\n",
      "movie_dense (Dense)             (None, 20)           520         tf.compat.v1.squeeze_1[0][0]     \n",
      "__________________________________________________________________________________________________\n",
      "towers_multiplied (Multiply)    (None, 20)           0           user_dense[0][0]                 \n",
      "                                                                 movie_dense[0][0]                \n",
      "__________________________________________________________________________________________________\n",
      "towers_dense (Dense)            (None, 10)           210         towers_multiplied[0][0]          \n",
      "__________________________________________________________________________________________________\n",
      "output_node (Dense)             (None, 1)            11          towers_dense[0][0]               \n",
      "==================================================================================================\n",
      "Total params: 93,811\n",
      "Trainable params: 93,811\n",
      "Non-trainable params: 0\n",
      "__________________________________________________________________________________________________\n"
     ]
    }
   ],
   "source": [
    "model.model.summary()"
   ]
  },
  {
   "cell_type": "code",
   "execution_count": 10,
   "id": "2ecfdd8e-d6eb-4f51-815a-6756ef980173",
   "metadata": {},
   "outputs": [],
   "source": [
    "model.save_weights('weights_2_2/p22')"
   ]
  },
  {
   "cell_type": "code",
   "execution_count": null,
   "id": "bdc2947b-ba6b-432f-8e35-8a173714c2ca",
   "metadata": {},
   "outputs": [],
   "source": []
  }
 ],
 "metadata": {
  "kernelspec": {
   "display_name": "Python 3 (ipykernel)",
   "language": "python",
   "name": "python3"
  },
  "language_info": {
   "codemirror_mode": {
    "name": "ipython",
    "version": 3
   },
   "file_extension": ".py",
   "mimetype": "text/x-python",
   "name": "python",
   "nbconvert_exporter": "python",
   "pygments_lexer": "ipython3",
   "version": "3.9.6"
  }
 },
 "nbformat": 4,
 "nbformat_minor": 5
}
