{
 "cells": [
  {
   "cell_type": "code",
   "execution_count": 1,
   "metadata": {
    "collapsed": true
   },
   "outputs": [],
   "source": [
    "from datetime import datetime\n",
    "import json\n",
    "from collections import Counter\n",
    "\n",
    "import pandas as pd\n",
    "from sklearn.base import BaseEstimator, TransformerMixin\n",
    "import torch\n",
    "import torch.nn as nn\n",
    "import torch.functional as F\n",
    "from torch.utils.data import DataLoader, Dataset\n",
    "import torchmetrics\n",
    "\n",
    "from deeprec.torch.trainer import Trainer, set_device\n",
    "from deeprec import ROOT"
   ]
  },
  {
   "cell_type": "code",
   "execution_count": 2,
   "outputs": [
    {
     "data": {
      "text/plain": "dict_keys(['title_emb_size', 'string_na', 'genres', 'ages', 'occupations', 'user', 'movie', 'city', 'state'])"
     },
     "execution_count": 2,
     "metadata": {},
     "output_type": "execute_result"
    }
   ],
   "source": [
    "with open('../data/metadata.json', 'r') as fp:\n",
    "    meta = json.load(fp)\n",
    "\n",
    "meta.keys()"
   ],
   "metadata": {
    "collapsed": false
   }
  },
  {
   "cell_type": "code",
   "execution_count": 3,
   "outputs": [],
   "source": [
    "class Vocab(BaseEstimator, TransformerMixin):\n",
    "    def __init__(self):\n",
    "        pass\n",
    "\n",
    "    def fit(self, x):\n",
    "        c = Counter(x)\n",
    "        self.lookup_ = {\n",
    "            str(v).lower(): k for k, v in enumerate([x[0] for x in sorted(c.items(), key=lambda x: x[1], reverse=True)])\n",
    "        }\n",
    "\n",
    "    def transform(self, x):\n",
    "        return [self.lookup_.get(str(xx).lower(), len(self.lookup_)+1) for xx in x]"
   ],
   "metadata": {
    "collapsed": false
   }
  },
  {
   "cell_type": "code",
   "execution_count": 204,
   "outputs": [
    {
     "data": {
      "text/plain": "        user  movie  hour  day_of_week  month                  ts  gender  \\\nindex                                                                       \n693094  1489   2648     3            5     11 2000-11-25 03:35:14       1   \n563664  2440   3101    17            1     11 2000-11-14 17:03:49       0   \n192      682   1193    16            3     11 2000-11-30 16:33:10       0   \n664671  3512   1005    17            0      8 2000-08-28 17:16:19       0   \n967203  5074   1202     5            5      7 2000-07-01 05:14:36       0   \n\n        age  occupation          city  ...  embed_15  embed_16  embed_17  \\\nindex                                  ...                                 \n693094   35           2      Evanston  ...  0.059832   0.46583  0.774960   \n563664   50          17    Ashburnham  ...  1.982520   0.84989  1.708770   \n192      25           4      Carrboro  ...  2.176160   2.86298  2.238394   \n664671   18          17     Cambridge  ... -1.662040   0.99335 -1.184181   \n967203    1           0  Purcellville  ...  1.998510   1.07155 -0.863230   \n\n        embed_18  embed_19  embed_20  embed_21  embed_22  embed_23  embed_24  \nindex                                                                         \n693094   0.43321  0.370830  0.140020  0.521110 -0.960430 -0.622770  0.245130  \n563664   1.34452 -1.051670 -0.032240  0.662540 -0.448420 -1.197040 -0.698660  \n192     -2.15952  1.210480 -3.436165 -0.329595  3.619880 -2.470530  1.399963  \n664671   1.58626  0.718946 -1.731300  2.357530  1.096584 -2.896070  0.150750  \n967203   0.24211 -0.773756  0.235041  1.170840 -2.078201 -1.310696 -0.964250  \n\n[5 rows x 55 columns]",
      "text/html": "<div>\n<style scoped>\n    .dataframe tbody tr th:only-of-type {\n        vertical-align: middle;\n    }\n\n    .dataframe tbody tr th {\n        vertical-align: top;\n    }\n\n    .dataframe thead th {\n        text-align: right;\n    }\n</style>\n<table border=\"1\" class=\"dataframe\">\n  <thead>\n    <tr style=\"text-align: right;\">\n      <th></th>\n      <th>user</th>\n      <th>movie</th>\n      <th>hour</th>\n      <th>day_of_week</th>\n      <th>month</th>\n      <th>ts</th>\n      <th>gender</th>\n      <th>age</th>\n      <th>occupation</th>\n      <th>city</th>\n      <th>...</th>\n      <th>embed_15</th>\n      <th>embed_16</th>\n      <th>embed_17</th>\n      <th>embed_18</th>\n      <th>embed_19</th>\n      <th>embed_20</th>\n      <th>embed_21</th>\n      <th>embed_22</th>\n      <th>embed_23</th>\n      <th>embed_24</th>\n    </tr>\n    <tr>\n      <th>index</th>\n      <th></th>\n      <th></th>\n      <th></th>\n      <th></th>\n      <th></th>\n      <th></th>\n      <th></th>\n      <th></th>\n      <th></th>\n      <th></th>\n      <th></th>\n      <th></th>\n      <th></th>\n      <th></th>\n      <th></th>\n      <th></th>\n      <th></th>\n      <th></th>\n      <th></th>\n      <th></th>\n      <th></th>\n    </tr>\n  </thead>\n  <tbody>\n    <tr>\n      <th>693094</th>\n      <td>1489</td>\n      <td>2648</td>\n      <td>3</td>\n      <td>5</td>\n      <td>11</td>\n      <td>2000-11-25 03:35:14</td>\n      <td>1</td>\n      <td>35</td>\n      <td>2</td>\n      <td>Evanston</td>\n      <td>...</td>\n      <td>0.059832</td>\n      <td>0.46583</td>\n      <td>0.774960</td>\n      <td>0.43321</td>\n      <td>0.370830</td>\n      <td>0.140020</td>\n      <td>0.521110</td>\n      <td>-0.960430</td>\n      <td>-0.622770</td>\n      <td>0.245130</td>\n    </tr>\n    <tr>\n      <th>563664</th>\n      <td>2440</td>\n      <td>3101</td>\n      <td>17</td>\n      <td>1</td>\n      <td>11</td>\n      <td>2000-11-14 17:03:49</td>\n      <td>0</td>\n      <td>50</td>\n      <td>17</td>\n      <td>Ashburnham</td>\n      <td>...</td>\n      <td>1.982520</td>\n      <td>0.84989</td>\n      <td>1.708770</td>\n      <td>1.34452</td>\n      <td>-1.051670</td>\n      <td>-0.032240</td>\n      <td>0.662540</td>\n      <td>-0.448420</td>\n      <td>-1.197040</td>\n      <td>-0.698660</td>\n    </tr>\n    <tr>\n      <th>192</th>\n      <td>682</td>\n      <td>1193</td>\n      <td>16</td>\n      <td>3</td>\n      <td>11</td>\n      <td>2000-11-30 16:33:10</td>\n      <td>0</td>\n      <td>25</td>\n      <td>4</td>\n      <td>Carrboro</td>\n      <td>...</td>\n      <td>2.176160</td>\n      <td>2.86298</td>\n      <td>2.238394</td>\n      <td>-2.15952</td>\n      <td>1.210480</td>\n      <td>-3.436165</td>\n      <td>-0.329595</td>\n      <td>3.619880</td>\n      <td>-2.470530</td>\n      <td>1.399963</td>\n    </tr>\n    <tr>\n      <th>664671</th>\n      <td>3512</td>\n      <td>1005</td>\n      <td>17</td>\n      <td>0</td>\n      <td>8</td>\n      <td>2000-08-28 17:16:19</td>\n      <td>0</td>\n      <td>18</td>\n      <td>17</td>\n      <td>Cambridge</td>\n      <td>...</td>\n      <td>-1.662040</td>\n      <td>0.99335</td>\n      <td>-1.184181</td>\n      <td>1.58626</td>\n      <td>0.718946</td>\n      <td>-1.731300</td>\n      <td>2.357530</td>\n      <td>1.096584</td>\n      <td>-2.896070</td>\n      <td>0.150750</td>\n    </tr>\n    <tr>\n      <th>967203</th>\n      <td>5074</td>\n      <td>1202</td>\n      <td>5</td>\n      <td>5</td>\n      <td>7</td>\n      <td>2000-07-01 05:14:36</td>\n      <td>0</td>\n      <td>1</td>\n      <td>0</td>\n      <td>Purcellville</td>\n      <td>...</td>\n      <td>1.998510</td>\n      <td>1.07155</td>\n      <td>-0.863230</td>\n      <td>0.24211</td>\n      <td>-0.773756</td>\n      <td>0.235041</td>\n      <td>1.170840</td>\n      <td>-2.078201</td>\n      <td>-1.310696</td>\n      <td>-0.964250</td>\n    </tr>\n  </tbody>\n</table>\n<p>5 rows × 55 columns</p>\n</div>"
     },
     "execution_count": 204,
     "metadata": {},
     "output_type": "execute_result"
    }
   ],
   "source": [
    "df = pd.read_parquet('../data/train.parq.gzip').drop('rating', axis=1)\n",
    "df.head()"
   ],
   "metadata": {
    "collapsed": false
   }
  },
  {
   "cell_type": "code",
   "execution_count": 5,
   "outputs": [],
   "source": [
    "state_enc = Vocab()\n",
    "state_enc.fit(df['state'])\n",
    "\n",
    "user_enc = Vocab()\n",
    "user_enc.fit(df['user'])\n",
    "\n",
    "movie_enc = Vocab()\n",
    "movie_enc.fit(df['movie'])"
   ],
   "metadata": {
    "collapsed": false
   }
  },
  {
   "cell_type": "code",
   "execution_count": 6,
   "outputs": [
    {
     "data": {
      "text/plain": "        rating\nindex         \n693094       3\n563664       4\n192          5\n664671       3\n967203       5",
      "text/html": "<div>\n<style scoped>\n    .dataframe tbody tr th:only-of-type {\n        vertical-align: middle;\n    }\n\n    .dataframe tbody tr th {\n        vertical-align: top;\n    }\n\n    .dataframe thead th {\n        text-align: right;\n    }\n</style>\n<table border=\"1\" class=\"dataframe\">\n  <thead>\n    <tr style=\"text-align: right;\">\n      <th></th>\n      <th>rating</th>\n    </tr>\n    <tr>\n      <th>index</th>\n      <th></th>\n    </tr>\n  </thead>\n  <tbody>\n    <tr>\n      <th>693094</th>\n      <td>3</td>\n    </tr>\n    <tr>\n      <th>563664</th>\n      <td>4</td>\n    </tr>\n    <tr>\n      <th>192</th>\n      <td>5</td>\n    </tr>\n    <tr>\n      <th>664671</th>\n      <td>3</td>\n    </tr>\n    <tr>\n      <th>967203</th>\n      <td>5</td>\n    </tr>\n  </tbody>\n</table>\n</div>"
     },
     "execution_count": 6,
     "metadata": {},
     "output_type": "execute_result"
    }
   ],
   "source": [
    "df = pd.read_parquet('../data/train.parq.gzip', columns=['rating'])\n",
    "df.head()"
   ],
   "metadata": {
    "collapsed": false
   }
  },
  {
   "cell_type": "code",
   "execution_count": 7,
   "outputs": [
    {
     "data": {
      "text/plain": "{1, 2, 3, 4, 5}"
     },
     "execution_count": 7,
     "metadata": {},
     "output_type": "execute_result"
    }
   ],
   "source": [
    "set(df['rating'])"
   ],
   "metadata": {
    "collapsed": false
   }
  },
  {
   "cell_type": "code",
   "execution_count": 86,
   "outputs": [],
   "source": [
    "class MovieDataset(Dataset):\n",
    "    def __init__(self, filename, vocabs):\n",
    "        data = pd.read_parquet(filename, columns=['user', 'movie', 'rating'])\n",
    "        data['user'] = vocabs['user'].transform(data['user'])\n",
    "        data['movie'] = vocabs['movie'].transform(data['movie'])\n",
    "\n",
    "        self.feature_names = data.columns[:-1]\n",
    "        self.data = data.to_dict('records')\n",
    "\n",
    "    def __len__(self):\n",
    "        return len(self.data)\n",
    "\n",
    "    def __getitem__(self, idx):\n",
    "        return self.data[idx]\n"
   ],
   "metadata": {
    "collapsed": false
   }
  },
  {
   "cell_type": "code",
   "execution_count": 192,
   "outputs": [],
   "source": [
    "def collator(batch):\n",
    "    inputs = {}\n",
    "    elems = [k for k in batch[0].keys() if k != 'rating']\n",
    "    for e in elems:\n",
    "        inputs[e] = torch.tensor([x[e] for x in batch])#.unsqueeze(-1)\n",
    "    labels = torch.tensor([x['rating'] for x in batch], dtype=torch.float32)#.unsqueeze(-1)\n",
    "    return inputs, labels"
   ],
   "metadata": {
    "collapsed": false
   }
  },
  {
   "cell_type": "code",
   "execution_count": 91,
   "outputs": [],
   "source": [
    "encoders = {\n",
    "    'user': user_enc,\n",
    "    'movie': movie_enc,\n",
    "    'state': state_enc\n",
    "}\n",
    "\n",
    "train = MovieDataset('../data/train.parq.gzip', vocabs=encoders)\n",
    "test = MovieDataset('../data/test.parq.gzip', vocabs=encoders)"
   ],
   "metadata": {
    "collapsed": false
   }
  },
  {
   "cell_type": "code",
   "execution_count": 193,
   "outputs": [
    {
     "data": {
      "text/plain": "({'user': tensor([ 406, 5675, 3393,  579]),\n  'movie': tensor([ 779,  309,   42, 1741])},\n tensor([3., 4., 5., 3.]))"
     },
     "execution_count": 193,
     "metadata": {},
     "output_type": "execute_result"
    }
   ],
   "source": [
    "dl = DataLoader(train, 4, collate_fn=collator)\n",
    "next(iter(dl))\n"
   ],
   "metadata": {
    "collapsed": false
   }
  },
  {
   "cell_type": "code",
   "execution_count": 194,
   "outputs": [],
   "source": [
    "class RecModel(nn.Module):\n",
    "    def __init__(self, metadata, n_features=54):\n",
    "        super().__init__()\n",
    "        self.meta = metadata\n",
    "        self.embed_dims = {\n",
    "            'large': 32,\n",
    "            'med': 16,\n",
    "            'small': 8,\n",
    "        }\n",
    "        self.loss_func = nn.MSELoss()\n",
    "\n",
    "        self.user_embeds = nn.Embedding(\n",
    "            num_embeddings=len(user_enc.lookup_.keys()) + 2,\n",
    "            embedding_dim=self.embed_dims['large']\n",
    "        )\n",
    "\n",
    "        self.movie_embeds = nn.Embedding(\n",
    "            num_embeddings=len(movie_enc.lookup_.keys()) + 2,\n",
    "            embedding_dim=self.embed_dims['large']\n",
    "        )\n",
    "\n",
    "        self.model = nn.Sequential(\n",
    "            nn.Linear(in_features=64, out_features=64),\n",
    "            nn.ReLU(),\n",
    "            nn.Linear(in_features=64, out_features=1)\n",
    "        )\n",
    "\n",
    "    def forward(self, x):\n",
    "        user_block = self.user_embeds(x['user'])\n",
    "        movie_block = self.movie_embeds(x['movie'])\n",
    "        # print(user_block.shape)\n",
    "        # print(movie_block.shape)\n",
    "        # print(torch.concat((user_block, movie_block), dim=-1).shape)\n",
    "        x = self.model(torch.concat((user_block, movie_block), dim=-1))\n",
    "        return x.squeeze(-1)\n",
    "\n",
    "    def predict(self, x):\n",
    "        self.eval()\n",
    "        with torch.no_grad():\n",
    "            return self(x)"
   ],
   "metadata": {
    "collapsed": false
   }
  },
  {
   "cell_type": "code",
   "execution_count": 195,
   "outputs": [
    {
     "name": "stderr",
     "output_type": "stream",
     "text": [
      "Epoch:   0%|          | 0/15 [00:00<?, ?it/s]\n",
      "Batch:   0%|          | 0/361 [00:00<?, ?it/s]\u001B[A\n",
      "Batch:   1%|          | 3/361 [00:00<00:13, 26.23it/s]\u001B[A\n",
      "Batch:   2%|▏         | 8/361 [00:00<00:09, 38.21it/s]\u001B[A\n",
      "Batch:   4%|▍         | 16/361 [00:00<00:06, 55.49it/s]\u001B[A\n",
      "Batch:   7%|▋         | 25/361 [00:00<00:04, 68.38it/s]\u001B[A\n",
      "Batch:   9%|▉         | 33/361 [00:00<00:04, 72.21it/s]\u001B[A\n",
      "Batch:  12%|█▏        | 42/361 [00:00<00:04, 75.75it/s]\u001B[A\n",
      "Batch:  15%|█▍        | 53/361 [00:00<00:03, 85.54it/s]\u001B[A\n",
      "Batch:  18%|█▊        | 65/361 [00:00<00:03, 96.12it/s]\u001B[A\n",
      "Batch:  21%|██        | 75/361 [00:00<00:03, 95.31it/s]\u001B[A\n",
      "Batch:  24%|██▍       | 88/361 [00:01<00:02, 105.17it/s]\u001B[A\n",
      "Batch:  28%|██▊       | 101/361 [00:01<00:02, 112.22it/s]\u001B[A\n",
      "Batch:  31%|███▏      | 113/361 [00:01<00:02, 112.29it/s]\u001B[A\n",
      "Batch:  35%|███▍      | 126/361 [00:01<00:02, 115.56it/s]\u001B[A\n",
      "Batch:  38%|███▊      | 138/361 [00:01<00:01, 115.76it/s]\u001B[A\n",
      "Batch:  42%|████▏     | 150/361 [00:01<00:01, 111.52it/s]\u001B[A\n",
      "Batch:  45%|████▍     | 162/361 [00:01<00:01, 112.75it/s]\u001B[A\n",
      "Batch:  48%|████▊     | 174/361 [00:01<00:01, 112.21it/s]\u001B[A\n",
      "Batch:  52%|█████▏    | 186/361 [00:01<00:01, 107.25it/s]\u001B[A\n",
      "Batch:  55%|█████▍    | 197/361 [00:02<00:01, 95.10it/s] \u001B[A\n",
      "Batch:  58%|█████▊    | 208/361 [00:02<00:01, 98.86it/s]\u001B[A\n",
      "Batch:  61%|██████    | 220/361 [00:02<00:01, 104.45it/s]\u001B[A\n",
      "Batch:  65%|██████▍   | 233/361 [00:02<00:01, 110.57it/s]\u001B[A\n",
      "Batch:  68%|██████▊   | 245/361 [00:02<00:01, 100.77it/s]\u001B[A\n",
      "Batch:  71%|███████   | 256/361 [00:02<00:01, 98.06it/s] \u001B[A\n",
      "Batch:  74%|███████▍  | 267/361 [00:02<00:00, 101.18it/s]\u001B[A\n",
      "Batch:  77%|███████▋  | 278/361 [00:02<00:00, 98.45it/s] \u001B[A\n",
      "Batch:  80%|███████▉  | 288/361 [00:02<00:00, 90.63it/s]\u001B[A\n",
      "Batch:  83%|████████▎ | 298/361 [00:03<00:00, 82.25it/s]\u001B[A\n",
      "Batch:  85%|████████▌ | 307/361 [00:03<00:00, 65.42it/s]\u001B[A\n",
      "Batch:  87%|████████▋ | 315/361 [00:03<00:00, 57.95it/s]\u001B[A\n",
      "Batch:  89%|████████▉ | 322/361 [00:03<00:00, 53.21it/s]\u001B[A\n",
      "Batch:  91%|█████████ | 328/361 [00:03<00:00, 52.91it/s]\u001B[A\n",
      "Batch:  93%|█████████▎| 334/361 [00:03<00:00, 46.86it/s]\u001B[A\n",
      "Batch:  94%|█████████▍| 339/361 [00:04<00:00, 47.39it/s]\u001B[A\n",
      "Batch:  95%|█████████▌| 344/361 [00:04<00:00, 44.96it/s]\u001B[A\n",
      "Batch:  97%|█████████▋| 350/361 [00:04<00:00, 48.26it/s]\u001B[A\n",
      "Batch:  99%|█████████▊| 356/361 [00:04<00:00, 50.89it/s]\u001B[A\n",
      "                                                        \u001B[A\n",
      "Batch:   0%|          | 0/41 [00:00<?, ?it/s]\u001B[A\n",
      "Batch:  63%|██████▎   | 26/41 [00:00<00:00, 253.09it/s]\u001B[A\n",
      "Epoch:   7%|▋         | 1/15 [00:04<01:06,  4.75s/it]  \u001B[A"
     ]
    },
    {
     "name": "stdout",
     "output_type": "stream",
     "text": [
      "defaultdict(<class 'list'>, {'epoch': [0], 'train_loss': [1.201069306798919], 'train_mse': [1.1449646949768066], 'valid_loss': [0.8794754714500613], 'valid_mse': [0.865179181098938]})\n"
     ]
    },
    {
     "name": "stderr",
     "output_type": "stream",
     "text": [
      "\n",
      "Batch:   0%|          | 0/361 [00:00<?, ?it/s]\u001B[A\n",
      "Batch:   1%|          | 4/361 [00:00<00:10, 35.19it/s]\u001B[A\n",
      "Batch:   2%|▏         | 8/361 [00:00<00:11, 31.50it/s]\u001B[A\n",
      "Batch:   4%|▍         | 16/361 [00:00<00:07, 48.19it/s]\u001B[A\n",
      "Batch:   6%|▋         | 23/361 [00:00<00:06, 55.13it/s]\u001B[A\n",
      "Batch:   9%|▊         | 31/361 [00:00<00:05, 61.87it/s]\u001B[A\n",
      "Batch:  11%|█         | 39/361 [00:00<00:04, 65.85it/s]\u001B[A\n",
      "Batch:  13%|█▎        | 46/361 [00:00<00:04, 63.95it/s]\u001B[A\n",
      "Batch:  15%|█▍        | 53/361 [00:00<00:04, 63.00it/s]\u001B[A\n",
      "Batch:  17%|█▋        | 60/361 [00:01<00:04, 62.15it/s]\u001B[A\n",
      "Batch:  19%|█▊        | 67/361 [00:01<00:05, 54.81it/s]\u001B[A\n",
      "Batch:  21%|██        | 75/361 [00:01<00:04, 60.39it/s]\u001B[A\n",
      "Batch:  24%|██▎       | 85/361 [00:01<00:03, 70.86it/s]\u001B[A\n",
      "Batch:  27%|██▋       | 96/361 [00:01<00:03, 80.50it/s]\u001B[A\n",
      "Batch:  30%|██▉       | 108/361 [00:01<00:02, 90.86it/s]\u001B[A\n",
      "Batch:  33%|███▎      | 118/361 [00:01<00:02, 91.20it/s]\u001B[A\n",
      "Batch:  35%|███▌      | 128/361 [00:01<00:02, 88.92it/s]\u001B[A\n",
      "Batch:  39%|███▉      | 140/361 [00:01<00:02, 97.27it/s]\u001B[A\n",
      "Batch:  42%|████▏     | 152/361 [00:02<00:02, 102.50it/s]\u001B[A\n",
      "Batch:  45%|████▌     | 163/361 [00:02<00:01, 100.95it/s]\u001B[A\n",
      "Batch:  48%|████▊     | 174/361 [00:02<00:01, 102.39it/s]\u001B[A\n",
      "Batch:  52%|█████▏    | 186/361 [00:02<00:01, 106.35it/s]\u001B[A\n",
      "Batch:  55%|█████▌    | 199/361 [00:02<00:01, 109.93it/s]\u001B[A\n",
      "Batch:  59%|█████▊    | 212/361 [00:02<00:01, 113.50it/s]\u001B[A\n",
      "Batch:  62%|██████▏   | 225/361 [00:02<00:01, 115.72it/s]\u001B[A\n",
      "Batch:  66%|██████▌   | 237/361 [00:02<00:01, 116.69it/s]\u001B[A\n",
      "Batch:  69%|██████▉   | 249/361 [00:02<00:00, 115.13it/s]\u001B[A\n",
      "Batch:  72%|███████▏  | 261/361 [00:03<00:00, 112.70it/s]\u001B[A\n",
      "Batch:  76%|███████▌  | 274/361 [00:03<00:00, 114.88it/s]\u001B[A\n",
      "Batch:  79%|███████▉  | 286/361 [00:03<00:00, 101.94it/s]\u001B[A\n",
      "Batch:  83%|████████▎ | 298/361 [00:03<00:00, 106.03it/s]\u001B[A\n",
      "Batch:  86%|████████▌ | 309/361 [00:03<00:00, 73.13it/s] \u001B[A\n",
      "Batch:  88%|████████▊ | 319/361 [00:03<00:00, 77.90it/s]\u001B[A\n",
      "Batch:  91%|█████████ | 329/361 [00:03<00:00, 76.94it/s]\u001B[A\n",
      "Batch:  94%|█████████▎| 338/361 [00:04<00:00, 69.75it/s]\u001B[A\n",
      "Batch:  96%|█████████▋| 348/361 [00:04<00:00, 76.52it/s]\u001B[A\n",
      "Batch:  99%|█████████▉| 357/361 [00:04<00:00, 79.79it/s]\u001B[A\n",
      "                                                        \u001B[A\n",
      "Batch:   0%|          | 0/41 [00:00<?, ?it/s]\u001B[A\n",
      "Batch:  73%|███████▎  | 30/41 [00:00<00:00, 298.09it/s]\u001B[A\n",
      "Epoch:  13%|█▎        | 2/15 [00:09<00:59,  4.60s/it]  \u001B[A"
     ]
    },
    {
     "name": "stdout",
     "output_type": "stream",
     "text": [
      "defaultdict(<class 'list'>, {'epoch': [0, 1], 'train_loss': [1.201069306798919, 0.8411755606408264], 'train_mse': [1.1449646949768066, 0.8260855078697205], 'valid_loss': [0.8794754714500613, 0.8621613368755434], 'valid_mse': [0.865179181098938, 0.8521650433540344]})\n"
     ]
    },
    {
     "name": "stderr",
     "output_type": "stream",
     "text": [
      "\n",
      "Batch:   0%|          | 0/361 [00:00<?, ?it/s]\u001B[A\n",
      "Batch:   1%|          | 4/361 [00:00<00:09, 37.73it/s]\u001B[A\n",
      "Batch:   3%|▎         | 12/361 [00:00<00:05, 59.23it/s]\u001B[A\n",
      "Batch:   6%|▌         | 21/361 [00:00<00:04, 72.39it/s]\u001B[A\n",
      "Batch:   9%|▉         | 33/361 [00:00<00:03, 88.11it/s]\u001B[A\n",
      "Batch:  12%|█▏        | 45/361 [00:00<00:03, 97.12it/s]\u001B[A\n",
      "Batch:  16%|█▌        | 56/361 [00:00<00:03, 100.68it/s]\u001B[A\n",
      "Batch:  19%|█▊        | 67/361 [00:00<00:03, 97.14it/s] \u001B[A\n",
      "Batch:  22%|██▏       | 79/361 [00:00<00:02, 102.45it/s]\u001B[A\n",
      "Batch:  25%|██▍       | 90/361 [00:00<00:02, 103.23it/s]\u001B[A\n",
      "Batch:  29%|██▊       | 103/361 [00:01<00:02, 110.18it/s]\u001B[A\n",
      "Batch:  32%|███▏      | 115/361 [00:01<00:02, 111.55it/s]\u001B[A\n",
      "Batch:  35%|███▌      | 127/361 [00:01<00:02, 96.66it/s] \u001B[A\n",
      "Batch:  38%|███▊      | 138/361 [00:01<00:02, 85.84it/s]\u001B[A\n",
      "Batch:  41%|████      | 148/361 [00:01<00:02, 86.31it/s]\u001B[A\n",
      "Batch:  43%|████▎     | 157/361 [00:01<00:02, 81.32it/s]\u001B[A\n",
      "Batch:  46%|████▌     | 166/361 [00:01<00:02, 77.96it/s]\u001B[A\n",
      "Batch:  48%|████▊     | 174/361 [00:01<00:02, 75.60it/s]\u001B[A\n",
      "Batch:  50%|█████     | 182/361 [00:02<00:02, 70.42it/s]\u001B[A\n",
      "Batch:  53%|█████▎    | 190/361 [00:02<00:02, 58.27it/s]\u001B[A\n",
      "Batch:  55%|█████▍    | 197/361 [00:02<00:02, 57.06it/s]\u001B[A\n",
      "Batch:  56%|█████▌    | 203/361 [00:02<00:03, 41.06it/s]\u001B[A\n",
      "Batch:  58%|█████▊    | 209/361 [00:02<00:03, 44.46it/s]\u001B[A\n",
      "Batch:  60%|██████    | 217/361 [00:02<00:02, 51.34it/s]\u001B[A\n",
      "Batch:  62%|██████▏   | 225/361 [00:03<00:02, 57.12it/s]\u001B[A\n",
      "Batch:  65%|██████▍   | 233/361 [00:03<00:02, 62.44it/s]\u001B[A\n",
      "Batch:  66%|██████▋   | 240/361 [00:03<00:01, 63.92it/s]\u001B[A\n",
      "Batch:  68%|██████▊   | 247/361 [00:03<00:01, 65.36it/s]\u001B[A\n",
      "Batch:  70%|███████   | 254/361 [00:03<00:01, 62.05it/s]\u001B[A\n",
      "Batch:  73%|███████▎  | 262/361 [00:03<00:01, 65.46it/s]\u001B[A\n",
      "Batch:  75%|███████▍  | 269/361 [00:03<00:01, 57.69it/s]\u001B[A\n",
      "Batch:  76%|███████▋  | 276/361 [00:03<00:01, 57.59it/s]\u001B[A\n",
      "Batch:  78%|███████▊  | 282/361 [00:03<00:01, 55.18it/s]\u001B[A\n",
      "Batch:  80%|███████▉  | 288/361 [00:04<00:01, 55.96it/s]\u001B[A\n",
      "Batch:  82%|████████▏ | 295/361 [00:04<00:01, 57.78it/s]\u001B[A\n",
      "Batch:  84%|████████▎ | 302/361 [00:04<00:00, 60.73it/s]\u001B[A\n",
      "Batch:  86%|████████▌ | 309/361 [00:04<00:00, 59.94it/s]\u001B[A\n",
      "Batch:  88%|████████▊ | 316/361 [00:04<00:00, 60.42it/s]\u001B[A\n",
      "Batch:  91%|█████████ | 327/361 [00:04<00:00, 72.10it/s]\u001B[A\n",
      "Batch:  93%|█████████▎| 336/361 [00:04<00:00, 74.85it/s]\u001B[A\n",
      "Batch:  96%|█████████▌| 346/361 [00:04<00:00, 78.93it/s]\u001B[A\n",
      "Batch:  99%|█████████▊| 356/361 [00:04<00:00, 83.66it/s]\u001B[A\n",
      "                                                        \u001B[A\n",
      "Batch:   0%|          | 0/41 [00:00<?, ?it/s]\u001B[A\n",
      "Batch:  76%|███████▌  | 31/41 [00:00<00:00, 305.72it/s]\u001B[A\n",
      "Epoch:  20%|██        | 3/15 [00:14<00:58,  4.90s/it]  \u001B[A"
     ]
    },
    {
     "name": "stdout",
     "output_type": "stream",
     "text": [
      "defaultdict(<class 'list'>, {'epoch': [0, 1, 2], 'train_loss': [1.201069306798919, 0.8411755606408264, 0.8207952824325773], 'train_mse': [1.1449646949768066, 0.8260855078697205, 0.8064652681350708], 'valid_loss': [0.8794754714500613, 0.8621613368755434, 0.8628146299501744], 'valid_mse': [0.865179181098938, 0.8521650433540344, 0.8522827625274658]})\n"
     ]
    },
    {
     "name": "stderr",
     "output_type": "stream",
     "text": [
      "\n",
      "Batch:   0%|          | 0/361 [00:00<?, ?it/s]\u001B[A\n",
      "Batch:   1%|▏         | 5/361 [00:00<00:07, 46.23it/s]\u001B[A\n",
      "Batch:   5%|▍         | 17/361 [00:00<00:03, 86.40it/s]\u001B[A\n",
      "Batch:   7%|▋         | 26/361 [00:00<00:03, 87.58it/s]\u001B[A\n",
      "Batch:  10%|▉         | 35/361 [00:00<00:04, 68.00it/s]\u001B[A\n",
      "Batch:  12%|█▏        | 45/361 [00:00<00:04, 76.94it/s]\u001B[A\n",
      "Batch:  15%|█▌        | 55/361 [00:00<00:03, 83.29it/s]\u001B[A\n",
      "Batch:  18%|█▊        | 65/361 [00:00<00:03, 87.78it/s]\u001B[A\n",
      "Batch:  21%|██▏       | 77/361 [00:00<00:02, 95.73it/s]\u001B[A\n",
      "Batch:  24%|██▍       | 87/361 [00:01<00:03, 88.93it/s]\u001B[A\n",
      "Batch:  27%|██▋       | 97/361 [00:01<00:03, 84.24it/s]\u001B[A\n",
      "Batch:  29%|██▉       | 106/361 [00:01<00:03, 83.58it/s]\u001B[A\n",
      "Batch:  32%|███▏      | 115/361 [00:01<00:02, 83.33it/s]\u001B[A\n",
      "Batch:  34%|███▍      | 124/361 [00:01<00:02, 82.63it/s]\u001B[A\n",
      "Batch:  37%|███▋      | 135/361 [00:01<00:02, 88.12it/s]\u001B[A\n",
      "Batch:  40%|████      | 146/361 [00:01<00:02, 92.62it/s]\u001B[A\n",
      "Batch:  43%|████▎     | 157/361 [00:01<00:02, 96.47it/s]\u001B[A\n",
      "Batch:  47%|████▋     | 169/361 [00:01<00:01, 101.31it/s]\u001B[A\n",
      "Batch:  50%|█████     | 181/361 [00:02<00:01, 106.17it/s]\u001B[A\n",
      "Batch:  53%|█████▎    | 192/361 [00:02<00:01, 107.21it/s]\u001B[A\n",
      "Batch:  57%|█████▋    | 204/361 [00:02<00:01, 107.51it/s]\u001B[A\n",
      "Batch:  60%|██████    | 217/361 [00:02<00:01, 113.22it/s]\u001B[A\n",
      "Batch:  64%|██████▎   | 230/361 [00:02<00:01, 116.14it/s]\u001B[A\n",
      "Batch:  67%|██████▋   | 242/361 [00:02<00:01, 116.52it/s]\u001B[A\n",
      "Batch:  71%|███████   | 256/361 [00:02<00:00, 120.99it/s]\u001B[A\n",
      "Batch:  75%|███████▍  | 269/361 [00:02<00:00, 119.32it/s]\u001B[A\n",
      "Batch:  78%|███████▊  | 281/361 [00:02<00:00, 119.48it/s]\u001B[A\n",
      "Batch:  81%|████████▏ | 294/361 [00:02<00:00, 121.15it/s]\u001B[A\n",
      "Batch:  85%|████████▌ | 307/361 [00:03<00:00, 112.21it/s]\u001B[A\n",
      "Batch:  89%|████████▊ | 320/361 [00:03<00:00, 115.65it/s]\u001B[A\n",
      "Batch:  92%|█████████▏| 332/361 [00:03<00:00, 113.84it/s]\u001B[A\n",
      "Batch:  96%|█████████▌| 345/361 [00:03<00:00, 113.74it/s]\u001B[A\n",
      "Batch:  99%|█████████▉| 357/361 [00:03<00:00, 107.58it/s]\u001B[A\n",
      "                                                         \u001B[A\n",
      "Batch:   0%|          | 0/41 [00:00<?, ?it/s]\u001B[A\n",
      "Batch:  71%|███████   | 29/41 [00:00<00:00, 286.18it/s]\u001B[A\n",
      "Epoch:  27%|██▋       | 4/15 [00:18<00:49,  4.47s/it]  \u001B[A"
     ]
    },
    {
     "name": "stdout",
     "output_type": "stream",
     "text": [
      "defaultdict(<class 'list'>, {'epoch': [0, 1, 2, 3], 'train_loss': [1.201069306798919, 0.8411755606408264, 0.8207952824325773, 0.8053944356883992], 'train_mse': [1.1449646949768066, 0.8260855078697205, 0.8064652681350708, 0.790850818157196], 'valid_loss': [0.8794754714500613, 0.8621613368755434, 0.8628146299501744, 0.8539448656686922], 'valid_mse': [0.865179181098938, 0.8521650433540344, 0.8522827625274658, 0.8452692627906799]})\n"
     ]
    },
    {
     "name": "stderr",
     "output_type": "stream",
     "text": [
      "\n",
      "Batch:   0%|          | 0/361 [00:00<?, ?it/s]\u001B[A\n",
      "Batch:   2%|▏         | 6/361 [00:00<00:06, 55.82it/s]\u001B[A\n",
      "Batch:   5%|▍         | 17/361 [00:00<00:04, 85.97it/s]\u001B[A\n",
      "Batch:   8%|▊         | 29/361 [00:00<00:03, 100.33it/s]\u001B[A\n",
      "Batch:  11%|█         | 40/361 [00:00<00:03, 103.84it/s]\u001B[A\n",
      "Batch:  14%|█▍        | 51/361 [00:00<00:03, 97.17it/s] \u001B[A\n",
      "Batch:  17%|█▋        | 61/361 [00:00<00:03, 84.50it/s]\u001B[A\n",
      "Batch:  19%|█▉        | 70/361 [00:00<00:03, 81.46it/s]\u001B[A\n",
      "Batch:  22%|██▏       | 79/361 [00:00<00:03, 76.38it/s]\u001B[A\n",
      "Batch:  24%|██▍       | 87/361 [00:01<00:03, 75.13it/s]\u001B[A\n",
      "Batch:  26%|██▋       | 95/361 [00:01<00:03, 67.54it/s]\u001B[A\n",
      "Batch:  28%|██▊       | 102/361 [00:01<00:04, 63.21it/s]\u001B[A\n",
      "Batch:  30%|███       | 109/361 [00:01<00:04, 61.06it/s]\u001B[A\n",
      "Batch:  32%|███▏      | 116/361 [00:01<00:03, 61.67it/s]\u001B[A\n",
      "Batch:  34%|███▍      | 123/361 [00:01<00:04, 56.81it/s]\u001B[A\n",
      "Batch:  36%|███▌      | 130/361 [00:01<00:03, 57.83it/s]\u001B[A\n",
      "Batch:  38%|███▊      | 137/361 [00:01<00:03, 60.52it/s]\u001B[A\n",
      "Batch:  41%|████      | 147/361 [00:02<00:03, 68.89it/s]\u001B[A\n",
      "Batch:  43%|████▎     | 154/361 [00:02<00:03, 68.24it/s]\u001B[A\n",
      "Batch:  45%|████▍     | 161/361 [00:02<00:03, 62.45it/s]\u001B[A\n",
      "Batch:  47%|████▋     | 168/361 [00:02<00:03, 63.82it/s]\u001B[A\n",
      "Batch:  48%|████▊     | 175/361 [00:02<00:03, 61.43it/s]\u001B[A\n",
      "Batch:  50%|█████     | 182/361 [00:02<00:03, 56.97it/s]\u001B[A\n",
      "Batch:  52%|█████▏    | 189/361 [00:02<00:02, 58.99it/s]\u001B[A\n",
      "Batch:  54%|█████▍    | 196/361 [00:02<00:02, 61.86it/s]\u001B[A\n",
      "Batch:  56%|█████▌    | 203/361 [00:02<00:02, 63.16it/s]\u001B[A\n",
      "Batch:  58%|█████▊    | 210/361 [00:03<00:02, 52.57it/s]\u001B[A\n",
      "Batch:  60%|█████▉    | 216/361 [00:03<00:02, 53.71it/s]\u001B[A\n",
      "Batch:  62%|██████▏   | 223/361 [00:03<00:02, 56.60it/s]\u001B[A\n",
      "Batch:  63%|██████▎   | 229/361 [00:03<00:02, 51.33it/s]\u001B[A\n",
      "Batch:  65%|██████▌   | 235/361 [00:03<00:02, 52.61it/s]\u001B[A\n",
      "Batch:  67%|██████▋   | 242/361 [00:03<00:02, 56.72it/s]\u001B[A\n",
      "Batch:  69%|██████▊   | 248/361 [00:03<00:01, 57.31it/s]\u001B[A\n",
      "Batch:  71%|███████▏  | 258/361 [00:03<00:01, 69.13it/s]\u001B[A\n",
      "Batch:  75%|███████▍  | 269/361 [00:04<00:01, 79.87it/s]\u001B[A\n",
      "Batch:  78%|███████▊  | 281/361 [00:04<00:00, 89.47it/s]\u001B[A\n",
      "Batch:  81%|████████  | 291/361 [00:04<00:00, 88.02it/s]\u001B[A\n",
      "Batch:  83%|████████▎ | 301/361 [00:04<00:00, 88.32it/s]\u001B[A\n",
      "Batch:  87%|████████▋ | 314/361 [00:04<00:00, 99.38it/s]\u001B[A\n",
      "Batch:  91%|█████████ | 327/361 [00:04<00:00, 106.35it/s]\u001B[A\n",
      "Batch:  94%|█████████▎| 338/361 [00:04<00:00, 107.09it/s]\u001B[A\n",
      "Batch:  97%|█████████▋| 349/361 [00:04<00:00, 102.48it/s]\u001B[A\n",
      "Batch: 100%|█████████▉| 360/361 [00:04<00:00, 93.39it/s] \u001B[A\n",
      "                                                        \u001B[A\n",
      "Batch:   0%|          | 0/41 [00:00<?, ?it/s]\u001B[A\n",
      "Batch:  59%|█████▊    | 24/41 [00:00<00:00, 229.73it/s]\u001B[A\n",
      "Epoch:  33%|███▎      | 5/15 [00:23<00:47,  4.74s/it]  \u001B[A"
     ]
    },
    {
     "name": "stdout",
     "output_type": "stream",
     "text": [
      "defaultdict(<class 'list'>, {'epoch': [0, 1, 2, 3, 4], 'train_loss': [1.201069306798919, 0.8411755606408264, 0.8207952824325773, 0.8053944356883992, 0.7932356427581027], 'train_mse': [1.1449646949768066, 0.8260855078697205, 0.8064652681350708, 0.790850818157196, 0.7781486511230469], 'valid_loss': [0.8794754714500613, 0.8621613368755434, 0.8628146299501744, 0.8539448656686922, 0.8576397154389358], 'valid_mse': [0.865179181098938, 0.8521650433540344, 0.8522827625274658, 0.8452692627906799, 0.8470094799995422]})\n"
     ]
    },
    {
     "name": "stderr",
     "output_type": "stream",
     "text": [
      "\n",
      "Batch:   0%|          | 0/361 [00:00<?, ?it/s]\u001B[A\n",
      "Batch:   1%|          | 4/361 [00:00<00:10, 35.42it/s]\u001B[A\n",
      "Batch:   4%|▎         | 13/361 [00:00<00:05, 61.83it/s]\u001B[A\n",
      "Batch:   6%|▌         | 22/361 [00:00<00:04, 72.51it/s]\u001B[A\n",
      "Batch:   9%|▊         | 31/361 [00:00<00:04, 71.89it/s]\u001B[A\n",
      "Batch:  11%|█         | 39/361 [00:00<00:04, 65.36it/s]\u001B[A\n",
      "Batch:  13%|█▎        | 47/361 [00:00<00:04, 67.03it/s]\u001B[A\n",
      "Batch:  15%|█▍        | 54/361 [00:00<00:04, 63.68it/s]\u001B[A\n",
      "Batch:  17%|█▋        | 61/361 [00:00<00:04, 65.37it/s]\u001B[A\n",
      "Batch:  19%|█▉        | 68/361 [00:01<00:05, 57.15it/s]\u001B[A\n",
      "Batch:  21%|██        | 76/361 [00:01<00:04, 61.29it/s]\u001B[A\n",
      "Batch:  23%|██▎       | 83/361 [00:01<00:04, 59.46it/s]\u001B[A\n",
      "Batch:  25%|██▍       | 90/361 [00:01<00:05, 51.64it/s]\u001B[A\n",
      "Batch:  27%|██▋       | 97/361 [00:01<00:04, 54.85it/s]\u001B[A\n",
      "Batch:  29%|██▉       | 104/361 [00:01<00:04, 57.12it/s]\u001B[A\n",
      "Batch:  31%|███▏      | 113/361 [00:01<00:03, 63.70it/s]\u001B[A\n",
      "Batch:  34%|███▍      | 122/361 [00:01<00:03, 70.38it/s]\u001B[A\n",
      "Batch:  37%|███▋      | 132/361 [00:02<00:02, 76.38it/s]\u001B[A\n",
      "Batch:  39%|███▉      | 141/361 [00:02<00:02, 79.71it/s]\u001B[A\n",
      "Batch:  42%|████▏     | 151/361 [00:02<00:02, 82.65it/s]\u001B[A\n",
      "Batch:  45%|████▍     | 161/361 [00:02<00:02, 87.26it/s]\u001B[A\n",
      "Batch:  48%|████▊     | 173/361 [00:02<00:01, 94.48it/s]\u001B[A\n",
      "Batch:  51%|█████     | 183/361 [00:02<00:01, 93.83it/s]\u001B[A\n",
      "Batch:  54%|█████▍    | 195/361 [00:02<00:01, 100.72it/s]\u001B[A\n",
      "Batch:  58%|█████▊    | 208/361 [00:02<00:01, 108.08it/s]\u001B[A\n",
      "Batch:  61%|██████    | 219/361 [00:02<00:01, 107.85it/s]\u001B[A\n",
      "Batch:  64%|██████▎   | 230/361 [00:03<00:01, 105.27it/s]\u001B[A\n",
      "Batch:  67%|██████▋   | 241/361 [00:03<00:01, 106.32it/s]\u001B[A\n",
      "Batch:  70%|███████   | 253/361 [00:03<00:01, 106.71it/s]\u001B[A\n",
      "Batch:  74%|███████▎  | 266/361 [00:03<00:00, 112.51it/s]\u001B[A\n",
      "Batch:  77%|███████▋  | 278/361 [00:03<00:00, 92.75it/s] \u001B[A\n",
      "Batch:  80%|███████▉  | 288/361 [00:03<00:00, 87.37it/s]\u001B[A\n",
      "Batch:  83%|████████▎ | 298/361 [00:03<00:00, 83.11it/s]\u001B[A\n",
      "Batch:  85%|████████▌ | 307/361 [00:03<00:00, 81.28it/s]\u001B[A\n",
      "Batch:  88%|████████▊ | 316/361 [00:04<00:00, 76.47it/s]\u001B[A\n",
      "Batch:  90%|████████▉ | 324/361 [00:04<00:00, 76.76it/s]\u001B[A\n",
      "Batch:  92%|█████████▏| 332/361 [00:04<00:00, 75.05it/s]\u001B[A\n",
      "Batch:  94%|█████████▍| 340/361 [00:04<00:00, 72.21it/s]\u001B[A\n",
      "Batch:  96%|█████████▋| 348/361 [00:04<00:00, 71.98it/s]\u001B[A\n",
      "Batch:  99%|█████████▊| 356/361 [00:04<00:00, 70.12it/s]\u001B[A\n",
      "                                                        \u001B[A\n",
      "Batch:   0%|          | 0/41 [00:00<?, ?it/s]\u001B[A\n",
      "Batch:  61%|██████    | 25/41 [00:00<00:00, 245.73it/s]\u001B[A\n",
      "Epoch:  40%|████      | 6/15 [00:28<00:43,  4.80s/it]  \u001B[A"
     ]
    },
    {
     "name": "stdout",
     "output_type": "stream",
     "text": [
      "defaultdict(<class 'list'>, {'epoch': [0, 1, 2, 3, 4, 5], 'train_loss': [1.201069306798919, 0.8411755606408264, 0.8207952824325773, 0.8053944356883992, 0.7932356427581027, 0.7627526378037196], 'train_mse': [1.1449646949768066, 0.8260855078697205, 0.8064652681350708, 0.790850818157196, 0.7781486511230469, 0.7550997138023376], 'valid_loss': [0.8794754714500613, 0.8621613368755434, 0.8628146299501744, 0.8539448656686922, 0.8576397154389358, 0.8398315543081702], 'valid_mse': [0.865179181098938, 0.8521650433540344, 0.8522827625274658, 0.8452692627906799, 0.8470094799995422, 0.8272314667701721]})\n"
     ]
    },
    {
     "name": "stderr",
     "output_type": "stream",
     "text": [
      "\n",
      "Batch:   0%|          | 0/361 [00:00<?, ?it/s]\u001B[A\n",
      "Batch:   1%|          | 4/361 [00:00<00:12, 27.77it/s]\u001B[A\n",
      "Batch:   3%|▎         | 11/361 [00:00<00:07, 48.66it/s]\u001B[A\n",
      "Batch:   5%|▍         | 18/361 [00:00<00:06, 56.44it/s]\u001B[A\n",
      "Batch:   7%|▋         | 26/361 [00:00<00:05, 62.26it/s]\u001B[A\n",
      "Batch:   9%|▉         | 33/361 [00:00<00:05, 61.02it/s]\u001B[A\n",
      "Batch:  11%|█         | 40/361 [00:00<00:05, 62.77it/s]\u001B[A\n",
      "Batch:  13%|█▎        | 48/361 [00:00<00:04, 65.36it/s]\u001B[A\n",
      "Batch:  16%|█▌        | 56/361 [00:00<00:04, 68.85it/s]\u001B[A\n",
      "Batch:  17%|█▋        | 63/361 [00:01<00:04, 66.51it/s]\u001B[A\n",
      "Batch:  19%|█▉        | 70/361 [00:01<00:04, 64.43it/s]\u001B[A\n",
      "Batch:  21%|██▏       | 77/361 [00:01<00:05, 56.27it/s]\u001B[A\n",
      "Batch:  24%|██▍       | 87/361 [00:01<00:04, 66.26it/s]\u001B[A\n",
      "Batch:  26%|██▌       | 94/361 [00:01<00:04, 61.19it/s]\u001B[A\n",
      "Batch:  28%|██▊       | 101/361 [00:01<00:04, 57.10it/s]\u001B[A\n",
      "Batch:  30%|██▉       | 107/361 [00:01<00:04, 56.59it/s]\u001B[A\n",
      "Batch:  32%|███▏      | 114/361 [00:01<00:04, 57.98it/s]\u001B[A\n",
      "Batch:  34%|███▍      | 123/361 [00:02<00:03, 66.02it/s]\u001B[A\n",
      "Batch:  37%|███▋      | 133/361 [00:02<00:03, 72.34it/s]\u001B[A\n",
      "Batch:  40%|███▉      | 144/361 [00:02<00:02, 81.87it/s]\u001B[A\n",
      "Batch:  43%|████▎     | 155/361 [00:02<00:02, 88.99it/s]\u001B[A\n",
      "Batch:  46%|████▌     | 166/361 [00:02<00:02, 93.78it/s]\u001B[A\n",
      "Batch:  49%|████▉     | 178/361 [00:02<00:01, 99.39it/s]\u001B[A\n",
      "Batch:  52%|█████▏    | 189/361 [00:02<00:01, 94.14it/s]\u001B[A\n",
      "Batch:  56%|█████▌    | 201/361 [00:02<00:01, 98.58it/s]\u001B[A\n",
      "Batch:  59%|█████▊    | 212/361 [00:02<00:01, 99.70it/s]\u001B[A\n",
      "Batch:  62%|██████▏   | 224/361 [00:02<00:01, 102.85it/s]\u001B[A\n",
      "Batch:  66%|██████▌   | 237/361 [00:03<00:01, 108.32it/s]\u001B[A\n",
      "Batch:  69%|██████▊   | 248/361 [00:03<00:01, 107.88it/s]\u001B[A\n",
      "Batch:  72%|███████▏  | 259/361 [00:03<00:00, 104.42it/s]\u001B[A\n",
      "Batch:  75%|███████▌  | 271/361 [00:03<00:00, 108.07it/s]\u001B[A\n",
      "Batch:  78%|███████▊  | 283/361 [00:03<00:00, 110.65it/s]\u001B[A\n",
      "Batch:  82%|████████▏ | 295/361 [00:03<00:00, 106.27it/s]\u001B[A\n",
      "Batch:  85%|████████▍ | 306/361 [00:03<00:00, 98.24it/s] \u001B[A\n",
      "Batch:  88%|████████▊ | 316/361 [00:03<00:00, 86.07it/s]\u001B[A\n",
      "Batch:  91%|█████████ | 327/361 [00:04<00:00, 90.68it/s]\u001B[A\n",
      "Batch:  93%|█████████▎| 337/361 [00:04<00:00, 87.40it/s]\u001B[A\n",
      "Batch:  96%|█████████▌| 346/361 [00:04<00:00, 85.22it/s]\u001B[A\n",
      "Batch:  98%|█████████▊| 355/361 [00:04<00:00, 83.32it/s]\u001B[A\n",
      "                                                        \u001B[A\n",
      "Batch:   0%|          | 0/41 [00:00<?, ?it/s]\u001B[A\n",
      "Batch:  66%|██████▌   | 27/41 [00:00<00:00, 268.54it/s]\u001B[A\n",
      "Epoch:  47%|████▋     | 7/15 [00:33<00:38,  4.79s/it]  \u001B[A"
     ]
    },
    {
     "name": "stdout",
     "output_type": "stream",
     "text": [
      "defaultdict(<class 'list'>, {'epoch': [0, 1, 2, 3, 4, 5, 6], 'train_loss': [1.201069306798919, 0.8411755606408264, 0.8207952824325773, 0.8053944356883992, 0.7932356427581027, 0.7627526378037196, 0.7541403085241027], 'train_mse': [1.1449646949768066, 0.8260855078697205, 0.8064652681350708, 0.790850818157196, 0.7781486511230469, 0.7550997138023376, 0.7455329298973083], 'valid_loss': [0.8794754714500613, 0.8621613368755434, 0.8628146299501744, 0.8539448656686922, 0.8576397154389358, 0.8398315543081702, 0.8386517036251906], 'valid_mse': [0.865179181098938, 0.8521650433540344, 0.8522827625274658, 0.8452692627906799, 0.8470094799995422, 0.8272314667701721, 0.8259232044219971]})\n"
     ]
    },
    {
     "name": "stderr",
     "output_type": "stream",
     "text": [
      "\n",
      "Batch:   0%|          | 0/361 [00:00<?, ?it/s]\u001B[A\n",
      "Batch:   0%|          | 1/361 [00:00<00:38,  9.46it/s]\u001B[A\n",
      "Batch:   2%|▏         | 7/361 [00:00<00:09, 38.48it/s]\u001B[A\n",
      "Batch:   4%|▍         | 15/361 [00:00<00:06, 55.79it/s]\u001B[A\n",
      "Batch:   6%|▌         | 22/361 [00:00<00:05, 60.55it/s]\u001B[A\n",
      "Batch:   8%|▊         | 30/361 [00:00<00:04, 66.64it/s]\u001B[A\n",
      "Batch:  11%|█         | 40/361 [00:00<00:04, 75.88it/s]\u001B[A\n",
      "Batch:  14%|█▎        | 49/361 [00:00<00:03, 80.27it/s]\u001B[A\n",
      "Batch:  16%|█▌        | 58/361 [00:00<00:03, 79.68it/s]\u001B[A\n",
      "Batch:  18%|█▊        | 66/361 [00:00<00:04, 72.32it/s]\u001B[A\n",
      "Batch:  20%|██        | 74/361 [00:01<00:05, 53.76it/s]\u001B[A\n",
      "Batch:  22%|██▏       | 81/361 [00:01<00:05, 53.95it/s]\u001B[A\n",
      "Batch:  24%|██▍       | 87/361 [00:01<00:05, 50.24it/s]\u001B[A\n",
      "Batch:  26%|██▌       | 93/361 [00:01<00:07, 36.94it/s]\u001B[A\n",
      "Batch:  27%|██▋       | 98/361 [00:01<00:07, 34.36it/s]\u001B[A\n",
      "Batch:  29%|██▉       | 105/361 [00:02<00:06, 40.65it/s]\u001B[A\n",
      "Batch:  31%|███       | 111/361 [00:02<00:05, 43.41it/s]\u001B[A\n",
      "Batch:  32%|███▏      | 116/361 [00:02<00:05, 41.09it/s]\u001B[A\n",
      "Batch:  34%|███▍      | 123/361 [00:02<00:05, 47.29it/s]\u001B[A\n",
      "Batch:  36%|███▌      | 130/361 [00:02<00:04, 52.75it/s]\u001B[A\n",
      "Batch:  38%|███▊      | 138/361 [00:02<00:03, 59.21it/s]\u001B[A\n",
      "Batch:  41%|████      | 147/361 [00:02<00:03, 65.49it/s]\u001B[A\n",
      "Batch:  43%|████▎     | 156/361 [00:02<00:02, 69.47it/s]\u001B[A\n",
      "Batch:  45%|████▌     | 164/361 [00:02<00:02, 70.33it/s]\u001B[A\n",
      "Batch:  48%|████▊     | 172/361 [00:03<00:02, 70.75it/s]\u001B[A\n",
      "Batch:  50%|████▉     | 180/361 [00:03<00:02, 70.54it/s]\u001B[A\n",
      "Batch:  52%|█████▏    | 189/361 [00:03<00:02, 73.28it/s]\u001B[A\n",
      "Batch:  55%|█████▍    | 197/361 [00:03<00:02, 72.98it/s]\u001B[A\n",
      "Batch:  57%|█████▋    | 205/361 [00:03<00:02, 72.98it/s]\u001B[A\n",
      "Batch:  59%|█████▉    | 213/361 [00:03<00:02, 73.11it/s]\u001B[A\n",
      "Batch:  61%|██████    | 221/361 [00:03<00:01, 74.33it/s]\u001B[A\n",
      "Batch:  63%|██████▎   | 229/361 [00:03<00:01, 70.57it/s]\u001B[A\n",
      "Batch:  66%|██████▌   | 237/361 [00:04<00:01, 62.40it/s]\u001B[A\n",
      "Batch:  68%|██████▊   | 245/361 [00:04<00:01, 66.50it/s]\u001B[A\n",
      "Batch:  70%|███████   | 253/361 [00:04<00:01, 68.41it/s]\u001B[A\n",
      "Batch:  72%|███████▏  | 261/361 [00:04<00:01, 69.71it/s]\u001B[A\n",
      "Batch:  75%|███████▍  | 270/361 [00:04<00:01, 72.71it/s]\u001B[A\n",
      "Batch:  77%|███████▋  | 278/361 [00:04<00:01, 71.07it/s]\u001B[A\n",
      "Batch:  80%|████████  | 289/361 [00:04<00:00, 79.94it/s]\u001B[A\n",
      "Batch:  83%|████████▎ | 301/361 [00:04<00:00, 90.41it/s]\u001B[A\n",
      "Batch:  87%|████████▋ | 315/361 [00:04<00:00, 103.20it/s]\u001B[A\n",
      "Batch:  90%|█████████ | 326/361 [00:04<00:00, 105.08it/s]\u001B[A\n",
      "Batch:  94%|█████████▍| 339/361 [00:05<00:00, 108.29it/s]\u001B[A\n",
      "Batch:  97%|█████████▋| 350/361 [00:05<00:00, 108.49it/s]\u001B[A\n",
      "Batch: 100%|██████████| 361/361 [00:05<00:00, 88.69it/s] \u001B[A\n",
      "                                                        \u001B[A\n",
      "Batch:   0%|          | 0/41 [00:00<?, ?it/s]\u001B[A\n",
      "Batch:  78%|███████▊  | 32/41 [00:00<00:00, 314.82it/s]\u001B[A\n",
      "Epoch:  53%|█████▎    | 8/15 [00:38<00:35,  5.03s/it]  \u001B[A"
     ]
    },
    {
     "name": "stdout",
     "output_type": "stream",
     "text": [
      "defaultdict(<class 'list'>, {'epoch': [0, 1, 2, 3, 4, 5, 6, 7], 'train_loss': [1.201069306798919, 0.8411755606408264, 0.8207952824325773, 0.8053944356883992, 0.7932356427581027, 0.7627526378037196, 0.7541403085241027, 0.7468218697735477], 'train_mse': [1.1449646949768066, 0.8260855078697205, 0.8064652681350708, 0.790850818157196, 0.7781486511230469, 0.7550997138023376, 0.7455329298973083, 0.7378636002540588], 'valid_loss': [0.8794754714500613, 0.8621613368755434, 0.8628146299501744, 0.8539448656686922, 0.8576397154389358, 0.8398315543081702, 0.8386517036251906, 0.8380538515928315], 'valid_mse': [0.865179181098938, 0.8521650433540344, 0.8522827625274658, 0.8452692627906799, 0.8470094799995422, 0.8272314667701721, 0.8259232044219971, 0.8261405229568481]})\n"
     ]
    },
    {
     "name": "stderr",
     "output_type": "stream",
     "text": [
      "\n",
      "Batch:   0%|          | 0/361 [00:00<?, ?it/s]\u001B[A\n",
      "Batch:   0%|          | 1/361 [00:00<00:44,  8.16it/s]\u001B[A\n",
      "Batch:   3%|▎         | 12/361 [00:00<00:05, 62.45it/s]\u001B[A\n",
      "Batch:   7%|▋         | 25/361 [00:00<00:03, 90.17it/s]\u001B[A\n",
      "Batch:  10%|▉         | 35/361 [00:00<00:05, 63.95it/s]\u001B[A\n",
      "Batch:  12%|█▏        | 43/361 [00:00<00:04, 67.93it/s]\u001B[A\n",
      "Batch:  14%|█▍        | 51/361 [00:00<00:04, 69.38it/s]\u001B[A\n",
      "Batch:  16%|█▋        | 59/361 [00:00<00:04, 64.56it/s]\u001B[A\n",
      "Batch:  19%|█▊        | 67/361 [00:01<00:04, 68.45it/s]\u001B[A\n",
      "Batch:  21%|██        | 75/361 [00:01<00:04, 71.05it/s]\u001B[A\n",
      "Batch:  23%|██▎       | 83/361 [00:01<00:04, 68.18it/s]\u001B[A\n",
      "Batch:  26%|██▌       | 93/361 [00:01<00:03, 75.04it/s]\u001B[A\n",
      "Batch:  28%|██▊       | 102/361 [00:01<00:03, 78.31it/s]\u001B[A\n",
      "Batch:  31%|███▏      | 113/361 [00:01<00:02, 86.83it/s]\u001B[A\n",
      "Batch:  34%|███▍      | 122/361 [00:01<00:02, 80.37it/s]\u001B[A\n",
      "Batch:  36%|███▋      | 131/361 [00:01<00:03, 75.12it/s]\u001B[A\n",
      "Batch:  39%|███▊      | 139/361 [00:01<00:03, 71.61it/s]\u001B[A\n",
      "Batch:  41%|████      | 147/361 [00:02<00:02, 72.24it/s]\u001B[A\n",
      "Batch:  43%|████▎     | 155/361 [00:02<00:03, 64.85it/s]\u001B[A\n",
      "Batch:  45%|████▍     | 162/361 [00:02<00:03, 62.59it/s]\u001B[A\n",
      "Batch:  47%|████▋     | 169/361 [00:02<00:02, 64.33it/s]\u001B[A\n",
      "Batch:  50%|█████     | 182/361 [00:02<00:02, 80.60it/s]\u001B[A\n",
      "Batch:  54%|█████▍    | 196/361 [00:02<00:01, 95.61it/s]\u001B[A\n",
      "Batch:  58%|█████▊    | 209/361 [00:02<00:01, 103.46it/s]\u001B[A\n",
      "Batch:  61%|██████    | 221/361 [00:02<00:01, 106.62it/s]\u001B[A\n",
      "Batch:  64%|██████▍   | 232/361 [00:02<00:01, 106.11it/s]\u001B[A\n",
      "Batch:  68%|██████▊   | 245/361 [00:03<00:01, 112.09it/s]\u001B[A\n",
      "Batch:  71%|███████▏  | 258/361 [00:03<00:00, 116.07it/s]\u001B[A\n",
      "Batch:  75%|███████▌  | 272/361 [00:03<00:00, 121.51it/s]\u001B[A\n",
      "Batch:  79%|███████▉  | 285/361 [00:03<00:00, 122.55it/s]\u001B[A\n",
      "Batch:  83%|████████▎ | 298/361 [00:03<00:00, 116.18it/s]\u001B[A\n",
      "Batch:  86%|████████▌ | 311/361 [00:03<00:00, 118.94it/s]\u001B[A\n",
      "Batch:  90%|█████████ | 325/361 [00:03<00:00, 124.83it/s]\u001B[A\n",
      "Batch:  94%|█████████▎| 338/361 [00:03<00:00, 119.43it/s]\u001B[A\n",
      "Batch:  97%|█████████▋| 351/361 [00:03<00:00, 103.92it/s]\u001B[A\n",
      "                                                         \u001B[A\n",
      "Batch:   0%|          | 0/41 [00:00<?, ?it/s]\u001B[A\n",
      "Batch:  66%|██████▌   | 27/41 [00:00<00:00, 262.07it/s]\u001B[A\n",
      "Epoch:  60%|██████    | 9/15 [00:43<00:28,  4.83s/it]  \u001B[A"
     ]
    },
    {
     "name": "stdout",
     "output_type": "stream",
     "text": [
      "defaultdict(<class 'list'>, {'epoch': [0, 1, 2, 3, 4, 5, 6, 7, 8], 'train_loss': [1.201069306798919, 0.8411755606408264, 0.8207952824325773, 0.8053944356883992, 0.7932356427581027, 0.7627526378037196, 0.7541403085241027, 0.7468218697735477, 0.7388016695461115], 'train_mse': [1.1449646949768066, 0.8260855078697205, 0.8064652681350708, 0.790850818157196, 0.7781486511230469, 0.7550997138023376, 0.7455329298973083, 0.7378636002540588, 0.7294624447822571], 'valid_loss': [0.8794754714500613, 0.8621613368755434, 0.8628146299501744, 0.8539448656686922, 0.8576397154389358, 0.8398315543081702, 0.8386517036251906, 0.8380538515928315, 0.8353465824592404], 'valid_mse': [0.865179181098938, 0.8521650433540344, 0.8522827625274658, 0.8452692627906799, 0.8470094799995422, 0.8272314667701721, 0.8259232044219971, 0.8261405229568481, 0.8269175887107849]})\n"
     ]
    },
    {
     "name": "stderr",
     "output_type": "stream",
     "text": [
      "\n",
      "Batch:   0%|          | 0/361 [00:00<?, ?it/s]\u001B[A\n",
      "Batch:   0%|          | 1/361 [00:00<00:38,  9.41it/s]\u001B[A\n",
      "Batch:   2%|▏         | 9/361 [00:00<00:07, 48.69it/s]\u001B[A\n",
      "Batch:   5%|▍         | 17/361 [00:00<00:05, 61.66it/s]\u001B[A\n",
      "Batch:   7%|▋         | 24/361 [00:00<00:05, 61.00it/s]\u001B[A\n",
      "Batch:   9%|▊         | 31/361 [00:00<00:05, 56.55it/s]\u001B[A\n",
      "Batch:  10%|█         | 37/361 [00:00<00:05, 54.53it/s]\u001B[A\n",
      "Batch:  12%|█▏        | 43/361 [00:00<00:05, 54.38it/s]\u001B[A\n",
      "Batch:  14%|█▎        | 49/361 [00:00<00:07, 43.67it/s]\u001B[A\n",
      "Batch:  15%|█▍        | 54/361 [00:01<00:17, 17.62it/s]\u001B[A\n",
      "Batch:  16%|█▌        | 58/361 [00:01<00:16, 18.74it/s]\u001B[A\n",
      "Batch:  17%|█▋        | 62/361 [00:02<00:13, 21.37it/s]\u001B[A\n",
      "Batch:  18%|█▊        | 66/361 [00:02<00:12, 23.99it/s]\u001B[A\n",
      "Batch:  20%|██        | 73/361 [00:02<00:08, 32.08it/s]\u001B[A\n",
      "Batch:  22%|██▏       | 80/361 [00:02<00:07, 39.87it/s]\u001B[A\n",
      "Batch:  24%|██▍       | 87/361 [00:02<00:05, 45.99it/s]\u001B[A\n",
      "Batch:  26%|██▌       | 93/361 [00:02<00:05, 48.00it/s]\u001B[A\n",
      "Batch:  28%|██▊       | 100/361 [00:02<00:04, 52.71it/s]\u001B[A\n",
      "Batch:  29%|██▉       | 106/361 [00:02<00:04, 52.74it/s]\u001B[A\n",
      "Batch:  32%|███▏      | 115/361 [00:02<00:03, 62.02it/s]\u001B[A\n",
      "Batch:  35%|███▌      | 128/361 [00:02<00:02, 80.48it/s]\u001B[A\n",
      "Batch:  38%|███▊      | 138/361 [00:03<00:02, 84.98it/s]\u001B[A\n",
      "Batch:  42%|████▏     | 151/361 [00:03<00:02, 97.36it/s]\u001B[A\n",
      "Batch:  46%|████▌     | 165/361 [00:03<00:01, 108.07it/s]\u001B[A\n",
      "Batch:  50%|████▉     | 179/361 [00:03<00:01, 115.98it/s]\u001B[A\n",
      "Batch:  53%|█████▎    | 193/361 [00:03<00:01, 121.06it/s]\u001B[A\n",
      "Batch:  57%|█████▋    | 206/361 [00:03<00:01, 122.58it/s]\u001B[A\n",
      "Batch:  61%|██████    | 219/361 [00:03<00:01, 123.91it/s]\u001B[A\n",
      "Batch:  64%|██████▍   | 232/361 [00:03<00:01, 108.10it/s]\u001B[A\n",
      "Batch:  68%|██████▊   | 244/361 [00:03<00:01, 110.94it/s]\u001B[A\n",
      "Batch:  71%|███████   | 256/361 [00:04<00:01, 103.79it/s]\u001B[A\n",
      "Batch:  74%|███████▍  | 268/361 [00:04<00:00, 107.53it/s]\u001B[A\n",
      "Batch:  78%|███████▊  | 281/361 [00:04<00:00, 113.01it/s]\u001B[A\n",
      "Batch:  81%|████████▏ | 294/361 [00:04<00:00, 116.43it/s]\u001B[A\n",
      "Batch:  85%|████████▌ | 308/361 [00:04<00:00, 119.77it/s]\u001B[A\n",
      "Batch:  89%|████████▉ | 321/361 [00:04<00:00, 121.26it/s]\u001B[A\n",
      "Batch:  93%|█████████▎| 335/361 [00:04<00:00, 123.45it/s]\u001B[A\n",
      "Batch:  96%|█████████▋| 348/361 [00:04<00:00, 124.34it/s]\u001B[A\n",
      "Batch: 100%|██████████| 361/361 [00:04<00:00, 109.31it/s]\u001B[A\n",
      "                                                         \u001B[A\n",
      "Batch:   0%|          | 0/41 [00:00<?, ?it/s]\u001B[A\n",
      "Batch:  59%|█████▊    | 24/41 [00:00<00:00, 238.61it/s]\u001B[A\n",
      "Epoch:  67%|██████▋   | 10/15 [00:48<00:24,  4.93s/it] \u001B[A"
     ]
    },
    {
     "name": "stdout",
     "output_type": "stream",
     "text": [
      "defaultdict(<class 'list'>, {'epoch': [0, 1, 2, 3, 4, 5, 6, 7, 8, 9], 'train_loss': [1.201069306798919, 0.8411755606408264, 0.8207952824325773, 0.8053944356883992, 0.7932356427581027, 0.7627526378037196, 0.7541403085241027, 0.7468218697735477, 0.7388016695461115, 0.730440544454675], 'train_mse': [1.1449646949768066, 0.8260855078697205, 0.8064652681350708, 0.790850818157196, 0.7781486511230469, 0.7550997138023376, 0.7455329298973083, 0.7378636002540588, 0.7294624447822571, 0.7206934690475464], 'valid_loss': [0.8794754714500613, 0.8621613368755434, 0.8628146299501744, 0.8539448656686922, 0.8576397154389358, 0.8398315543081702, 0.8386517036251906, 0.8380538515928315, 0.8353465824592404, 0.8350527635434779], 'valid_mse': [0.865179181098938, 0.8521650433540344, 0.8522827625274658, 0.8452692627906799, 0.8470094799995422, 0.8272314667701721, 0.8259232044219971, 0.8261405229568481, 0.8269175887107849, 0.824329137802124]})\n"
     ]
    },
    {
     "name": "stderr",
     "output_type": "stream",
     "text": [
      "\n",
      "Batch:   0%|          | 0/361 [00:00<?, ?it/s]\u001B[A\n",
      "Batch:   1%|          | 4/361 [00:00<00:09, 38.30it/s]\u001B[A\n",
      "Batch:   3%|▎         | 12/361 [00:00<00:05, 62.38it/s]\u001B[A\n",
      "Batch:   6%|▌         | 21/361 [00:00<00:04, 73.73it/s]\u001B[A\n",
      "Batch:   8%|▊         | 30/361 [00:00<00:04, 78.07it/s]\u001B[A\n",
      "Batch:  11%|█         | 39/361 [00:00<00:04, 79.42it/s]\u001B[A\n",
      "Batch:  14%|█▎        | 49/361 [00:00<00:03, 83.37it/s]\u001B[A\n",
      "Batch:  16%|█▌        | 58/361 [00:00<00:03, 83.76it/s]\u001B[A\n",
      "Batch:  19%|█▊        | 67/361 [00:00<00:03, 83.12it/s]\u001B[A\n",
      "Batch:  21%|██        | 76/361 [00:00<00:03, 79.63it/s]\u001B[A\n",
      "Batch:  23%|██▎       | 84/361 [00:01<00:03, 78.80it/s]\u001B[A\n",
      "Batch:  25%|██▌       | 92/361 [00:01<00:03, 75.38it/s]\u001B[A\n",
      "Batch:  28%|██▊       | 102/361 [00:01<00:03, 81.46it/s]\u001B[A\n",
      "Batch:  31%|███▏      | 113/361 [00:01<00:02, 87.24it/s]\u001B[A\n",
      "Batch:  34%|███▍      | 123/361 [00:01<00:02, 90.83it/s]\u001B[A\n",
      "Batch:  37%|███▋      | 133/361 [00:01<00:02, 82.22it/s]\u001B[A\n",
      "Batch:  39%|███▉      | 142/361 [00:01<00:02, 75.48it/s]\u001B[A\n",
      "Batch:  42%|████▏     | 152/361 [00:01<00:02, 80.08it/s]\u001B[A\n",
      "Batch:  45%|████▌     | 163/361 [00:02<00:02, 86.94it/s]\u001B[A\n",
      "Batch:  48%|████▊     | 174/361 [00:02<00:02, 92.38it/s]\u001B[A\n",
      "Batch:  51%|█████     | 185/361 [00:02<00:01, 96.48it/s]\u001B[A\n",
      "Batch:  54%|█████▍    | 195/361 [00:02<00:01, 95.77it/s]\u001B[A\n",
      "Batch:  57%|█████▋    | 206/361 [00:02<00:01, 99.25it/s]\u001B[A\n",
      "Batch:  60%|██████    | 218/361 [00:02<00:01, 104.21it/s]\u001B[A\n",
      "Batch:  63%|██████▎   | 229/361 [00:02<00:01, 105.13it/s]\u001B[A\n",
      "Batch:  66%|██████▋   | 240/361 [00:02<00:01, 95.17it/s] \u001B[A\n",
      "Batch:  69%|██████▉   | 250/361 [00:02<00:01, 90.50it/s]\u001B[A\n",
      "Batch:  72%|███████▏  | 260/361 [00:03<00:01, 86.48it/s]\u001B[A\n",
      "Batch:  75%|███████▍  | 269/361 [00:03<00:01, 82.27it/s]\u001B[A\n",
      "Batch:  77%|███████▋  | 278/361 [00:03<00:01, 82.23it/s]\u001B[A\n",
      "Batch:  80%|███████▉  | 287/361 [00:03<00:00, 80.93it/s]\u001B[A\n",
      "Batch:  82%|████████▏ | 296/361 [00:03<00:00, 81.61it/s]\u001B[A\n",
      "Batch:  84%|████████▍ | 305/361 [00:03<00:00, 79.89it/s]\u001B[A\n",
      "Batch:  87%|████████▋ | 314/361 [00:03<00:00, 79.24it/s]\u001B[A\n",
      "Batch:  89%|████████▉ | 323/361 [00:03<00:00, 80.04it/s]\u001B[A\n",
      "Batch:  92%|█████████▏| 332/361 [00:03<00:00, 79.76it/s]\u001B[A\n",
      "Batch:  94%|█████████▍| 341/361 [00:04<00:00, 82.12it/s]\u001B[A\n",
      "Batch:  97%|█████████▋| 350/361 [00:04<00:00, 74.30it/s]\u001B[A\n",
      "Batch:  99%|█████████▉| 358/361 [00:04<00:00, 74.04it/s]\u001B[A\n",
      "                                                        \u001B[A\n",
      "Batch:   0%|          | 0/41 [00:00<?, ?it/s]\u001B[A\n",
      "Batch:  56%|█████▌    | 23/41 [00:00<00:00, 224.80it/s]\u001B[A\n",
      "Epoch:  73%|███████▎  | 11/15 [00:52<00:19,  4.84s/it] \u001B[A"
     ]
    },
    {
     "name": "stdout",
     "output_type": "stream",
     "text": [
      "defaultdict(<class 'list'>, {'epoch': [0, 1, 2, 3, 4, 5, 6, 7, 8, 9, 10], 'train_loss': [1.201069306798919, 0.8411755606408264, 0.8207952824325773, 0.8053944356883992, 0.7932356427581027, 0.7627526378037196, 0.7541403085241027, 0.7468218697735477, 0.7388016695461115, 0.730440544454675, 0.70787652162964], 'train_mse': [1.1449646949768066, 0.8260855078697205, 0.8064652681350708, 0.790850818157196, 0.7781486511230469, 0.7550997138023376, 0.7455329298973083, 0.7378636002540588, 0.7294624447822571, 0.7206934690475464, 0.7029990553855896], 'valid_loss': [0.8794754714500613, 0.8621613368755434, 0.8628146299501744, 0.8539448656686922, 0.8576397154389358, 0.8398315543081702, 0.8386517036251906, 0.8380538515928315, 0.8353465824592404, 0.8350527635434779, 0.8317062316871271], 'valid_mse': [0.865179181098938, 0.8521650433540344, 0.8522827625274658, 0.8452692627906799, 0.8470094799995422, 0.8272314667701721, 0.8259232044219971, 0.8261405229568481, 0.8269175887107849, 0.824329137802124, 0.8208140134811401]})\n"
     ]
    },
    {
     "name": "stderr",
     "output_type": "stream",
     "text": [
      "\n",
      "Batch:   0%|          | 0/361 [00:00<?, ?it/s]\u001B[A\n",
      "Batch:   1%|          | 3/361 [00:00<00:12, 27.61it/s]\u001B[A\n",
      "Batch:   2%|▏         | 7/361 [00:00<00:10, 33.99it/s]\u001B[A\n",
      "Batch:   4%|▎         | 13/361 [00:00<00:07, 44.88it/s]\u001B[A\n",
      "Batch:   6%|▌         | 20/361 [00:00<00:06, 52.06it/s]\u001B[A\n",
      "Batch:   7%|▋         | 26/361 [00:00<00:07, 43.11it/s]\u001B[A\n",
      "Batch:   9%|▊         | 31/361 [00:00<00:07, 43.68it/s]\u001B[A\n",
      "Batch:  11%|█         | 39/361 [00:00<00:06, 53.31it/s]\u001B[A\n",
      "Batch:  13%|█▎        | 46/361 [00:00<00:05, 57.76it/s]\u001B[A\n",
      "Batch:  14%|█▍        | 52/361 [00:01<00:05, 58.16it/s]\u001B[A\n",
      "Batch:  16%|█▌        | 58/361 [00:01<00:05, 55.51it/s]\u001B[A\n",
      "Batch:  18%|█▊        | 64/361 [00:01<00:05, 50.79it/s]\u001B[A\n",
      "Batch:  19%|█▉        | 70/361 [00:01<00:05, 53.04it/s]\u001B[A\n",
      "Batch:  21%|██        | 76/361 [00:01<00:07, 35.71it/s]\u001B[A\n",
      "Batch:  22%|██▏       | 81/361 [00:01<00:07, 35.91it/s]\u001B[A\n",
      "Batch:  24%|██▍       | 88/361 [00:01<00:06, 42.97it/s]\u001B[A\n",
      "Batch:  27%|██▋       | 97/361 [00:02<00:04, 52.81it/s]\u001B[A\n",
      "Batch:  29%|██▉       | 105/361 [00:02<00:04, 58.04it/s]\u001B[A\n",
      "Batch:  31%|███       | 112/361 [00:02<00:04, 60.69it/s]\u001B[A\n",
      "Batch:  33%|███▎      | 120/361 [00:02<00:03, 63.59it/s]\u001B[A\n",
      "Batch:  35%|███▌      | 128/361 [00:02<00:03, 66.52it/s]\u001B[A\n",
      "Batch:  38%|███▊      | 137/361 [00:02<00:03, 71.79it/s]\u001B[A\n",
      "Batch:  40%|████      | 146/361 [00:02<00:02, 76.24it/s]\u001B[A\n",
      "Batch:  43%|████▎     | 154/361 [00:02<00:02, 76.88it/s]\u001B[A\n",
      "Batch:  45%|████▌     | 163/361 [00:02<00:02, 78.29it/s]\u001B[A\n",
      "Batch:  47%|████▋     | 171/361 [00:03<00:02, 72.41it/s]\u001B[A\n",
      "Batch:  50%|████▉     | 179/361 [00:03<00:02, 71.64it/s]\u001B[A\n",
      "Batch:  52%|█████▏    | 187/361 [00:03<00:02, 68.48it/s]\u001B[A\n",
      "Batch:  54%|█████▍    | 195/361 [00:03<00:02, 69.70it/s]\u001B[A\n",
      "Batch:  57%|█████▋    | 204/361 [00:03<00:02, 74.83it/s]\u001B[A\n",
      "Batch:  59%|█████▊    | 212/361 [00:03<00:01, 75.49it/s]\u001B[A\n",
      "Batch:  62%|██████▏   | 223/361 [00:03<00:01, 83.90it/s]\u001B[A\n",
      "Batch:  65%|██████▍   | 233/361 [00:03<00:01, 88.00it/s]\u001B[A\n",
      "Batch:  67%|██████▋   | 243/361 [00:03<00:01, 91.15it/s]\u001B[A\n",
      "Batch:  70%|███████   | 254/361 [00:03<00:01, 95.60it/s]\u001B[A\n",
      "Batch:  73%|███████▎  | 265/361 [00:04<00:00, 98.37it/s]\u001B[A\n",
      "Batch:  76%|███████▋  | 276/361 [00:04<00:00, 98.07it/s]\u001B[A\n",
      "Batch:  80%|███████▉  | 287/361 [00:04<00:00, 100.10it/s]\u001B[A\n",
      "Batch:  83%|████████▎ | 298/361 [00:04<00:00, 102.67it/s]\u001B[A\n",
      "Batch:  86%|████████▌ | 309/361 [00:04<00:00, 95.87it/s] \u001B[A\n",
      "Batch:  88%|████████▊ | 319/361 [00:04<00:00, 96.70it/s]\u001B[A\n",
      "Batch:  91%|█████████▏| 330/361 [00:04<00:00, 99.61it/s]\u001B[A\n",
      "Batch:  94%|█████████▍| 341/361 [00:04<00:00, 101.33it/s]\u001B[A\n",
      "Batch:  98%|█████████▊| 353/361 [00:04<00:00, 106.18it/s]\u001B[A\n",
      "                                                         \u001B[A\n",
      "Batch:   0%|          | 0/41 [00:00<?, ?it/s]\u001B[A\n",
      "Batch:  73%|███████▎  | 30/41 [00:00<00:00, 290.78it/s]\u001B[A\n",
      "Epoch:  80%|████████  | 12/15 [00:58<00:14,  4.97s/it] \u001B[A"
     ]
    },
    {
     "name": "stdout",
     "output_type": "stream",
     "text": [
      "defaultdict(<class 'list'>, {'epoch': [0, 1, 2, 3, 4, 5, 6, 7, 8, 9, 10, 11], 'train_loss': [1.201069306798919, 0.8411755606408264, 0.8207952824325773, 0.8053944356883992, 0.7932356427581027, 0.7627526378037196, 0.7541403085241027, 0.7468218697735477, 0.7388016695461115, 0.730440544454675, 0.70787652162964, 0.7011598852202503], 'train_mse': [1.1449646949768066, 0.8260855078697205, 0.8064652681350708, 0.790850818157196, 0.7781486511230469, 0.7550997138023376, 0.7455329298973083, 0.7378636002540588, 0.7294624447822571, 0.7206934690475464, 0.7029990553855896, 0.6957352757453918], 'valid_loss': [0.8794754714500613, 0.8621613368755434, 0.8628146299501744, 0.8539448656686922, 0.8576397154389358, 0.8398315543081702, 0.8386517036251906, 0.8380538515928315, 0.8353465824592404, 0.8350527635434779, 0.8317062316871271, 0.8302480622035701], 'valid_mse': [0.865179181098938, 0.8521650433540344, 0.8522827625274658, 0.8452692627906799, 0.8470094799995422, 0.8272314667701721, 0.8259232044219971, 0.8261405229568481, 0.8269175887107849, 0.824329137802124, 0.8208140134811401, 0.818601131439209]})\n"
     ]
    },
    {
     "name": "stderr",
     "output_type": "stream",
     "text": [
      "\n",
      "Batch:   0%|          | 0/361 [00:00<?, ?it/s]\u001B[A\n",
      "Batch:   1%|          | 3/361 [00:00<00:12, 27.91it/s]\u001B[A\n",
      "Batch:   2%|▏         | 9/361 [00:00<00:07, 45.75it/s]\u001B[A\n",
      "Batch:   5%|▍         | 18/361 [00:00<00:05, 62.01it/s]\u001B[A\n",
      "Batch:   7%|▋         | 25/361 [00:00<00:05, 64.81it/s]\u001B[A\n",
      "Batch:   9%|▉         | 32/361 [00:00<00:05, 62.24it/s]\u001B[A\n",
      "Batch:  11%|█         | 39/361 [00:00<00:05, 61.66it/s]\u001B[A\n",
      "Batch:  13%|█▎        | 46/361 [00:00<00:05, 59.78it/s]\u001B[A\n",
      "Batch:  15%|█▍        | 53/361 [00:00<00:05, 60.11it/s]\u001B[A\n",
      "Batch:  17%|█▋        | 60/361 [00:01<00:05, 54.51it/s]\u001B[A\n",
      "Batch:  18%|█▊        | 66/361 [00:01<00:06, 45.89it/s]\u001B[A\n",
      "Batch:  20%|█▉        | 72/361 [00:01<00:05, 48.95it/s]\u001B[A\n",
      "Batch:  22%|██▏       | 78/361 [00:01<00:05, 49.94it/s]\u001B[A\n",
      "Batch:  23%|██▎       | 84/361 [00:01<00:05, 49.63it/s]\u001B[A\n",
      "Batch:  25%|██▍       | 90/361 [00:01<00:05, 50.26it/s]\u001B[A\n",
      "Batch:  27%|██▋       | 96/361 [00:01<00:05, 50.56it/s]\u001B[A\n",
      "Batch:  28%|██▊       | 102/361 [00:01<00:05, 47.68it/s]\u001B[A\n",
      "Batch:  30%|██▉       | 107/361 [00:02<00:05, 45.59it/s]\u001B[A\n",
      "Batch:  31%|███▏      | 113/361 [00:02<00:05, 48.01it/s]\u001B[A\n",
      "Batch:  33%|███▎      | 120/361 [00:02<00:04, 52.44it/s]\u001B[A\n",
      "Batch:  35%|███▌      | 128/361 [00:02<00:03, 59.37it/s]\u001B[A\n",
      "Batch:  38%|███▊      | 136/361 [00:02<00:03, 63.58it/s]\u001B[A\n",
      "Batch:  40%|███▉      | 144/361 [00:02<00:03, 66.68it/s]\u001B[A\n",
      "Batch:  42%|████▏     | 153/361 [00:02<00:02, 71.74it/s]\u001B[A\n",
      "Batch:  45%|████▍     | 161/361 [00:02<00:02, 73.95it/s]\u001B[A\n",
      "Batch:  47%|████▋     | 170/361 [00:02<00:02, 76.01it/s]\u001B[A\n",
      "Batch:  49%|████▉     | 178/361 [00:03<00:02, 74.52it/s]\u001B[A\n",
      "Batch:  52%|█████▏    | 186/361 [00:03<00:02, 75.14it/s]\u001B[A\n",
      "Batch:  54%|█████▎    | 194/361 [00:03<00:02, 72.33it/s]\u001B[A\n",
      "Batch:  57%|█████▋    | 206/361 [00:03<00:01, 84.24it/s]\u001B[A\n",
      "Batch:  60%|██████    | 217/361 [00:03<00:01, 90.19it/s]\u001B[A\n",
      "Batch:  64%|██████▎   | 230/361 [00:03<00:01, 99.33it/s]\u001B[A\n",
      "Batch:  67%|██████▋   | 243/361 [00:03<00:01, 106.20it/s]\u001B[A\n",
      "Batch:  71%|███████   | 257/361 [00:03<00:00, 115.51it/s]\u001B[A\n",
      "Batch:  75%|███████▍  | 269/361 [00:03<00:00, 114.13it/s]\u001B[A\n",
      "Batch:  78%|███████▊  | 281/361 [00:04<00:00, 111.38it/s]\u001B[A\n",
      "Batch:  81%|████████  | 293/361 [00:04<00:00, 106.81it/s]\u001B[A\n",
      "Batch:  84%|████████▍ | 304/361 [00:04<00:00, 98.77it/s] \u001B[A\n",
      "Batch:  87%|████████▋ | 315/361 [00:04<00:00, 101.12it/s]\u001B[A\n",
      "Batch:  90%|█████████ | 326/361 [00:04<00:00, 101.36it/s]\u001B[A\n",
      "Batch:  93%|█████████▎| 337/361 [00:04<00:00, 102.54it/s]\u001B[A\n",
      "Batch:  97%|█████████▋| 349/361 [00:04<00:00, 106.55it/s]\u001B[A\n",
      "Batch: 100%|██████████| 361/361 [00:04<00:00, 96.84it/s] \u001B[A\n",
      "                                                        \u001B[A\n",
      "Batch:   0%|          | 0/41 [00:00<?, ?it/s]\u001B[A\n",
      "Batch:  78%|███████▊  | 32/41 [00:00<00:00, 310.55it/s]\u001B[A\n",
      "Epoch:  87%|████████▋ | 13/15 [01:03<00:09,  4.98s/it] \u001B[A"
     ]
    },
    {
     "name": "stdout",
     "output_type": "stream",
     "text": [
      "defaultdict(<class 'list'>, {'epoch': [0, 1, 2, 3, 4, 5, 6, 7, 8, 9, 10, 11, 12], 'train_loss': [1.201069306798919, 0.8411755606408264, 0.8207952824325773, 0.8053944356883992, 0.7932356427581027, 0.7627526378037196, 0.7541403085241027, 0.7468218697735477, 0.7388016695461115, 0.730440544454675, 0.70787652162964, 0.7011598852202503, 0.6952024001494008], 'train_mse': [1.1449646949768066, 0.8260855078697205, 0.8064652681350708, 0.790850818157196, 0.7781486511230469, 0.7550997138023376, 0.7455329298973083, 0.7378636002540588, 0.7294624447822571, 0.7206934690475464, 0.7029990553855896, 0.6957352757453918, 0.6899204254150391], 'valid_loss': [0.8794754714500613, 0.8621613368755434, 0.8628146299501744, 0.8539448656686922, 0.8576397154389358, 0.8398315543081702, 0.8386517036251906, 0.8380538515928315, 0.8353465824592404, 0.8350527635434779, 0.8317062316871271, 0.8302480622035701, 0.8302524744010553], 'valid_mse': [0.865179181098938, 0.8521650433540344, 0.8522827625274658, 0.8452692627906799, 0.8470094799995422, 0.8272314667701721, 0.8259232044219971, 0.8261405229568481, 0.8269175887107849, 0.824329137802124, 0.8208140134811401, 0.818601131439209, 0.8200415968894958]})\n"
     ]
    },
    {
     "name": "stderr",
     "output_type": "stream",
     "text": [
      "\n",
      "Batch:   0%|          | 0/361 [00:00<?, ?it/s]\u001B[A\n",
      "Batch:   2%|▏         | 6/361 [00:00<00:06, 58.47it/s]\u001B[A\n",
      "Batch:   3%|▎         | 12/361 [00:00<00:06, 57.89it/s]\u001B[A\n",
      "Batch:   5%|▌         | 19/361 [00:00<00:05, 59.61it/s]\u001B[A\n",
      "Batch:   7%|▋         | 27/361 [00:00<00:05, 65.17it/s]\u001B[A\n",
      "Batch:  10%|▉         | 36/361 [00:00<00:04, 71.02it/s]\u001B[A\n",
      "Batch:  12%|█▏        | 44/361 [00:00<00:04, 72.10it/s]\u001B[A\n",
      "Batch:  15%|█▍        | 53/361 [00:00<00:04, 76.69it/s]\u001B[A\n",
      "Batch:  17%|█▋        | 62/361 [00:00<00:03, 80.61it/s]\u001B[A\n",
      "Batch:  20%|█▉        | 72/361 [00:00<00:03, 85.11it/s]\u001B[A\n",
      "Batch:  22%|██▏       | 81/361 [00:01<00:03, 82.49it/s]\u001B[A\n",
      "Batch:  25%|██▍       | 90/361 [00:01<00:03, 70.27it/s]\u001B[A\n",
      "Batch:  27%|██▋       | 99/361 [00:01<00:03, 74.85it/s]\u001B[A\n",
      "Batch:  30%|██▉       | 107/361 [00:01<00:03, 73.79it/s]\u001B[A\n",
      "Batch:  32%|███▏      | 116/361 [00:01<00:03, 76.38it/s]\u001B[A\n",
      "Batch:  34%|███▍      | 124/361 [00:01<00:03, 73.86it/s]\u001B[A\n",
      "Batch:  37%|███▋      | 132/361 [00:01<00:03, 65.56it/s]\u001B[A\n",
      "Batch:  39%|███▉      | 140/361 [00:01<00:03, 68.77it/s]\u001B[A\n",
      "Batch:  41%|████      | 148/361 [00:02<00:03, 66.71it/s]\u001B[A\n",
      "Batch:  43%|████▎     | 155/361 [00:02<00:03, 66.91it/s]\u001B[A\n",
      "Batch:  45%|████▍     | 162/361 [00:02<00:03, 65.98it/s]\u001B[A\n",
      "Batch:  47%|████▋     | 171/361 [00:02<00:02, 72.22it/s]\u001B[A\n",
      "Batch:  50%|█████     | 181/361 [00:02<00:02, 77.94it/s]\u001B[A\n",
      "Batch:  53%|█████▎    | 191/361 [00:02<00:02, 83.13it/s]\u001B[A\n",
      "Batch:  56%|█████▌    | 202/361 [00:02<00:01, 90.32it/s]\u001B[A\n",
      "Batch:  59%|█████▉    | 213/361 [00:02<00:01, 95.07it/s]\u001B[A\n",
      "Batch:  62%|██████▏   | 223/361 [00:02<00:01, 88.96it/s]\u001B[A\n",
      "Batch:  65%|██████▍   | 233/361 [00:03<00:01, 87.52it/s]\u001B[A\n",
      "Batch:  67%|██████▋   | 242/361 [00:03<00:01, 79.15it/s]\u001B[A\n",
      "Batch:  70%|███████   | 254/361 [00:03<00:01, 87.74it/s]\u001B[A\n",
      "Batch:  73%|███████▎  | 263/361 [00:03<00:01, 84.70it/s]\u001B[A\n",
      "Batch:  75%|███████▌  | 272/361 [00:03<00:01, 81.79it/s]\u001B[A\n",
      "Batch:  78%|███████▊  | 281/361 [00:03<00:00, 80.59it/s]\u001B[A\n",
      "Batch:  80%|████████  | 290/361 [00:03<00:00, 72.89it/s]\u001B[A\n",
      "Batch:  83%|████████▎ | 298/361 [00:03<00:00, 70.62it/s]\u001B[A\n",
      "Batch:  85%|████████▍ | 306/361 [00:04<00:00, 69.91it/s]\u001B[A\n",
      "Batch:  87%|████████▋ | 314/361 [00:04<00:00, 67.54it/s]\u001B[A\n",
      "Batch:  89%|████████▉ | 322/361 [00:04<00:00, 69.71it/s]\u001B[A\n",
      "Batch:  91%|█████████▏| 330/361 [00:04<00:00, 69.08it/s]\u001B[A\n",
      "Batch:  94%|█████████▎| 338/361 [00:04<00:00, 69.90it/s]\u001B[A\n",
      "Batch:  96%|█████████▌| 346/361 [00:04<00:00, 63.89it/s]\u001B[A\n",
      "Batch:  98%|█████████▊| 353/361 [00:04<00:00, 63.45it/s]\u001B[A\n",
      "Batch: 100%|██████████| 361/361 [00:04<00:00, 57.64it/s]\u001B[A\n",
      "                                                        \u001B[A\n",
      "Batch:   0%|          | 0/41 [00:00<?, ?it/s]\u001B[A\n",
      "Batch:  37%|███▋      | 15/41 [00:00<00:00, 146.93it/s]\u001B[A\n",
      "Batch:  95%|█████████▌| 39/41 [00:00<00:00, 196.32it/s]\u001B[A\n",
      "Epoch:  93%|█████████▎| 14/15 [01:08<00:05,  5.05s/it] \u001B[A"
     ]
    },
    {
     "name": "stdout",
     "output_type": "stream",
     "text": [
      "defaultdict(<class 'list'>, {'epoch': [0, 1, 2, 3, 4, 5, 6, 7, 8, 9, 10, 11, 12, 13], 'train_loss': [1.201069306798919, 0.8411755606408264, 0.8207952824325773, 0.8053944356883992, 0.7932356427581027, 0.7627526378037196, 0.7541403085241027, 0.7468218697735477, 0.7388016695461115, 0.730440544454675, 0.70787652162964, 0.7011598852202503, 0.6952024001494008, 0.6894688764767634], 'train_mse': [1.1449646949768066, 0.8260855078697205, 0.8064652681350708, 0.790850818157196, 0.7781486511230469, 0.7550997138023376, 0.7455329298973083, 0.7378636002540588, 0.7294624447822571, 0.7206934690475464, 0.7029990553855896, 0.6957352757453918, 0.6899204254150391, 0.68399977684021], 'valid_loss': [0.8794754714500613, 0.8621613368755434, 0.8628146299501744, 0.8539448656686922, 0.8576397154389358, 0.8398315543081702, 0.8386517036251906, 0.8380538515928315, 0.8353465824592404, 0.8350527635434779, 0.8317062316871271, 0.8302480622035701, 0.8302524744010553, 0.8306073095740342], 'valid_mse': [0.865179181098938, 0.8521650433540344, 0.8522827625274658, 0.8452692627906799, 0.8470094799995422, 0.8272314667701721, 0.8259232044219971, 0.8261405229568481, 0.8269175887107849, 0.824329137802124, 0.8208140134811401, 0.818601131439209, 0.8200415968894958, 0.8196497559547424]})\n"
     ]
    },
    {
     "name": "stderr",
     "output_type": "stream",
     "text": [
      "\n",
      "Batch:   0%|          | 0/361 [00:00<?, ?it/s]\u001B[A\n",
      "Batch:   1%|          | 2/361 [00:00<00:21, 16.97it/s]\u001B[A\n",
      "Batch:   1%|          | 4/361 [00:00<00:24, 14.69it/s]\u001B[A\n",
      "Batch:   2%|▏         | 7/361 [00:00<00:17, 20.15it/s]\u001B[A\n",
      "Batch:   4%|▎         | 13/361 [00:00<00:10, 32.42it/s]\u001B[A\n",
      "Batch:   5%|▌         | 19/361 [00:00<00:08, 40.47it/s]\u001B[A\n",
      "Batch:   7%|▋         | 25/361 [00:00<00:07, 46.21it/s]\u001B[A\n",
      "Batch:   9%|▊         | 31/361 [00:00<00:06, 49.27it/s]\u001B[A\n",
      "Batch:  10%|█         | 37/361 [00:00<00:06, 49.24it/s]\u001B[A\n",
      "Batch:  12%|█▏        | 42/361 [00:01<00:06, 47.99it/s]\u001B[A\n",
      "Batch:  13%|█▎        | 47/361 [00:01<00:06, 48.08it/s]\u001B[A\n",
      "Batch:  15%|█▍        | 54/361 [00:01<00:05, 53.68it/s]\u001B[A\n",
      "Batch:  17%|█▋        | 60/361 [00:01<00:05, 52.38it/s]\u001B[A\n",
      "Batch:  19%|█▉        | 70/361 [00:01<00:04, 65.27it/s]\u001B[A\n",
      "Batch:  23%|██▎       | 82/361 [00:01<00:03, 79.73it/s]\u001B[A\n",
      "Batch:  25%|██▌       | 91/361 [00:01<00:03, 78.11it/s]\u001B[A\n",
      "Batch:  27%|██▋       | 99/361 [00:01<00:03, 67.50it/s]\u001B[A\n",
      "Batch:  30%|██▉       | 107/361 [00:01<00:03, 67.43it/s]\u001B[A\n",
      "Batch:  32%|███▏      | 117/361 [00:02<00:03, 75.01it/s]\u001B[A\n",
      "Batch:  35%|███▍      | 126/361 [00:02<00:03, 75.28it/s]\u001B[A\n",
      "Batch:  38%|███▊      | 136/361 [00:02<00:02, 79.62it/s]\u001B[A\n",
      "Batch:  40%|████      | 145/361 [00:02<00:02, 74.48it/s]\u001B[A\n",
      "Batch:  42%|████▏     | 153/361 [00:02<00:02, 70.11it/s]\u001B[A\n",
      "Batch:  45%|████▌     | 164/361 [00:02<00:02, 79.24it/s]\u001B[A\n",
      "Batch:  49%|████▉     | 177/361 [00:02<00:01, 92.62it/s]\u001B[A\n",
      "Batch:  53%|█████▎    | 190/361 [00:02<00:01, 102.22it/s]\u001B[A\n",
      "Batch:  56%|█████▌    | 203/361 [00:02<00:01, 109.58it/s]\u001B[A\n",
      "Batch:  60%|█████▉    | 215/361 [00:03<00:01, 98.69it/s] \u001B[A\n",
      "Batch:  63%|██████▎   | 226/361 [00:03<00:01, 101.26it/s]\u001B[A\n",
      "Batch:  66%|██████▌   | 239/361 [00:03<00:01, 107.35it/s]\u001B[A\n",
      "Batch:  70%|██████▉   | 252/361 [00:03<00:00, 112.46it/s]\u001B[A\n",
      "Batch:  74%|███████▎  | 266/361 [00:03<00:00, 118.07it/s]\u001B[A\n",
      "Batch:  78%|███████▊  | 280/361 [00:03<00:00, 121.97it/s]\u001B[A\n",
      "Batch:  81%|████████  | 293/361 [00:03<00:00, 123.21it/s]\u001B[A\n",
      "Batch:  85%|████████▍ | 306/361 [00:03<00:00, 122.05it/s]\u001B[A\n",
      "Batch:  88%|████████▊ | 319/361 [00:03<00:00, 121.30it/s]\u001B[A\n",
      "Batch:  92%|█████████▏| 332/361 [00:04<00:00, 121.51it/s]\u001B[A\n",
      "Batch:  96%|█████████▌| 345/361 [00:04<00:00, 121.55it/s]\u001B[A\n",
      "Batch:  99%|█████████▉| 358/361 [00:04<00:00, 121.21it/s]\u001B[A\n",
      "                                                         \u001B[A\n",
      "Batch:   0%|          | 0/41 [00:00<?, ?it/s]\u001B[A\n",
      "Batch:  76%|███████▌  | 31/41 [00:00<00:00, 309.57it/s]\u001B[A\n",
      "Epoch: 100%|██████████| 15/15 [01:12<00:00,  4.86s/it] \u001B[A"
     ]
    },
    {
     "name": "stdout",
     "output_type": "stream",
     "text": [
      "defaultdict(<class 'list'>, {'epoch': [0, 1, 2, 3, 4, 5, 6, 7, 8, 9, 10, 11, 12, 13, 14], 'train_loss': [1.201069306798919, 0.8411755606408264, 0.8207952824325773, 0.8053944356883992, 0.7932356427581027, 0.7627526378037196, 0.7541403085241027, 0.7468218697735477, 0.7388016695461115, 0.730440544454675, 0.70787652162964, 0.7011598852202503, 0.6952024001494008, 0.6894688764767634, 0.6836097469950647], 'train_mse': [1.1449646949768066, 0.8260855078697205, 0.8064652681350708, 0.790850818157196, 0.7781486511230469, 0.7550997138023376, 0.7455329298973083, 0.7378636002540588, 0.7294624447822571, 0.7206934690475464, 0.7029990553855896, 0.6957352757453918, 0.6899204254150391, 0.68399977684021, 0.6778567433357239], 'valid_loss': [0.8794754714500613, 0.8621613368755434, 0.8628146299501744, 0.8539448656686922, 0.8576397154389358, 0.8398315543081702, 0.8386517036251906, 0.8380538515928315, 0.8353465824592404, 0.8350527635434779, 0.8317062316871271, 0.8302480622035701, 0.8302524744010553, 0.8306073095740342, 0.8307011767131526], 'valid_mse': [0.865179181098938, 0.8521650433540344, 0.8522827625274658, 0.8452692627906799, 0.8470094799995422, 0.8272314667701721, 0.8259232044219971, 0.8261405229568481, 0.8269175887107849, 0.824329137802124, 0.8208140134811401, 0.818601131439209, 0.8200415968894958, 0.8196497559547424, 0.8207512497901917]})\n"
     ]
    },
    {
     "name": "stderr",
     "output_type": "stream",
     "text": [
      "\n"
     ]
    },
    {
     "data": {
      "text/plain": "<deeprec.torch.trainer.Trainer at 0x17bd16790>"
     },
     "execution_count": 195,
     "metadata": {},
     "output_type": "execute_result"
    }
   ],
   "source": [
    "NOW = datetime.now().strftime('%Y%m%d-%H%M')\n",
    "MODEL_NAME = 'simple-collab-filter'\n",
    "LOG_DIR = ROOT.joinpath('runs', MODEL_NAME, NOW)\n",
    "BATCH = 2500\n",
    "EPOCHS = 15\n",
    "\n",
    "train_loader = DataLoader(train, batch_size=BATCH, shuffle=True, collate_fn=collator)\n",
    "test_loader = DataLoader(test, batch_size=BATCH, collate_fn=collator)\n",
    "\n",
    "device = set_device()\n",
    "mod = RecModel(metadata=meta)\n",
    "opt = torch.optim.AdamW(mod.parameters(), lr=1e-2)\n",
    "sch = torch.optim.lr_scheduler.StepLR(opt, step_size=5, gamma=.5)\n",
    "\n",
    "trainer = Trainer(\n",
    "    mod, epochs=EPOCHS, device=device, log_dir=LOG_DIR, checkpoint_file=LOG_DIR.joinpath('model.pt'),\n",
    "    optimizer=opt, score_funcs={'mse': torchmetrics.MeanSquaredError()}, lr_schedule=sch\n",
    ")\n",
    "trainer.fit(train_loader, test_loader, verbose=True)"
   ],
   "metadata": {
    "collapsed": false
   }
  },
  {
   "cell_type": "code",
   "execution_count": 154,
   "outputs": [
    {
     "data": {
      "text/plain": "<Figure size 432x288 with 1 Axes>",
      "image/png": "[encoded data removed]"
     },
     "metadata": {
      "needs_background": "light"
     },
     "output_type": "display_data"
    }
   ],
   "source": [
    "import matplotlib.pyplot as plt\n",
    "\n",
    "plt.plot(trainer.results['valid_mse'], label='Valid')\n",
    "plt.plot(trainer.results['train_mse'], label='Train')\n",
    "plt.legend()\n",
    "plt.ylabel('MSE')\n",
    "plt.xlabel('Epoch')\n",
    "plt.title('MSE by Epoch')\n",
    "plt.show()"
   ],
   "metadata": {
    "collapsed": false
   }
  },
  {
   "cell_type": "code",
   "execution_count": 155,
   "outputs": [
    {
     "data": {
      "text/plain": "{0: tensor(0.9303),\n 1: tensor(0.9240),\n 2: tensor(0.9324),\n 3: tensor(0.9173),\n 4: tensor(0.9185),\n 5: tensor(0.9123),\n 6: tensor(0.9119),\n 7: tensor(0.9107),\n 8: tensor(0.9155),\n 9: tensor(0.9166),\n 10: tensor(0.9084),\n 11: tensor(0.9100),\n 12: tensor(0.9096),\n 13: tensor(0.9100),\n 14: tensor(0.9107)}"
     },
     "execution_count": 155,
     "metadata": {},
     "output_type": "execute_result"
    }
   ],
   "source": [
    "{e:v for e,v in enumerate(torch.sqrt(torch.tensor(trainer.results['valid_mse'])))}"
   ],
   "metadata": {
    "collapsed": false
   }
  },
  {
   "cell_type": "markdown",
   "source": [
    "<hr>\n",
    "\n",
    "# DEBUGGING"
   ],
   "metadata": {
    "collapsed": false
   }
  },
  {
   "cell_type": "code",
   "execution_count": 260,
   "outputs": [],
   "source": [
    "x = pd.read_parquet('../data/train.parq.gzip').drop('rating', axis=1)\n",
    "y = pd.read_parquet('../data/train.parq.gzip', columns=['rating'])"
   ],
   "metadata": {
    "collapsed": false
   }
  },
  {
   "cell_type": "code",
   "execution_count": 265,
   "outputs": [
    {
     "data": {
      "text/plain": "[3.663471221923828,\n 3.6577887535095215,\n 3.576707363128662,\n 3.2749342918395996,\n 2.3884716033935547,\n 3.4115192890167236,\n 3.086843490600586,\n 3.295685052871704,\n 2.7017476558685303,\n 3.8420557975769043]"
     },
     "execution_count": 265,
     "metadata": {},
     "output_type": "execute_result"
    }
   ],
   "source": [
    "user = 1489\n",
    "movies = [int(x) for x in list(meta['movie'].keys())[0:10]]\n",
    "\n",
    "encoded_user = torch.tensor(user_enc.transform([user]))\n",
    "# movies = torch.tensor(movie_enc.transform([2858]))\n",
    "encoded_movies = torch.tensor(movie_enc.transform(movies))\n",
    "\n",
    "preds = []\n",
    "for movie in encoded_movies:\n",
    "    preds.append(mod.predict({'user': encoded_user, 'movie': torch.tensor([movie])}).item())\n",
    "\n",
    "preds"
   ],
   "metadata": {
    "collapsed": false
   }
  },
  {
   "cell_type": "code",
   "execution_count": 266,
   "outputs": [
    {
     "data": {
      "text/plain": "   movie  pred_rating\n0   2858     3.663471\n1    260     3.657789\n2   1196     3.576707\n3   1210     3.274934\n4    480     2.388472\n5   2028     3.411519\n6    589     3.086843\n7   2571     3.295685\n8   1270     2.701748\n9    593     3.842056",
      "text/html": "<div>\n<style scoped>\n    .dataframe tbody tr th:only-of-type {\n        vertical-align: middle;\n    }\n\n    .dataframe tbody tr th {\n        vertical-align: top;\n    }\n\n    .dataframe thead th {\n        text-align: right;\n    }\n</style>\n<table border=\"1\" class=\"dataframe\">\n  <thead>\n    <tr style=\"text-align: right;\">\n      <th></th>\n      <th>movie</th>\n      <th>pred_rating</th>\n    </tr>\n  </thead>\n  <tbody>\n    <tr>\n      <th>0</th>\n      <td>2858</td>\n      <td>3.663471</td>\n    </tr>\n    <tr>\n      <th>1</th>\n      <td>260</td>\n      <td>3.657789</td>\n    </tr>\n    <tr>\n      <th>2</th>\n      <td>1196</td>\n      <td>3.576707</td>\n    </tr>\n    <tr>\n      <th>3</th>\n      <td>1210</td>\n      <td>3.274934</td>\n    </tr>\n    <tr>\n      <th>4</th>\n      <td>480</td>\n      <td>2.388472</td>\n    </tr>\n    <tr>\n      <th>5</th>\n      <td>2028</td>\n      <td>3.411519</td>\n    </tr>\n    <tr>\n      <th>6</th>\n      <td>589</td>\n      <td>3.086843</td>\n    </tr>\n    <tr>\n      <th>7</th>\n      <td>2571</td>\n      <td>3.295685</td>\n    </tr>\n    <tr>\n      <th>8</th>\n      <td>1270</td>\n      <td>2.701748</td>\n    </tr>\n    <tr>\n      <th>9</th>\n      <td>593</td>\n      <td>3.842056</td>\n    </tr>\n  </tbody>\n</table>\n</div>"
     },
     "execution_count": 266,
     "metadata": {},
     "output_type": "execute_result"
    }
   ],
   "source": [
    "results = pd.DataFrame({'movie': movies, 'pred_rating': preds})\n",
    "results"
   ],
   "metadata": {
    "collapsed": false
   }
  },
  {
   "cell_type": "code",
   "execution_count": 267,
   "outputs": [
    {
     "data": {
      "text/plain": "        user  movie  hour  day_of_week  month                  ts  gender  \\\nindex                                                                       \n102718  1489    589    20            0     11 2000-11-20 20:45:56       1   \n141055  1489   2571    20            0     11 2000-11-20 20:24:25       1   \n47479   1489    260    20            0     11 2000-11-20 20:21:52       1   \n117260  1489    480    20            0     11 2000-11-20 20:25:13       1   \n71443   1489   1210    20            0     11 2000-11-20 20:46:17       1   \n23863   1489   1270    20            0     11 2000-11-20 20:45:56       1   \n129084  1489   1196    19            0     11 2000-11-20 19:59:46       1   \n107909  1489   2858    22            0     11 2000-11-20 22:20:36       1   \n\n        age  occupation      city  ...  embed_15  embed_16  embed_17  \\\nindex                              ...                                 \n102718   35           2  Evanston  ...  0.396910  0.143238  1.457050   \n141055   35           2  Evanston  ... -0.119660  0.814860  0.704639   \n47479    35           2  Evanston  ...  0.759896  1.180367  1.088754   \n117260   35           2  Evanston  ... -0.187000  0.335541  0.460427   \n71443    35           2  Evanston  ...  1.930435  1.984775  3.203664   \n23863    35           2  Evanston  ... -1.043880  0.006530 -2.255220   \n129084   35           2  Evanston  ... -0.160883 -1.184947  0.796664   \n107909   35           2  Evanston  ... -0.250560  0.730900  0.378270   \n\n        embed_18  embed_19  embed_20  embed_21  embed_22  embed_23  embed_24  \nindex                                                                         \n102718   0.89631  0.555875 -1.050984  0.439608 -0.394870  0.262000 -0.055144  \n141055   0.56349  0.777620 -1.204130 -0.247860  0.100980 -1.281000 -0.359768  \n47479   -2.49483  1.888920 -3.611867 -0.968673 -0.477968 -2.449346  0.925348  \n117260  -0.20839  0.745540 -0.621420  0.607130 -0.357409 -2.273740  1.774750  \n71443   -2.36986  0.856150 -5.089112  2.447014 -1.729150 -3.658910  2.566328  \n23863   -0.88403 -1.421790 -1.366555 -0.770560  1.041650 -0.876050 -1.741870  \n129084  -2.08923  2.708920 -5.271990 -0.341982  2.108941 -5.036370  1.916858  \n107909   0.77064  1.262100 -1.366550  0.106610 -1.792140 -1.323940  0.102870  \n\n[8 rows x 55 columns]",
      "text/html": "<div>\n<style scoped>\n    .dataframe tbody tr th:only-of-type {\n        vertical-align: middle;\n    }\n\n    .dataframe tbody tr th {\n        vertical-align: top;\n    }\n\n    .dataframe thead th {\n        text-align: right;\n    }\n</style>\n<table border=\"1\" class=\"dataframe\">\n  <thead>\n    <tr style=\"text-align: right;\">\n      <th></th>\n      <th>user</th>\n      <th>movie</th>\n      <th>hour</th>\n      <th>day_of_week</th>\n      <th>month</th>\n      <th>ts</th>\n      <th>gender</th>\n      <th>age</th>\n      <th>occupation</th>\n      <th>city</th>\n      <th>...</th>\n      <th>embed_15</th>\n      <th>embed_16</th>\n      <th>embed_17</th>\n      <th>embed_18</th>\n      <th>embed_19</th>\n      <th>embed_20</th>\n      <th>embed_21</th>\n      <th>embed_22</th>\n      <th>embed_23</th>\n      <th>embed_24</th>\n    </tr>\n    <tr>\n      <th>index</th>\n      <th></th>\n      <th></th>\n      <th></th>\n      <th></th>\n      <th></th>\n      <th></th>\n      <th></th>\n      <th></th>\n      <th></th>\n      <th></th>\n      <th></th>\n      <th></th>\n      <th></th>\n      <th></th>\n      <th></th>\n      <th></th>\n      <th></th>\n      <th></th>\n      <th></th>\n      <th></th>\n      <th></th>\n    </tr>\n  </thead>\n  <tbody>\n    <tr>\n      <th>102718</th>\n      <td>1489</td>\n      <td>589</td>\n      <td>20</td>\n      <td>0</td>\n      <td>11</td>\n      <td>2000-11-20 20:45:56</td>\n      <td>1</td>\n      <td>35</td>\n      <td>2</td>\n      <td>Evanston</td>\n      <td>...</td>\n      <td>0.396910</td>\n      <td>0.143238</td>\n      <td>1.457050</td>\n      <td>0.89631</td>\n      <td>0.555875</td>\n      <td>-1.050984</td>\n      <td>0.439608</td>\n      <td>-0.394870</td>\n      <td>0.262000</td>\n      <td>-0.055144</td>\n    </tr>\n    <tr>\n      <th>141055</th>\n      <td>1489</td>\n      <td>2571</td>\n      <td>20</td>\n      <td>0</td>\n      <td>11</td>\n      <td>2000-11-20 20:24:25</td>\n      <td>1</td>\n      <td>35</td>\n      <td>2</td>\n      <td>Evanston</td>\n      <td>...</td>\n      <td>-0.119660</td>\n      <td>0.814860</td>\n      <td>0.704639</td>\n      <td>0.56349</td>\n      <td>0.777620</td>\n      <td>-1.204130</td>\n      <td>-0.247860</td>\n      <td>0.100980</td>\n      <td>-1.281000</td>\n      <td>-0.359768</td>\n    </tr>\n    <tr>\n      <th>47479</th>\n      <td>1489</td>\n      <td>260</td>\n      <td>20</td>\n      <td>0</td>\n      <td>11</td>\n      <td>2000-11-20 20:21:52</td>\n      <td>1</td>\n      <td>35</td>\n      <td>2</td>\n      <td>Evanston</td>\n      <td>...</td>\n      <td>0.759896</td>\n      <td>1.180367</td>\n      <td>1.088754</td>\n      <td>-2.49483</td>\n      <td>1.888920</td>\n      <td>-3.611867</td>\n      <td>-0.968673</td>\n      <td>-0.477968</td>\n      <td>-2.449346</td>\n      <td>0.925348</td>\n    </tr>\n    <tr>\n      <th>117260</th>\n      <td>1489</td>\n      <td>480</td>\n      <td>20</td>\n      <td>0</td>\n      <td>11</td>\n      <td>2000-11-20 20:25:13</td>\n      <td>1</td>\n      <td>35</td>\n      <td>2</td>\n      <td>Evanston</td>\n      <td>...</td>\n      <td>-0.187000</td>\n      <td>0.335541</td>\n      <td>0.460427</td>\n      <td>-0.20839</td>\n      <td>0.745540</td>\n      <td>-0.621420</td>\n      <td>0.607130</td>\n      <td>-0.357409</td>\n      <td>-2.273740</td>\n      <td>1.774750</td>\n    </tr>\n    <tr>\n      <th>71443</th>\n      <td>1489</td>\n      <td>1210</td>\n      <td>20</td>\n      <td>0</td>\n      <td>11</td>\n      <td>2000-11-20 20:46:17</td>\n      <td>1</td>\n      <td>35</td>\n      <td>2</td>\n      <td>Evanston</td>\n      <td>...</td>\n      <td>1.930435</td>\n      <td>1.984775</td>\n      <td>3.203664</td>\n      <td>-2.36986</td>\n      <td>0.856150</td>\n      <td>-5.089112</td>\n      <td>2.447014</td>\n      <td>-1.729150</td>\n      <td>-3.658910</td>\n      <td>2.566328</td>\n    </tr>\n    <tr>\n      <th>23863</th>\n      <td>1489</td>\n      <td>1270</td>\n      <td>20</td>\n      <td>0</td>\n      <td>11</td>\n      <td>2000-11-20 20:45:56</td>\n      <td>1</td>\n      <td>35</td>\n      <td>2</td>\n      <td>Evanston</td>\n      <td>...</td>\n      <td>-1.043880</td>\n      <td>0.006530</td>\n      <td>-2.255220</td>\n      <td>-0.88403</td>\n      <td>-1.421790</td>\n      <td>-1.366555</td>\n      <td>-0.770560</td>\n      <td>1.041650</td>\n      <td>-0.876050</td>\n      <td>-1.741870</td>\n    </tr>\n    <tr>\n      <th>129084</th>\n      <td>1489</td>\n      <td>1196</td>\n      <td>19</td>\n      <td>0</td>\n      <td>11</td>\n      <td>2000-11-20 19:59:46</td>\n      <td>1</td>\n      <td>35</td>\n      <td>2</td>\n      <td>Evanston</td>\n      <td>...</td>\n      <td>-0.160883</td>\n      <td>-1.184947</td>\n      <td>0.796664</td>\n      <td>-2.08923</td>\n      <td>2.708920</td>\n      <td>-5.271990</td>\n      <td>-0.341982</td>\n      <td>2.108941</td>\n      <td>-5.036370</td>\n      <td>1.916858</td>\n    </tr>\n    <tr>\n      <th>107909</th>\n      <td>1489</td>\n      <td>2858</td>\n      <td>22</td>\n      <td>0</td>\n      <td>11</td>\n      <td>2000-11-20 22:20:36</td>\n      <td>1</td>\n      <td>35</td>\n      <td>2</td>\n      <td>Evanston</td>\n      <td>...</td>\n      <td>-0.250560</td>\n      <td>0.730900</td>\n      <td>0.378270</td>\n      <td>0.77064</td>\n      <td>1.262100</td>\n      <td>-1.366550</td>\n      <td>0.106610</td>\n      <td>-1.792140</td>\n      <td>-1.323940</td>\n      <td>0.102870</td>\n    </tr>\n  </tbody>\n</table>\n<p>8 rows × 55 columns</p>\n</div>"
     },
     "execution_count": 267,
     "metadata": {},
     "output_type": "execute_result"
    }
   ],
   "source": [
    "user_mask = (x['user'] == user) & x['movie'].isin(movies)\n",
    "df_user = x.loc[user_mask]\n",
    "\n",
    "df_user"
   ],
   "metadata": {
    "collapsed": false
   }
  },
  {
   "cell_type": "code",
   "execution_count": 268,
   "outputs": [
    {
     "data": {
      "text/plain": "        rating\nindex         \n102718       4\n141055       3\n47479        3\n117260       2\n71443        3\n23863        2\n129084       3\n107909       3",
      "text/html": "<div>\n<style scoped>\n    .dataframe tbody tr th:only-of-type {\n        vertical-align: middle;\n    }\n\n    .dataframe tbody tr th {\n        vertical-align: top;\n    }\n\n    .dataframe thead th {\n        text-align: right;\n    }\n</style>\n<table border=\"1\" class=\"dataframe\">\n  <thead>\n    <tr style=\"text-align: right;\">\n      <th></th>\n      <th>rating</th>\n    </tr>\n    <tr>\n      <th>index</th>\n      <th></th>\n    </tr>\n  </thead>\n  <tbody>\n    <tr>\n      <th>102718</th>\n      <td>4</td>\n    </tr>\n    <tr>\n      <th>141055</th>\n      <td>3</td>\n    </tr>\n    <tr>\n      <th>47479</th>\n      <td>3</td>\n    </tr>\n    <tr>\n      <th>117260</th>\n      <td>2</td>\n    </tr>\n    <tr>\n      <th>71443</th>\n      <td>3</td>\n    </tr>\n    <tr>\n      <th>23863</th>\n      <td>2</td>\n    </tr>\n    <tr>\n      <th>129084</th>\n      <td>3</td>\n    </tr>\n    <tr>\n      <th>107909</th>\n      <td>3</td>\n    </tr>\n  </tbody>\n</table>\n</div>"
     },
     "execution_count": 268,
     "metadata": {},
     "output_type": "execute_result"
    }
   ],
   "source": [
    "y.loc[user_mask]"
   ],
   "metadata": {
    "collapsed": false
   }
  },
  {
   "cell_type": "code",
   "execution_count": 269,
   "outputs": [
    {
     "data": {
      "text/plain": "{589: 4, 2571: 3, 260: 3, 480: 2, 1210: 3, 1270: 2, 1196: 3, 2858: 3}"
     },
     "execution_count": 269,
     "metadata": {},
     "output_type": "execute_result"
    }
   ],
   "source": [
    "actual_ratings = dict(zip(df_user['movie'], y.loc[user_mask]['rating']))\n",
    "actual_ratings"
   ],
   "metadata": {
    "collapsed": false
   }
  },
  {
   "cell_type": "code",
   "execution_count": 270,
   "outputs": [
    {
     "data": {
      "text/plain": "   movie  pred_rating  actual_rating\n0   2858     3.663471            3.0\n1    260     3.657789            3.0\n2   1196     3.576707            3.0\n3   1210     3.274934            3.0\n4    480     2.388472            2.0\n5   2028     3.411519            NaN\n6    589     3.086843            4.0\n7   2571     3.295685            3.0\n8   1270     2.701748            2.0\n9    593     3.842056            NaN",
      "text/html": "<div>\n<style scoped>\n    .dataframe tbody tr th:only-of-type {\n        vertical-align: middle;\n    }\n\n    .dataframe tbody tr th {\n        vertical-align: top;\n    }\n\n    .dataframe thead th {\n        text-align: right;\n    }\n</style>\n<table border=\"1\" class=\"dataframe\">\n  <thead>\n    <tr style=\"text-align: right;\">\n      <th></th>\n      <th>movie</th>\n      <th>pred_rating</th>\n      <th>actual_rating</th>\n    </tr>\n  </thead>\n  <tbody>\n    <tr>\n      <th>0</th>\n      <td>2858</td>\n      <td>3.663471</td>\n      <td>3.0</td>\n    </tr>\n    <tr>\n      <th>1</th>\n      <td>260</td>\n      <td>3.657789</td>\n      <td>3.0</td>\n    </tr>\n    <tr>\n      <th>2</th>\n      <td>1196</td>\n      <td>3.576707</td>\n      <td>3.0</td>\n    </tr>\n    <tr>\n      <th>3</th>\n      <td>1210</td>\n      <td>3.274934</td>\n      <td>3.0</td>\n    </tr>\n    <tr>\n      <th>4</th>\n      <td>480</td>\n      <td>2.388472</td>\n      <td>2.0</td>\n    </tr>\n    <tr>\n      <th>5</th>\n      <td>2028</td>\n      <td>3.411519</td>\n      <td>NaN</td>\n    </tr>\n    <tr>\n      <th>6</th>\n      <td>589</td>\n      <td>3.086843</td>\n      <td>4.0</td>\n    </tr>\n    <tr>\n      <th>7</th>\n      <td>2571</td>\n      <td>3.295685</td>\n      <td>3.0</td>\n    </tr>\n    <tr>\n      <th>8</th>\n      <td>1270</td>\n      <td>2.701748</td>\n      <td>2.0</td>\n    </tr>\n    <tr>\n      <th>9</th>\n      <td>593</td>\n      <td>3.842056</td>\n      <td>NaN</td>\n    </tr>\n  </tbody>\n</table>\n</div>"
     },
     "execution_count": 270,
     "metadata": {},
     "output_type": "execute_result"
    }
   ],
   "source": [
    "results['actual_rating'] = results['movie'].map(actual_ratings)\n",
    "results"
   ],
   "metadata": {
    "collapsed": false
   }
  },
  {
   "cell_type": "code",
   "execution_count": null,
   "outputs": [],
   "source": [],
   "metadata": {
    "collapsed": false
   }
  }
 ],
 "metadata": {
  "kernelspec": {
   "display_name": "Python 3",
   "language": "python",
   "name": "python3"
  },
  "language_info": {
   "codemirror_mode": {
    "name": "ipython",
    "version": 2
   },
   "file_extension": ".py",
   "mimetype": "text/x-python",
   "name": "python",
   "nbconvert_exporter": "python",
   "pygments_lexer": "ipython2",
   "version": "2.7.6"
  }
 },
 "nbformat": 4,
 "nbformat_minor": 0
}
