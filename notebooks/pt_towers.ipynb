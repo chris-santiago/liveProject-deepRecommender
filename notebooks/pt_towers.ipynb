{
 "cells": [
  {
   "cell_type": "code",
   "execution_count": 62,
   "metadata": {
    "collapsed": true
   },
   "outputs": [],
   "source": [
    "import json\n",
    "from collections import Counter\n",
    "\n",
    "import pandas as pd\n",
    "from sklearn.base import BaseEstimator, TransformerMixin\n",
    "import torch\n",
    "import torch.nn as nn\n",
    "import torch.functional as F\n",
    "from torch.utils.data import DataLoader, Dataset"
   ]
  },
  {
   "cell_type": "code",
   "execution_count": 69,
   "outputs": [
    {
     "data": {
      "text/plain": "dict_keys(['title_emb_size', 'string_na', 'genres', 'ages', 'occupations', 'user', 'movie', 'city', 'state'])"
     },
     "execution_count": 69,
     "metadata": {},
     "output_type": "execute_result"
    }
   ],
   "source": [
    "with open('../data/metadata.json', 'r') as fp:\n",
    "    meta = json.load(fp)\n",
    "\n",
    "meta.keys()"
   ],
   "metadata": {
    "collapsed": false
   }
  },
  {
   "cell_type": "code",
   "execution_count": 64,
   "outputs": [],
   "source": [
    "class Vocab(BaseEstimator, TransformerMixin):\n",
    "    def __init__(self):\n",
    "        pass\n",
    "\n",
    "    def fit(self, x):\n",
    "        c = Counter(x)\n",
    "        self.lookup_ = {\n",
    "            v.lower(): k for k, v in enumerate([x[0] for x in sorted(c.items(), key=lambda x: x[1], reverse=True)])\n",
    "        }\n",
    "\n",
    "    def transform(self, x):\n",
    "        return [self.lookup_.get(xx.lower(), 99999) for xx in x]"
   ],
   "metadata": {
    "collapsed": false
   }
  },
  {
   "cell_type": "code",
   "execution_count": 70,
   "outputs": [],
   "source": [
    "state_enc = Vocab()\n",
    "state_enc.fit(meta['state'])\n",
    "\n",
    "city_enc = Vocab()\n",
    "city_enc.fit(meta['city'])"
   ],
   "metadata": {
    "collapsed": false
   }
  },
  {
   "cell_type": "code",
   "execution_count": 112,
   "outputs": [
    {
     "data": {
      "text/plain": "        user  movie  hour  day_of_week  month  gender  age  occupation  \\\nindex                                                                    \n956151  6036   3132     1            2      4       1   25          15   \n956152  6037   3132     3            2      4       1   45           1   \n956149  5960   3132    17            5      4       1   45           0   \n956150  6016   3132    20            2      4       0   45           1   \n956146  5643   3132     6            6      5       1   35           1   \n\n                  city state  ...  embed_15  embed_16  embed_17  embed_18  \\\nindex                         ...                                           \n956151     Gainesville    FL  ...  0.511667   1.46494  -2.46967 -1.196152   \n956152       Arlington    TX  ...  0.511667   1.46494  -2.46967 -1.196152   \n956149         Slidell    LA  ...  0.511667   1.46494  -2.46967 -1.196152   \n956150       Nashville    TN  ...  0.511667   1.46494  -2.46967 -1.196152   \n956146  Salt Lake City    UT  ...  0.511667   1.46494  -2.46967 -1.196152   \n\n        embed_19  embed_20  embed_21  embed_22  embed_23  embed_24  \nindex                                                               \n956151   -0.7946  -0.09462   2.84776   2.17518   1.03427  -0.75034  \n956152   -0.7946  -0.09462   2.84776   2.17518   1.03427  -0.75034  \n956149   -0.7946  -0.09462   2.84776   2.17518   1.03427  -0.75034  \n956150   -0.7946  -0.09462   2.84776   2.17518   1.03427  -0.75034  \n956146   -0.7946  -0.09462   2.84776   2.17518   1.03427  -0.75034  \n\n[5 rows x 54 columns]",
      "text/html": "<div>\n<style scoped>\n    .dataframe tbody tr th:only-of-type {\n        vertical-align: middle;\n    }\n\n    .dataframe tbody tr th {\n        vertical-align: top;\n    }\n\n    .dataframe thead th {\n        text-align: right;\n    }\n</style>\n<table border=\"1\" class=\"dataframe\">\n  <thead>\n    <tr style=\"text-align: right;\">\n      <th></th>\n      <th>user</th>\n      <th>movie</th>\n      <th>hour</th>\n      <th>day_of_week</th>\n      <th>month</th>\n      <th>gender</th>\n      <th>age</th>\n      <th>occupation</th>\n      <th>city</th>\n      <th>state</th>\n      <th>...</th>\n      <th>embed_15</th>\n      <th>embed_16</th>\n      <th>embed_17</th>\n      <th>embed_18</th>\n      <th>embed_19</th>\n      <th>embed_20</th>\n      <th>embed_21</th>\n      <th>embed_22</th>\n      <th>embed_23</th>\n      <th>embed_24</th>\n    </tr>\n    <tr>\n      <th>index</th>\n      <th></th>\n      <th></th>\n      <th></th>\n      <th></th>\n      <th></th>\n      <th></th>\n      <th></th>\n      <th></th>\n      <th></th>\n      <th></th>\n      <th></th>\n      <th></th>\n      <th></th>\n      <th></th>\n      <th></th>\n      <th></th>\n      <th></th>\n      <th></th>\n      <th></th>\n      <th></th>\n      <th></th>\n    </tr>\n  </thead>\n  <tbody>\n    <tr>\n      <th>956151</th>\n      <td>6036</td>\n      <td>3132</td>\n      <td>1</td>\n      <td>2</td>\n      <td>4</td>\n      <td>1</td>\n      <td>25</td>\n      <td>15</td>\n      <td>Gainesville</td>\n      <td>FL</td>\n      <td>...</td>\n      <td>0.511667</td>\n      <td>1.46494</td>\n      <td>-2.46967</td>\n      <td>-1.196152</td>\n      <td>-0.7946</td>\n      <td>-0.09462</td>\n      <td>2.84776</td>\n      <td>2.17518</td>\n      <td>1.03427</td>\n      <td>-0.75034</td>\n    </tr>\n    <tr>\n      <th>956152</th>\n      <td>6037</td>\n      <td>3132</td>\n      <td>3</td>\n      <td>2</td>\n      <td>4</td>\n      <td>1</td>\n      <td>45</td>\n      <td>1</td>\n      <td>Arlington</td>\n      <td>TX</td>\n      <td>...</td>\n      <td>0.511667</td>\n      <td>1.46494</td>\n      <td>-2.46967</td>\n      <td>-1.196152</td>\n      <td>-0.7946</td>\n      <td>-0.09462</td>\n      <td>2.84776</td>\n      <td>2.17518</td>\n      <td>1.03427</td>\n      <td>-0.75034</td>\n    </tr>\n    <tr>\n      <th>956149</th>\n      <td>5960</td>\n      <td>3132</td>\n      <td>17</td>\n      <td>5</td>\n      <td>4</td>\n      <td>1</td>\n      <td>45</td>\n      <td>0</td>\n      <td>Slidell</td>\n      <td>LA</td>\n      <td>...</td>\n      <td>0.511667</td>\n      <td>1.46494</td>\n      <td>-2.46967</td>\n      <td>-1.196152</td>\n      <td>-0.7946</td>\n      <td>-0.09462</td>\n      <td>2.84776</td>\n      <td>2.17518</td>\n      <td>1.03427</td>\n      <td>-0.75034</td>\n    </tr>\n    <tr>\n      <th>956150</th>\n      <td>6016</td>\n      <td>3132</td>\n      <td>20</td>\n      <td>2</td>\n      <td>4</td>\n      <td>0</td>\n      <td>45</td>\n      <td>1</td>\n      <td>Nashville</td>\n      <td>TN</td>\n      <td>...</td>\n      <td>0.511667</td>\n      <td>1.46494</td>\n      <td>-2.46967</td>\n      <td>-1.196152</td>\n      <td>-0.7946</td>\n      <td>-0.09462</td>\n      <td>2.84776</td>\n      <td>2.17518</td>\n      <td>1.03427</td>\n      <td>-0.75034</td>\n    </tr>\n    <tr>\n      <th>956146</th>\n      <td>5643</td>\n      <td>3132</td>\n      <td>6</td>\n      <td>6</td>\n      <td>5</td>\n      <td>1</td>\n      <td>35</td>\n      <td>1</td>\n      <td>Salt Lake City</td>\n      <td>UT</td>\n      <td>...</td>\n      <td>0.511667</td>\n      <td>1.46494</td>\n      <td>-2.46967</td>\n      <td>-1.196152</td>\n      <td>-0.7946</td>\n      <td>-0.09462</td>\n      <td>2.84776</td>\n      <td>2.17518</td>\n      <td>1.03427</td>\n      <td>-0.75034</td>\n    </tr>\n  </tbody>\n</table>\n<p>5 rows × 54 columns</p>\n</div>"
     },
     "execution_count": 112,
     "metadata": {},
     "output_type": "execute_result"
    }
   ],
   "source": [
    "df = pd.read_parquet('../data/train.parq.gzip').drop('rating', axis=1)\n",
    "df.head()"
   ],
   "metadata": {
    "collapsed": false
   }
  },
  {
   "cell_type": "code",
   "execution_count": 6,
   "outputs": [
    {
     "data": {
      "text/plain": "        rating\nindex         \n956151       5\n956152       4\n956149       5\n956150       3\n956146       4",
      "text/html": "<div>\n<style scoped>\n    .dataframe tbody tr th:only-of-type {\n        vertical-align: middle;\n    }\n\n    .dataframe tbody tr th {\n        vertical-align: top;\n    }\n\n    .dataframe thead th {\n        text-align: right;\n    }\n</style>\n<table border=\"1\" class=\"dataframe\">\n  <thead>\n    <tr style=\"text-align: right;\">\n      <th></th>\n      <th>rating</th>\n    </tr>\n    <tr>\n      <th>index</th>\n      <th></th>\n    </tr>\n  </thead>\n  <tbody>\n    <tr>\n      <th>956151</th>\n      <td>5</td>\n    </tr>\n    <tr>\n      <th>956152</th>\n      <td>4</td>\n    </tr>\n    <tr>\n      <th>956149</th>\n      <td>5</td>\n    </tr>\n    <tr>\n      <th>956150</th>\n      <td>3</td>\n    </tr>\n    <tr>\n      <th>956146</th>\n      <td>4</td>\n    </tr>\n  </tbody>\n</table>\n</div>"
     },
     "execution_count": 6,
     "metadata": {},
     "output_type": "execute_result"
    }
   ],
   "source": [
    "df = pd.read_parquet('../data/train.parq.gzip', columns=['rating'])\n",
    "df.head()"
   ],
   "metadata": {
    "collapsed": false
   }
  },
  {
   "cell_type": "code",
   "execution_count": 100,
   "outputs": [],
   "source": [
    "class MovieDataset(Dataset):\n",
    "    def __init__(self, filename, state_vocab, city_vocab):\n",
    "        x = pd.read_parquet(filename).drop('rating', axis=1)\n",
    "        y = pd.read_parquet(filename, columns=['rating'])\n",
    "\n",
    "        x['state'] = state_vocab.transform(x['state'])\n",
    "        x['city'] = city_vocab.transform(x['city'])\n",
    "\n",
    "        self.feature_names = x.columns\n",
    "        self.x = torch.tensor(x.values)\n",
    "        self.y = torch.tensor(y.values)\n",
    "\n",
    "    def __len__(self):\n",
    "        return len(self.x)\n",
    "\n",
    "    def __getitem__(self, idx):\n",
    "        return self.x[idx], self.y[idx]\n"
   ],
   "metadata": {
    "collapsed": false
   }
  },
  {
   "cell_type": "code",
   "execution_count": 105,
   "outputs": [],
   "source": [
    "train = MovieDataset('../data/train.parq.gzip', state_vocab=state_enc, city_vocab=city_enc)\n",
    "test = MovieDataset('../data/test.parq.gzip', state_vocab=state_enc, city_vocab=city_enc)"
   ],
   "metadata": {
    "collapsed": false
   }
  },
  {
   "cell_type": "code",
   "execution_count": 106,
   "outputs": [
    {
     "data": {
      "text/plain": "Index(['user', 'movie', 'hour', 'day_of_week', 'month', 'gender', 'age',\n       'occupation', 'city', 'state', 'year', 'genre_action',\n       'genre_adventure', 'genre_animation', 'genre_childrens', 'genre_comedy',\n       'genre_crime', 'genre_documentary', 'genre_drama', 'genre_fantasy',\n       'genre_filmnoir', 'genre_horror', 'genre_musical', 'genre_mystery',\n       'genre_romance', 'genre_scifi', 'genre_thriller', 'genre_war',\n       'genre_western', 'embed_0', 'embed_1', 'embed_2', 'embed_3', 'embed_4',\n       'embed_5', 'embed_6', 'embed_7', 'embed_8', 'embed_9', 'embed_10',\n       'embed_11', 'embed_12', 'embed_13', 'embed_14', 'embed_15', 'embed_16',\n       'embed_17', 'embed_18', 'embed_19', 'embed_20', 'embed_21', 'embed_22',\n       'embed_23', 'embed_24'],\n      dtype='object')"
     },
     "execution_count": 106,
     "metadata": {},
     "output_type": "execute_result"
    }
   ],
   "source": [
    "train.feature_names"
   ],
   "metadata": {
    "collapsed": false
   }
  },
  {
   "cell_type": "code",
   "execution_count": 107,
   "outputs": [
    {
     "data": {
      "text/plain": "(tensor([ 6.0360e+03,  3.1320e+03,  1.0000e+00,  2.0000e+00,  4.0000e+00,\n          1.0000e+00,  2.5000e+01,  1.5000e+01,  6.1000e+01,  9.0000e+00,\n          1.9190e+03,  0.0000e+00,  0.0000e+00,  0.0000e+00,  0.0000e+00,\n          1.0000e+00,  0.0000e+00,  0.0000e+00,  0.0000e+00,  0.0000e+00,\n          0.0000e+00,  0.0000e+00,  0.0000e+00,  0.0000e+00,  0.0000e+00,\n          0.0000e+00,  0.0000e+00,  0.0000e+00,  0.0000e+00, -3.2278e+00,\n         -9.0525e-02,  1.2616e+00,  6.5476e-01,  5.8712e-01,  1.1163e+00,\n          3.0645e+00, -3.9494e-01, -1.4985e+00,  7.4800e-01, -8.4274e-01,\n          5.4927e-01, -1.1358e+01, -4.5558e-01, -5.6822e-01,  5.1167e-01,\n          1.4649e+00, -2.4697e+00, -1.1962e+00, -7.9460e-01, -9.4620e-02,\n          2.8478e+00,  2.1752e+00,  1.0343e+00, -7.5034e-01],\n        dtype=torch.float64),\n tensor([5]))"
     },
     "execution_count": 107,
     "metadata": {},
     "output_type": "execute_result"
    }
   ],
   "source": [
    "next(iter(train))"
   ],
   "metadata": {
    "collapsed": false
   }
  },
  {
   "cell_type": "code",
   "execution_count": 109,
   "outputs": [],
   "source": [
    "embd = nn.Embedding(\n",
    "    num_embeddings=len(meta['state'].keys())+ 1,\n",
    "    embedding_dim=25\n",
    ")"
   ],
   "metadata": {
    "collapsed": false
   }
  },
  {
   "cell_type": "code",
   "execution_count": 117,
   "outputs": [
    {
     "data": {
      "text/plain": "tensor([[[-0.1893, -0.6338,  0.6609, -2.4649,  0.0545,  1.0073,  0.4323,\n           0.1099,  2.1904,  0.9655,  0.6593, -1.0199, -0.2550,  1.4280,\n           0.7670,  0.2787,  1.2247,  1.5812, -0.0634,  0.2802,  0.2796,\n           0.2853,  1.9838, -0.5408, -0.8582]]], grad_fn=<EmbeddingBackward0>)"
     },
     "execution_count": 117,
     "metadata": {},
     "output_type": "execute_result"
    }
   ],
   "source": [
    "embd(torch.tensor([[9]]))"
   ],
   "metadata": {
    "collapsed": false
   }
  },
  {
   "cell_type": "code",
   "execution_count": null,
   "outputs": [],
   "source": [],
   "metadata": {
    "collapsed": false
   }
  }
 ],
 "metadata": {
  "kernelspec": {
   "display_name": "Python 3",
   "language": "python",
   "name": "python3"
  },
  "language_info": {
   "codemirror_mode": {
    "name": "ipython",
    "version": 2
   },
   "file_extension": ".py",
   "mimetype": "text/x-python",
   "name": "python",
   "nbconvert_exporter": "python",
   "pygments_lexer": "ipython2",
   "version": "2.7.6"
  }
 },
 "nbformat": 4,
 "nbformat_minor": 0
}
