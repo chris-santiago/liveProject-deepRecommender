{
 "cells": [
  {
   "cell_type": "code",
   "execution_count": 1,
   "metadata": {
    "collapsed": true
   },
   "outputs": [],
   "source": [
    "from datetime import datetime\n",
    "import json\n",
    "from collections import Counter\n",
    "\n",
    "import pandas as pd\n",
    "from sklearn.base import BaseEstimator, TransformerMixin\n",
    "import torch\n",
    "import torch.nn as nn\n",
    "import torch.functional as F\n",
    "from torch.utils.data import DataLoader, Dataset\n",
    "import torchmetrics\n",
    "\n",
    "from deeprec.torch.trainer import Trainer, set_device\n",
    "from deeprec import ROOT"
   ]
  },
  {
   "cell_type": "code",
   "execution_count": 2,
   "outputs": [
    {
     "data": {
      "text/plain": "dict_keys(['title_emb_size', 'string_na', 'genres', 'ages', 'occupations', 'user', 'movie', 'city', 'state'])"
     },
     "execution_count": 2,
     "metadata": {},
     "output_type": "execute_result"
    }
   ],
   "source": [
    "with open('../data/metadata.json', 'r') as fp:\n",
    "    meta = json.load(fp)\n",
    "\n",
    "meta.keys()"
   ],
   "metadata": {
    "collapsed": false
   }
  },
  {
   "cell_type": "code",
   "execution_count": 3,
   "outputs": [],
   "source": [
    "class Vocab(BaseEstimator, TransformerMixin):\n",
    "    def __init__(self):\n",
    "        pass\n",
    "\n",
    "    def fit(self, x):\n",
    "        c = Counter(x)\n",
    "        self.lookup_ = {\n",
    "            str(v).lower(): k for k, v in enumerate([x[0] for x in sorted(c.items(), key=lambda x: x[1], reverse=True)])\n",
    "        }\n",
    "\n",
    "    def transform(self, x):\n",
    "        return [self.lookup_.get(str(xx).lower(), len(self.lookup_)+1) for xx in x]"
   ],
   "metadata": {
    "collapsed": false
   }
  },
  {
   "cell_type": "code",
   "execution_count": 4,
   "outputs": [
    {
     "data": {
      "text/plain": "        user  movie  hour  day_of_week  month                  ts  gender  \\\nindex                                                                       \n693094  1489   2648     3            5     11 2000-11-25 03:35:14       1   \n563664  2440   3101    17            1     11 2000-11-14 17:03:49       0   \n192      682   1193    16            3     11 2000-11-30 16:33:10       0   \n664671  3512   1005    17            0      8 2000-08-28 17:16:19       0   \n967203  5074   1202     5            5      7 2000-07-01 05:14:36       0   \n\n        age  occupation          city  ...  embed_15  embed_16  embed_17  \\\nindex                                  ...                                 \n693094   35           2      Evanston  ...  0.059832   0.46583  0.774960   \n563664   50          17    Ashburnham  ...  1.982520   0.84989  1.708770   \n192      25           4      Carrboro  ...  2.176160   2.86298  2.238394   \n664671   18          17     Cambridge  ... -1.662040   0.99335 -1.184181   \n967203    1           0  Purcellville  ...  1.998510   1.07155 -0.863230   \n\n        embed_18  embed_19  embed_20  embed_21  embed_22  embed_23  embed_24  \nindex                                                                         \n693094   0.43321  0.370830  0.140020  0.521110 -0.960430 -0.622770  0.245130  \n563664   1.34452 -1.051670 -0.032240  0.662540 -0.448420 -1.197040 -0.698660  \n192     -2.15952  1.210480 -3.436165 -0.329595  3.619880 -2.470530  1.399963  \n664671   1.58626  0.718946 -1.731300  2.357530  1.096584 -2.896070  0.150750  \n967203   0.24211 -0.773756  0.235041  1.170840 -2.078201 -1.310696 -0.964250  \n\n[5 rows x 55 columns]",
      "text/html": "<div>\n<style scoped>\n    .dataframe tbody tr th:only-of-type {\n        vertical-align: middle;\n    }\n\n    .dataframe tbody tr th {\n        vertical-align: top;\n    }\n\n    .dataframe thead th {\n        text-align: right;\n    }\n</style>\n<table border=\"1\" class=\"dataframe\">\n  <thead>\n    <tr style=\"text-align: right;\">\n      <th></th>\n      <th>user</th>\n      <th>movie</th>\n      <th>hour</th>\n      <th>day_of_week</th>\n      <th>month</th>\n      <th>ts</th>\n      <th>gender</th>\n      <th>age</th>\n      <th>occupation</th>\n      <th>city</th>\n      <th>...</th>\n      <th>embed_15</th>\n      <th>embed_16</th>\n      <th>embed_17</th>\n      <th>embed_18</th>\n      <th>embed_19</th>\n      <th>embed_20</th>\n      <th>embed_21</th>\n      <th>embed_22</th>\n      <th>embed_23</th>\n      <th>embed_24</th>\n    </tr>\n    <tr>\n      <th>index</th>\n      <th></th>\n      <th></th>\n      <th></th>\n      <th></th>\n      <th></th>\n      <th></th>\n      <th></th>\n      <th></th>\n      <th></th>\n      <th></th>\n      <th></th>\n      <th></th>\n      <th></th>\n      <th></th>\n      <th></th>\n      <th></th>\n      <th></th>\n      <th></th>\n      <th></th>\n      <th></th>\n      <th></th>\n    </tr>\n  </thead>\n  <tbody>\n    <tr>\n      <th>693094</th>\n      <td>1489</td>\n      <td>2648</td>\n      <td>3</td>\n      <td>5</td>\n      <td>11</td>\n      <td>2000-11-25 03:35:14</td>\n      <td>1</td>\n      <td>35</td>\n      <td>2</td>\n      <td>Evanston</td>\n      <td>...</td>\n      <td>0.059832</td>\n      <td>0.46583</td>\n      <td>0.774960</td>\n      <td>0.43321</td>\n      <td>0.370830</td>\n      <td>0.140020</td>\n      <td>0.521110</td>\n      <td>-0.960430</td>\n      <td>-0.622770</td>\n      <td>0.245130</td>\n    </tr>\n    <tr>\n      <th>563664</th>\n      <td>2440</td>\n      <td>3101</td>\n      <td>17</td>\n      <td>1</td>\n      <td>11</td>\n      <td>2000-11-14 17:03:49</td>\n      <td>0</td>\n      <td>50</td>\n      <td>17</td>\n      <td>Ashburnham</td>\n      <td>...</td>\n      <td>1.982520</td>\n      <td>0.84989</td>\n      <td>1.708770</td>\n      <td>1.34452</td>\n      <td>-1.051670</td>\n      <td>-0.032240</td>\n      <td>0.662540</td>\n      <td>-0.448420</td>\n      <td>-1.197040</td>\n      <td>-0.698660</td>\n    </tr>\n    <tr>\n      <th>192</th>\n      <td>682</td>\n      <td>1193</td>\n      <td>16</td>\n      <td>3</td>\n      <td>11</td>\n      <td>2000-11-30 16:33:10</td>\n      <td>0</td>\n      <td>25</td>\n      <td>4</td>\n      <td>Carrboro</td>\n      <td>...</td>\n      <td>2.176160</td>\n      <td>2.86298</td>\n      <td>2.238394</td>\n      <td>-2.15952</td>\n      <td>1.210480</td>\n      <td>-3.436165</td>\n      <td>-0.329595</td>\n      <td>3.619880</td>\n      <td>-2.470530</td>\n      <td>1.399963</td>\n    </tr>\n    <tr>\n      <th>664671</th>\n      <td>3512</td>\n      <td>1005</td>\n      <td>17</td>\n      <td>0</td>\n      <td>8</td>\n      <td>2000-08-28 17:16:19</td>\n      <td>0</td>\n      <td>18</td>\n      <td>17</td>\n      <td>Cambridge</td>\n      <td>...</td>\n      <td>-1.662040</td>\n      <td>0.99335</td>\n      <td>-1.184181</td>\n      <td>1.58626</td>\n      <td>0.718946</td>\n      <td>-1.731300</td>\n      <td>2.357530</td>\n      <td>1.096584</td>\n      <td>-2.896070</td>\n      <td>0.150750</td>\n    </tr>\n    <tr>\n      <th>967203</th>\n      <td>5074</td>\n      <td>1202</td>\n      <td>5</td>\n      <td>5</td>\n      <td>7</td>\n      <td>2000-07-01 05:14:36</td>\n      <td>0</td>\n      <td>1</td>\n      <td>0</td>\n      <td>Purcellville</td>\n      <td>...</td>\n      <td>1.998510</td>\n      <td>1.07155</td>\n      <td>-0.863230</td>\n      <td>0.24211</td>\n      <td>-0.773756</td>\n      <td>0.235041</td>\n      <td>1.170840</td>\n      <td>-2.078201</td>\n      <td>-1.310696</td>\n      <td>-0.964250</td>\n    </tr>\n  </tbody>\n</table>\n<p>5 rows × 55 columns</p>\n</div>"
     },
     "execution_count": 4,
     "metadata": {},
     "output_type": "execute_result"
    }
   ],
   "source": [
    "df = pd.read_parquet('../data/train.parq.gzip').drop('rating', axis=1)\n",
    "df.head()"
   ],
   "metadata": {
    "collapsed": false
   }
  },
  {
   "cell_type": "code",
   "execution_count": 5,
   "outputs": [],
   "source": [
    "state_enc = Vocab()\n",
    "state_enc.fit(df['state'])\n",
    "\n",
    "user_enc = Vocab()\n",
    "user_enc.fit(df['user'])\n",
    "\n",
    "movie_enc = Vocab()\n",
    "movie_enc.fit(df['movie'])"
   ],
   "metadata": {
    "collapsed": false
   }
  },
  {
   "cell_type": "code",
   "execution_count": 6,
   "outputs": [
    {
     "data": {
      "text/plain": "        rating\nindex         \n693094       3\n563664       4\n192          5\n664671       3\n967203       5",
      "text/html": "<div>\n<style scoped>\n    .dataframe tbody tr th:only-of-type {\n        vertical-align: middle;\n    }\n\n    .dataframe tbody tr th {\n        vertical-align: top;\n    }\n\n    .dataframe thead th {\n        text-align: right;\n    }\n</style>\n<table border=\"1\" class=\"dataframe\">\n  <thead>\n    <tr style=\"text-align: right;\">\n      <th></th>\n      <th>rating</th>\n    </tr>\n    <tr>\n      <th>index</th>\n      <th></th>\n    </tr>\n  </thead>\n  <tbody>\n    <tr>\n      <th>693094</th>\n      <td>3</td>\n    </tr>\n    <tr>\n      <th>563664</th>\n      <td>4</td>\n    </tr>\n    <tr>\n      <th>192</th>\n      <td>5</td>\n    </tr>\n    <tr>\n      <th>664671</th>\n      <td>3</td>\n    </tr>\n    <tr>\n      <th>967203</th>\n      <td>5</td>\n    </tr>\n  </tbody>\n</table>\n</div>"
     },
     "execution_count": 6,
     "metadata": {},
     "output_type": "execute_result"
    }
   ],
   "source": [
    "df = pd.read_parquet('../data/train.parq.gzip', columns=['rating'])\n",
    "df.head()"
   ],
   "metadata": {
    "collapsed": false
   }
  },
  {
   "cell_type": "code",
   "execution_count": 7,
   "outputs": [
    {
     "data": {
      "text/plain": "{1, 2, 3, 4, 5}"
     },
     "execution_count": 7,
     "metadata": {},
     "output_type": "execute_result"
    }
   ],
   "source": [
    "set(df['rating'])"
   ],
   "metadata": {
    "collapsed": false
   }
  },
  {
   "cell_type": "code",
   "execution_count": 8,
   "outputs": [],
   "source": [
    "class MovieDataset(Dataset):\n",
    "    def __init__(self, filename, vocabs):\n",
    "        data = pd.read_parquet(filename, columns=['user', 'movie', 'rating'])\n",
    "        data['user'] = vocabs['user'].transform(data['user'])\n",
    "        data['movie'] = vocabs['movie'].transform(data['movie'])\n",
    "\n",
    "        self.feature_names = data.columns[:-1]\n",
    "        self.data = data.to_dict('records')\n",
    "\n",
    "    def __len__(self):\n",
    "        return len(self.data)\n",
    "\n",
    "    def __getitem__(self, idx):\n",
    "        return self.data[idx]\n"
   ],
   "metadata": {
    "collapsed": false
   }
  },
  {
   "cell_type": "code",
   "execution_count": 9,
   "outputs": [],
   "source": [
    "def collator(batch):\n",
    "    inputs = {}\n",
    "    elems = [k for k in batch[0].keys() if k != 'rating']\n",
    "    for e in elems:\n",
    "        inputs[e] = torch.tensor([x[e] for x in batch]).unsqueeze(-1)\n",
    "    labels = torch.tensor([x['rating'] for x in batch], dtype=torch.float32).unsqueeze(-1)\n",
    "    return inputs, labels"
   ],
   "metadata": {
    "collapsed": false
   }
  },
  {
   "cell_type": "code",
   "execution_count": 10,
   "outputs": [],
   "source": [
    "encoders = {\n",
    "    'user': user_enc,\n",
    "    'movie': movie_enc,\n",
    "    'state': state_enc\n",
    "}\n",
    "\n",
    "train = MovieDataset('../data/train.parq.gzip', vocabs=encoders)\n",
    "test = MovieDataset('../data/test.parq.gzip', vocabs=encoders)"
   ],
   "metadata": {
    "collapsed": false
   }
  },
  {
   "cell_type": "code",
   "execution_count": 11,
   "outputs": [
    {
     "data": {
      "text/plain": "({'user': tensor([[ 406],\n          [5675],\n          [3393],\n          [ 579]]),\n  'movie': tensor([[ 779],\n          [ 309],\n          [  42],\n          [1741]])},\n tensor([[3.],\n         [4.],\n         [5.],\n         [3.]]))"
     },
     "execution_count": 11,
     "metadata": {},
     "output_type": "execute_result"
    }
   ],
   "source": [
    "dl = DataLoader(train, 4, collate_fn=collator)\n",
    "next(iter(dl))\n"
   ],
   "metadata": {
    "collapsed": false
   }
  },
  {
   "cell_type": "code",
   "execution_count": 12,
   "outputs": [],
   "source": [
    "class RecModel(nn.Module):\n",
    "    def __init__(self, metadata, n_features=54):\n",
    "        super().__init__()\n",
    "        self.meta = metadata\n",
    "        self.embed_dims = {\n",
    "            'large': 32,\n",
    "            'med': 16,\n",
    "            'small': 8,\n",
    "        }\n",
    "        self.loss_func = nn.MSELoss()\n",
    "\n",
    "        self.user_embeds = nn.Embedding(\n",
    "            num_embeddings=len(user_enc.lookup_.keys()) + 2,\n",
    "            embedding_dim=self.embed_dims['large']\n",
    "        )\n",
    "\n",
    "        self.movie_embeds = nn.Embedding(\n",
    "            num_embeddings=len(movie_enc.lookup_.keys()) + 2,\n",
    "            embedding_dim=self.embed_dims['large']\n",
    "        )\n",
    "\n",
    "        self.model = nn.Sequential(\n",
    "            nn.Linear(in_features=64, out_features=64),\n",
    "            nn.ReLU(),\n",
    "            nn.Linear(in_features=64, out_features=1)\n",
    "        )\n",
    "\n",
    "    def forward(self, x):\n",
    "        user_block = self.user_embeds(x['user'])\n",
    "        movie_block = self.movie_embeds(x['movie'])\n",
    "        # print(user_block.shape)\n",
    "        # print(movie_block.shape)\n",
    "        # print(torch.concat((user_block, movie_block), dim=-1).shape)\n",
    "        x = self.model(torch.concat((user_block, movie_block), dim=-1))\n",
    "        return x.squeeze(-1)\n",
    "\n",
    "    def predict(self, x):\n",
    "        self.eval()\n",
    "        with torch.no_grad():\n",
    "            return self(x)"
   ],
   "metadata": {
    "collapsed": false
   }
  },
  {
   "cell_type": "code",
   "execution_count": 13,
   "outputs": [
    {
     "name": "stderr",
     "output_type": "stream",
     "text": [
      "Epoch:   0%|          | 0/15 [00:00<?, ?it/s]\n",
      "Batch:   0%|          | 0/361 [00:00<?, ?it/s]\u001B[A\n",
      "Batch:   0%|          | 1/361 [00:00<01:10,  5.08it/s]\u001B[A\n",
      "Batch:   2%|▏         | 6/361 [00:00<00:15, 22.77it/s]\u001B[A\n",
      "Batch:   3%|▎         | 12/361 [00:00<00:09, 35.24it/s]\u001B[A\n",
      "Batch:   5%|▍         | 18/361 [00:00<00:07, 42.95it/s]\u001B[A\n",
      "Batch:   7%|▋         | 26/361 [00:00<00:06, 53.04it/s]\u001B[A\n",
      "Batch:   9%|▉         | 32/361 [00:00<00:05, 54.92it/s]\u001B[A\n",
      "Batch:  11%|█         | 38/361 [00:00<00:05, 55.28it/s]\u001B[A\n",
      "Batch:  13%|█▎        | 46/361 [00:00<00:05, 61.56it/s]\u001B[A\n",
      "Batch:  15%|█▍        | 54/361 [00:01<00:04, 65.95it/s]\u001B[A\n",
      "Batch:  17%|█▋        | 62/361 [00:01<00:04, 68.16it/s]\u001B[A\n",
      "Batch:  19%|█▉        | 70/361 [00:01<00:04, 71.25it/s]\u001B[A\n",
      "Batch:  22%|██▏       | 78/361 [00:01<00:04, 67.48it/s]\u001B[A\n",
      "Batch:  24%|██▎       | 85/361 [00:01<00:04, 60.75it/s]\u001B[A\n",
      "Batch:  27%|██▋       | 96/361 [00:01<00:03, 73.08it/s]\u001B[A\n",
      "Batch:  30%|██▉       | 108/361 [00:01<00:02, 84.47it/s]\u001B[A\n",
      "Batch:  33%|███▎      | 119/361 [00:01<00:02, 90.73it/s]\u001B[A\n",
      "Batch:  36%|███▋      | 131/361 [00:01<00:02, 98.22it/s]\u001B[A\n",
      "Batch:  40%|███▉      | 143/361 [00:02<00:02, 103.08it/s]\u001B[A\n",
      "Batch:  43%|████▎     | 155/361 [00:02<00:01, 106.95it/s]\u001B[A\n",
      "Batch:  46%|████▌     | 166/361 [00:02<00:01, 104.44it/s]\u001B[A\n",
      "Batch:  49%|████▉     | 177/361 [00:02<00:01, 92.53it/s] \u001B[A\n",
      "Batch:  52%|█████▏    | 187/361 [00:02<00:02, 84.62it/s]\u001B[A\n",
      "Batch:  55%|█████▌    | 199/361 [00:02<00:01, 93.40it/s]\u001B[A\n",
      "Batch:  58%|█████▊    | 211/361 [00:02<00:01, 98.96it/s]\u001B[A\n",
      "Batch:  62%|██████▏   | 223/361 [00:02<00:01, 103.97it/s]\u001B[A\n",
      "Batch:  65%|██████▌   | 235/361 [00:02<00:01, 108.15it/s]\u001B[A\n",
      "Batch:  69%|██████▊   | 248/361 [00:03<00:01, 111.77it/s]\u001B[A\n",
      "Batch:  72%|███████▏  | 261/361 [00:03<00:00, 115.26it/s]\u001B[A\n",
      "Batch:  76%|███████▌  | 275/361 [00:03<00:00, 119.84it/s]\u001B[A\n",
      "Batch:  80%|███████▉  | 288/361 [00:03<00:00, 105.27it/s]\u001B[A\n",
      "Batch:  83%|████████▎ | 299/361 [00:03<00:00, 97.79it/s] \u001B[A\n",
      "Batch:  86%|████████▋ | 312/361 [00:03<00:00, 104.94it/s]\u001B[A\n",
      "Batch:  89%|████████▉ | 323/361 [00:03<00:00, 105.56it/s]\u001B[A\n",
      "Batch:  93%|█████████▎| 334/361 [00:03<00:00, 103.53it/s]\u001B[A\n",
      "Batch:  96%|█████████▌| 347/361 [00:04<00:00, 109.75it/s]\u001B[A\n",
      "Batch: 100%|█████████▉| 360/361 [00:04<00:00, 113.67it/s]\u001B[A\n",
      "                                                         \u001B[A\n",
      "Batch:   0%|          | 0/41 [00:00<?, ?it/s]\u001B[A\n",
      "Batch:  51%|█████     | 21/41 [00:00<00:00, 204.84it/s]\u001B[A\n",
      "Epoch:   7%|▋         | 1/15 [00:04<01:02,  4.44s/it]  \u001B[A"
     ]
    },
    {
     "name": "stdout",
     "output_type": "stream",
     "text": [
      "defaultdict(<class 'list'>, {'epoch': [0], 'train_loss': [1.152583597274368], 'train_mse': [1.101536512374878], 'valid_loss': [0.8724039880240836], 'valid_mse': [0.8638210296630859]})\n"
     ]
    },
    {
     "name": "stderr",
     "output_type": "stream",
     "text": [
      "\n",
      "Batch:   0%|          | 0/361 [00:00<?, ?it/s]\u001B[A\n",
      "Batch:   1%|          | 4/361 [00:00<00:09, 36.84it/s]\u001B[A\n",
      "Batch:   4%|▍         | 15/361 [00:00<00:04, 76.94it/s]\u001B[A\n",
      "Batch:   7%|▋         | 27/361 [00:00<00:03, 93.75it/s]\u001B[A\n",
      "Batch:  11%|█         | 39/361 [00:00<00:03, 101.60it/s]\u001B[A\n",
      "Batch:  14%|█▍        | 50/361 [00:00<00:03, 103.63it/s]\u001B[A\n",
      "Batch:  17%|█▋        | 62/361 [00:00<00:02, 108.98it/s]\u001B[A\n",
      "Batch:  20%|██        | 73/361 [00:00<00:02, 109.20it/s]\u001B[A\n",
      "Batch:  23%|██▎       | 84/361 [00:00<00:02, 109.32it/s]\u001B[A\n",
      "Batch:  26%|██▋       | 95/361 [00:00<00:02, 103.62it/s]\u001B[A\n",
      "Batch:  29%|██▉       | 106/361 [00:01<00:03, 84.33it/s]\u001B[A\n",
      "Batch:  32%|███▏      | 116/361 [00:01<00:02, 82.52it/s]\u001B[A\n",
      "Batch:  35%|███▌      | 127/361 [00:01<00:02, 89.32it/s]\u001B[A\n",
      "Batch:  38%|███▊      | 138/361 [00:01<00:02, 92.55it/s]\u001B[A\n",
      "Batch:  42%|████▏     | 150/361 [00:01<00:02, 97.78it/s]\u001B[A\n",
      "Batch:  45%|████▍     | 161/361 [00:01<00:02, 88.94it/s]\u001B[A\n",
      "Batch:  47%|████▋     | 171/361 [00:01<00:02, 84.92it/s]\u001B[A\n",
      "Batch:  50%|████▉     | 180/361 [00:01<00:02, 82.49it/s]\u001B[A\n",
      "Batch:  52%|█████▏    | 189/361 [00:02<00:02, 82.24it/s]\u001B[A\n",
      "Batch:  55%|█████▍    | 198/361 [00:02<00:02, 80.74it/s]\u001B[A\n",
      "Batch:  57%|█████▋    | 207/361 [00:02<00:01, 78.54it/s]\u001B[A\n",
      "Batch:  60%|█████▉    | 215/361 [00:02<00:01, 78.29it/s]\u001B[A\n",
      "Batch:  62%|██████▏   | 223/361 [00:02<00:01, 78.30it/s]\u001B[A\n",
      "Batch:  64%|██████▍   | 232/361 [00:02<00:01, 78.81it/s]\u001B[A\n",
      "Batch:  66%|██████▋   | 240/361 [00:02<00:01, 78.68it/s]\u001B[A\n",
      "Batch:  69%|██████▊   | 248/361 [00:02<00:01, 75.36it/s]\u001B[A\n",
      "Batch:  71%|███████   | 256/361 [00:02<00:01, 76.40it/s]\u001B[A\n",
      "Batch:  73%|███████▎  | 264/361 [00:03<00:01, 67.50it/s]\u001B[A\n",
      "Batch:  75%|███████▌  | 271/361 [00:03<00:01, 60.98it/s]\u001B[A\n",
      "Batch:  77%|███████▋  | 278/361 [00:03<00:01, 61.84it/s]\u001B[A\n",
      "Batch:  79%|███████▉  | 285/361 [00:03<00:01, 58.14it/s]\u001B[A\n",
      "Batch:  81%|████████  | 292/361 [00:03<00:01, 57.23it/s]\u001B[A\n",
      "Batch:  83%|████████▎ | 299/361 [00:03<00:01, 58.40it/s]\u001B[A\n",
      "Batch:  85%|████████▍ | 306/361 [00:03<00:00, 59.53it/s]\u001B[A\n",
      "Batch:  87%|████████▋ | 313/361 [00:03<00:00, 58.70it/s]\u001B[A\n",
      "Batch:  88%|████████▊ | 319/361 [00:04<00:00, 55.07it/s]\u001B[A\n",
      "Batch:  90%|█████████ | 325/361 [00:04<00:00, 55.55it/s]\u001B[A\n",
      "Batch:  92%|█████████▏| 332/361 [00:04<00:00, 57.46it/s]\u001B[A\n",
      "Batch:  94%|█████████▎| 338/361 [00:04<00:00, 53.80it/s]\u001B[A\n",
      "Batch:  95%|█████████▌| 344/361 [00:04<00:00, 55.09it/s]\u001B[A\n",
      "Batch:  97%|█████████▋| 350/361 [00:04<00:00, 53.58it/s]\u001B[A\n",
      "Batch:  99%|█████████▊| 356/361 [00:04<00:00, 55.03it/s]\u001B[A\n",
      "                                                        \u001B[A\n",
      "Batch:   0%|          | 0/41 [00:00<?, ?it/s]\u001B[A\n",
      "Batch:  73%|███████▎  | 30/41 [00:00<00:00, 284.76it/s]\u001B[A\n",
      "Epoch:  13%|█▎        | 2/15 [00:09<01:02,  4.83s/it]  \u001B[A"
     ]
    },
    {
     "name": "stdout",
     "output_type": "stream",
     "text": [
      "defaultdict(<class 'list'>, {'epoch': [0, 1], 'train_loss': [1.152583597274368, 0.8400773156712921], 'train_mse': [1.101536512374878, 0.8255999088287354], 'valid_loss': [0.8724039880240836, 0.8652600079047971], 'valid_mse': [0.8638210296630859, 0.8509705066680908]})\n"
     ]
    },
    {
     "name": "stderr",
     "output_type": "stream",
     "text": [
      "\n",
      "Batch:   0%|          | 0/361 [00:00<?, ?it/s]\u001B[A\n",
      "Batch:   1%|          | 4/361 [00:00<00:09, 39.61it/s]\u001B[A\n",
      "Batch:   4%|▍         | 14/361 [00:00<00:04, 72.92it/s]\u001B[A\n",
      "Batch:   7%|▋         | 25/361 [00:00<00:03, 87.46it/s]\u001B[A\n",
      "Batch:  10%|▉         | 36/361 [00:00<00:03, 94.76it/s]\u001B[A\n",
      "Batch:  13%|█▎        | 47/361 [00:00<00:03, 98.42it/s]\u001B[A\n",
      "Batch:  16%|█▌        | 58/361 [00:00<00:02, 101.87it/s]\u001B[A\n",
      "Batch:  19%|█▉        | 70/361 [00:00<00:02, 107.48it/s]\u001B[A\n",
      "Batch:  22%|██▏       | 81/361 [00:00<00:02, 105.84it/s]\u001B[A\n",
      "Batch:  25%|██▌       | 92/361 [00:00<00:02, 106.89it/s]\u001B[A\n",
      "Batch:  29%|██▊       | 103/361 [00:01<00:02, 95.26it/s]\u001B[A\n",
      "Batch:  31%|███▏      | 113/361 [00:01<00:02, 91.07it/s]\u001B[A\n",
      "Batch:  34%|███▍      | 123/361 [00:01<00:02, 92.15it/s]\u001B[A\n",
      "Batch:  37%|███▋      | 133/361 [00:01<00:02, 82.30it/s]\u001B[A\n",
      "Batch:  39%|███▉      | 142/361 [00:01<00:02, 79.63it/s]\u001B[A\n",
      "Batch:  42%|████▏     | 151/361 [00:01<00:02, 73.91it/s]\u001B[A\n",
      "Batch:  44%|████▍     | 159/361 [00:01<00:02, 72.01it/s]\u001B[A\n",
      "Batch:  46%|████▋     | 167/361 [00:01<00:02, 72.40it/s]\u001B[A\n",
      "Batch:  48%|████▊     | 175/361 [00:02<00:02, 72.46it/s]\u001B[A\n",
      "Batch:  51%|█████     | 183/361 [00:02<00:02, 74.19it/s]\u001B[A\n",
      "Batch:  53%|█████▎    | 192/361 [00:02<00:02, 77.96it/s]\u001B[A\n",
      "Batch:  55%|█████▌    | 200/361 [00:02<00:02, 77.89it/s]\u001B[A\n",
      "Batch:  58%|█████▊    | 209/361 [00:02<00:01, 81.06it/s]\u001B[A\n",
      "Batch:  61%|██████    | 220/361 [00:02<00:01, 88.09it/s]\u001B[A\n",
      "Batch:  63%|██████▎   | 229/361 [00:02<00:01, 87.32it/s]\u001B[A\n",
      "Batch:  67%|██████▋   | 241/361 [00:02<00:01, 96.39it/s]\u001B[A\n",
      "Batch:  70%|███████   | 253/361 [00:02<00:01, 101.39it/s]\u001B[A\n",
      "Batch:  74%|███████▎  | 266/361 [00:02<00:00, 107.13it/s]\u001B[A\n",
      "Batch:  77%|███████▋  | 277/361 [00:03<00:00, 106.48it/s]\u001B[A\n",
      "Batch:  80%|███████▉  | 288/361 [00:03<00:00, 102.44it/s]\u001B[A\n",
      "Batch:  83%|████████▎ | 299/361 [00:03<00:00, 101.87it/s]\u001B[A\n",
      "Batch:  86%|████████▌ | 311/361 [00:03<00:00, 106.12it/s]\u001B[A\n",
      "Batch:  89%|████████▉ | 322/361 [00:03<00:00, 105.91it/s]\u001B[A\n",
      "Batch:  93%|█████████▎| 334/361 [00:03<00:00, 108.60it/s]\u001B[A\n",
      "Batch:  96%|█████████▌| 347/361 [00:03<00:00, 114.53it/s]\u001B[A\n",
      "Batch:  99%|█████████▉| 359/361 [00:03<00:00, 106.22it/s]\u001B[A\n",
      "                                                         \u001B[A\n",
      "Batch:   0%|          | 0/41 [00:00<?, ?it/s]\u001B[A\n",
      "Batch:  46%|████▋     | 19/41 [00:00<00:00, 188.20it/s]\u001B[A\n",
      "Epoch:  20%|██        | 3/15 [00:13<00:54,  4.53s/it]  \u001B[A"
     ]
    },
    {
     "name": "stdout",
     "output_type": "stream",
     "text": [
      "defaultdict(<class 'list'>, {'epoch': [0, 1, 2], 'train_loss': [1.152583597274368, 0.8400773156712921, 0.8205656389450433], 'train_mse': [1.101536512374878, 0.8255999088287354, 0.8064792156219482], 'valid_loss': [0.8724039880240836, 0.8652600079047971, 0.8585293031320339], 'valid_mse': [0.8638210296630859, 0.8509705066680908, 0.8450561165809631]})\n"
     ]
    },
    {
     "name": "stderr",
     "output_type": "stream",
     "text": [
      "\n",
      "Batch:   0%|          | 0/361 [00:00<?, ?it/s]\u001B[A\n",
      "Batch:   1%|          | 4/361 [00:00<00:09, 36.02it/s]\u001B[A\n",
      "Batch:   2%|▏         | 9/361 [00:00<00:09, 39.04it/s]\u001B[A\n",
      "Batch:   5%|▍         | 17/361 [00:00<00:06, 53.73it/s]\u001B[A\n",
      "Batch:   7%|▋         | 26/361 [00:00<00:05, 64.24it/s]\u001B[A\n",
      "Batch:  10%|▉         | 35/361 [00:00<00:04, 69.94it/s]\u001B[A\n",
      "Batch:  12%|█▏        | 43/361 [00:00<00:04, 70.67it/s]\u001B[A\n",
      "Batch:  14%|█▍        | 51/361 [00:00<00:04, 68.44it/s]\u001B[A\n",
      "Batch:  16%|█▌        | 58/361 [00:00<00:04, 66.01it/s]\u001B[A\n",
      "Batch:  18%|█▊        | 66/361 [00:01<00:04, 66.94it/s]\u001B[A\n",
      "Batch:  20%|██        | 73/361 [00:01<00:04, 65.44it/s]\u001B[A\n",
      "Batch:  22%|██▏       | 80/361 [00:01<00:05, 56.02it/s]\u001B[A\n",
      "Batch:  24%|██▍       | 86/361 [00:01<00:05, 54.15it/s]\u001B[A\n",
      "Batch:  26%|██▌       | 94/361 [00:01<00:04, 59.26it/s]\u001B[A\n",
      "Batch:  28%|██▊       | 101/361 [00:01<00:04, 60.34it/s]\u001B[A\n",
      "Batch:  30%|██▉       | 108/361 [00:01<00:04, 60.52it/s]\u001B[A\n",
      "Batch:  32%|███▏      | 115/361 [00:01<00:04, 56.95it/s]\u001B[A\n",
      "Batch:  34%|███▍      | 122/361 [00:02<00:04, 59.55it/s]\u001B[A\n",
      "Batch:  36%|███▌      | 130/361 [00:02<00:03, 62.94it/s]\u001B[A\n",
      "Batch:  38%|███▊      | 138/361 [00:02<00:03, 65.25it/s]\u001B[A\n",
      "Batch:  40%|████      | 146/361 [00:02<00:03, 68.40it/s]\u001B[A\n",
      "Batch:  43%|████▎     | 155/361 [00:02<00:02, 71.85it/s]\u001B[A\n",
      "Batch:  45%|████▌     | 163/361 [00:02<00:02, 73.55it/s]\u001B[A\n",
      "Batch:  47%|████▋     | 171/361 [00:02<00:02, 71.87it/s]\u001B[A\n",
      "Batch:  50%|████▉     | 180/361 [00:02<00:02, 74.87it/s]\u001B[A\n",
      "Batch:  52%|█████▏    | 188/361 [00:02<00:02, 74.76it/s]\u001B[A\n",
      "Batch:  55%|█████▍    | 197/361 [00:03<00:02, 76.42it/s]\u001B[A\n",
      "Batch:  57%|█████▋    | 206/361 [00:03<00:01, 77.66it/s]\u001B[A\n",
      "Batch:  59%|█████▉    | 214/361 [00:03<00:01, 78.12it/s]\u001B[A\n",
      "Batch:  62%|██████▏   | 223/361 [00:03<00:01, 78.59it/s]\u001B[A\n",
      "Batch:  65%|██████▍   | 234/361 [00:03<00:01, 86.41it/s]\u001B[A\n",
      "Batch:  68%|██████▊   | 244/361 [00:03<00:01, 89.85it/s]\u001B[A\n",
      "Batch:  71%|███████   | 256/361 [00:03<00:01, 96.81it/s]\u001B[A\n",
      "Batch:  74%|███████▍  | 268/361 [00:03<00:00, 102.23it/s]\u001B[A\n",
      "Batch:  78%|███████▊  | 281/361 [00:03<00:00, 104.45it/s]\u001B[A\n",
      "Batch:  81%|████████  | 292/361 [00:04<00:00, 95.20it/s] \u001B[A\n",
      "Batch:  84%|████████▍ | 303/361 [00:04<00:00, 98.48it/s]\u001B[A\n",
      "Batch:  87%|████████▋ | 313/361 [00:04<00:00, 91.08it/s]\u001B[A\n",
      "Batch:  89%|████████▉ | 323/361 [00:04<00:00, 88.82it/s]\u001B[A\n",
      "Batch:  92%|█████████▏| 332/361 [00:04<00:00, 85.61it/s]\u001B[A\n",
      "Batch:  94%|█████████▍| 341/361 [00:04<00:00, 86.26it/s]\u001B[A\n",
      "Batch:  97%|█████████▋| 350/361 [00:04<00:00, 79.39it/s]\u001B[A\n",
      "Batch:  99%|█████████▉| 359/361 [00:04<00:00, 79.68it/s]\u001B[A\n",
      "                                                        \u001B[A\n",
      "Batch:   0%|          | 0/41 [00:00<?, ?it/s]\u001B[A\n",
      "Batch:  54%|█████▎    | 22/41 [00:00<00:00, 217.20it/s]\u001B[A\n",
      "Epoch:  27%|██▋       | 4/15 [00:18<00:52,  4.76s/it]  \u001B[A"
     ]
    },
    {
     "name": "stdout",
     "output_type": "stream",
     "text": [
      "defaultdict(<class 'list'>, {'epoch': [0, 1, 2, 3], 'train_loss': [1.152583597274368, 0.8400773156712921, 0.8205656389450433, 0.8069839929939967], 'train_mse': [1.101536512374878, 0.8255999088287354, 0.8064792156219482, 0.7929696440696716], 'valid_loss': [0.8724039880240836, 0.8652600079047971, 0.8585293031320339, 0.8535172793923355], 'valid_mse': [0.8638210296630859, 0.8509705066680908, 0.8450561165809631, 0.8413580656051636]})\n"
     ]
    },
    {
     "name": "stderr",
     "output_type": "stream",
     "text": [
      "\n",
      "Batch:   0%|          | 0/361 [00:00<?, ?it/s]\u001B[A\n",
      "Batch:   1%|          | 3/361 [00:00<00:12, 28.69it/s]\u001B[A\n",
      "Batch:   2%|▏         | 8/361 [00:00<00:10, 34.88it/s]\u001B[A\n",
      "Batch:   3%|▎         | 12/361 [00:00<00:11, 31.25it/s]\u001B[A\n",
      "Batch:   5%|▍         | 18/361 [00:00<00:08, 39.55it/s]\u001B[A\n",
      "Batch:   6%|▋         | 23/361 [00:00<00:08, 39.78it/s]\u001B[A\n",
      "Batch:   9%|▉         | 33/361 [00:00<00:05, 56.57it/s]\u001B[A\n",
      "Batch:  11%|█         | 40/361 [00:00<00:05, 59.53it/s]\u001B[A\n",
      "Batch:  14%|█▍        | 51/361 [00:00<00:04, 73.54it/s]\u001B[A\n",
      "Batch:  17%|█▋        | 60/361 [00:01<00:03, 77.10it/s]\u001B[A\n",
      "Batch:  19%|█▉        | 68/361 [00:01<00:04, 70.41it/s]\u001B[A\n",
      "Batch:  21%|██        | 76/361 [00:01<00:04, 70.96it/s]\u001B[A\n",
      "Batch:  24%|██▎       | 85/361 [00:01<00:03, 74.57it/s]\u001B[A\n",
      "Batch:  26%|██▋       | 95/361 [00:01<00:03, 81.49it/s]\u001B[A\n",
      "Batch:  29%|██▉       | 105/361 [00:01<00:03, 84.50it/s]\u001B[A\n",
      "Batch:  32%|███▏      | 116/361 [00:01<00:02, 90.88it/s]\u001B[A\n",
      "Batch:  35%|███▍      | 126/361 [00:01<00:02, 86.60it/s]\u001B[A\n",
      "Batch:  37%|███▋      | 135/361 [00:01<00:02, 84.88it/s]\u001B[A\n",
      "Batch:  40%|███▉      | 144/361 [00:02<00:02, 84.29it/s]\u001B[A\n",
      "Batch:  42%|████▏     | 153/361 [00:02<00:02, 83.59it/s]\u001B[A\n",
      "Batch:  45%|████▌     | 163/361 [00:02<00:02, 85.63it/s]\u001B[A\n",
      "Batch:  48%|████▊     | 175/361 [00:02<00:01, 94.27it/s]\u001B[A\n",
      "Batch:  52%|█████▏    | 188/361 [00:02<00:01, 102.52it/s]\u001B[A\n",
      "Batch:  55%|█████▌    | 200/361 [00:02<00:01, 105.30it/s]\u001B[A\n",
      "Batch:  59%|█████▉    | 213/361 [00:02<00:01, 109.56it/s]\u001B[A\n",
      "Batch:  62%|██████▏   | 225/361 [00:02<00:01, 112.11it/s]\u001B[A\n",
      "Batch:  66%|██████▌   | 237/361 [00:02<00:01, 106.30it/s]\u001B[A\n",
      "Batch:  69%|██████▉   | 249/361 [00:03<00:01, 106.69it/s]\u001B[A\n",
      "Batch:  72%|███████▏  | 261/361 [00:03<00:00, 110.17it/s]\u001B[A\n",
      "Batch:  76%|███████▌  | 274/361 [00:03<00:00, 114.08it/s]\u001B[A\n",
      "Batch:  79%|███████▉  | 286/361 [00:03<00:00, 103.83it/s]\u001B[A\n",
      "Batch:  82%|████████▏ | 297/361 [00:03<00:00, 95.33it/s] \u001B[A\n",
      "Batch:  85%|████████▌ | 307/361 [00:03<00:00, 90.77it/s]\u001B[A\n",
      "Batch:  88%|████████▊ | 317/361 [00:03<00:00, 82.44it/s]\u001B[A\n",
      "Batch:  90%|█████████ | 326/361 [00:03<00:00, 76.92it/s]\u001B[A\n",
      "Batch:  93%|█████████▎| 334/361 [00:04<00:00, 74.25it/s]\u001B[A\n",
      "Batch:  95%|█████████▌| 343/361 [00:04<00:00, 76.20it/s]\u001B[A\n",
      "Batch:  97%|█████████▋| 351/361 [00:04<00:00, 74.40it/s]\u001B[A\n",
      "Batch: 100%|█████████▉| 360/361 [00:04<00:00, 77.61it/s]\u001B[A\n",
      "                                                        \u001B[A\n",
      "Batch:   0%|          | 0/41 [00:00<?, ?it/s]\u001B[A\n",
      "Batch:  61%|██████    | 25/41 [00:00<00:00, 241.73it/s]\u001B[A\n",
      "Epoch:  33%|███▎      | 5/15 [00:23<00:47,  4.72s/it]  \u001B[A"
     ]
    },
    {
     "name": "stdout",
     "output_type": "stream",
     "text": [
      "defaultdict(<class 'list'>, {'epoch': [0, 1, 2, 3, 4], 'train_loss': [1.152583597274368, 0.8400773156712921, 0.8205656389450433, 0.8069839929939967, 0.7948228812613976], 'train_mse': [1.101536512374878, 0.8255999088287354, 0.8064792156219482, 0.7929696440696716, 0.7804115414619446], 'valid_loss': [0.8724039880240836, 0.8652600079047971, 0.8585293031320339, 0.8535172793923355, 0.8534056893209132], 'valid_mse': [0.8638210296630859, 0.8509705066680908, 0.8450561165809631, 0.8413580656051636, 0.8411288857460022]})\n"
     ]
    },
    {
     "name": "stderr",
     "output_type": "stream",
     "text": [
      "\n",
      "Batch:   0%|          | 0/361 [00:00<?, ?it/s]\u001B[A\n",
      "Batch:   1%|          | 4/361 [00:00<00:09, 37.74it/s]\u001B[A\n",
      "Batch:   3%|▎         | 10/361 [00:00<00:06, 50.32it/s]\u001B[A\n",
      "Batch:   5%|▍         | 17/361 [00:00<00:05, 58.82it/s]\u001B[A\n",
      "Batch:   7%|▋         | 24/361 [00:00<00:05, 61.82it/s]\u001B[A\n",
      "Batch:   9%|▊         | 31/361 [00:00<00:05, 64.56it/s]\u001B[A\n",
      "Batch:  11%|█         | 39/361 [00:00<00:04, 69.23it/s]\u001B[A\n",
      "Batch:  13%|█▎        | 47/361 [00:00<00:04, 70.01it/s]\u001B[A\n",
      "Batch:  15%|█▌        | 55/361 [00:00<00:04, 71.26it/s]\u001B[A\n",
      "Batch:  17%|█▋        | 63/361 [00:00<00:04, 70.96it/s]\u001B[A\n",
      "Batch:  20%|█▉        | 71/361 [00:01<00:04, 72.30it/s]\u001B[A\n",
      "Batch:  22%|██▏       | 79/361 [00:01<00:03, 74.24it/s]\u001B[A\n",
      "Batch:  24%|██▍       | 87/361 [00:01<00:04, 60.82it/s]\u001B[A\n",
      "Batch:  26%|██▌       | 94/361 [00:01<00:04, 56.55it/s]\u001B[A\n",
      "Batch:  28%|██▊       | 102/361 [00:01<00:04, 60.17it/s]\u001B[A\n",
      "Batch:  31%|███       | 112/361 [00:01<00:03, 69.59it/s]\u001B[A\n",
      "Batch:  34%|███▎      | 121/361 [00:01<00:03, 74.74it/s]\u001B[A\n",
      "Batch:  36%|███▋      | 131/361 [00:01<00:02, 80.01it/s]\u001B[A\n",
      "Batch:  40%|███▉      | 144/361 [00:02<00:02, 92.53it/s]\u001B[A\n",
      "Batch:  43%|████▎     | 155/361 [00:02<00:02, 95.70it/s]\u001B[A\n",
      "Batch:  46%|████▋     | 167/361 [00:02<00:01, 101.28it/s]\u001B[A\n",
      "Batch:  50%|████▉     | 179/361 [00:02<00:01, 104.05it/s]\u001B[A\n",
      "Batch:  53%|█████▎    | 191/361 [00:02<00:01, 108.54it/s]\u001B[A\n",
      "Batch:  56%|█████▌    | 202/361 [00:02<00:01, 107.57it/s]\u001B[A\n",
      "Batch:  59%|█████▉    | 213/361 [00:02<00:01, 106.28it/s]\u001B[A\n",
      "Batch:  62%|██████▏   | 224/361 [00:02<00:01, 98.01it/s] \u001B[A\n",
      "Batch:  65%|██████▍   | 234/361 [00:02<00:01, 83.78it/s]\u001B[A\n",
      "Batch:  68%|██████▊   | 246/361 [00:03<00:01, 92.80it/s]\u001B[A\n",
      "Batch:  72%|███████▏  | 259/361 [00:03<00:01, 101.84it/s]\u001B[A\n",
      "Batch:  75%|███████▌  | 271/361 [00:03<00:00, 105.02it/s]\u001B[A\n",
      "Batch:  79%|███████▊  | 284/361 [00:03<00:00, 111.36it/s]\u001B[A\n",
      "Batch:  82%|████████▏ | 296/361 [00:03<00:00, 112.51it/s]\u001B[A\n",
      "Batch:  86%|████████▌ | 309/361 [00:03<00:00, 117.24it/s]\u001B[A\n",
      "Batch:  89%|████████▉ | 322/361 [00:03<00:00, 119.73it/s]\u001B[A\n",
      "Batch:  93%|█████████▎| 335/361 [00:03<00:00, 113.83it/s]\u001B[A\n",
      "Batch:  96%|█████████▌| 347/361 [00:03<00:00, 112.26it/s]\u001B[A\n",
      "Batch: 100%|█████████▉| 360/361 [00:04<00:00, 116.68it/s]\u001B[A\n",
      "                                                         \u001B[A\n",
      "Batch:   0%|          | 0/41 [00:00<?, ?it/s]\u001B[A\n",
      "Batch:  78%|███████▊  | 32/41 [00:00<00:00, 314.68it/s]\u001B[A\n",
      "Epoch:  40%|████      | 6/15 [00:27<00:41,  4.56s/it]  \u001B[A"
     ]
    },
    {
     "name": "stdout",
     "output_type": "stream",
     "text": [
      "defaultdict(<class 'list'>, {'epoch': [0, 1, 2, 3, 4, 5], 'train_loss': [1.152583597274368, 0.8400773156712921, 0.8205656389450433, 0.8069839929939967, 0.7948228812613976, 0.7663382787123281], 'train_mse': [1.101536512374878, 0.8255999088287354, 0.8064792156219482, 0.7929696440696716, 0.7804115414619446, 0.7590036988258362], 'valid_loss': [0.8724039880240836, 0.8652600079047971, 0.8585293031320339, 0.8535172793923355, 0.8534056893209132, 0.8366371422279172], 'valid_mse': [0.8638210296630859, 0.8509705066680908, 0.8450561165809631, 0.8413580656051636, 0.8411288857460022, 0.8271316885948181]})\n"
     ]
    },
    {
     "name": "stderr",
     "output_type": "stream",
     "text": [
      "\n",
      "Batch:   0%|          | 0/361 [00:00<?, ?it/s]\u001B[A\n",
      "Batch:   2%|▏         | 6/361 [00:00<00:06, 56.44it/s]\u001B[A\n",
      "Batch:   5%|▍         | 17/361 [00:00<00:04, 82.88it/s]\u001B[A\n",
      "Batch:   8%|▊         | 29/361 [00:00<00:03, 97.31it/s]\u001B[A\n",
      "Batch:  11%|█▏        | 41/361 [00:00<00:03, 101.58it/s]\u001B[A\n",
      "Batch:  15%|█▍        | 53/361 [00:00<00:02, 106.49it/s]\u001B[A\n",
      "Batch:  18%|█▊        | 64/361 [00:00<00:02, 106.37it/s]\u001B[A\n",
      "Batch:  21%|██        | 75/361 [00:00<00:02, 101.86it/s]\u001B[A\n",
      "Batch:  24%|██▍       | 86/361 [00:00<00:02, 97.19it/s] \u001B[A\n",
      "Batch:  27%|██▋       | 96/361 [00:01<00:03, 84.61it/s]\u001B[A\n",
      "Batch:  29%|██▉       | 105/361 [00:01<00:03, 70.90it/s]\u001B[A\n",
      "Batch:  31%|███▏      | 113/361 [00:01<00:03, 65.79it/s]\u001B[A\n",
      "Batch:  33%|███▎      | 120/361 [00:01<00:03, 60.38it/s]\u001B[A\n",
      "Batch:  35%|███▌      | 128/361 [00:01<00:03, 64.42it/s]\u001B[A\n",
      "Batch:  38%|███▊      | 136/361 [00:01<00:03, 66.65it/s]\u001B[A\n",
      "Batch:  40%|███▉      | 144/361 [00:01<00:03, 69.99it/s]\u001B[A\n",
      "Batch:  42%|████▏     | 152/361 [00:01<00:02, 71.25it/s]\u001B[A\n",
      "Batch:  44%|████▍     | 160/361 [00:02<00:02, 67.64it/s]\u001B[A\n",
      "Batch:  47%|████▋     | 168/361 [00:02<00:02, 68.48it/s]\u001B[A\n",
      "Batch:  49%|████▉     | 176/361 [00:02<00:02, 69.62it/s]\u001B[A\n",
      "Batch:  51%|█████     | 185/361 [00:02<00:02, 71.58it/s]\u001B[A\n",
      "Batch:  53%|█████▎    | 193/361 [00:02<00:02, 66.64it/s]\u001B[A\n",
      "Batch:  55%|█████▌    | 200/361 [00:02<00:02, 59.01it/s]\u001B[A\n",
      "Batch:  58%|█████▊    | 208/361 [00:02<00:02, 63.00it/s]\u001B[A\n",
      "Batch:  60%|█████▉    | 216/361 [00:02<00:02, 65.99it/s]\u001B[A\n",
      "Batch:  62%|██████▏   | 223/361 [00:03<00:02, 61.95it/s]\u001B[A\n",
      "Batch:  64%|██████▎   | 230/361 [00:03<00:02, 63.83it/s]\u001B[A\n",
      "Batch:  66%|██████▌   | 238/361 [00:03<00:01, 65.72it/s]\u001B[A\n",
      "Batch:  68%|██████▊   | 247/361 [00:03<00:01, 70.92it/s]\u001B[A\n",
      "Batch:  71%|███████   | 255/361 [00:03<00:01, 71.55it/s]\u001B[A\n",
      "Batch:  73%|███████▎  | 263/361 [00:03<00:01, 72.32it/s]\u001B[A\n",
      "Batch:  75%|███████▌  | 271/361 [00:03<00:01, 71.34it/s]\u001B[A\n",
      "Batch:  77%|███████▋  | 279/361 [00:03<00:01, 72.38it/s]\u001B[A\n",
      "Batch:  80%|███████▉  | 287/361 [00:03<00:01, 73.00it/s]\u001B[A\n",
      "Batch:  82%|████████▏ | 295/361 [00:04<00:00, 72.90it/s]\u001B[A\n",
      "Batch:  84%|████████▍ | 303/361 [00:04<00:00, 73.67it/s]\u001B[A\n",
      "Batch:  86%|████████▌ | 311/361 [00:04<00:00, 73.13it/s]\u001B[A\n",
      "Batch:  89%|████████▊ | 320/361 [00:04<00:00, 75.70it/s]\u001B[A\n",
      "Batch:  91%|█████████ | 329/361 [00:04<00:00, 76.26it/s]\u001B[A\n",
      "Batch:  93%|█████████▎| 337/361 [00:04<00:00, 73.70it/s]\u001B[A\n",
      "Batch:  96%|█████████▌| 345/361 [00:04<00:00, 70.30it/s]\u001B[A\n",
      "Batch:  98%|█████████▊| 353/361 [00:04<00:00, 67.12it/s]\u001B[A\n",
      "Batch: 100%|██████████| 361/361 [00:05<00:00, 60.79it/s]\u001B[A\n",
      "                                                        \u001B[A\n",
      "Batch:   0%|          | 0/41 [00:00<?, ?it/s]\u001B[A\n",
      "Batch:  80%|████████  | 33/41 [00:00<00:00, 329.38it/s]\u001B[A\n",
      "Epoch:  47%|████▋     | 7/15 [00:32<00:38,  4.76s/it]  \u001B[A"
     ]
    },
    {
     "name": "stdout",
     "output_type": "stream",
     "text": [
      "defaultdict(<class 'list'>, {'epoch': [0, 1, 2, 3, 4, 5, 6], 'train_loss': [1.152583597274368, 0.8400773156712921, 0.8205656389450433, 0.8069839929939967, 0.7948228812613976, 0.7663382787123281, 0.7570240258179873], 'train_mse': [1.101536512374878, 0.8255999088287354, 0.8064792156219482, 0.7929696440696716, 0.7804115414619446, 0.7590036988258362, 0.7491777539253235], 'valid_loss': [0.8724039880240836, 0.8652600079047971, 0.8585293031320339, 0.8535172793923355, 0.8534056893209132, 0.8366371422279172, 0.8390225622712112], 'valid_mse': [0.8638210296630859, 0.8509705066680908, 0.8450561165809631, 0.8413580656051636, 0.8411288857460022, 0.8271316885948181, 0.8274190425872803]})\n"
     ]
    },
    {
     "name": "stderr",
     "output_type": "stream",
     "text": [
      "\n",
      "Batch:   0%|          | 0/361 [00:00<?, ?it/s]\u001B[A\n",
      "Batch:   1%|▏         | 5/361 [00:00<00:07, 47.00it/s]\u001B[A\n",
      "Batch:   4%|▍         | 16/361 [00:00<00:04, 80.29it/s]\u001B[A\n",
      "Batch:   8%|▊         | 28/361 [00:00<00:03, 95.57it/s]\u001B[A\n",
      "Batch:  11%|█         | 40/361 [00:00<00:03, 103.06it/s]\u001B[A\n",
      "Batch:  14%|█▍        | 51/361 [00:00<00:02, 104.19it/s]\u001B[A\n",
      "Batch:  17%|█▋        | 63/361 [00:00<00:02, 108.61it/s]\u001B[A\n",
      "Batch:  21%|██        | 75/361 [00:00<00:02, 110.32it/s]\u001B[A\n",
      "Batch:  24%|██▍       | 87/361 [00:00<00:02, 100.57it/s]\u001B[A\n",
      "Batch:  27%|██▋       | 98/361 [00:00<00:02, 97.67it/s] \u001B[A\n",
      "Batch:  30%|██▉       | 108/361 [00:01<00:02, 87.86it/s]\u001B[A\n",
      "Batch:  32%|███▏      | 117/361 [00:01<00:02, 83.94it/s]\u001B[A\n",
      "Batch:  35%|███▍      | 126/361 [00:01<00:02, 84.64it/s]\u001B[A\n",
      "Batch:  38%|███▊      | 137/361 [00:01<00:02, 90.13it/s]\u001B[A\n",
      "Batch:  41%|████      | 147/361 [00:01<00:02, 88.72it/s]\u001B[A\n",
      "Batch:  44%|████▍     | 159/361 [00:01<00:02, 95.12it/s]\u001B[A\n",
      "Batch:  47%|████▋     | 169/361 [00:01<00:02, 89.55it/s]\u001B[A\n",
      "Batch:  50%|████▉     | 179/361 [00:01<00:02, 89.82it/s]\u001B[A\n",
      "Batch:  52%|█████▏    | 189/361 [00:02<00:02, 77.69it/s]\u001B[A\n",
      "Batch:  55%|█████▍    | 198/361 [00:02<00:02, 73.41it/s]\u001B[A\n",
      "Batch:  58%|█████▊    | 210/361 [00:02<00:01, 82.98it/s]\u001B[A\n",
      "Batch:  61%|██████▏   | 222/361 [00:02<00:01, 91.95it/s]\u001B[A\n",
      "Batch:  64%|██████▍   | 232/361 [00:02<00:01, 94.04it/s]\u001B[A\n",
      "Batch:  67%|██████▋   | 243/361 [00:02<00:01, 97.62it/s]\u001B[A\n",
      "Batch:  70%|███████   | 253/361 [00:02<00:01, 95.05it/s]\u001B[A\n",
      "Batch:  73%|███████▎  | 263/361 [00:02<00:01, 80.16it/s]\u001B[A\n",
      "Batch:  75%|███████▌  | 272/361 [00:03<00:01, 75.51it/s]\u001B[A\n",
      "Batch:  79%|███████▊  | 284/361 [00:03<00:00, 84.99it/s]\u001B[A\n",
      "Batch:  82%|████████▏ | 297/361 [00:03<00:00, 94.97it/s]\u001B[A\n",
      "Batch:  86%|████████▌ | 311/361 [00:03<00:00, 105.64it/s]\u001B[A\n",
      "Batch:  89%|████████▉ | 323/361 [00:03<00:00, 108.49it/s]\u001B[A\n",
      "Batch:  93%|█████████▎| 336/361 [00:03<00:00, 113.51it/s]\u001B[A\n",
      "Batch:  97%|█████████▋| 350/361 [00:03<00:00, 118.84it/s]\u001B[A\n",
      "                                                         \u001B[A\n",
      "Batch:   0%|          | 0/41 [00:00<?, ?it/s]\u001B[A\n",
      "Batch:  78%|███████▊  | 32/41 [00:00<00:00, 311.20it/s]\u001B[A\n",
      "Epoch:  53%|█████▎    | 8/15 [00:36<00:31,  4.53s/it]  \u001B[A"
     ]
    },
    {
     "name": "stdout",
     "output_type": "stream",
     "text": [
      "defaultdict(<class 'list'>, {'epoch': [0, 1, 2, 3, 4, 5, 6, 7], 'train_loss': [1.152583597274368, 0.8400773156712921, 0.8205656389450433, 0.8069839929939967, 0.7948228812613976, 0.7663382787123281, 0.7570240258179873, 0.7503521330138653], 'train_mse': [1.101536512374878, 0.8255999088287354, 0.8064792156219482, 0.7929696440696716, 0.7804115414619446, 0.7590036988258362, 0.7491777539253235, 0.7415125370025635], 'valid_loss': [0.8724039880240836, 0.8652600079047971, 0.8585293031320339, 0.8535172793923355, 0.8534056893209132, 0.8366371422279172, 0.8390225622712112, 0.8358405406882123], 'valid_mse': [0.8638210296630859, 0.8509705066680908, 0.8450561165809631, 0.8413580656051636, 0.8411288857460022, 0.8271316885948181, 0.8274190425872803, 0.8259716033935547]})\n"
     ]
    },
    {
     "name": "stderr",
     "output_type": "stream",
     "text": [
      "\n",
      "Batch:   0%|          | 0/361 [00:00<?, ?it/s]\u001B[A\n",
      "Batch:   2%|▏         | 6/361 [00:00<00:06, 58.22it/s]\u001B[A\n",
      "Batch:   4%|▎         | 13/361 [00:00<00:05, 64.60it/s]\u001B[A\n",
      "Batch:   6%|▌         | 20/361 [00:00<00:05, 62.68it/s]\u001B[A\n",
      "Batch:   8%|▊         | 28/361 [00:00<00:04, 67.32it/s]\u001B[A\n",
      "Batch:  10%|▉         | 35/361 [00:00<00:04, 65.42it/s]\u001B[A\n",
      "Batch:  12%|█▏        | 43/361 [00:00<00:04, 69.60it/s]\u001B[A\n",
      "Batch:  14%|█▍        | 51/361 [00:00<00:04, 71.87it/s]\u001B[A\n",
      "Batch:  16%|█▋        | 59/361 [00:00<00:04, 69.04it/s]\u001B[A\n",
      "Batch:  18%|█▊        | 66/361 [00:00<00:04, 66.71it/s]\u001B[A\n",
      "Batch:  20%|██        | 73/361 [00:01<00:04, 65.61it/s]\u001B[A\n",
      "Batch:  22%|██▏       | 80/361 [00:01<00:04, 56.49it/s]\u001B[A\n",
      "Batch:  24%|██▍       | 86/361 [00:01<00:04, 55.81it/s]\u001B[A\n",
      "Batch:  26%|██▌       | 93/361 [00:01<00:04, 58.17it/s]\u001B[A\n",
      "Batch:  28%|██▊       | 100/361 [00:01<00:04, 60.55it/s]\u001B[A\n",
      "Batch:  30%|██▉       | 108/361 [00:01<00:03, 63.95it/s]\u001B[A\n",
      "Batch:  32%|███▏      | 115/361 [00:01<00:03, 63.05it/s]\u001B[A\n",
      "Batch:  34%|███▍      | 122/361 [00:01<00:03, 62.63it/s]\u001B[A\n",
      "Batch:  36%|███▌      | 129/361 [00:02<00:03, 61.80it/s]\u001B[A\n",
      "Batch:  38%|███▊      | 136/361 [00:02<00:03, 62.42it/s]\u001B[A\n",
      "Batch:  40%|███▉      | 143/361 [00:02<00:03, 63.15it/s]\u001B[A\n",
      "Batch:  42%|████▏     | 152/361 [00:02<00:03, 67.55it/s]\u001B[A\n",
      "Batch:  44%|████▍     | 159/361 [00:02<00:03, 64.25it/s]\u001B[A\n",
      "Batch:  46%|████▌     | 166/361 [00:02<00:03, 63.17it/s]\u001B[A\n",
      "Batch:  48%|████▊     | 173/361 [00:02<00:03, 58.09it/s]\u001B[A\n",
      "Batch:  50%|████▉     | 179/361 [00:02<00:03, 55.09it/s]\u001B[A\n",
      "Batch:  51%|█████     | 185/361 [00:02<00:03, 54.58it/s]\u001B[A\n",
      "Batch:  53%|█████▎    | 191/361 [00:03<00:03, 55.74it/s]\u001B[A\n",
      "Batch:  55%|█████▍    | 198/361 [00:03<00:02, 58.48it/s]\u001B[A\n",
      "Batch:  57%|█████▋    | 205/361 [00:03<00:02, 59.28it/s]\u001B[A\n",
      "Batch:  58%|█████▊    | 211/361 [00:03<00:02, 59.34it/s]\u001B[A\n",
      "Batch:  60%|██████    | 217/361 [00:03<00:02, 56.47it/s]\u001B[A\n",
      "Batch:  62%|██████▏   | 223/361 [00:03<00:02, 57.00it/s]\u001B[A\n",
      "Batch:  64%|██████▎   | 230/361 [00:03<00:02, 57.55it/s]\u001B[A\n",
      "Batch:  66%|██████▌   | 238/361 [00:03<00:01, 61.80it/s]\u001B[A\n",
      "Batch:  68%|██████▊   | 245/361 [00:03<00:01, 63.60it/s]\u001B[A\n",
      "Batch:  70%|███████   | 253/361 [00:04<00:01, 66.63it/s]\u001B[A\n",
      "Batch:  73%|███████▎  | 262/361 [00:04<00:01, 71.33it/s]\u001B[A\n",
      "Batch:  76%|███████▌  | 274/361 [00:04<00:01, 84.86it/s]\u001B[A\n",
      "Batch:  80%|███████▉  | 287/361 [00:04<00:00, 96.28it/s]\u001B[A\n",
      "Batch:  83%|████████▎ | 299/361 [00:04<00:00, 100.92it/s]\u001B[A\n",
      "Batch:  86%|████████▋ | 312/361 [00:04<00:00, 107.13it/s]\u001B[A\n",
      "Batch:  90%|████████▉ | 324/361 [00:04<00:00, 108.56it/s]\u001B[A\n",
      "Batch:  93%|█████████▎| 335/361 [00:04<00:00, 102.35it/s]\u001B[A\n",
      "Batch:  96%|█████████▌| 346/361 [00:04<00:00, 98.02it/s] \u001B[A\n",
      "Batch:  99%|█████████▉| 357/361 [00:05<00:00, 99.85it/s]\u001B[A\n",
      "                                                        \u001B[A\n",
      "Batch:   0%|          | 0/41 [00:00<?, ?it/s]\u001B[A\n",
      "Batch:  63%|██████▎   | 26/41 [00:00<00:00, 249.68it/s]\u001B[A\n",
      "Epoch:  60%|██████    | 9/15 [00:42<00:28,  4.79s/it]  \u001B[A"
     ]
    },
    {
     "name": "stdout",
     "output_type": "stream",
     "text": [
      "defaultdict(<class 'list'>, {'epoch': [0, 1, 2, 3, 4, 5, 6, 7, 8], 'train_loss': [1.152583597274368, 0.8400773156712921, 0.8205656389450433, 0.8069839929939967, 0.7948228812613976, 0.7663382787123281, 0.7570240258179873, 0.7503521330138653, 0.7423741401397621], 'train_mse': [1.101536512374878, 0.8255999088287354, 0.8064792156219482, 0.7929696440696716, 0.7804115414619446, 0.7590036988258362, 0.7491777539253235, 0.7415125370025635, 0.733666718006134], 'valid_loss': [0.8724039880240836, 0.8652600079047971, 0.8585293031320339, 0.8535172793923355, 0.8534056893209132, 0.8366371422279172, 0.8390225622712112, 0.8358405406882123, 0.839277751562072], 'valid_mse': [0.8638210296630859, 0.8509705066680908, 0.8450561165809631, 0.8413580656051636, 0.8411288857460022, 0.8271316885948181, 0.8274190425872803, 0.8259716033935547, 0.8284040689468384]})\n"
     ]
    },
    {
     "name": "stderr",
     "output_type": "stream",
     "text": [
      "\n",
      "Batch:   0%|          | 0/361 [00:00<?, ?it/s]\u001B[A\n",
      "Batch:   1%|          | 4/361 [00:00<00:09, 37.53it/s]\u001B[A\n",
      "Batch:   3%|▎         | 11/361 [00:00<00:06, 53.30it/s]\u001B[A\n",
      "Batch:   5%|▌         | 19/361 [00:00<00:05, 62.85it/s]\u001B[A\n",
      "Batch:   7%|▋         | 26/361 [00:00<00:05, 64.99it/s]\u001B[A\n",
      "Batch:   9%|▉         | 33/361 [00:00<00:05, 61.62it/s]\u001B[A\n",
      "Batch:  11%|█         | 40/361 [00:00<00:05, 59.60it/s]\u001B[A\n",
      "Batch:  13%|█▎        | 47/361 [00:00<00:05, 62.44it/s]\u001B[A\n",
      "Batch:  15%|█▌        | 55/361 [00:00<00:04, 67.03it/s]\u001B[A\n",
      "Batch:  18%|█▊        | 66/361 [00:00<00:03, 78.68it/s]\u001B[A\n",
      "Batch:  21%|██        | 75/361 [00:01<00:03, 81.57it/s]\u001B[A\n",
      "Batch:  23%|██▎       | 84/361 [00:01<00:03, 72.96it/s]\u001B[A\n",
      "Batch:  26%|██▌       | 94/361 [00:01<00:03, 79.19it/s]\u001B[A\n",
      "Batch:  29%|██▉       | 104/361 [00:01<00:03, 84.77it/s]\u001B[A\n",
      "Batch:  32%|███▏      | 114/361 [00:01<00:02, 87.44it/s]\u001B[A\n",
      "Batch:  34%|███▍      | 123/361 [00:01<00:03, 76.48it/s]\u001B[A\n",
      "Batch:  37%|███▋      | 132/361 [00:01<00:02, 79.09it/s]\u001B[A\n",
      "Batch:  39%|███▉      | 141/361 [00:01<00:02, 81.83it/s]\u001B[A\n",
      "Batch:  42%|████▏     | 150/361 [00:02<00:02, 83.46it/s]\u001B[A\n",
      "Batch:  44%|████▍     | 159/361 [00:02<00:02, 81.68it/s]\u001B[A\n",
      "Batch:  47%|████▋     | 168/361 [00:02<00:02, 81.97it/s]\u001B[A\n",
      "Batch:  49%|████▉     | 178/361 [00:02<00:02, 84.31it/s]\u001B[A\n",
      "Batch:  52%|█████▏    | 187/361 [00:02<00:02, 83.54it/s]\u001B[A\n",
      "Batch:  55%|█████▍    | 197/361 [00:02<00:01, 88.05it/s]\u001B[A\n",
      "Batch:  58%|█████▊    | 209/361 [00:02<00:01, 96.12it/s]\u001B[A\n",
      "Batch:  62%|██████▏   | 223/361 [00:02<00:01, 106.89it/s]\u001B[A\n",
      "Batch:  65%|██████▌   | 236/361 [00:02<00:01, 112.66it/s]\u001B[A\n",
      "Batch:  69%|██████▉   | 249/361 [00:02<00:00, 116.08it/s]\u001B[A\n",
      "Batch:  73%|███████▎  | 262/361 [00:03<00:00, 119.32it/s]\u001B[A\n",
      "Batch:  76%|███████▌  | 274/361 [00:03<00:00, 113.89it/s]\u001B[A\n",
      "Batch:  79%|███████▉  | 286/361 [00:03<00:00, 115.17it/s]\u001B[A\n",
      "Batch:  83%|████████▎ | 298/361 [00:03<00:00, 95.64it/s] \u001B[A\n",
      "Batch:  86%|████████▌ | 309/361 [00:03<00:00, 89.10it/s]\u001B[A\n",
      "Batch:  88%|████████▊ | 319/361 [00:03<00:00, 83.77it/s]\u001B[A\n",
      "Batch:  91%|█████████ | 328/361 [00:03<00:00, 81.51it/s]\u001B[A\n",
      "Batch:  93%|█████████▎| 337/361 [00:03<00:00, 80.73it/s]\u001B[A\n",
      "Batch:  96%|█████████▌| 346/361 [00:04<00:00, 81.22it/s]\u001B[A\n",
      "Batch:  98%|█████████▊| 355/361 [00:04<00:00, 82.60it/s]\u001B[A\n",
      "                                                        \u001B[A\n",
      "Batch:   0%|          | 0/41 [00:00<?, ?it/s]\u001B[A\n",
      "Batch:  51%|█████     | 21/41 [00:00<00:00, 205.21it/s]\u001B[A\n",
      "Epoch:  67%|██████▋   | 10/15 [00:46<00:23,  4.72s/it] \u001B[A"
     ]
    },
    {
     "name": "stdout",
     "output_type": "stream",
     "text": [
      "defaultdict(<class 'list'>, {'epoch': [0, 1, 2, 3, 4, 5, 6, 7, 8, 9], 'train_loss': [1.152583597274368, 0.8400773156712921, 0.8205656389450433, 0.8069839929939967, 0.7948228812613976, 0.7663382787123281, 0.7570240258179873, 0.7503521330138653, 0.7423741401397621, 0.7342179703250156], 'train_mse': [1.101536512374878, 0.8255999088287354, 0.8064792156219482, 0.7929696440696716, 0.7804115414619446, 0.7590036988258362, 0.7491777539253235, 0.7415125370025635, 0.733666718006134, 0.7245464324951172], 'valid_loss': [0.8724039880240836, 0.8652600079047971, 0.8585293031320339, 0.8535172793923355, 0.8534056893209132, 0.8366371422279172, 0.8390225622712112, 0.8358405406882123, 0.839277751562072, 0.8424401152424696], 'valid_mse': [0.8638210296630859, 0.8509705066680908, 0.8450561165809631, 0.8413580656051636, 0.8411288857460022, 0.8271316885948181, 0.8274190425872803, 0.8259716033935547, 0.8284040689468384, 0.830801248550415]})\n"
     ]
    },
    {
     "name": "stderr",
     "output_type": "stream",
     "text": [
      "\n",
      "Batch:   0%|          | 0/361 [00:00<?, ?it/s]\u001B[A\n",
      "Batch:   1%|          | 2/361 [00:00<00:19, 18.86it/s]\u001B[A\n",
      "Batch:   2%|▏         | 7/361 [00:00<00:09, 36.59it/s]\u001B[A\n",
      "Batch:   4%|▎         | 13/361 [00:00<00:08, 42.18it/s]\u001B[A\n",
      "Batch:   5%|▍         | 18/361 [00:00<00:07, 43.68it/s]\u001B[A\n",
      "Batch:   6%|▋         | 23/361 [00:00<00:07, 43.48it/s]\u001B[A\n",
      "Batch:   8%|▊         | 29/361 [00:00<00:06, 47.59it/s]\u001B[A\n",
      "Batch:  10%|▉         | 35/361 [00:00<00:06, 50.09it/s]\u001B[A\n",
      "Batch:  11%|█▏        | 41/361 [00:00<00:06, 47.30it/s]\u001B[A\n",
      "Batch:  14%|█▎        | 49/361 [00:01<00:05, 55.17it/s]\u001B[A\n",
      "Batch:  15%|█▌        | 55/361 [00:01<00:05, 54.66it/s]\u001B[A\n",
      "Batch:  17%|█▋        | 63/361 [00:01<00:04, 60.32it/s]\u001B[A\n",
      "Batch:  19%|█▉        | 70/361 [00:01<00:04, 60.57it/s]\u001B[A\n",
      "Batch:  21%|██▏       | 77/361 [00:01<00:04, 62.63it/s]\u001B[A\n",
      "Batch:  23%|██▎       | 84/361 [00:01<00:04, 60.61it/s]\u001B[A\n",
      "Batch:  25%|██▌       | 92/361 [00:01<00:04, 64.26it/s]\u001B[A\n",
      "Batch:  28%|██▊       | 100/361 [00:01<00:03, 67.55it/s]\u001B[A\n",
      "Batch:  30%|██▉       | 107/361 [00:01<00:03, 65.53it/s]\u001B[A\n",
      "Batch:  32%|███▏      | 117/361 [00:02<00:03, 74.42it/s]\u001B[A\n",
      "Batch:  35%|███▌      | 127/361 [00:02<00:02, 80.38it/s]\u001B[A\n",
      "Batch:  39%|███▊      | 139/361 [00:02<00:02, 91.05it/s]\u001B[A\n",
      "Batch:  42%|████▏     | 152/361 [00:02<00:02, 101.34it/s]\u001B[A\n",
      "Batch:  46%|████▌     | 165/361 [00:02<00:01, 109.54it/s]\u001B[A\n",
      "Batch:  50%|████▉     | 179/361 [00:02<00:01, 114.66it/s]\u001B[A\n",
      "Batch:  53%|█████▎    | 192/361 [00:02<00:01, 117.93it/s]\u001B[A\n",
      "Batch:  57%|█████▋    | 205/361 [00:02<00:01, 121.22it/s]\u001B[A\n",
      "Batch:  60%|██████    | 218/361 [00:02<00:01, 119.19it/s]\u001B[A\n",
      "Batch:  64%|██████▍   | 232/361 [00:02<00:01, 123.92it/s]\u001B[A\n",
      "Batch:  68%|██████▊   | 245/361 [00:03<00:00, 122.82it/s]\u001B[A\n",
      "Batch:  71%|███████▏  | 258/361 [00:03<00:00, 120.21it/s]\u001B[A\n",
      "Batch:  75%|███████▌  | 272/361 [00:03<00:00, 121.43it/s]\u001B[A\n",
      "Batch:  79%|███████▉  | 285/361 [00:03<00:00, 110.23it/s]\u001B[A\n",
      "Batch:  82%|████████▏ | 297/361 [00:03<00:00, 102.52it/s]\u001B[A\n",
      "Batch:  85%|████████▌ | 308/361 [00:03<00:00, 96.40it/s] \u001B[A\n",
      "Batch:  88%|████████▊ | 318/361 [00:03<00:00, 94.86it/s]\u001B[A\n",
      "Batch:  91%|█████████ | 328/361 [00:03<00:00, 87.06it/s]\u001B[A\n",
      "Batch:  93%|█████████▎| 337/361 [00:04<00:00, 84.35it/s]\u001B[A\n",
      "Batch:  96%|█████████▌| 346/361 [00:04<00:00, 83.19it/s]\u001B[A\n",
      "Batch:  98%|█████████▊| 355/361 [00:04<00:00, 81.11it/s]\u001B[A\n",
      "                                                        \u001B[A\n",
      "Batch:   0%|          | 0/41 [00:00<?, ?it/s]\u001B[A\n",
      "Batch:  73%|███████▎  | 30/41 [00:00<00:00, 288.11it/s]\u001B[A\n",
      "Epoch:  73%|███████▎  | 11/15 [00:51<00:18,  4.68s/it] \u001B[A"
     ]
    },
    {
     "name": "stdout",
     "output_type": "stream",
     "text": [
      "defaultdict(<class 'list'>, {'epoch': [0, 1, 2, 3, 4, 5, 6, 7, 8, 9, 10], 'train_loss': [1.152583597274368, 0.8400773156712921, 0.8205656389450433, 0.8069839929939967, 0.7948228812613976, 0.7663382787123281, 0.7570240258179873, 0.7503521330138653, 0.7423741401397621, 0.7342179703250156, 0.7123301730922055], 'train_mse': [1.101536512374878, 0.8255999088287354, 0.8064792156219482, 0.7929696440696716, 0.7804115414619446, 0.7590036988258362, 0.7491777539253235, 0.7415125370025635, 0.733666718006134, 0.7245464324951172, 0.7073403596878052], 'valid_loss': [0.8724039880240836, 0.8652600079047971, 0.8585293031320339, 0.8535172793923355, 0.8534056893209132, 0.8366371422279172, 0.8390225622712112, 0.8358405406882123, 0.839277751562072, 0.8424401152424696, 0.8304322042116304], 'valid_mse': [0.8638210296630859, 0.8509705066680908, 0.8450561165809631, 0.8413580656051636, 0.8411288857460022, 0.8271316885948181, 0.8274190425872803, 0.8259716033935547, 0.8284040689468384, 0.830801248550415, 0.82195645570755]})\n"
     ]
    },
    {
     "name": "stderr",
     "output_type": "stream",
     "text": [
      "\n",
      "Batch:   0%|          | 0/361 [00:00<?, ?it/s]\u001B[A\n",
      "Batch:   2%|▏         | 6/361 [00:00<00:06, 51.20it/s]\u001B[A\n",
      "Batch:   3%|▎         | 12/361 [00:00<00:07, 49.02it/s]\u001B[A\n",
      "Batch:   5%|▍         | 17/361 [00:00<00:07, 46.33it/s]\u001B[A\n",
      "Batch:   6%|▌         | 22/361 [00:00<00:07, 46.46it/s]\u001B[A\n",
      "Batch:   7%|▋         | 27/361 [00:00<00:07, 41.98it/s]\u001B[A\n",
      "Batch:  10%|▉         | 36/361 [00:00<00:05, 54.71it/s]\u001B[A\n",
      "Batch:  12%|█▏        | 43/361 [00:00<00:05, 58.17it/s]\u001B[A\n",
      "Batch:  14%|█▍        | 52/361 [00:00<00:04, 65.37it/s]\u001B[A\n",
      "Batch:  17%|█▋        | 62/361 [00:01<00:03, 74.77it/s]\u001B[A\n",
      "Batch:  20%|██        | 74/361 [00:01<00:03, 86.20it/s]\u001B[A\n",
      "Batch:  24%|██▍       | 86/361 [00:01<00:02, 92.00it/s]\u001B[A\n",
      "Batch:  27%|██▋       | 96/361 [00:01<00:02, 91.74it/s]\u001B[A\n",
      "Batch:  29%|██▉       | 106/361 [00:01<00:02, 93.53it/s]\u001B[A\n",
      "Batch:  32%|███▏      | 117/361 [00:01<00:02, 97.01it/s]\u001B[A\n",
      "Batch:  35%|███▌      | 127/361 [00:01<00:02, 84.97it/s]\u001B[A\n",
      "Batch:  38%|███▊      | 137/361 [00:01<00:02, 88.15it/s]\u001B[A\n",
      "Batch:  41%|████      | 148/361 [00:01<00:02, 91.93it/s]\u001B[A\n",
      "Batch:  44%|████▍     | 158/361 [00:02<00:02, 85.85it/s]\u001B[A\n",
      "Batch:  46%|████▋     | 167/361 [00:02<00:02, 82.17it/s]\u001B[A\n",
      "Batch:  49%|████▉     | 176/361 [00:02<00:02, 80.01it/s]\u001B[A\n",
      "Batch:  51%|█████     | 185/361 [00:02<00:02, 80.56it/s]\u001B[A\n",
      "Batch:  54%|█████▎    | 194/361 [00:02<00:02, 69.71it/s]\u001B[A\n",
      "Batch:  56%|█████▌    | 202/361 [00:02<00:02, 68.42it/s]\u001B[A\n",
      "Batch:  58%|█████▊    | 210/361 [00:02<00:02, 60.19it/s]\u001B[A\n",
      "Batch:  60%|██████    | 217/361 [00:03<00:02, 59.31it/s]\u001B[A\n",
      "Batch:  62%|██████▏   | 224/361 [00:03<00:02, 61.38it/s]\u001B[A\n",
      "Batch:  64%|██████▍   | 232/361 [00:03<00:01, 65.86it/s]\u001B[A\n",
      "Batch:  66%|██████▌   | 239/361 [00:03<00:01, 65.27it/s]\u001B[A\n",
      "Batch:  69%|██████▊   | 248/361 [00:03<00:01, 70.62it/s]\u001B[A\n",
      "Batch:  71%|███████   | 257/361 [00:03<00:01, 73.73it/s]\u001B[A\n",
      "Batch:  74%|███████▎  | 266/361 [00:03<00:01, 77.32it/s]\u001B[A\n",
      "Batch:  76%|███████▌  | 275/361 [00:03<00:01, 78.94it/s]\u001B[A\n",
      "Batch:  79%|███████▊  | 284/361 [00:03<00:00, 79.20it/s]\u001B[A\n",
      "Batch:  81%|████████  | 292/361 [00:03<00:00, 76.53it/s]\u001B[A\n",
      "Batch:  83%|████████▎ | 301/361 [00:04<00:00, 79.38it/s]\u001B[A\n",
      "Batch:  86%|████████▌ | 310/361 [00:04<00:00, 80.94it/s]\u001B[A\n",
      "Batch:  88%|████████▊ | 319/361 [00:04<00:00, 78.16it/s]\u001B[A\n",
      "Batch:  91%|█████████ | 328/361 [00:04<00:00, 80.22it/s]\u001B[A\n",
      "Batch:  93%|█████████▎| 337/361 [00:04<00:00, 79.08it/s]\u001B[A\n",
      "Batch:  96%|█████████▋| 348/361 [00:04<00:00, 86.76it/s]\u001B[A\n",
      "Batch: 100%|█████████▉| 360/361 [00:04<00:00, 96.05it/s]\u001B[A\n",
      "                                                        \u001B[A\n",
      "Batch:   0%|          | 0/41 [00:00<?, ?it/s]\u001B[A\n",
      "Batch:  85%|████████▌ | 35/41 [00:00<00:00, 345.22it/s]\u001B[A\n",
      "Epoch:  80%|████████  | 12/15 [00:56<00:14,  4.77s/it] \u001B[A"
     ]
    },
    {
     "name": "stdout",
     "output_type": "stream",
     "text": [
      "defaultdict(<class 'list'>, {'epoch': [0, 1, 2, 3, 4, 5, 6, 7, 8, 9, 10, 11], 'train_loss': [1.152583597274368, 0.8400773156712921, 0.8205656389450433, 0.8069839929939967, 0.7948228812613976, 0.7663382787123281, 0.7570240258179873, 0.7503521330138653, 0.7423741401397621, 0.7342179703250156, 0.7123301730922055, 0.7048408075382835], 'train_mse': [1.101536512374878, 0.8255999088287354, 0.8064792156219482, 0.7929696440696716, 0.7804115414619446, 0.7590036988258362, 0.7491777539253235, 0.7415125370025635, 0.733666718006134, 0.7245464324951172, 0.7073403596878052, 0.69957435131073], 'valid_loss': [0.8724039880240836, 0.8652600079047971, 0.8585293031320339, 0.8535172793923355, 0.8534056893209132, 0.8366371422279172, 0.8390225622712112, 0.8358405406882123, 0.839277751562072, 0.8424401152424696, 0.8304322042116304, 0.8287532198719862], 'valid_mse': [0.8638210296630859, 0.8509705066680908, 0.8450561165809631, 0.8413580656051636, 0.8411288857460022, 0.8271316885948181, 0.8274190425872803, 0.8259716033935547, 0.8284040689468384, 0.830801248550415, 0.82195645570755, 0.8209344744682312]})\n"
     ]
    },
    {
     "name": "stderr",
     "output_type": "stream",
     "text": [
      "\n",
      "Batch:   0%|          | 0/361 [00:00<?, ?it/s]\u001B[A\n",
      "Batch:   2%|▏         | 6/361 [00:00<00:05, 59.91it/s]\u001B[A\n",
      "Batch:   5%|▍         | 18/361 [00:00<00:03, 91.70it/s]\u001B[A\n",
      "Batch:   8%|▊         | 29/361 [00:00<00:03, 98.94it/s]\u001B[A\n",
      "Batch:  11%|█         | 39/361 [00:00<00:03, 99.06it/s]\u001B[A\n",
      "Batch:  14%|█▍        | 50/361 [00:00<00:03, 100.27it/s]\u001B[A\n",
      "Batch:  17%|█▋        | 61/361 [00:00<00:02, 103.47it/s]\u001B[A\n",
      "Batch:  20%|█▉        | 72/361 [00:00<00:02, 103.47it/s]\u001B[A\n",
      "Batch:  23%|██▎       | 83/361 [00:00<00:02, 100.45it/s]\u001B[A\n",
      "Batch:  26%|██▌       | 94/361 [00:00<00:02, 102.77it/s]\u001B[A\n",
      "Batch:  29%|██▉       | 105/361 [00:01<00:02, 89.37it/s]\u001B[A\n",
      "Batch:  32%|███▏      | 115/361 [00:01<00:02, 90.75it/s]\u001B[A\n",
      "Batch:  35%|███▍      | 125/361 [00:01<00:02, 82.68it/s]\u001B[A\n",
      "Batch:  37%|███▋      | 135/361 [00:01<00:02, 85.01it/s]\u001B[A\n",
      "Batch:  40%|████      | 145/361 [00:01<00:02, 88.73it/s]\u001B[A\n",
      "Batch:  43%|████▎     | 157/361 [00:01<00:02, 96.50it/s]\u001B[A\n",
      "Batch:  47%|████▋     | 169/361 [00:01<00:01, 102.32it/s]\u001B[A\n",
      "Batch:  50%|█████     | 182/361 [00:01<00:01, 108.15it/s]\u001B[A\n",
      "Batch:  54%|█████▎    | 194/361 [00:01<00:01, 109.74it/s]\u001B[A\n",
      "Batch:  57%|█████▋    | 206/361 [00:02<00:01, 95.32it/s] \u001B[A\n",
      "Batch:  60%|██████    | 217/361 [00:02<00:01, 97.67it/s]\u001B[A\n",
      "Batch:  63%|██████▎   | 228/361 [00:02<00:01, 98.89it/s]\u001B[A\n",
      "Batch:  67%|██████▋   | 242/361 [00:02<00:01, 107.95it/s]\u001B[A\n",
      "Batch:  70%|███████   | 254/361 [00:02<00:00, 109.57it/s]\u001B[A\n",
      "Batch:  74%|███████▍  | 267/361 [00:02<00:00, 114.32it/s]\u001B[A\n",
      "Batch:  78%|███████▊  | 280/361 [00:02<00:00, 117.62it/s]\u001B[A\n",
      "Batch:  81%|████████▏ | 294/361 [00:02<00:00, 122.25it/s]\u001B[A\n",
      "Batch:  85%|████████▌ | 307/361 [00:02<00:00, 123.07it/s]\u001B[A\n",
      "Batch:  89%|████████▊ | 320/361 [00:03<00:00, 119.87it/s]\u001B[A\n",
      "Batch:  92%|█████████▏| 333/361 [00:03<00:00, 122.57it/s]\u001B[A\n",
      "Batch:  96%|█████████▌| 347/361 [00:03<00:00, 123.00it/s]\u001B[A\n",
      "Batch: 100%|█████████▉| 360/361 [00:03<00:00, 119.56it/s]\u001B[A\n",
      "                                                         \u001B[A\n",
      "Batch:   0%|          | 0/41 [00:00<?, ?it/s]\u001B[A\n",
      "Batch:  93%|█████████▎| 38/41 [00:00<00:00, 370.58it/s]\u001B[A\n",
      "Epoch:  87%|████████▋ | 13/15 [01:00<00:08,  4.43s/it] \u001B[A"
     ]
    },
    {
     "name": "stdout",
     "output_type": "stream",
     "text": [
      "defaultdict(<class 'list'>, {'epoch': [0, 1, 2, 3, 4, 5, 6, 7, 8, 9, 10, 11, 12], 'train_loss': [1.152583597274368, 0.8400773156712921, 0.8205656389450433, 0.8069839929939967, 0.7948228812613976, 0.7663382787123281, 0.7570240258179873, 0.7503521330138653, 0.7423741401397621, 0.7342179703250156, 0.7123301730922055, 0.7048408075382835, 0.6987831323430809], 'train_mse': [1.101536512374878, 0.8255999088287354, 0.8064792156219482, 0.7929696440696716, 0.7804115414619446, 0.7590036988258362, 0.7491777539253235, 0.7415125370025635, 0.733666718006134, 0.7245464324951172, 0.7073403596878052, 0.69957435131073, 0.6933744549751282], 'valid_loss': [0.8724039880240836, 0.8652600079047971, 0.8585293031320339, 0.8535172793923355, 0.8534056893209132, 0.8366371422279172, 0.8390225622712112, 0.8358405406882123, 0.839277751562072, 0.8424401152424696, 0.8304322042116304, 0.8287532198719862, 0.8338614338781776], 'valid_mse': [0.8638210296630859, 0.8509705066680908, 0.8450561165809631, 0.8413580656051636, 0.8411288857460022, 0.8271316885948181, 0.8274190425872803, 0.8259716033935547, 0.8284040689468384, 0.830801248550415, 0.82195645570755, 0.8209344744682312, 0.8234044909477234]})\n"
     ]
    },
    {
     "name": "stderr",
     "output_type": "stream",
     "text": [
      "\n",
      "Batch:   0%|          | 0/361 [00:00<?, ?it/s]\u001B[A\n",
      "Batch:   2%|▏         | 6/361 [00:00<00:06, 57.95it/s]\u001B[A\n",
      "Batch:   5%|▌         | 19/361 [00:00<00:03, 95.25it/s]\u001B[A\n",
      "Batch:   9%|▉         | 32/361 [00:00<00:03, 108.58it/s]\u001B[A\n",
      "Batch:  12%|█▏        | 43/361 [00:00<00:02, 107.63it/s]\u001B[A\n",
      "Batch:  15%|█▌        | 55/361 [00:00<00:02, 109.85it/s]\u001B[A\n",
      "Batch:  19%|█▊        | 67/361 [00:00<00:02, 112.03it/s]\u001B[A\n",
      "Batch:  22%|██▏       | 79/361 [00:00<00:02, 99.61it/s] \u001B[A\n",
      "Batch:  25%|██▍       | 90/361 [00:00<00:02, 101.72it/s]\u001B[A\n",
      "Batch:  29%|██▊       | 103/361 [00:00<00:02, 108.27it/s]\u001B[A\n",
      "Batch:  32%|███▏      | 114/361 [00:01<00:03, 67.83it/s] \u001B[A\n",
      "Batch:  34%|███▍      | 123/361 [00:01<00:04, 59.18it/s]\u001B[A\n",
      "Batch:  36%|███▋      | 131/361 [00:01<00:03, 57.77it/s]\u001B[A\n",
      "Batch:  38%|███▊      | 138/361 [00:01<00:04, 51.71it/s]\u001B[A\n",
      "Batch:  40%|███▉      | 144/361 [00:01<00:04, 52.38it/s]\u001B[A\n",
      "Batch:  42%|████▏     | 150/361 [00:02<00:03, 53.34it/s]\u001B[A\n",
      "Batch:  43%|████▎     | 156/361 [00:02<00:03, 53.52it/s]\u001B[A\n",
      "Batch:  45%|████▍     | 162/361 [00:02<00:03, 52.21it/s]\u001B[A\n",
      "Batch:  47%|████▋     | 168/361 [00:02<00:03, 50.59it/s]\u001B[A\n",
      "Batch:  48%|████▊     | 174/361 [00:02<00:03, 52.13it/s]\u001B[A\n",
      "Batch:  50%|█████     | 181/361 [00:02<00:03, 55.38it/s]\u001B[A\n",
      "Batch:  52%|█████▏    | 187/361 [00:02<00:03, 56.34it/s]\u001B[A\n",
      "Batch:  54%|█████▎    | 194/361 [00:02<00:02, 58.52it/s]\u001B[A\n",
      "Batch:  55%|█████▌    | 200/361 [00:02<00:02, 56.33it/s]\u001B[A\n",
      "Batch:  58%|█████▊    | 208/361 [00:03<00:02, 60.91it/s]\u001B[A\n",
      "Batch:  60%|█████▉    | 216/361 [00:03<00:02, 65.46it/s]\u001B[A\n",
      "Batch:  62%|██████▏   | 225/361 [00:03<00:01, 71.11it/s]\u001B[A\n",
      "Batch:  65%|██████▍   | 233/361 [00:03<00:01, 72.57it/s]\u001B[A\n",
      "Batch:  67%|██████▋   | 242/361 [00:03<00:01, 76.77it/s]\u001B[A\n",
      "Batch:  69%|██████▉   | 250/361 [00:03<00:01, 76.95it/s]\u001B[A\n",
      "Batch:  71%|███████▏  | 258/361 [00:03<00:01, 72.30it/s]\u001B[A\n",
      "Batch:  74%|███████▍  | 267/361 [00:03<00:01, 76.19it/s]\u001B[A\n",
      "Batch:  76%|███████▌  | 275/361 [00:03<00:01, 76.98it/s]\u001B[A\n",
      "Batch:  80%|████████  | 289/361 [00:04<00:00, 93.65it/s]\u001B[A\n",
      "Batch:  84%|████████▍ | 303/361 [00:04<00:00, 105.59it/s]\u001B[A\n",
      "Batch:  88%|████████▊ | 316/361 [00:04<00:00, 111.77it/s]\u001B[A\n",
      "Batch:  91%|█████████ | 328/361 [00:04<00:00, 101.22it/s]\u001B[A\n",
      "Batch:  94%|█████████▍| 339/361 [00:04<00:00, 99.25it/s] \u001B[A\n",
      "Batch:  97%|█████████▋| 350/361 [00:04<00:00, 97.92it/s]\u001B[A\n",
      "Batch: 100%|█████████▉| 360/361 [00:04<00:00, 96.87it/s]\u001B[A\n",
      "                                                        \u001B[A\n",
      "Batch:   0%|          | 0/41 [00:00<?, ?it/s]\u001B[A\n",
      "Batch:  61%|██████    | 25/41 [00:00<00:00, 242.61it/s]\u001B[A\n",
      "Epoch:  93%|█████████▎| 14/15 [01:05<00:04,  4.59s/it] \u001B[A"
     ]
    },
    {
     "name": "stdout",
     "output_type": "stream",
     "text": [
      "defaultdict(<class 'list'>, {'epoch': [0, 1, 2, 3, 4, 5, 6, 7, 8, 9, 10, 11, 12, 13], 'train_loss': [1.152583597274368, 0.8400773156712921, 0.8205656389450433, 0.8069839929939967, 0.7948228812613976, 0.7663382787123281, 0.7570240258179873, 0.7503521330138653, 0.7423741401397621, 0.7342179703250156, 0.7123301730922055, 0.7048408075382835, 0.6987831323430809, 0.6926835096774009], 'train_mse': [1.101536512374878, 0.8255999088287354, 0.8064792156219482, 0.7929696440696716, 0.7804115414619446, 0.7590036988258362, 0.7491777539253235, 0.7415125370025635, 0.733666718006134, 0.7245464324951172, 0.7073403596878052, 0.69957435131073, 0.6933744549751282, 0.6869941353797913], 'valid_loss': [0.8724039880240836, 0.8652600079047971, 0.8585293031320339, 0.8535172793923355, 0.8534056893209132, 0.8366371422279172, 0.8390225622712112, 0.8358405406882123, 0.839277751562072, 0.8424401152424696, 0.8304322042116304, 0.8287532198719862, 0.8338614338781776, 0.8328523010742374], 'valid_mse': [0.8638210296630859, 0.8509705066680908, 0.8450561165809631, 0.8413580656051636, 0.8411288857460022, 0.8271316885948181, 0.8274190425872803, 0.8259716033935547, 0.8284040689468384, 0.830801248550415, 0.82195645570755, 0.8209344744682312, 0.8234044909477234, 0.8231624364852905]})\n"
     ]
    },
    {
     "name": "stderr",
     "output_type": "stream",
     "text": [
      "\n",
      "Batch:   0%|          | 0/361 [00:00<?, ?it/s]\u001B[A\n",
      "Batch:   2%|▏         | 7/361 [00:00<00:05, 63.91it/s]\u001B[A\n",
      "Batch:   5%|▌         | 19/361 [00:00<00:03, 93.23it/s]\u001B[A\n",
      "Batch:   9%|▊         | 31/361 [00:00<00:03, 103.40it/s]\u001B[A\n",
      "Batch:  12%|█▏        | 42/361 [00:00<00:03, 100.13it/s]\u001B[A\n",
      "Batch:  15%|█▌        | 55/361 [00:00<00:02, 108.65it/s]\u001B[A\n",
      "Batch:  19%|█▉        | 68/361 [00:00<00:02, 112.82it/s]\u001B[A\n",
      "Batch:  22%|██▏       | 80/361 [00:00<00:02, 105.14it/s]\u001B[A\n",
      "Batch:  25%|██▌       | 91/361 [00:00<00:02, 104.03it/s]\u001B[A\n",
      "Batch:  28%|██▊       | 102/361 [00:00<00:02, 102.30it/s]\u001B[A\n",
      "Batch:  31%|███▏      | 113/361 [00:01<00:02, 102.13it/s]\u001B[A\n",
      "Batch:  34%|███▍      | 124/361 [00:01<00:02, 103.44it/s]\u001B[A\n",
      "Batch:  37%|███▋      | 135/361 [00:01<00:02, 95.26it/s] \u001B[A\n",
      "Batch:  40%|████      | 145/361 [00:01<00:02, 87.01it/s]\u001B[A\n",
      "Batch:  43%|████▎     | 154/361 [00:01<00:02, 83.99it/s]\u001B[A\n",
      "Batch:  45%|████▌     | 163/361 [00:01<00:02, 77.01it/s]\u001B[A\n",
      "Batch:  47%|████▋     | 171/361 [00:01<00:02, 76.71it/s]\u001B[A\n",
      "Batch:  50%|████▉     | 179/361 [00:01<00:02, 73.69it/s]\u001B[A\n",
      "Batch:  52%|█████▏    | 188/361 [00:02<00:02, 77.58it/s]\u001B[A\n",
      "Batch:  54%|█████▍    | 196/361 [00:02<00:02, 77.64it/s]\u001B[A\n",
      "Batch:  57%|█████▋    | 205/361 [00:02<00:01, 80.92it/s]\u001B[A\n",
      "Batch:  60%|██████    | 217/361 [00:02<00:01, 89.30it/s]\u001B[A\n",
      "Batch:  63%|██████▎   | 226/361 [00:02<00:01, 86.91it/s]\u001B[A\n",
      "Batch:  65%|██████▌   | 235/361 [00:02<00:01, 85.00it/s]\u001B[A\n",
      "Batch:  69%|██████▊   | 248/361 [00:02<00:01, 93.47it/s]\u001B[A\n",
      "Batch:  72%|███████▏  | 261/361 [00:02<00:00, 102.43it/s]\u001B[A\n",
      "Batch:  75%|███████▌  | 272/361 [00:02<00:00, 102.73it/s]\u001B[A\n",
      "Batch:  78%|███████▊  | 283/361 [00:03<00:00, 99.82it/s] \u001B[A\n",
      "Batch:  81%|████████▏ | 294/361 [00:03<00:00, 102.60it/s]\u001B[A\n",
      "Batch:  84%|████████▍ | 305/361 [00:03<00:00, 104.50it/s]\u001B[A\n",
      "Batch:  88%|████████▊ | 317/361 [00:03<00:00, 108.11it/s]\u001B[A\n",
      "Batch:  91%|█████████ | 328/361 [00:03<00:00, 106.96it/s]\u001B[A\n",
      "Batch:  94%|█████████▍| 340/361 [00:03<00:00, 109.61it/s]\u001B[A\n",
      "Batch:  98%|█████████▊| 353/361 [00:03<00:00, 113.56it/s]\u001B[A\n",
      "                                                         \u001B[A\n",
      "Batch:   0%|          | 0/41 [00:00<?, ?it/s]\u001B[A\n",
      "Batch:  71%|███████   | 29/41 [00:00<00:00, 289.77it/s]\u001B[A\n",
      "Epoch: 100%|██████████| 15/15 [01:09<00:00,  4.60s/it] \u001B[A"
     ]
    },
    {
     "name": "stdout",
     "output_type": "stream",
     "text": [
      "defaultdict(<class 'list'>, {'epoch': [0, 1, 2, 3, 4, 5, 6, 7, 8, 9, 10, 11, 12, 13, 14], 'train_loss': [1.152583597274368, 0.8400773156712921, 0.8205656389450433, 0.8069839929939967, 0.7948228812613976, 0.7663382787123281, 0.7570240258179873, 0.7503521330138653, 0.7423741401397621, 0.7342179703250156, 0.7123301730922055, 0.7048408075382835, 0.6987831323430809, 0.6926835096774009, 0.6867210434084123], 'train_mse': [1.101536512374878, 0.8255999088287354, 0.8064792156219482, 0.7929696440696716, 0.7804115414619446, 0.7590036988258362, 0.7491777539253235, 0.7415125370025635, 0.733666718006134, 0.7245464324951172, 0.7073403596878052, 0.69957435131073, 0.6933744549751282, 0.6869941353797913, 0.6807057857513428], 'valid_loss': [0.8724039880240836, 0.8652600079047971, 0.8585293031320339, 0.8535172793923355, 0.8534056893209132, 0.8366371422279172, 0.8390225622712112, 0.8358405406882123, 0.839277751562072, 0.8424401152424696, 0.8304322042116304, 0.8287532198719862, 0.8338614338781776, 0.8328523010742374, 0.8328862466463228], 'valid_mse': [0.8638210296630859, 0.8509705066680908, 0.8450561165809631, 0.8413580656051636, 0.8411288857460022, 0.8271316885948181, 0.8274190425872803, 0.8259716033935547, 0.8284040689468384, 0.830801248550415, 0.82195645570755, 0.8209344744682312, 0.8234044909477234, 0.8231624364852905, 0.8235945701599121]})\n"
     ]
    },
    {
     "name": "stderr",
     "output_type": "stream",
     "text": [
      "\n"
     ]
    },
    {
     "data": {
      "text/plain": "<deeprec.torch.trainer.Trainer at 0x15c6e2070>"
     },
     "execution_count": 13,
     "metadata": {},
     "output_type": "execute_result"
    }
   ],
   "source": [
    "NOW = datetime.now().strftime('%Y%m%d-%H%M')\n",
    "MODEL_NAME = 'simple-collab-filter'\n",
    "LOG_DIR = ROOT.joinpath('runs', MODEL_NAME, NOW)\n",
    "BATCH = 2500\n",
    "EPOCHS = 15\n",
    "\n",
    "train_loader = DataLoader(train, batch_size=BATCH, shuffle=True, collate_fn=collator)\n",
    "test_loader = DataLoader(test, batch_size=BATCH, collate_fn=collator)\n",
    "\n",
    "device = set_device()\n",
    "mod = RecModel(metadata=meta)\n",
    "opt = torch.optim.AdamW(mod.parameters(), lr=1e-2)\n",
    "sch = torch.optim.lr_scheduler.StepLR(opt, step_size=5, gamma=.5)\n",
    "\n",
    "trainer = Trainer(\n",
    "    mod, epochs=EPOCHS, device=device, log_dir=LOG_DIR, checkpoint_file=LOG_DIR.joinpath('model.pt'),\n",
    "    optimizer=opt, score_funcs={'mse': torchmetrics.MeanSquaredError()}, lr_schedule=sch\n",
    ")\n",
    "trainer.fit(train_loader, test_loader, verbose=True)"
   ],
   "metadata": {
    "collapsed": false
   }
  },
  {
   "cell_type": "code",
   "execution_count": 100,
   "outputs": [
    {
     "name": "stdout",
     "output_type": "stream",
     "text": [
      "Saved model located at: /Users/christophersantiago/Dropbox/Programming/liveProject_deepRecommender/runs/simple-collab-filter/20220919-1309\n"
     ]
    }
   ],
   "source": [
    "print(f'Saved model located at: {LOG_DIR}')"
   ],
   "metadata": {
    "collapsed": false
   }
  },
  {
   "cell_type": "code",
   "execution_count": 14,
   "outputs": [
    {
     "data": {
      "text/plain": "<Figure size 432x288 with 1 Axes>",
      "image/png": "[encoded data removed]"
     },
     "metadata": {
      "needs_background": "light"
     },
     "output_type": "display_data"
    }
   ],
   "source": [
    "import matplotlib.pyplot as plt\n",
    "\n",
    "plt.plot(trainer.results['valid_mse'], label='Valid')\n",
    "plt.plot(trainer.results['train_mse'], label='Train')\n",
    "plt.legend()\n",
    "plt.ylabel('MSE')\n",
    "plt.xlabel('Epoch')\n",
    "plt.title('MSE by Epoch')\n",
    "plt.show()"
   ],
   "metadata": {
    "collapsed": false
   }
  },
  {
   "cell_type": "code",
   "execution_count": 15,
   "outputs": [
    {
     "data": {
      "text/plain": "{0: tensor(0.9294),\n 1: tensor(0.9225),\n 2: tensor(0.9193),\n 3: tensor(0.9173),\n 4: tensor(0.9171),\n 5: tensor(0.9095),\n 6: tensor(0.9096),\n 7: tensor(0.9088),\n 8: tensor(0.9102),\n 9: tensor(0.9115),\n 10: tensor(0.9066),\n 11: tensor(0.9061),\n 12: tensor(0.9074),\n 13: tensor(0.9073),\n 14: tensor(0.9075)}"
     },
     "execution_count": 15,
     "metadata": {},
     "output_type": "execute_result"
    }
   ],
   "source": [
    "{e:v for e,v in enumerate(torch.sqrt(torch.tensor(trainer.results['valid_mse'])))}"
   ],
   "metadata": {
    "collapsed": false
   }
  },
  {
   "cell_type": "markdown",
   "source": [
    "<hr>\n",
    "\n",
    "# DEBUGGING"
   ],
   "metadata": {
    "collapsed": false
   }
  },
  {
   "cell_type": "code",
   "execution_count": 63,
   "outputs": [],
   "source": [
    "x = pd.read_parquet('../data/train.parq.gzip').drop('rating', axis=1)\n",
    "y = pd.read_parquet('../data/train.parq.gzip', columns=['rating'])"
   ],
   "metadata": {
    "collapsed": false
   }
  },
  {
   "cell_type": "code",
   "execution_count": 51,
   "outputs": [
    {
     "data": {
      "text/plain": "tensor([[3.6816],\n        [3.2422],\n        [3.2360],\n        [2.4695],\n        [2.1667],\n        [2.8036],\n        [2.6297],\n        [3.0097],\n        [2.7558],\n        [3.5934]])"
     },
     "execution_count": 51,
     "metadata": {},
     "output_type": "execute_result"
    }
   ],
   "source": [
    "user = 1489\n",
    "movies = [int(x) for x in list(meta['movie'].keys())[0:10]]\n",
    "\n",
    "encoded_user = torch.tensor(user_enc.transform([user])).unsqueeze(-1)\n",
    "# movies = torch.tensor(movie_enc.transform([2858]))\n",
    "encoded_movies = torch.tensor(movie_enc.transform(movies)).unsqueeze(-1)\n",
    "\n",
    "# broadcasts user dim to match movies via .expand()\n",
    "preds = mod.predict({'user': encoded_user.expand(encoded_movies.shape[-2], -1),'movie': encoded_movies})\n",
    "preds"
   ],
   "metadata": {
    "collapsed": false
   }
  },
  {
   "cell_type": "code",
   "execution_count": 102,
   "outputs": [
    {
     "data": {
      "text/plain": "   movie  pred_rating\n0   2858     3.681648\n1    260     3.242206\n2   1196     3.235992\n3   1210     2.469539\n4    480     2.166659\n5   2028     2.803551\n6    589     2.629738\n7   2571     3.009728\n8   1270     2.755754\n9    593     3.593350",
      "text/html": "<div>\n<style scoped>\n    .dataframe tbody tr th:only-of-type {\n        vertical-align: middle;\n    }\n\n    .dataframe tbody tr th {\n        vertical-align: top;\n    }\n\n    .dataframe thead th {\n        text-align: right;\n    }\n</style>\n<table border=\"1\" class=\"dataframe\">\n  <thead>\n    <tr style=\"text-align: right;\">\n      <th></th>\n      <th>movie</th>\n      <th>pred_rating</th>\n    </tr>\n  </thead>\n  <tbody>\n    <tr>\n      <th>0</th>\n      <td>2858</td>\n      <td>3.681648</td>\n    </tr>\n    <tr>\n      <th>1</th>\n      <td>260</td>\n      <td>3.242206</td>\n    </tr>\n    <tr>\n      <th>2</th>\n      <td>1196</td>\n      <td>3.235992</td>\n    </tr>\n    <tr>\n      <th>3</th>\n      <td>1210</td>\n      <td>2.469539</td>\n    </tr>\n    <tr>\n      <th>4</th>\n      <td>480</td>\n      <td>2.166659</td>\n    </tr>\n    <tr>\n      <th>5</th>\n      <td>2028</td>\n      <td>2.803551</td>\n    </tr>\n    <tr>\n      <th>6</th>\n      <td>589</td>\n      <td>2.629738</td>\n    </tr>\n    <tr>\n      <th>7</th>\n      <td>2571</td>\n      <td>3.009728</td>\n    </tr>\n    <tr>\n      <th>8</th>\n      <td>1270</td>\n      <td>2.755754</td>\n    </tr>\n    <tr>\n      <th>9</th>\n      <td>593</td>\n      <td>3.593350</td>\n    </tr>\n  </tbody>\n</table>\n</div>"
     },
     "execution_count": 102,
     "metadata": {},
     "output_type": "execute_result"
    }
   ],
   "source": [
    "results = pd.DataFrame({'movie': movies, 'pred_rating': preds.numpy().flatten()})\n",
    "results"
   ],
   "metadata": {
    "collapsed": false
   }
  },
  {
   "cell_type": "code",
   "execution_count": 103,
   "outputs": [
    {
     "data": {
      "text/plain": "        user  movie  hour  day_of_week  month                  ts  gender  \\\nindex                                                                       \n102718  1489    589    20            0     11 2000-11-20 20:45:56       1   \n141055  1489   2571    20            0     11 2000-11-20 20:24:25       1   \n47479   1489    260    20            0     11 2000-11-20 20:21:52       1   \n117260  1489    480    20            0     11 2000-11-20 20:25:13       1   \n71443   1489   1210    20            0     11 2000-11-20 20:46:17       1   \n23863   1489   1270    20            0     11 2000-11-20 20:45:56       1   \n129084  1489   1196    19            0     11 2000-11-20 19:59:46       1   \n107909  1489   2858    22            0     11 2000-11-20 22:20:36       1   \n\n        age  occupation      city  ...  embed_15  embed_16  embed_17  \\\nindex                              ...                                 \n102718   35           2  Evanston  ...  0.396910  0.143238  1.457050   \n141055   35           2  Evanston  ... -0.119660  0.814860  0.704639   \n47479    35           2  Evanston  ...  0.759896  1.180367  1.088754   \n117260   35           2  Evanston  ... -0.187000  0.335541  0.460427   \n71443    35           2  Evanston  ...  1.930435  1.984775  3.203664   \n23863    35           2  Evanston  ... -1.043880  0.006530 -2.255220   \n129084   35           2  Evanston  ... -0.160883 -1.184947  0.796664   \n107909   35           2  Evanston  ... -0.250560  0.730900  0.378270   \n\n        embed_18  embed_19  embed_20  embed_21  embed_22  embed_23  embed_24  \nindex                                                                         \n102718   0.89631  0.555875 -1.050984  0.439608 -0.394870  0.262000 -0.055144  \n141055   0.56349  0.777620 -1.204130 -0.247860  0.100980 -1.281000 -0.359768  \n47479   -2.49483  1.888920 -3.611867 -0.968673 -0.477968 -2.449346  0.925348  \n117260  -0.20839  0.745540 -0.621420  0.607130 -0.357409 -2.273740  1.774750  \n71443   -2.36986  0.856150 -5.089112  2.447014 -1.729150 -3.658910  2.566328  \n23863   -0.88403 -1.421790 -1.366555 -0.770560  1.041650 -0.876050 -1.741870  \n129084  -2.08923  2.708920 -5.271990 -0.341982  2.108941 -5.036370  1.916858  \n107909   0.77064  1.262100 -1.366550  0.106610 -1.792140 -1.323940  0.102870  \n\n[8 rows x 55 columns]",
      "text/html": "<div>\n<style scoped>\n    .dataframe tbody tr th:only-of-type {\n        vertical-align: middle;\n    }\n\n    .dataframe tbody tr th {\n        vertical-align: top;\n    }\n\n    .dataframe thead th {\n        text-align: right;\n    }\n</style>\n<table border=\"1\" class=\"dataframe\">\n  <thead>\n    <tr style=\"text-align: right;\">\n      <th></th>\n      <th>user</th>\n      <th>movie</th>\n      <th>hour</th>\n      <th>day_of_week</th>\n      <th>month</th>\n      <th>ts</th>\n      <th>gender</th>\n      <th>age</th>\n      <th>occupation</th>\n      <th>city</th>\n      <th>...</th>\n      <th>embed_15</th>\n      <th>embed_16</th>\n      <th>embed_17</th>\n      <th>embed_18</th>\n      <th>embed_19</th>\n      <th>embed_20</th>\n      <th>embed_21</th>\n      <th>embed_22</th>\n      <th>embed_23</th>\n      <th>embed_24</th>\n    </tr>\n    <tr>\n      <th>index</th>\n      <th></th>\n      <th></th>\n      <th></th>\n      <th></th>\n      <th></th>\n      <th></th>\n      <th></th>\n      <th></th>\n      <th></th>\n      <th></th>\n      <th></th>\n      <th></th>\n      <th></th>\n      <th></th>\n      <th></th>\n      <th></th>\n      <th></th>\n      <th></th>\n      <th></th>\n      <th></th>\n      <th></th>\n    </tr>\n  </thead>\n  <tbody>\n    <tr>\n      <th>102718</th>\n      <td>1489</td>\n      <td>589</td>\n      <td>20</td>\n      <td>0</td>\n      <td>11</td>\n      <td>2000-11-20 20:45:56</td>\n      <td>1</td>\n      <td>35</td>\n      <td>2</td>\n      <td>Evanston</td>\n      <td>...</td>\n      <td>0.396910</td>\n      <td>0.143238</td>\n      <td>1.457050</td>\n      <td>0.89631</td>\n      <td>0.555875</td>\n      <td>-1.050984</td>\n      <td>0.439608</td>\n      <td>-0.394870</td>\n      <td>0.262000</td>\n      <td>-0.055144</td>\n    </tr>\n    <tr>\n      <th>141055</th>\n      <td>1489</td>\n      <td>2571</td>\n      <td>20</td>\n      <td>0</td>\n      <td>11</td>\n      <td>2000-11-20 20:24:25</td>\n      <td>1</td>\n      <td>35</td>\n      <td>2</td>\n      <td>Evanston</td>\n      <td>...</td>\n      <td>-0.119660</td>\n      <td>0.814860</td>\n      <td>0.704639</td>\n      <td>0.56349</td>\n      <td>0.777620</td>\n      <td>-1.204130</td>\n      <td>-0.247860</td>\n      <td>0.100980</td>\n      <td>-1.281000</td>\n      <td>-0.359768</td>\n    </tr>\n    <tr>\n      <th>47479</th>\n      <td>1489</td>\n      <td>260</td>\n      <td>20</td>\n      <td>0</td>\n      <td>11</td>\n      <td>2000-11-20 20:21:52</td>\n      <td>1</td>\n      <td>35</td>\n      <td>2</td>\n      <td>Evanston</td>\n      <td>...</td>\n      <td>0.759896</td>\n      <td>1.180367</td>\n      <td>1.088754</td>\n      <td>-2.49483</td>\n      <td>1.888920</td>\n      <td>-3.611867</td>\n      <td>-0.968673</td>\n      <td>-0.477968</td>\n      <td>-2.449346</td>\n      <td>0.925348</td>\n    </tr>\n    <tr>\n      <th>117260</th>\n      <td>1489</td>\n      <td>480</td>\n      <td>20</td>\n      <td>0</td>\n      <td>11</td>\n      <td>2000-11-20 20:25:13</td>\n      <td>1</td>\n      <td>35</td>\n      <td>2</td>\n      <td>Evanston</td>\n      <td>...</td>\n      <td>-0.187000</td>\n      <td>0.335541</td>\n      <td>0.460427</td>\n      <td>-0.20839</td>\n      <td>0.745540</td>\n      <td>-0.621420</td>\n      <td>0.607130</td>\n      <td>-0.357409</td>\n      <td>-2.273740</td>\n      <td>1.774750</td>\n    </tr>\n    <tr>\n      <th>71443</th>\n      <td>1489</td>\n      <td>1210</td>\n      <td>20</td>\n      <td>0</td>\n      <td>11</td>\n      <td>2000-11-20 20:46:17</td>\n      <td>1</td>\n      <td>35</td>\n      <td>2</td>\n      <td>Evanston</td>\n      <td>...</td>\n      <td>1.930435</td>\n      <td>1.984775</td>\n      <td>3.203664</td>\n      <td>-2.36986</td>\n      <td>0.856150</td>\n      <td>-5.089112</td>\n      <td>2.447014</td>\n      <td>-1.729150</td>\n      <td>-3.658910</td>\n      <td>2.566328</td>\n    </tr>\n    <tr>\n      <th>23863</th>\n      <td>1489</td>\n      <td>1270</td>\n      <td>20</td>\n      <td>0</td>\n      <td>11</td>\n      <td>2000-11-20 20:45:56</td>\n      <td>1</td>\n      <td>35</td>\n      <td>2</td>\n      <td>Evanston</td>\n      <td>...</td>\n      <td>-1.043880</td>\n      <td>0.006530</td>\n      <td>-2.255220</td>\n      <td>-0.88403</td>\n      <td>-1.421790</td>\n      <td>-1.366555</td>\n      <td>-0.770560</td>\n      <td>1.041650</td>\n      <td>-0.876050</td>\n      <td>-1.741870</td>\n    </tr>\n    <tr>\n      <th>129084</th>\n      <td>1489</td>\n      <td>1196</td>\n      <td>19</td>\n      <td>0</td>\n      <td>11</td>\n      <td>2000-11-20 19:59:46</td>\n      <td>1</td>\n      <td>35</td>\n      <td>2</td>\n      <td>Evanston</td>\n      <td>...</td>\n      <td>-0.160883</td>\n      <td>-1.184947</td>\n      <td>0.796664</td>\n      <td>-2.08923</td>\n      <td>2.708920</td>\n      <td>-5.271990</td>\n      <td>-0.341982</td>\n      <td>2.108941</td>\n      <td>-5.036370</td>\n      <td>1.916858</td>\n    </tr>\n    <tr>\n      <th>107909</th>\n      <td>1489</td>\n      <td>2858</td>\n      <td>22</td>\n      <td>0</td>\n      <td>11</td>\n      <td>2000-11-20 22:20:36</td>\n      <td>1</td>\n      <td>35</td>\n      <td>2</td>\n      <td>Evanston</td>\n      <td>...</td>\n      <td>-0.250560</td>\n      <td>0.730900</td>\n      <td>0.378270</td>\n      <td>0.77064</td>\n      <td>1.262100</td>\n      <td>-1.366550</td>\n      <td>0.106610</td>\n      <td>-1.792140</td>\n      <td>-1.323940</td>\n      <td>0.102870</td>\n    </tr>\n  </tbody>\n</table>\n<p>8 rows × 55 columns</p>\n</div>"
     },
     "execution_count": 103,
     "metadata": {},
     "output_type": "execute_result"
    }
   ],
   "source": [
    "user_mask = (x['user'] == user) & x['movie'].isin(movies)\n",
    "df_user = x.loc[user_mask]\n",
    "\n",
    "df_user"
   ],
   "metadata": {
    "collapsed": false
   }
  },
  {
   "cell_type": "code",
   "execution_count": 104,
   "outputs": [
    {
     "data": {
      "text/plain": "        rating\nindex         \n102718       4\n141055       3\n47479        3\n117260       2\n71443        3\n23863        2\n129084       3\n107909       3",
      "text/html": "<div>\n<style scoped>\n    .dataframe tbody tr th:only-of-type {\n        vertical-align: middle;\n    }\n\n    .dataframe tbody tr th {\n        vertical-align: top;\n    }\n\n    .dataframe thead th {\n        text-align: right;\n    }\n</style>\n<table border=\"1\" class=\"dataframe\">\n  <thead>\n    <tr style=\"text-align: right;\">\n      <th></th>\n      <th>rating</th>\n    </tr>\n    <tr>\n      <th>index</th>\n      <th></th>\n    </tr>\n  </thead>\n  <tbody>\n    <tr>\n      <th>102718</th>\n      <td>4</td>\n    </tr>\n    <tr>\n      <th>141055</th>\n      <td>3</td>\n    </tr>\n    <tr>\n      <th>47479</th>\n      <td>3</td>\n    </tr>\n    <tr>\n      <th>117260</th>\n      <td>2</td>\n    </tr>\n    <tr>\n      <th>71443</th>\n      <td>3</td>\n    </tr>\n    <tr>\n      <th>23863</th>\n      <td>2</td>\n    </tr>\n    <tr>\n      <th>129084</th>\n      <td>3</td>\n    </tr>\n    <tr>\n      <th>107909</th>\n      <td>3</td>\n    </tr>\n  </tbody>\n</table>\n</div>"
     },
     "execution_count": 104,
     "metadata": {},
     "output_type": "execute_result"
    }
   ],
   "source": [
    "y.loc[user_mask]"
   ],
   "metadata": {
    "collapsed": false
   }
  },
  {
   "cell_type": "code",
   "execution_count": 105,
   "outputs": [
    {
     "data": {
      "text/plain": "{589: 4, 2571: 3, 260: 3, 480: 2, 1210: 3, 1270: 2, 1196: 3, 2858: 3}"
     },
     "execution_count": 105,
     "metadata": {},
     "output_type": "execute_result"
    }
   ],
   "source": [
    "actual_ratings = dict(zip(df_user['movie'], y.loc[user_mask]['rating']))\n",
    "actual_ratings"
   ],
   "metadata": {
    "collapsed": false
   }
  },
  {
   "cell_type": "code",
   "execution_count": 106,
   "outputs": [
    {
     "data": {
      "text/plain": "   movie  pred_rating  actual_rating\n0   2858     3.681648            3.0\n1    260     3.242206            3.0\n2   1196     3.235992            3.0\n3   1210     2.469539            3.0\n4    480     2.166659            2.0\n5   2028     2.803551            NaN\n6    589     2.629738            4.0\n7   2571     3.009728            3.0\n8   1270     2.755754            2.0\n9    593     3.593350            NaN",
      "text/html": "<div>\n<style scoped>\n    .dataframe tbody tr th:only-of-type {\n        vertical-align: middle;\n    }\n\n    .dataframe tbody tr th {\n        vertical-align: top;\n    }\n\n    .dataframe thead th {\n        text-align: right;\n    }\n</style>\n<table border=\"1\" class=\"dataframe\">\n  <thead>\n    <tr style=\"text-align: right;\">\n      <th></th>\n      <th>movie</th>\n      <th>pred_rating</th>\n      <th>actual_rating</th>\n    </tr>\n  </thead>\n  <tbody>\n    <tr>\n      <th>0</th>\n      <td>2858</td>\n      <td>3.681648</td>\n      <td>3.0</td>\n    </tr>\n    <tr>\n      <th>1</th>\n      <td>260</td>\n      <td>3.242206</td>\n      <td>3.0</td>\n    </tr>\n    <tr>\n      <th>2</th>\n      <td>1196</td>\n      <td>3.235992</td>\n      <td>3.0</td>\n    </tr>\n    <tr>\n      <th>3</th>\n      <td>1210</td>\n      <td>2.469539</td>\n      <td>3.0</td>\n    </tr>\n    <tr>\n      <th>4</th>\n      <td>480</td>\n      <td>2.166659</td>\n      <td>2.0</td>\n    </tr>\n    <tr>\n      <th>5</th>\n      <td>2028</td>\n      <td>2.803551</td>\n      <td>NaN</td>\n    </tr>\n    <tr>\n      <th>6</th>\n      <td>589</td>\n      <td>2.629738</td>\n      <td>4.0</td>\n    </tr>\n    <tr>\n      <th>7</th>\n      <td>2571</td>\n      <td>3.009728</td>\n      <td>3.0</td>\n    </tr>\n    <tr>\n      <th>8</th>\n      <td>1270</td>\n      <td>2.755754</td>\n      <td>2.0</td>\n    </tr>\n    <tr>\n      <th>9</th>\n      <td>593</td>\n      <td>3.593350</td>\n      <td>NaN</td>\n    </tr>\n  </tbody>\n</table>\n</div>"
     },
     "execution_count": 106,
     "metadata": {},
     "output_type": "execute_result"
    }
   ],
   "source": [
    "results['actual_rating'] = results['movie'].map(actual_ratings)\n",
    "results"
   ],
   "metadata": {
    "collapsed": false
   }
  },
  {
   "cell_type": "code",
   "execution_count": 107,
   "outputs": [],
   "source": [
    "movie_titles = pd.read_parquet('../data/dataset.parq.gzip', columns=['movie', 'title']).drop_duplicates()\n",
    "movie2_title = dict(zip(movie_titles['movie'], movie_titles['title']))"
   ],
   "metadata": {
    "collapsed": false
   }
  },
  {
   "cell_type": "code",
   "execution_count": 108,
   "outputs": [
    {
     "data": {
      "text/plain": "   movie  pred_rating  actual_rating  \\\n0   2858     3.681648            3.0   \n1    260     3.242206            3.0   \n2   1196     3.235992            3.0   \n3   1210     2.469539            3.0   \n4    480     2.166659            2.0   \n5   2028     2.803551            NaN   \n6    589     2.629738            4.0   \n7   2571     3.009728            3.0   \n8   1270     2.755754            2.0   \n9    593     3.593350            NaN   \n\n                                            title  \n0                                 American Beauty  \n1              Star Wars: Episode IV - A New Hope  \n2  Star Wars: Episode V - The Empire Strikes Back  \n3      Star Wars: Episode VI - Return of the Jedi  \n4                                   Jurassic Park  \n5                             Saving Private Ryan  \n6                      Terminator 2: Judgment Day  \n7                                     Matrix, The  \n8                              Back to the Future  \n9                       Silence of the Lambs, The  ",
      "text/html": "<div>\n<style scoped>\n    .dataframe tbody tr th:only-of-type {\n        vertical-align: middle;\n    }\n\n    .dataframe tbody tr th {\n        vertical-align: top;\n    }\n\n    .dataframe thead th {\n        text-align: right;\n    }\n</style>\n<table border=\"1\" class=\"dataframe\">\n  <thead>\n    <tr style=\"text-align: right;\">\n      <th></th>\n      <th>movie</th>\n      <th>pred_rating</th>\n      <th>actual_rating</th>\n      <th>title</th>\n    </tr>\n  </thead>\n  <tbody>\n    <tr>\n      <th>0</th>\n      <td>2858</td>\n      <td>3.681648</td>\n      <td>3.0</td>\n      <td>American Beauty</td>\n    </tr>\n    <tr>\n      <th>1</th>\n      <td>260</td>\n      <td>3.242206</td>\n      <td>3.0</td>\n      <td>Star Wars: Episode IV - A New Hope</td>\n    </tr>\n    <tr>\n      <th>2</th>\n      <td>1196</td>\n      <td>3.235992</td>\n      <td>3.0</td>\n      <td>Star Wars: Episode V - The Empire Strikes Back</td>\n    </tr>\n    <tr>\n      <th>3</th>\n      <td>1210</td>\n      <td>2.469539</td>\n      <td>3.0</td>\n      <td>Star Wars: Episode VI - Return of the Jedi</td>\n    </tr>\n    <tr>\n      <th>4</th>\n      <td>480</td>\n      <td>2.166659</td>\n      <td>2.0</td>\n      <td>Jurassic Park</td>\n    </tr>\n    <tr>\n      <th>5</th>\n      <td>2028</td>\n      <td>2.803551</td>\n      <td>NaN</td>\n      <td>Saving Private Ryan</td>\n    </tr>\n    <tr>\n      <th>6</th>\n      <td>589</td>\n      <td>2.629738</td>\n      <td>4.0</td>\n      <td>Terminator 2: Judgment Day</td>\n    </tr>\n    <tr>\n      <th>7</th>\n      <td>2571</td>\n      <td>3.009728</td>\n      <td>3.0</td>\n      <td>Matrix, The</td>\n    </tr>\n    <tr>\n      <th>8</th>\n      <td>1270</td>\n      <td>2.755754</td>\n      <td>2.0</td>\n      <td>Back to the Future</td>\n    </tr>\n    <tr>\n      <th>9</th>\n      <td>593</td>\n      <td>3.593350</td>\n      <td>NaN</td>\n      <td>Silence of the Lambs, The</td>\n    </tr>\n  </tbody>\n</table>\n</div>"
     },
     "execution_count": 108,
     "metadata": {},
     "output_type": "execute_result"
    }
   ],
   "source": [
    "results['title'] = results['movie'].map(movie2_title)\n",
    "results"
   ],
   "metadata": {
    "collapsed": false
   }
  }
 ],
 "metadata": {
  "kernelspec": {
   "display_name": "Python 3",
   "language": "python",
   "name": "python3"
  },
  "language_info": {
   "codemirror_mode": {
    "name": "ipython",
    "version": 2
   },
   "file_extension": ".py",
   "mimetype": "text/x-python",
   "name": "python",
   "nbconvert_exporter": "python",
   "pygments_lexer": "ipython2",
   "version": "2.7.6"
  }
 },
 "nbformat": 4,
 "nbformat_minor": 0
}
