{
 "cells": [
  {
   "cell_type": "code",
   "execution_count": 21,
   "metadata": {
    "collapsed": true
   },
   "outputs": [],
   "source": [
    "import re\n",
    "\n",
    "import pandas as pd\n",
    "from sklearn.preprocessing import MultiLabelBinarizer\n",
    "from uszipcode import SearchEngine\n",
    "\n",
    "from deeprec import ROOT"
   ]
  },
  {
   "cell_type": "code",
   "execution_count": 22,
   "outputs": [],
   "source": [
    "DATA_DIR = ROOT.joinpath('data')\n",
    "ENCODING = \"latin-1\""
   ],
   "metadata": {
    "collapsed": false
   }
  },
  {
   "cell_type": "code",
   "execution_count": 32,
   "outputs": [],
   "source": [
    "def load_data():\n",
    "    data = {}\n",
    "    for file in ['users', 'movies', 'ratings']:\n",
    "        data[file] = pd.read_csv(DATA_DIR.joinpath(f'{file}.csv'), encoding=ENCODING)\n",
    "    return data\n",
    "\n",
    "\n",
    "def get_title(text):\n",
    "    return text.strip()[:-7]\n",
    "\n",
    "\n",
    "def get_year(text):\n",
    "    return int(re.findall(r'(19\\d{2}|20\\d{2})', text)[-1])\n",
    "\n",
    "\n",
    "def clean_genres(genres):\n",
    "    return ['genre_' + re.sub(r'[^a-z0-9]+', '', s.lower()) for s in genres]\n",
    "\n",
    "\n",
    "def split_genres(series):\n",
    "    mlb = MultiLabelBinarizer()\n",
    "    arr = mlb.fit_transform(series.str.split('|'))\n",
    "    return pd.DataFrame(arr, columns=clean_genres(mlb.classes_))\n",
    "\n",
    "\n",
    "def convert_timestamps(series, use_names=True):\n",
    "    ts = pd.to_datetime(series, unit='s')\n",
    "    if use_names:\n",
    "        return pd.DataFrame(\n",
    "            {'hour': ts.dt.hour, 'day_of_week': ts.dt.day_name(), 'month': ts.dt.month_name(), 'ts': ts})\n",
    "    return pd.DataFrame({'hour': ts.dt.hour, 'day_of_week': ts.dt.dayofweek, 'month': ts.dt.month, 'ts': ts})\n",
    "\n",
    "\n",
    "def std_zip(zipcode):\n",
    "    return zipcode[:5]\n",
    "\n",
    "\n",
    "def get_city_state(zipcode, engine):\n",
    "    res = engine.by_zipcode(std_zip(zipcode))\n",
    "    try:\n",
    "        return res.major_city, res.state_abbr\n",
    "    except AttributeError:\n",
    "        return None, None\n",
    "\n",
    "\n",
    "def expand_zips(series, engine):\n",
    "    df = pd.DataFrame([get_city_state(x, engine) for x in series], columns=['city', 'state'])\n",
    "    df['zip'] = series.apply(std_zip)\n",
    "    return df\n",
    "\n",
    "\n",
    "def preprocess(dd, use_names=True, na_val='XX'):\n",
    "    search = SearchEngine()\n",
    "\n",
    "    movies = pd.DataFrame({\n",
    "        'movie': dd['movies']['movie'],\n",
    "        'title': dd['movies']['title'].apply(get_title),\n",
    "        'year': dd['movies']['title'].apply(get_year),\n",
    "    }).join(split_genres(dd['movies']['genres']))\n",
    "\n",
    "    ratings = dd['ratings'].iloc[:, :-1].join(convert_timestamps(dd['ratings']['timestamp'], use_names))\n",
    "    users = dd['users'].iloc[:, :-1].join(expand_zips(dd['users']['zip'], search))\n",
    "\n",
    "    return ratings.merge(users, on='user').merge(movies, on='movie').fillna(na_val)"
   ],
   "metadata": {
    "collapsed": false
   }
  },
  {
   "cell_type": "code",
   "execution_count": 33,
   "outputs": [],
   "source": [
    "data = load_data()"
   ],
   "metadata": {
    "collapsed": false
   }
  },
  {
   "cell_type": "code",
   "execution_count": 34,
   "outputs": [
    {
     "data": {
      "text/plain": "   movie                               title                        genres\n0      1                    Toy Story (1995)   Animation|Children's|Comedy\n1      2                      Jumanji (1995)  Adventure|Children's|Fantasy\n2      3             Grumpier Old Men (1995)                Comedy|Romance\n3      4            Waiting to Exhale (1995)                  Comedy|Drama\n4      5  Father of the Bride Part II (1995)                        Comedy",
      "text/html": "<div>\n<style scoped>\n    .dataframe tbody tr th:only-of-type {\n        vertical-align: middle;\n    }\n\n    .dataframe tbody tr th {\n        vertical-align: top;\n    }\n\n    .dataframe thead th {\n        text-align: right;\n    }\n</style>\n<table border=\"1\" class=\"dataframe\">\n  <thead>\n    <tr style=\"text-align: right;\">\n      <th></th>\n      <th>movie</th>\n      <th>title</th>\n      <th>genres</th>\n    </tr>\n  </thead>\n  <tbody>\n    <tr>\n      <th>0</th>\n      <td>1</td>\n      <td>Toy Story (1995)</td>\n      <td>Animation|Children's|Comedy</td>\n    </tr>\n    <tr>\n      <th>1</th>\n      <td>2</td>\n      <td>Jumanji (1995)</td>\n      <td>Adventure|Children's|Fantasy</td>\n    </tr>\n    <tr>\n      <th>2</th>\n      <td>3</td>\n      <td>Grumpier Old Men (1995)</td>\n      <td>Comedy|Romance</td>\n    </tr>\n    <tr>\n      <th>3</th>\n      <td>4</td>\n      <td>Waiting to Exhale (1995)</td>\n      <td>Comedy|Drama</td>\n    </tr>\n    <tr>\n      <th>4</th>\n      <td>5</td>\n      <td>Father of the Bride Part II (1995)</td>\n      <td>Comedy</td>\n    </tr>\n  </tbody>\n</table>\n</div>"
     },
     "execution_count": 34,
     "metadata": {},
     "output_type": "execute_result"
    }
   ],
   "source": [
    "data['movies'].head()"
   ],
   "metadata": {
    "collapsed": false
   }
  },
  {
   "cell_type": "code",
   "execution_count": 35,
   "outputs": [
    {
     "data": {
      "text/plain": "   user gender  age  occupation    zip\n0     1      F    1          10  48067\n1     2      M   56          16  70072\n2     3      M   25          15  55117\n3     4      M   45           7  02460\n4     5      M   25          20  55455",
      "text/html": "<div>\n<style scoped>\n    .dataframe tbody tr th:only-of-type {\n        vertical-align: middle;\n    }\n\n    .dataframe tbody tr th {\n        vertical-align: top;\n    }\n\n    .dataframe thead th {\n        text-align: right;\n    }\n</style>\n<table border=\"1\" class=\"dataframe\">\n  <thead>\n    <tr style=\"text-align: right;\">\n      <th></th>\n      <th>user</th>\n      <th>gender</th>\n      <th>age</th>\n      <th>occupation</th>\n      <th>zip</th>\n    </tr>\n  </thead>\n  <tbody>\n    <tr>\n      <th>0</th>\n      <td>1</td>\n      <td>F</td>\n      <td>1</td>\n      <td>10</td>\n      <td>48067</td>\n    </tr>\n    <tr>\n      <th>1</th>\n      <td>2</td>\n      <td>M</td>\n      <td>56</td>\n      <td>16</td>\n      <td>70072</td>\n    </tr>\n    <tr>\n      <th>2</th>\n      <td>3</td>\n      <td>M</td>\n      <td>25</td>\n      <td>15</td>\n      <td>55117</td>\n    </tr>\n    <tr>\n      <th>3</th>\n      <td>4</td>\n      <td>M</td>\n      <td>45</td>\n      <td>7</td>\n      <td>02460</td>\n    </tr>\n    <tr>\n      <th>4</th>\n      <td>5</td>\n      <td>M</td>\n      <td>25</td>\n      <td>20</td>\n      <td>55455</td>\n    </tr>\n  </tbody>\n</table>\n</div>"
     },
     "execution_count": 35,
     "metadata": {},
     "output_type": "execute_result"
    }
   ],
   "source": [
    "data['users'].head()"
   ],
   "metadata": {
    "collapsed": false
   }
  },
  {
   "cell_type": "code",
   "execution_count": 36,
   "outputs": [
    {
     "data": {
      "text/plain": "   user  movie  rating  timestamp\n0     1   1193       5  978300760\n1     1    661       3  978302109\n2     1    914       3  978301968\n3     1   3408       4  978300275\n4     1   2355       5  978824291",
      "text/html": "<div>\n<style scoped>\n    .dataframe tbody tr th:only-of-type {\n        vertical-align: middle;\n    }\n\n    .dataframe tbody tr th {\n        vertical-align: top;\n    }\n\n    .dataframe thead th {\n        text-align: right;\n    }\n</style>\n<table border=\"1\" class=\"dataframe\">\n  <thead>\n    <tr style=\"text-align: right;\">\n      <th></th>\n      <th>user</th>\n      <th>movie</th>\n      <th>rating</th>\n      <th>timestamp</th>\n    </tr>\n  </thead>\n  <tbody>\n    <tr>\n      <th>0</th>\n      <td>1</td>\n      <td>1193</td>\n      <td>5</td>\n      <td>978300760</td>\n    </tr>\n    <tr>\n      <th>1</th>\n      <td>1</td>\n      <td>661</td>\n      <td>3</td>\n      <td>978302109</td>\n    </tr>\n    <tr>\n      <th>2</th>\n      <td>1</td>\n      <td>914</td>\n      <td>3</td>\n      <td>978301968</td>\n    </tr>\n    <tr>\n      <th>3</th>\n      <td>1</td>\n      <td>3408</td>\n      <td>4</td>\n      <td>978300275</td>\n    </tr>\n    <tr>\n      <th>4</th>\n      <td>1</td>\n      <td>2355</td>\n      <td>5</td>\n      <td>978824291</td>\n    </tr>\n  </tbody>\n</table>\n</div>"
     },
     "execution_count": 36,
     "metadata": {},
     "output_type": "execute_result"
    }
   ],
   "source": [
    "data['ratings'].head()"
   ],
   "metadata": {
    "collapsed": false
   }
  },
  {
   "cell_type": "code",
   "execution_count": 37,
   "outputs": [],
   "source": [
    "proc = preprocess(data, use_names=False)"
   ],
   "metadata": {
    "collapsed": false
   }
  },
  {
   "cell_type": "code",
   "execution_count": 38,
   "outputs": [
    {
     "data": {
      "text/plain": "(1000209, 33)"
     },
     "execution_count": 38,
     "metadata": {},
     "output_type": "execute_result"
    }
   ],
   "source": [
    "proc.shape"
   ],
   "metadata": {
    "collapsed": false
   }
  },
  {
   "cell_type": "code",
   "execution_count": 39,
   "outputs": [
    {
     "data": {
      "text/plain": "Index(['user', 'movie', 'rating', 'hour', 'day_of_week', 'month', 'ts',\n       'gender', 'age', 'occupation', 'city', 'state', 'zip', 'title', 'year',\n       'genre_action', 'genre_adventure', 'genre_animation', 'genre_childrens',\n       'genre_comedy', 'genre_crime', 'genre_documentary', 'genre_drama',\n       'genre_fantasy', 'genre_filmnoir', 'genre_horror', 'genre_musical',\n       'genre_mystery', 'genre_romance', 'genre_scifi', 'genre_thriller',\n       'genre_war', 'genre_western'],\n      dtype='object')"
     },
     "execution_count": 39,
     "metadata": {},
     "output_type": "execute_result"
    }
   ],
   "source": [
    "proc.columns"
   ],
   "metadata": {
    "collapsed": false
   }
  },
  {
   "cell_type": "code",
   "execution_count": 40,
   "outputs": [
    {
     "data": {
      "text/plain": "   user  movie  rating  hour  day_of_week  month                  ts gender  \\\n0     1   1193       5    22            6     12 2000-12-31 22:12:40      F   \n1     2   1193       5    21            6     12 2000-12-31 21:33:33      M   \n2    12   1193       4    23            5     12 2000-12-30 23:49:39      M   \n3    15   1193       4    18            5     12 2000-12-30 18:01:19      M   \n4    17   1193       5     6            5     12 2000-12-30 06:41:11      M   \n\n   age  occupation  ... genre_fantasy genre_filmnoir genre_horror  \\\n0    1          10  ...             0              0            0   \n1   56          16  ...             0              0            0   \n2   25          12  ...             0              0            0   \n3   25           7  ...             0              0            0   \n4   50           1  ...             0              0            0   \n\n  genre_musical  genre_mystery  genre_romance  genre_scifi  genre_thriller  \\\n0             0              0              0            0               0   \n1             0              0              0            0               0   \n2             0              0              0            0               0   \n3             0              0              0            0               0   \n4             0              0              0            0               0   \n\n   genre_war  genre_western  \n0          0              0  \n1          0              0  \n2          0              0  \n3          0              0  \n4          0              0  \n\n[5 rows x 33 columns]",
      "text/html": "<div>\n<style scoped>\n    .dataframe tbody tr th:only-of-type {\n        vertical-align: middle;\n    }\n\n    .dataframe tbody tr th {\n        vertical-align: top;\n    }\n\n    .dataframe thead th {\n        text-align: right;\n    }\n</style>\n<table border=\"1\" class=\"dataframe\">\n  <thead>\n    <tr style=\"text-align: right;\">\n      <th></th>\n      <th>user</th>\n      <th>movie</th>\n      <th>rating</th>\n      <th>hour</th>\n      <th>day_of_week</th>\n      <th>month</th>\n      <th>ts</th>\n      <th>gender</th>\n      <th>age</th>\n      <th>occupation</th>\n      <th>...</th>\n      <th>genre_fantasy</th>\n      <th>genre_filmnoir</th>\n      <th>genre_horror</th>\n      <th>genre_musical</th>\n      <th>genre_mystery</th>\n      <th>genre_romance</th>\n      <th>genre_scifi</th>\n      <th>genre_thriller</th>\n      <th>genre_war</th>\n      <th>genre_western</th>\n    </tr>\n  </thead>\n  <tbody>\n    <tr>\n      <th>0</th>\n      <td>1</td>\n      <td>1193</td>\n      <td>5</td>\n      <td>22</td>\n      <td>6</td>\n      <td>12</td>\n      <td>2000-12-31 22:12:40</td>\n      <td>F</td>\n      <td>1</td>\n      <td>10</td>\n      <td>...</td>\n      <td>0</td>\n      <td>0</td>\n      <td>0</td>\n      <td>0</td>\n      <td>0</td>\n      <td>0</td>\n      <td>0</td>\n      <td>0</td>\n      <td>0</td>\n      <td>0</td>\n    </tr>\n    <tr>\n      <th>1</th>\n      <td>2</td>\n      <td>1193</td>\n      <td>5</td>\n      <td>21</td>\n      <td>6</td>\n      <td>12</td>\n      <td>2000-12-31 21:33:33</td>\n      <td>M</td>\n      <td>56</td>\n      <td>16</td>\n      <td>...</td>\n      <td>0</td>\n      <td>0</td>\n      <td>0</td>\n      <td>0</td>\n      <td>0</td>\n      <td>0</td>\n      <td>0</td>\n      <td>0</td>\n      <td>0</td>\n      <td>0</td>\n    </tr>\n    <tr>\n      <th>2</th>\n      <td>12</td>\n      <td>1193</td>\n      <td>4</td>\n      <td>23</td>\n      <td>5</td>\n      <td>12</td>\n      <td>2000-12-30 23:49:39</td>\n      <td>M</td>\n      <td>25</td>\n      <td>12</td>\n      <td>...</td>\n      <td>0</td>\n      <td>0</td>\n      <td>0</td>\n      <td>0</td>\n      <td>0</td>\n      <td>0</td>\n      <td>0</td>\n      <td>0</td>\n      <td>0</td>\n      <td>0</td>\n    </tr>\n    <tr>\n      <th>3</th>\n      <td>15</td>\n      <td>1193</td>\n      <td>4</td>\n      <td>18</td>\n      <td>5</td>\n      <td>12</td>\n      <td>2000-12-30 18:01:19</td>\n      <td>M</td>\n      <td>25</td>\n      <td>7</td>\n      <td>...</td>\n      <td>0</td>\n      <td>0</td>\n      <td>0</td>\n      <td>0</td>\n      <td>0</td>\n      <td>0</td>\n      <td>0</td>\n      <td>0</td>\n      <td>0</td>\n      <td>0</td>\n    </tr>\n    <tr>\n      <th>4</th>\n      <td>17</td>\n      <td>1193</td>\n      <td>5</td>\n      <td>6</td>\n      <td>5</td>\n      <td>12</td>\n      <td>2000-12-30 06:41:11</td>\n      <td>M</td>\n      <td>50</td>\n      <td>1</td>\n      <td>...</td>\n      <td>0</td>\n      <td>0</td>\n      <td>0</td>\n      <td>0</td>\n      <td>0</td>\n      <td>0</td>\n      <td>0</td>\n      <td>0</td>\n      <td>0</td>\n      <td>0</td>\n    </tr>\n  </tbody>\n</table>\n<p>5 rows × 33 columns</p>\n</div>"
     },
     "execution_count": 40,
     "metadata": {},
     "output_type": "execute_result"
    }
   ],
   "source": [
    "proc.head()"
   ],
   "metadata": {
    "collapsed": false
   }
  },
  {
   "cell_type": "code",
   "execution_count": 41,
   "outputs": [],
   "source": [
    "proc.to_parquet(DATA_DIR.joinpath('dataset.parq.gzip'), compression='gzip')"
   ],
   "metadata": {
    "collapsed": false
   }
  },
  {
   "cell_type": "code",
   "execution_count": 42,
   "outputs": [
    {
     "name": "stdout",
     "output_type": "stream",
     "text": [
      "Number of unique user obs: 6040\n",
      "Number of unique movie obs: 3706\n"
     ]
    }
   ],
   "source": [
    "for col in ['user', 'movie']:\n",
    "    print(f'Number of unique {col} obs: {proc[col].nunique()}')"
   ],
   "metadata": {
    "collapsed": false
   }
  },
  {
   "cell_type": "code",
   "execution_count": null,
   "outputs": [],
   "source": [],
   "metadata": {
    "collapsed": false
   }
  }
 ],
 "metadata": {
  "kernelspec": {
   "display_name": "Python 3",
   "language": "python",
   "name": "python3"
  },
  "language_info": {
   "codemirror_mode": {
    "name": "ipython",
    "version": 2
   },
   "file_extension": ".py",
   "mimetype": "text/x-python",
   "name": "python",
   "nbconvert_exporter": "python",
   "pygments_lexer": "ipython2",
   "version": "2.7.6"
  }
 },
 "nbformat": 4,
 "nbformat_minor": 0
}
