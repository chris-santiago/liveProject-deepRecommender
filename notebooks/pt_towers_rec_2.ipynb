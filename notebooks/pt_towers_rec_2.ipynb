{
 "cells": [
  {
   "cell_type": "code",
   "execution_count": 1,
   "metadata": {
    "collapsed": true
   },
   "outputs": [],
   "source": [
    "from datetime import datetime\n",
    "import json\n",
    "from collections import Counter\n",
    "\n",
    "import pandas as pd\n",
    "from sklearn.base import BaseEstimator, TransformerMixin\n",
    "import torch\n",
    "import torch.nn as nn\n",
    "import torch.functional as F\n",
    "from torch.utils.data import DataLoader, Dataset\n",
    "import torchmetrics\n",
    "\n",
    "from deeprec.torch.trainer import Trainer, set_device\n",
    "from deeprec import ROOT"
   ]
  },
  {
   "cell_type": "code",
   "execution_count": 2,
   "outputs": [
    {
     "data": {
      "text/plain": "dict_keys(['title_emb_size', 'string_na', 'genres', 'ages', 'occupations', 'user', 'movie', 'city', 'state'])"
     },
     "execution_count": 2,
     "metadata": {},
     "output_type": "execute_result"
    }
   ],
   "source": [
    "with open('../data/metadata.json', 'r') as fp:\n",
    "    meta = json.load(fp)\n",
    "\n",
    "meta.keys()"
   ],
   "metadata": {
    "collapsed": false
   }
  },
  {
   "cell_type": "code",
   "execution_count": 3,
   "outputs": [],
   "source": [
    "class Vocab(BaseEstimator, TransformerMixin):\n",
    "    def __init__(self):\n",
    "        pass\n",
    "\n",
    "    def fit(self, x):\n",
    "        c = Counter(x)\n",
    "        self.lookup_ = {\n",
    "            str(v).lower(): k for k, v in enumerate([x[0] for x in sorted(c.items(), key=lambda x: x[1], reverse=True)])\n",
    "        }\n",
    "\n",
    "    def transform(self, x):\n",
    "        return [self.lookup_.get(str(xx).lower(), len(self.lookup_)+1) for xx in x]"
   ],
   "metadata": {
    "collapsed": false
   }
  },
  {
   "cell_type": "code",
   "execution_count": 4,
   "outputs": [],
   "source": [
    "state_enc = Vocab()\n",
    "state_enc.fit(meta['state'])\n",
    "\n",
    "user_enc = Vocab()\n",
    "user_enc.fit(meta['user'])\n",
    "\n",
    "movie_enc = Vocab()\n",
    "movie_enc.fit(meta['movie'])"
   ],
   "metadata": {
    "collapsed": false
   }
  },
  {
   "cell_type": "code",
   "execution_count": 5,
   "outputs": [
    {
     "data": {
      "text/plain": "        user  movie  hour  day_of_week  month  gender  age  occupation  \\\nindex                                                                    \n956151  6036   3132     1            2      4       1   25          15   \n956152  6037   3132     3            2      4       1   45           1   \n956149  5960   3132    17            5      4       1   45           0   \n956150  6016   3132    20            2      4       0   45           1   \n956146  5643   3132     6            6      5       1   35           1   \n\n                  city state  ...  embed_15  embed_16  embed_17  embed_18  \\\nindex                         ...                                           \n956151     Gainesville    FL  ...  0.511667   1.46494  -2.46967 -1.196152   \n956152       Arlington    TX  ...  0.511667   1.46494  -2.46967 -1.196152   \n956149         Slidell    LA  ...  0.511667   1.46494  -2.46967 -1.196152   \n956150       Nashville    TN  ...  0.511667   1.46494  -2.46967 -1.196152   \n956146  Salt Lake City    UT  ...  0.511667   1.46494  -2.46967 -1.196152   \n\n        embed_19  embed_20  embed_21  embed_22  embed_23  embed_24  \nindex                                                               \n956151   -0.7946  -0.09462   2.84776   2.17518   1.03427  -0.75034  \n956152   -0.7946  -0.09462   2.84776   2.17518   1.03427  -0.75034  \n956149   -0.7946  -0.09462   2.84776   2.17518   1.03427  -0.75034  \n956150   -0.7946  -0.09462   2.84776   2.17518   1.03427  -0.75034  \n956146   -0.7946  -0.09462   2.84776   2.17518   1.03427  -0.75034  \n\n[5 rows x 54 columns]",
      "text/html": "<div>\n<style scoped>\n    .dataframe tbody tr th:only-of-type {\n        vertical-align: middle;\n    }\n\n    .dataframe tbody tr th {\n        vertical-align: top;\n    }\n\n    .dataframe thead th {\n        text-align: right;\n    }\n</style>\n<table border=\"1\" class=\"dataframe\">\n  <thead>\n    <tr style=\"text-align: right;\">\n      <th></th>\n      <th>user</th>\n      <th>movie</th>\n      <th>hour</th>\n      <th>day_of_week</th>\n      <th>month</th>\n      <th>gender</th>\n      <th>age</th>\n      <th>occupation</th>\n      <th>city</th>\n      <th>state</th>\n      <th>...</th>\n      <th>embed_15</th>\n      <th>embed_16</th>\n      <th>embed_17</th>\n      <th>embed_18</th>\n      <th>embed_19</th>\n      <th>embed_20</th>\n      <th>embed_21</th>\n      <th>embed_22</th>\n      <th>embed_23</th>\n      <th>embed_24</th>\n    </tr>\n    <tr>\n      <th>index</th>\n      <th></th>\n      <th></th>\n      <th></th>\n      <th></th>\n      <th></th>\n      <th></th>\n      <th></th>\n      <th></th>\n      <th></th>\n      <th></th>\n      <th></th>\n      <th></th>\n      <th></th>\n      <th></th>\n      <th></th>\n      <th></th>\n      <th></th>\n      <th></th>\n      <th></th>\n      <th></th>\n      <th></th>\n    </tr>\n  </thead>\n  <tbody>\n    <tr>\n      <th>956151</th>\n      <td>6036</td>\n      <td>3132</td>\n      <td>1</td>\n      <td>2</td>\n      <td>4</td>\n      <td>1</td>\n      <td>25</td>\n      <td>15</td>\n      <td>Gainesville</td>\n      <td>FL</td>\n      <td>...</td>\n      <td>0.511667</td>\n      <td>1.46494</td>\n      <td>-2.46967</td>\n      <td>-1.196152</td>\n      <td>-0.7946</td>\n      <td>-0.09462</td>\n      <td>2.84776</td>\n      <td>2.17518</td>\n      <td>1.03427</td>\n      <td>-0.75034</td>\n    </tr>\n    <tr>\n      <th>956152</th>\n      <td>6037</td>\n      <td>3132</td>\n      <td>3</td>\n      <td>2</td>\n      <td>4</td>\n      <td>1</td>\n      <td>45</td>\n      <td>1</td>\n      <td>Arlington</td>\n      <td>TX</td>\n      <td>...</td>\n      <td>0.511667</td>\n      <td>1.46494</td>\n      <td>-2.46967</td>\n      <td>-1.196152</td>\n      <td>-0.7946</td>\n      <td>-0.09462</td>\n      <td>2.84776</td>\n      <td>2.17518</td>\n      <td>1.03427</td>\n      <td>-0.75034</td>\n    </tr>\n    <tr>\n      <th>956149</th>\n      <td>5960</td>\n      <td>3132</td>\n      <td>17</td>\n      <td>5</td>\n      <td>4</td>\n      <td>1</td>\n      <td>45</td>\n      <td>0</td>\n      <td>Slidell</td>\n      <td>LA</td>\n      <td>...</td>\n      <td>0.511667</td>\n      <td>1.46494</td>\n      <td>-2.46967</td>\n      <td>-1.196152</td>\n      <td>-0.7946</td>\n      <td>-0.09462</td>\n      <td>2.84776</td>\n      <td>2.17518</td>\n      <td>1.03427</td>\n      <td>-0.75034</td>\n    </tr>\n    <tr>\n      <th>956150</th>\n      <td>6016</td>\n      <td>3132</td>\n      <td>20</td>\n      <td>2</td>\n      <td>4</td>\n      <td>0</td>\n      <td>45</td>\n      <td>1</td>\n      <td>Nashville</td>\n      <td>TN</td>\n      <td>...</td>\n      <td>0.511667</td>\n      <td>1.46494</td>\n      <td>-2.46967</td>\n      <td>-1.196152</td>\n      <td>-0.7946</td>\n      <td>-0.09462</td>\n      <td>2.84776</td>\n      <td>2.17518</td>\n      <td>1.03427</td>\n      <td>-0.75034</td>\n    </tr>\n    <tr>\n      <th>956146</th>\n      <td>5643</td>\n      <td>3132</td>\n      <td>6</td>\n      <td>6</td>\n      <td>5</td>\n      <td>1</td>\n      <td>35</td>\n      <td>1</td>\n      <td>Salt Lake City</td>\n      <td>UT</td>\n      <td>...</td>\n      <td>0.511667</td>\n      <td>1.46494</td>\n      <td>-2.46967</td>\n      <td>-1.196152</td>\n      <td>-0.7946</td>\n      <td>-0.09462</td>\n      <td>2.84776</td>\n      <td>2.17518</td>\n      <td>1.03427</td>\n      <td>-0.75034</td>\n    </tr>\n  </tbody>\n</table>\n<p>5 rows × 54 columns</p>\n</div>"
     },
     "execution_count": 5,
     "metadata": {},
     "output_type": "execute_result"
    }
   ],
   "source": [
    "df = pd.read_parquet('../data/train.parq.gzip').drop('rating', axis=1)\n",
    "df.head()"
   ],
   "metadata": {
    "collapsed": false
   }
  },
  {
   "cell_type": "code",
   "execution_count": 6,
   "outputs": [
    {
     "data": {
      "text/plain": "        rating\nindex         \n956151       5\n956152       4\n956149       5\n956150       3\n956146       4",
      "text/html": "<div>\n<style scoped>\n    .dataframe tbody tr th:only-of-type {\n        vertical-align: middle;\n    }\n\n    .dataframe tbody tr th {\n        vertical-align: top;\n    }\n\n    .dataframe thead th {\n        text-align: right;\n    }\n</style>\n<table border=\"1\" class=\"dataframe\">\n  <thead>\n    <tr style=\"text-align: right;\">\n      <th></th>\n      <th>rating</th>\n    </tr>\n    <tr>\n      <th>index</th>\n      <th></th>\n    </tr>\n  </thead>\n  <tbody>\n    <tr>\n      <th>956151</th>\n      <td>5</td>\n    </tr>\n    <tr>\n      <th>956152</th>\n      <td>4</td>\n    </tr>\n    <tr>\n      <th>956149</th>\n      <td>5</td>\n    </tr>\n    <tr>\n      <th>956150</th>\n      <td>3</td>\n    </tr>\n    <tr>\n      <th>956146</th>\n      <td>4</td>\n    </tr>\n  </tbody>\n</table>\n</div>"
     },
     "execution_count": 6,
     "metadata": {},
     "output_type": "execute_result"
    }
   ],
   "source": [
    "df = pd.read_parquet('../data/train.parq.gzip', columns=['rating'])\n",
    "df.head()"
   ],
   "metadata": {
    "collapsed": false
   }
  },
  {
   "cell_type": "code",
   "execution_count": 7,
   "outputs": [
    {
     "data": {
      "text/plain": "{1, 2, 3, 4, 5}"
     },
     "execution_count": 7,
     "metadata": {},
     "output_type": "execute_result"
    }
   ],
   "source": [
    "set(df['rating'])"
   ],
   "metadata": {
    "collapsed": false
   }
  },
  {
   "cell_type": "code",
   "execution_count": 8,
   "outputs": [],
   "source": [
    "class MovieDataset(Dataset):\n",
    "    def __init__(self, filename, vocabs):\n",
    "        drop_cols = ['rating', 'city', 'hour', 'day_of_week', 'month']\n",
    "        x = pd.read_parquet(filename).drop(drop_cols, axis=1)\n",
    "        y = pd.read_parquet(filename, columns=['rating'])\n",
    "\n",
    "        x['state'] = vocabs['state'].transform(x['state'])\n",
    "        x['user'] = vocabs['user'].transform(x['user'])\n",
    "        x['movie'] = vocabs['movie'].transform(x['movie'])\n",
    "\n",
    "        self.feature_names = x.columns\n",
    "        self.x = x.to_dict('records')\n",
    "        self.y = torch.tensor(y.values, dtype=torch.float32)\n",
    "\n",
    "    def __len__(self):\n",
    "        return len(self.x)\n",
    "\n",
    "    def __getitem__(self, idx):\n",
    "        return self.x[idx], self.y[idx]\n"
   ],
   "metadata": {
    "collapsed": false
   }
  },
  {
   "cell_type": "code",
   "execution_count": 9,
   "outputs": [],
   "source": [
    "encoders = {\n",
    "    'user': user_enc,\n",
    "    'movie': movie_enc,\n",
    "    'state': state_enc\n",
    "}\n",
    "\n",
    "train = MovieDataset('../data/train.parq.gzip', vocabs=encoders)\n",
    "test = MovieDataset('../data/test.parq.gzip', vocabs=encoders)"
   ],
   "metadata": {
    "collapsed": false
   }
  },
  {
   "cell_type": "code",
   "execution_count": 10,
   "outputs": [
    {
     "name": "stdout",
     "output_type": "stream",
     "text": [
      "50\n"
     ]
    },
    {
     "data": {
      "text/plain": "Index(['user', 'movie', 'gender', 'age', 'occupation', 'state', 'year',\n       'genre_action', 'genre_adventure', 'genre_animation', 'genre_childrens',\n       'genre_comedy', 'genre_crime', 'genre_documentary', 'genre_drama',\n       'genre_fantasy', 'genre_filmnoir', 'genre_horror', 'genre_musical',\n       'genre_mystery', 'genre_romance', 'genre_scifi', 'genre_thriller',\n       'genre_war', 'genre_western', 'embed_0', 'embed_1', 'embed_2',\n       'embed_3', 'embed_4', 'embed_5', 'embed_6', 'embed_7', 'embed_8',\n       'embed_9', 'embed_10', 'embed_11', 'embed_12', 'embed_13', 'embed_14',\n       'embed_15', 'embed_16', 'embed_17', 'embed_18', 'embed_19', 'embed_20',\n       'embed_21', 'embed_22', 'embed_23', 'embed_24'],\n      dtype='object')"
     },
     "execution_count": 10,
     "metadata": {},
     "output_type": "execute_result"
    }
   ],
   "source": [
    "print(len(train.feature_names))\n",
    "train.feature_names"
   ],
   "metadata": {
    "collapsed": false
   }
  },
  {
   "cell_type": "code",
   "execution_count": 11,
   "outputs": [
    {
     "data": {
      "text/plain": "[{'user': tensor([  66, 1566, 1665,   60]),\n  'movie': tensor([1183, 1183, 1183, 1183]),\n  'gender': tensor([1, 1, 1, 0]),\n  'age': tensor([25, 45, 45, 45]),\n  'occupation': tensor([15,  1,  0,  1]),\n  'state': tensor([ 9,  4, 20, 20]),\n  'year': tensor([1919, 1919, 1919, 1919]),\n  'genre_action': tensor([0, 0, 0, 0]),\n  'genre_adventure': tensor([0, 0, 0, 0]),\n  'genre_animation': tensor([0, 0, 0, 0]),\n  'genre_childrens': tensor([0, 0, 0, 0]),\n  'genre_comedy': tensor([1, 1, 1, 1]),\n  'genre_crime': tensor([0, 0, 0, 0]),\n  'genre_documentary': tensor([0, 0, 0, 0]),\n  'genre_drama': tensor([0, 0, 0, 0]),\n  'genre_fantasy': tensor([0, 0, 0, 0]),\n  'genre_filmnoir': tensor([0, 0, 0, 0]),\n  'genre_horror': tensor([0, 0, 0, 0]),\n  'genre_musical': tensor([0, 0, 0, 0]),\n  'genre_mystery': tensor([0, 0, 0, 0]),\n  'genre_romance': tensor([0, 0, 0, 0]),\n  'genre_scifi': tensor([0, 0, 0, 0]),\n  'genre_thriller': tensor([0, 0, 0, 0]),\n  'genre_war': tensor([0, 0, 0, 0]),\n  'genre_western': tensor([0, 0, 0, 0]),\n  'embed_0': tensor([-3.2278, -3.2278, -3.2278, -3.2278], dtype=torch.float64),\n  'embed_1': tensor([-0.0905, -0.0905, -0.0905, -0.0905], dtype=torch.float64),\n  'embed_2': tensor([1.2616, 1.2616, 1.2616, 1.2616], dtype=torch.float64),\n  'embed_3': tensor([0.6548, 0.6548, 0.6548, 0.6548], dtype=torch.float64),\n  'embed_4': tensor([0.5871, 0.5871, 0.5871, 0.5871], dtype=torch.float64),\n  'embed_5': tensor([1.1163, 1.1163, 1.1163, 1.1163], dtype=torch.float64),\n  'embed_6': tensor([3.0645, 3.0645, 3.0645, 3.0645], dtype=torch.float64),\n  'embed_7': tensor([-0.3949, -0.3949, -0.3949, -0.3949], dtype=torch.float64),\n  'embed_8': tensor([-1.4985, -1.4985, -1.4985, -1.4985], dtype=torch.float64),\n  'embed_9': tensor([0.7480, 0.7480, 0.7480, 0.7480], dtype=torch.float64),\n  'embed_10': tensor([-0.8427, -0.8427, -0.8427, -0.8427], dtype=torch.float64),\n  'embed_11': tensor([0.5493, 0.5493, 0.5493, 0.5493], dtype=torch.float64),\n  'embed_12': tensor([-11.3576, -11.3576, -11.3576, -11.3576], dtype=torch.float64),\n  'embed_13': tensor([-0.4556, -0.4556, -0.4556, -0.4556], dtype=torch.float64),\n  'embed_14': tensor([-0.5682, -0.5682, -0.5682, -0.5682], dtype=torch.float64),\n  'embed_15': tensor([0.5117, 0.5117, 0.5117, 0.5117], dtype=torch.float64),\n  'embed_16': tensor([1.4649, 1.4649, 1.4649, 1.4649], dtype=torch.float64),\n  'embed_17': tensor([-2.4697, -2.4697, -2.4697, -2.4697], dtype=torch.float64),\n  'embed_18': tensor([-1.1962, -1.1962, -1.1962, -1.1962], dtype=torch.float64),\n  'embed_19': tensor([-0.7946, -0.7946, -0.7946, -0.7946], dtype=torch.float64),\n  'embed_20': tensor([-0.0946, -0.0946, -0.0946, -0.0946], dtype=torch.float64),\n  'embed_21': tensor([2.8478, 2.8478, 2.8478, 2.8478], dtype=torch.float64),\n  'embed_22': tensor([2.1752, 2.1752, 2.1752, 2.1752], dtype=torch.float64),\n  'embed_23': tensor([1.0343, 1.0343, 1.0343, 1.0343], dtype=torch.float64),\n  'embed_24': tensor([-0.7503, -0.7503, -0.7503, -0.7503], dtype=torch.float64)},\n tensor([[5.],\n         [4.],\n         [5.],\n         [3.]])]"
     },
     "execution_count": 11,
     "metadata": {},
     "output_type": "execute_result"
    }
   ],
   "source": [
    "dl = DataLoader(train, 4)\n",
    "next(iter(dl))"
   ],
   "metadata": {
    "collapsed": false
   }
  },
  {
   "cell_type": "code",
   "execution_count": 12,
   "outputs": [],
   "source": [
    "z = next(iter(dl))"
   ],
   "metadata": {
    "collapsed": false
   }
  },
  {
   "cell_type": "code",
   "execution_count": 13,
   "outputs": [
    {
     "data": {
      "text/plain": "tensor([[0, 0, 0, 0, 1, 0, 0, 0, 0, 0, 0, 0, 0, 0, 0, 0, 0, 0],\n        [0, 0, 0, 0, 1, 0, 0, 0, 0, 0, 0, 0, 0, 0, 0, 0, 0, 0],\n        [0, 0, 0, 0, 1, 0, 0, 0, 0, 0, 0, 0, 0, 0, 0, 0, 0, 0],\n        [0, 0, 0, 0, 1, 0, 0, 0, 0, 0, 0, 0, 0, 0, 0, 0, 0, 0]])"
     },
     "execution_count": 13,
     "metadata": {},
     "output_type": "execute_result"
    }
   ],
   "source": [
    "def stack_features(inputs, feat):\n",
    "    return torch.stack([v for k, v in inputs.items() if feat in k], 1)\n",
    "\n",
    "\n",
    "stack_features(z[0], 'genre')"
   ],
   "metadata": {
    "collapsed": false
   }
  },
  {
   "cell_type": "code",
   "execution_count": 22,
   "outputs": [],
   "source": [
    "class RecModel(nn.Module):\n",
    "    def __init__(self, metadata, n_features=54):\n",
    "        super().__init__()\n",
    "        self.meta = metadata\n",
    "        self.embed_dims = {\n",
    "            'large': 25,\n",
    "            'med': 7,\n",
    "            'small': 3\n",
    "        }\n",
    "        self.loss_func = nn.MSELoss()\n",
    "\n",
    "        self.user_embeds = nn.Embedding(\n",
    "            num_embeddings=len(meta['user'].keys()) + 2,\n",
    "            embedding_dim=self.embed_dims['med']\n",
    "        )\n",
    "\n",
    "        self.movie_embeds = nn.Embedding(\n",
    "            num_embeddings=len(meta['movie'].keys()) + 2,\n",
    "            embedding_dim=self.embed_dims['med']\n",
    "        )\n",
    "\n",
    "        self.user_model = nn.Sequential(\n",
    "            nn.LazyLinear(out_features=32),\n",
    "            nn.ReLU(),\n",
    "            nn.Linear(in_features=32, out_features=32),\n",
    "            nn.ReLU()\n",
    "        )\n",
    "\n",
    "        self.movie_model = nn.Sequential(\n",
    "            nn.LazyLinear(out_features=32),\n",
    "            nn.ReLU(),\n",
    "            nn.Linear(in_features=32, out_features=32),\n",
    "            nn.ReLU()\n",
    "        )\n",
    "\n",
    "        self.model = nn.Sequential(\n",
    "            nn.LazyLinear(out_features=64),\n",
    "            nn.ReLU(),\n",
    "            nn.Linear(in_features=64, out_features=1)\n",
    "        )\n",
    "\n",
    "    def forward(self, x):\n",
    "        x_user = torch.concat(\n",
    "            (\n",
    "                self.user_embeds(x['user']),\n",
    "                x['state'].unsqueeze(-1),\n",
    "                x['age'].unsqueeze(-1),\n",
    "                x['occupation'].unsqueeze(-1),\n",
    "                x['gender'].unsqueeze(-1),\n",
    "            ),\n",
    "            dim=1\n",
    "        )\n",
    "\n",
    "        x_movie = torch.concat(\n",
    "            (\n",
    "                self.movie_embeds(x['movie']),\n",
    "                stack_features(x, 'genre'),\n",
    "                x['year'].unsqueeze(-1)\n",
    "            ),\n",
    "            dim=1\n",
    "        )\n",
    "        user_block = self.user_model(x_user)\n",
    "        movie_block = self.movie_model(x_movie.float())\n",
    "        x = self.model(torch.concat((user_block, movie_block), dim=1))\n",
    "        return x\n",
    "\n",
    "    def predict(self, x):\n",
    "        return self(x)"
   ],
   "metadata": {
    "collapsed": false
   }
  },
  {
   "cell_type": "code",
   "execution_count": null,
   "outputs": [
    {
     "name": "stderr",
     "output_type": "stream",
     "text": [
      "Epoch:   0%|          | 0/10 [00:00<?, ?it/s]\n",
      "Batch:   0%|          | 0/96 [00:00<?, ?it/s]\u001B[A\n",
      "Batch:   1%|          | 1/96 [00:01<01:38,  1.04s/it]\u001B[A\n",
      "Batch:   2%|▏         | 2/96 [00:01<01:01,  1.54it/s]\u001B[A\n",
      "Batch:   3%|▎         | 3/96 [00:01<00:47,  1.96it/s]\u001B[A\n",
      "Batch:   4%|▍         | 4/96 [00:02<00:40,  2.25it/s]\u001B[A\n",
      "Batch:   5%|▌         | 5/96 [00:02<00:44,  2.06it/s]\u001B[A\n",
      "Batch:   6%|▋         | 6/96 [00:02<00:38,  2.33it/s]\u001B[A\n",
      "Batch:   7%|▋         | 7/96 [00:03<00:34,  2.54it/s]\u001B[A\n",
      "Batch:   8%|▊         | 8/96 [00:03<00:33,  2.60it/s]\u001B[A\n",
      "Batch:   9%|▉         | 9/96 [00:04<00:32,  2.69it/s]\u001B[A\n",
      "Batch:  10%|█         | 10/96 [00:04<00:31,  2.69it/s]\u001B[A\n",
      "Batch:  11%|█▏        | 11/96 [00:04<00:35,  2.37it/s]\u001B[A\n",
      "Batch:  12%|█▎        | 12/96 [00:05<00:34,  2.45it/s]\u001B[A\n",
      "Batch:  14%|█▎        | 13/96 [00:05<00:32,  2.55it/s]\u001B[A\n",
      "Batch:  15%|█▍        | 14/96 [00:05<00:30,  2.70it/s]\u001B[A\n",
      "Batch:  16%|█▌        | 15/96 [00:06<00:28,  2.83it/s]\u001B[A\n",
      "Batch:  17%|█▋        | 16/96 [00:06<00:31,  2.54it/s]\u001B[A\n",
      "Batch:  18%|█▊        | 17/96 [00:07<00:29,  2.70it/s]\u001B[A\n",
      "Batch:  19%|█▉        | 18/96 [00:07<00:28,  2.71it/s]\u001B[A\n",
      "Batch:  20%|█▉        | 19/96 [00:07<00:27,  2.84it/s]\u001B[A\n",
      "Batch:  21%|██        | 20/96 [00:08<00:26,  2.91it/s]\u001B[A\n",
      "Batch:  22%|██▏       | 21/96 [00:08<00:25,  2.98it/s]\u001B[A\n",
      "Batch:  23%|██▎       | 22/96 [00:08<00:27,  2.67it/s]\u001B[A\n",
      "Batch:  24%|██▍       | 23/96 [00:09<00:25,  2.84it/s]\u001B[A\n",
      "Batch:  25%|██▌       | 24/96 [00:09<00:24,  2.99it/s]\u001B[A\n",
      "Batch:  26%|██▌       | 25/96 [00:09<00:23,  3.08it/s]\u001B[A\n",
      "Batch:  27%|██▋       | 26/96 [00:10<00:22,  3.08it/s]\u001B[A\n",
      "Batch:  28%|██▊       | 27/96 [00:10<00:25,  2.73it/s]\u001B[A\n",
      "Batch:  29%|██▉       | 28/96 [00:10<00:24,  2.74it/s]\u001B[A\n",
      "Batch:  30%|███       | 29/96 [00:11<00:24,  2.75it/s]\u001B[A\n",
      "Batch:  31%|███▏      | 30/96 [00:11<00:24,  2.75it/s]\u001B[A\n",
      "Batch:  32%|███▏      | 31/96 [00:12<00:24,  2.71it/s]\u001B[A\n",
      "Batch:  33%|███▎      | 32/96 [00:12<00:24,  2.66it/s]\u001B[A\n",
      "Batch:  34%|███▍      | 33/96 [00:13<00:27,  2.28it/s]\u001B[A\n",
      "Batch:  35%|███▌      | 34/96 [00:13<00:25,  2.45it/s]\u001B[A\n",
      "Batch:  36%|███▋      | 35/96 [00:13<00:23,  2.63it/s]\u001B[A\n",
      "Batch:  38%|███▊      | 36/96 [00:13<00:21,  2.77it/s]\u001B[A\n",
      "Batch:  39%|███▊      | 37/96 [00:14<00:20,  2.88it/s]\u001B[A\n",
      "Batch:  40%|███▉      | 38/96 [00:14<00:19,  2.95it/s]\u001B[A\n",
      "Batch:  41%|████      | 39/96 [00:15<00:21,  2.65it/s]\u001B[A\n",
      "Batch:  42%|████▏     | 40/96 [00:15<00:19,  2.84it/s]\u001B[A\n",
      "Batch:  43%|████▎     | 41/96 [00:15<00:18,  2.98it/s]\u001B[A\n",
      "Batch:  44%|████▍     | 42/96 [00:15<00:17,  3.09it/s]\u001B[A\n",
      "Batch:  45%|████▍     | 43/96 [00:16<00:16,  3.14it/s]\u001B[A\n",
      "Batch:  46%|████▌     | 44/96 [00:16<00:19,  2.73it/s]\u001B[A\n",
      "Batch:  47%|████▋     | 45/96 [00:17<00:17,  2.90it/s]\u001B[A\n",
      "Batch:  48%|████▊     | 46/96 [00:17<00:16,  3.03it/s]\u001B[A\n",
      "Batch:  49%|████▉     | 47/96 [00:17<00:15,  3.09it/s]\u001B[A\n",
      "Batch:  50%|█████     | 48/96 [00:17<00:15,  3.17it/s]\u001B[A\n",
      "Batch:  51%|█████     | 49/96 [00:18<00:15,  3.12it/s]\u001B[A\n",
      "Batch:  52%|█████▏    | 50/96 [00:18<00:17,  2.65it/s]\u001B[A\n",
      "Batch:  53%|█████▎    | 51/96 [00:19<00:16,  2.73it/s]\u001B[A\n",
      "Batch:  54%|█████▍    | 52/96 [00:19<00:15,  2.77it/s]\u001B[A\n",
      "Batch:  55%|█████▌    | 53/96 [00:19<00:15,  2.81it/s]\u001B[A\n",
      "Batch:  56%|█████▋    | 54/96 [00:20<00:15,  2.78it/s]\u001B[A\n",
      "Batch:  57%|█████▋    | 55/96 [00:20<00:16,  2.51it/s]\u001B[A\n",
      "Batch:  58%|█████▊    | 56/96 [00:20<00:14,  2.70it/s]\u001B[A\n",
      "Batch:  59%|█████▉    | 57/96 [00:21<00:13,  2.82it/s]\u001B[A\n",
      "Batch:  60%|██████    | 58/96 [00:21<00:12,  2.93it/s]\u001B[A\n",
      "Batch:  61%|██████▏   | 59/96 [00:21<00:12,  2.91it/s]\u001B[A\n",
      "Batch:  62%|██████▎   | 60/96 [00:22<00:12,  2.92it/s]\u001B[A\n",
      "Batch:  64%|██████▎   | 61/96 [00:22<00:13,  2.56it/s]\u001B[A\n",
      "Batch:  65%|██████▍   | 62/96 [00:23<00:12,  2.68it/s]\u001B[A\n",
      "Batch:  66%|██████▌   | 63/96 [00:23<00:11,  2.83it/s]\u001B[A\n",
      "Batch:  67%|██████▋   | 64/96 [00:23<00:10,  2.94it/s]\u001B[A\n",
      "Batch:  68%|██████▊   | 65/96 [00:24<00:10,  3.09it/s]\u001B[A\n",
      "Batch:  69%|██████▉   | 66/96 [00:24<00:11,  2.72it/s]\u001B[A\n",
      "Batch:  70%|██████▉   | 67/96 [00:24<00:10,  2.89it/s]\u001B[A\n",
      "Batch:  71%|███████   | 68/96 [00:25<00:09,  2.94it/s]\u001B[A\n",
      "Batch:  72%|███████▏  | 69/96 [00:25<00:09,  2.87it/s]\u001B[A\n",
      "Batch:  73%|███████▎  | 70/96 [00:25<00:09,  2.82it/s]\u001B[A\n",
      "Batch:  74%|███████▍  | 71/96 [00:26<00:10,  2.45it/s]\u001B[A\n",
      "Batch:  75%|███████▌  | 72/96 [00:26<00:09,  2.54it/s]\u001B[A\n",
      "Batch:  76%|███████▌  | 73/96 [00:27<00:08,  2.61it/s]\u001B[A\n",
      "Batch:  77%|███████▋  | 74/96 [00:27<00:08,  2.70it/s]\u001B[A\n",
      "Batch:  78%|███████▊  | 75/96 [00:27<00:07,  2.73it/s]\u001B[A\n",
      "Batch:  79%|███████▉  | 76/96 [00:28<00:07,  2.85it/s]\u001B[A\n",
      "Batch:  80%|████████  | 77/96 [00:28<00:07,  2.52it/s]\u001B[A\n",
      "Batch:  81%|████████▏ | 78/96 [00:28<00:06,  2.66it/s]\u001B[A\n",
      "Batch:  82%|████████▏ | 79/96 [00:29<00:06,  2.82it/s]\u001B[A\n",
      "Batch:  83%|████████▎ | 80/96 [00:29<00:05,  2.94it/s]\u001B[A\n",
      "Batch:  84%|████████▍ | 81/96 [00:29<00:04,  3.07it/s]\u001B[A\n",
      "Batch:  85%|████████▌ | 82/96 [00:30<00:04,  3.15it/s]\u001B[A\n",
      "Batch:  86%|████████▋ | 83/96 [00:30<00:04,  2.74it/s]\u001B[A\n",
      "Batch:  88%|████████▊ | 84/96 [00:30<00:04,  2.92it/s]\u001B[A\n",
      "Batch:  89%|████████▊ | 85/96 [00:31<00:03,  2.93it/s]\u001B[A\n",
      "Batch:  90%|████████▉ | 86/96 [00:31<00:03,  3.00it/s]\u001B[A\n",
      "Batch:  91%|█████████ | 87/96 [00:31<00:02,  3.01it/s]\u001B[A\n",
      "Batch:  92%|█████████▏| 88/96 [00:32<00:03,  2.61it/s]\u001B[A\n",
      "Batch:  93%|█████████▎| 89/96 [00:32<00:02,  2.68it/s]\u001B[A\n",
      "Batch:  94%|█████████▍| 90/96 [00:33<00:02,  2.65it/s]\u001B[A\n",
      "Batch:  95%|█████████▍| 91/96 [00:33<00:01,  2.71it/s]\u001B[A\n",
      "Batch:  96%|█████████▌| 92/96 [00:33<00:01,  2.78it/s]\u001B[A\n",
      "Batch:  97%|█████████▋| 93/96 [00:34<00:01,  2.40it/s]\u001B[A\n",
      "Batch:  98%|█████████▊| 94/96 [00:34<00:00,  2.53it/s]\u001B[A\n",
      "Batch:  99%|█████████▉| 95/96 [00:35<00:00,  2.65it/s]\u001B[A\n",
      "Batch: 100%|██████████| 96/96 [00:35<00:00,  2.71it/s]\u001B[A\n",
      "                                                      \u001B[A\n",
      "Batch:   0%|          | 0/5 [00:00<?, ?it/s]\u001B[A\n",
      "Batch:  20%|██        | 1/5 [00:00<00:00,  6.70it/s]\u001B[A\n",
      "Batch:  40%|████      | 2/5 [00:00<00:00,  6.31it/s]\u001B[A\n",
      "Batch:  60%|██████    | 3/5 [00:00<00:00,  4.18it/s]\u001B[A\n",
      "Batch:  80%|████████  | 4/5 [00:00<00:00,  4.77it/s]\u001B[A\n",
      "Epoch:  10%|█         | 1/10 [00:36<05:26, 36.28s/it][A"
     ]
    },
    {
     "name": "stdout",
     "output_type": "stream",
     "text": [
      "defaultdict(<class 'list'>, {'epoch': [0], 'train_loss': [4.713299865523974], 'train_mse': [2.7318716049194336], 'valid_loss': [1.4231931209564208], 'valid_mse': [1.4215534925460815]})\n"
     ]
    },
    {
     "name": "stderr",
     "output_type": "stream",
     "text": [
      "\n",
      "Batch:   0%|          | 0/96 [00:00<?, ?it/s]\u001B[A\n",
      "Batch:   1%|          | 1/96 [00:00<00:34,  2.76it/s]\u001B[A\n",
      "Batch:   2%|▏         | 2/96 [00:00<00:30,  3.07it/s]\u001B[A\n",
      "Batch:   3%|▎         | 3/96 [00:00<00:30,  3.08it/s]\u001B[A\n",
      "Batch:   4%|▍         | 4/96 [00:01<00:35,  2.57it/s]\u001B[A\n",
      "Batch:   5%|▌         | 5/96 [00:01<00:32,  2.83it/s]\u001B[A\n",
      "Batch:   6%|▋         | 6/96 [00:02<00:30,  2.97it/s]\u001B[A\n",
      "Batch:   7%|▋         | 7/96 [00:02<00:29,  2.99it/s]\u001B[A\n",
      "Batch:   8%|▊         | 8/96 [00:02<00:28,  3.07it/s]\u001B[A\n",
      "Batch:   9%|▉         | 9/96 [00:03<00:28,  3.07it/s]\u001B[A\n",
      "Batch:  10%|█         | 10/96 [00:03<00:32,  2.68it/s]\u001B[A\n",
      "Batch:  11%|█▏        | 11/96 [00:03<00:30,  2.76it/s]\u001B[A\n",
      "Batch:  12%|█▎        | 12/96 [00:04<00:30,  2.78it/s]\u001B[A\n",
      "Batch:  14%|█▎        | 13/96 [00:04<00:31,  2.64it/s]\u001B[A\n",
      "Batch:  15%|█▍        | 14/96 [00:04<00:30,  2.69it/s]\u001B[A\n",
      "Batch:  16%|█▌        | 15/96 [00:05<00:30,  2.68it/s]\u001B[A\n",
      "Batch:  17%|█▋        | 16/96 [00:05<00:33,  2.37it/s]\u001B[A\n",
      "Batch:  18%|█▊        | 17/96 [00:06<00:32,  2.42it/s]\u001B[A\n",
      "Batch:  19%|█▉        | 18/96 [00:06<00:31,  2.48it/s]\u001B[A\n",
      "Batch:  20%|█▉        | 19/96 [00:07<00:29,  2.57it/s]\u001B[A\n",
      "Batch:  21%|██        | 20/96 [00:07<00:28,  2.66it/s]\u001B[A\n",
      "Batch:  22%|██▏       | 21/96 [00:07<00:31,  2.41it/s]\u001B[A\n",
      "Batch:  23%|██▎       | 22/96 [00:08<00:28,  2.64it/s]\u001B[A\n",
      "Batch:  24%|██▍       | 23/96 [00:08<00:25,  2.85it/s]\u001B[A\n",
      "Batch:  25%|██▌       | 24/96 [00:08<00:24,  2.92it/s]\u001B[A\n",
      "Batch:  26%|██▌       | 25/96 [00:09<00:23,  2.96it/s]\u001B[A\n",
      "Batch:  27%|██▋       | 26/96 [00:09<00:23,  3.00it/s]\u001B[A\n",
      "Batch:  28%|██▊       | 27/96 [00:09<00:26,  2.60it/s]\u001B[A\n",
      "Batch:  29%|██▉       | 28/96 [00:10<00:24,  2.82it/s]\u001B[A\n",
      "Batch:  30%|███       | 29/96 [00:10<00:22,  2.98it/s]\u001B[A\n",
      "Batch:  31%|███▏      | 30/96 [00:10<00:21,  3.02it/s]\u001B[A\n",
      "Batch:  32%|███▏      | 31/96 [00:11<00:21,  3.07it/s]\u001B[A\n",
      "Batch:  33%|███▎      | 32/96 [00:11<00:20,  3.13it/s]\u001B[A\n",
      "Batch:  34%|███▍      | 33/96 [00:11<00:24,  2.61it/s]\u001B[A\n",
      "Batch:  35%|███▌      | 34/96 [00:12<00:22,  2.71it/s]\u001B[A\n",
      "Batch:  36%|███▋      | 35/96 [00:12<00:21,  2.79it/s]\u001B[A\n",
      "Batch:  38%|███▊      | 36/96 [00:12<00:21,  2.80it/s]\u001B[A\n",
      "Batch:  39%|███▊      | 37/96 [00:13<00:20,  2.83it/s]\u001B[A\n",
      "Batch:  40%|███▉      | 38/96 [00:13<00:23,  2.45it/s]\u001B[A\n",
      "Batch:  41%|████      | 39/96 [00:14<00:21,  2.61it/s]\u001B[A\n",
      "Batch:  42%|████▏     | 40/96 [00:14<00:20,  2.74it/s]\u001B[A\n",
      "Batch:  43%|████▎     | 41/96 [00:14<00:19,  2.84it/s]\u001B[A\n",
      "Batch:  44%|████▍     | 42/96 [00:15<00:18,  2.89it/s]\u001B[A\n",
      "Batch:  45%|████▍     | 43/96 [00:15<00:17,  2.99it/s]\u001B[A\n",
      "Batch:  46%|████▌     | 44/96 [00:15<00:19,  2.62it/s]\u001B[A\n",
      "Batch:  47%|████▋     | 45/96 [00:16<00:18,  2.74it/s]\u001B[A\n",
      "Batch:  48%|████▊     | 46/96 [00:16<00:17,  2.91it/s]\u001B[A\n",
      "Batch:  49%|████▉     | 47/96 [00:16<00:16,  3.04it/s]\u001B[A\n",
      "Batch:  50%|█████     | 48/96 [00:17<00:15,  3.04it/s]\u001B[A\n",
      "Batch:  51%|█████     | 49/96 [00:17<00:15,  3.00it/s]\u001B[A\n",
      "Batch:  52%|█████▏    | 50/96 [00:18<00:17,  2.61it/s]\u001B[A\n",
      "Batch:  53%|█████▎    | 51/96 [00:18<00:16,  2.77it/s]\u001B[A\n",
      "Batch:  54%|█████▍    | 52/96 [00:18<00:15,  2.84it/s]\u001B[A\n",
      "Batch:  55%|█████▌    | 53/96 [00:19<00:15,  2.78it/s]\u001B[A\n",
      "Batch:  56%|█████▋    | 54/96 [00:19<00:14,  2.81it/s]\u001B[A\n",
      "Batch:  57%|█████▋    | 55/96 [00:19<00:16,  2.46it/s]\u001B[A\n",
      "Batch:  58%|█████▊    | 56/96 [00:20<00:15,  2.60it/s]\u001B[A\n",
      "Batch:  59%|█████▉    | 57/96 [00:20<00:14,  2.69it/s]\u001B[A\n",
      "Batch:  60%|██████    | 58/96 [00:21<00:14,  2.70it/s]\u001B[A\n",
      "Batch:  61%|██████▏   | 59/96 [00:21<00:13,  2.80it/s]\u001B[A\n",
      "Batch:  62%|██████▎   | 60/96 [00:21<00:14,  2.57it/s]\u001B[A\n",
      "Batch:  64%|██████▎   | 61/96 [00:22<00:12,  2.70it/s]\u001B[A\n",
      "Batch:  65%|██████▍   | 62/96 [00:22<00:12,  2.83it/s]\u001B[A\n",
      "Batch:  66%|██████▌   | 63/96 [00:22<00:11,  2.91it/s]\u001B[A\n",
      "Batch:  67%|██████▋   | 64/96 [00:23<00:10,  2.96it/s]\u001B[A\n",
      "Batch:  68%|██████▊   | 65/96 [00:23<00:10,  3.02it/s]\u001B[A\n",
      "Batch:  69%|██████▉   | 66/96 [00:23<00:11,  2.61it/s]\u001B[A\n",
      "Batch:  70%|██████▉   | 67/96 [00:24<00:10,  2.71it/s]\u001B[A\n",
      "Batch:  71%|███████   | 68/96 [00:24<00:09,  2.87it/s]\u001B[A\n",
      "Batch:  72%|███████▏  | 69/96 [00:24<00:09,  2.98it/s]\u001B[A\n",
      "Batch:  73%|███████▎  | 70/96 [00:25<00:08,  3.00it/s]\u001B[A\n",
      "Batch:  74%|███████▍  | 71/96 [00:25<00:09,  2.62it/s]\u001B[A\n",
      "Batch:  75%|███████▌  | 72/96 [00:25<00:08,  2.76it/s]\u001B[A\n",
      "Batch:  76%|███████▌  | 73/96 [00:26<00:08,  2.80it/s]\u001B[A\n",
      "Batch:  77%|███████▋  | 74/96 [00:26<00:07,  2.81it/s]\u001B[A\n",
      "Batch:  78%|███████▊  | 75/96 [00:27<00:07,  2.85it/s]\u001B[A\n",
      "Batch:  79%|███████▉  | 76/96 [00:27<00:07,  2.79it/s]\u001B[A\n",
      "Batch:  80%|████████  | 77/96 [00:27<00:08,  2.37it/s]\u001B[A\n",
      "Batch:  81%|████████▏ | 78/96 [00:28<00:07,  2.44it/s]\u001B[A\n",
      "Batch:  82%|████████▏ | 79/96 [00:28<00:06,  2.53it/s]\u001B[A\n",
      "Batch:  83%|████████▎ | 80/96 [00:29<00:06,  2.64it/s]\u001B[A\n",
      "Batch:  84%|████████▍ | 81/96 [00:29<00:05,  2.80it/s]\u001B[A\n",
      "Batch:  85%|████████▌ | 82/96 [00:29<00:05,  2.52it/s]\u001B[A\n",
      "Batch:  86%|████████▋ | 83/96 [00:30<00:04,  2.69it/s]\u001B[A\n",
      "Batch:  88%|████████▊ | 84/96 [00:30<00:04,  2.80it/s]\u001B[A\n",
      "Batch:  89%|████████▊ | 85/96 [00:30<00:03,  2.94it/s]\u001B[A\n",
      "Batch:  90%|████████▉ | 86/96 [00:31<00:03,  3.00it/s]\u001B[A\n",
      "Batch:  91%|█████████ | 87/96 [00:31<00:03,  2.69it/s]\u001B[A\n",
      "Batch:  92%|█████████▏| 88/96 [00:31<00:02,  2.79it/s]\u001B[A\n",
      "Batch:  93%|█████████▎| 89/96 [00:32<00:02,  2.92it/s]\u001B[A\n",
      "Batch:  94%|█████████▍| 90/96 [00:32<00:01,  3.05it/s]\u001B[A\n",
      "Batch:  95%|█████████▍| 91/96 [00:32<00:01,  3.10it/s]\u001B[A\n",
      "Batch:  96%|█████████▌| 92/96 [00:33<00:01,  3.12it/s]\u001B[A\n",
      "Batch:  97%|█████████▋| 93/96 [00:33<00:01,  2.64it/s]\u001B[A\n",
      "Batch:  98%|█████████▊| 94/96 [00:33<00:00,  2.70it/s]\u001B[A\n",
      "Batch:  99%|█████████▉| 95/96 [00:34<00:00,  2.79it/s]\u001B[A\n",
      "Batch: 100%|██████████| 96/96 [00:34<00:00,  2.74it/s]\u001B[A\n",
      "                                                      \u001B[A\n",
      "Batch:   0%|          | 0/5 [00:00<?, ?it/s]\u001B[A\n",
      "Batch:  20%|██        | 1/5 [00:00<00:00,  5.66it/s]\u001B[A\n",
      "Batch:  40%|████      | 2/5 [00:00<00:00,  3.64it/s]\u001B[A\n",
      "Batch:  60%|██████    | 3/5 [00:00<00:00,  4.41it/s]\u001B[A\n",
      "Batch:  80%|████████  | 4/5 [00:00<00:00,  4.85it/s]\u001B[A\n",
      "Epoch:  20%|██        | 2/10 [01:11<04:46, 35.87s/it][A"
     ]
    },
    {
     "name": "stdout",
     "output_type": "stream",
     "text": [
      "defaultdict(<class 'list'>, {'epoch': [0, 1], 'train_loss': [4.713299865523974, 1.1311705857515335], 'train_mse': [2.7318716049194336, 1.1274348497390747], 'valid_loss': [1.4231931209564208, 1.2962042570114136], 'valid_mse': [1.4215534925460815, 1.2875945568084717]})\n"
     ]
    },
    {
     "name": "stderr",
     "output_type": "stream",
     "text": [
      "\n",
      "Batch:   0%|          | 0/96 [00:00<?, ?it/s]\u001B[A\n",
      "Batch:   1%|          | 1/96 [00:00<00:39,  2.39it/s]\u001B[A\n",
      "Batch:   2%|▏         | 2/96 [00:00<00:35,  2.64it/s]\u001B[A\n",
      "Batch:   3%|▎         | 3/96 [00:01<00:32,  2.88it/s]\u001B[A\n",
      "Batch:   4%|▍         | 4/96 [00:01<00:37,  2.46it/s]\u001B[A\n",
      "Batch:   5%|▌         | 5/96 [00:01<00:33,  2.69it/s]\u001B[A\n",
      "Batch:   6%|▋         | 6/96 [00:02<00:31,  2.87it/s]\u001B[A\n",
      "Batch:   7%|▋         | 7/96 [00:02<00:29,  3.00it/s]\u001B[A\n",
      "Batch:   8%|▊         | 8/96 [00:02<00:29,  2.97it/s]\u001B[A\n",
      "Batch:   9%|▉         | 9/96 [00:03<00:34,  2.49it/s]\u001B[A\n",
      "Batch:  10%|█         | 10/96 [00:03<00:33,  2.60it/s]\u001B[A\n",
      "Batch:  11%|█▏        | 11/96 [00:04<00:31,  2.69it/s]\u001B[A\n",
      "Batch:  12%|█▎        | 12/96 [00:04<00:31,  2.68it/s]\u001B[A\n",
      "Batch:  14%|█▎        | 13/96 [00:04<00:29,  2.84it/s]\u001B[A\n",
      "Batch:  15%|█▍        | 14/96 [00:05<00:27,  2.96it/s]\u001B[A\n",
      "Batch:  16%|█▌        | 15/96 [00:05<00:31,  2.54it/s]\u001B[A\n",
      "Batch:  17%|█▋        | 16/96 [00:05<00:30,  2.64it/s]\u001B[A\n",
      "Batch:  18%|█▊        | 17/96 [00:06<00:28,  2.73it/s]\u001B[A\n",
      "Batch:  19%|█▉        | 18/96 [00:06<00:28,  2.76it/s]\u001B[A\n",
      "Batch:  20%|█▉        | 19/96 [00:06<00:27,  2.76it/s]\u001B[A\n",
      "Batch:  21%|██        | 20/96 [00:07<00:31,  2.38it/s]\u001B[A\n",
      "Batch:  22%|██▏       | 21/96 [00:07<00:29,  2.58it/s]\u001B[A\n",
      "Batch:  23%|██▎       | 22/96 [00:08<00:26,  2.77it/s]\u001B[A\n",
      "Batch:  24%|██▍       | 23/96 [00:08<00:25,  2.90it/s]\u001B[A\n",
      "Batch:  25%|██▌       | 24/96 [00:08<00:24,  2.96it/s]\u001B[A\n",
      "Batch:  26%|██▌       | 25/96 [00:09<00:23,  3.03it/s]\u001B[A\n",
      "Batch:  27%|██▋       | 26/96 [00:09<00:26,  2.64it/s]\u001B[A\n",
      "Batch:  28%|██▊       | 27/96 [00:09<00:24,  2.79it/s]\u001B[A\n",
      "Batch:  29%|██▉       | 28/96 [00:10<00:23,  2.89it/s]\u001B[A\n",
      "Batch:  30%|███       | 29/96 [00:10<00:22,  3.00it/s]\u001B[A\n",
      "Batch:  31%|███▏      | 30/96 [00:10<00:21,  3.05it/s]\u001B[A\n",
      "Batch:  32%|███▏      | 31/96 [00:11<00:20,  3.17it/s]\u001B[A\n",
      "Batch:  33%|███▎      | 32/96 [00:11<00:23,  2.73it/s]\u001B[A\n",
      "Batch:  34%|███▍      | 33/96 [00:11<00:23,  2.72it/s]\u001B[A\n",
      "Batch:  35%|███▌      | 34/96 [00:12<00:22,  2.78it/s]\u001B[A\n",
      "Batch:  36%|███▋      | 35/96 [00:12<00:20,  2.92it/s]\u001B[A\n",
      "Batch:  38%|███▊      | 36/96 [00:12<00:20,  2.92it/s]\u001B[A\n",
      "Batch:  39%|███▊      | 37/96 [00:14<00:39,  1.50it/s]\u001B[A\n",
      "Batch:  40%|███▉      | 38/96 [00:14<00:37,  1.54it/s]\u001B[A\n",
      "Batch:  41%|████      | 39/96 [00:15<00:33,  1.68it/s]\u001B[A\n",
      "Batch:  42%|████▏     | 40/96 [00:15<00:30,  1.83it/s]\u001B[A\n",
      "Batch:  43%|████▎     | 41/96 [00:16<00:28,  1.94it/s]\u001B[A\n",
      "Batch:  44%|████▍     | 42/96 [00:16<00:25,  2.15it/s]\u001B[A\n",
      "Batch:  45%|████▍     | 43/96 [00:17<00:24,  2.15it/s]\u001B[A\n",
      "Batch:  46%|████▌     | 44/96 [00:17<00:21,  2.37it/s]\u001B[A\n",
      "Batch:  47%|████▋     | 45/96 [00:17<00:19,  2.55it/s]\u001B[A\n",
      "Batch:  48%|████▊     | 46/96 [00:18<00:18,  2.74it/s]\u001B[A\n",
      "Batch:  49%|████▉     | 47/96 [00:18<00:16,  2.93it/s]\u001B[A\n",
      "Batch:  50%|█████     | 48/96 [00:18<00:18,  2.63it/s]\u001B[A\n",
      "Batch:  51%|█████     | 49/96 [00:19<00:16,  2.83it/s]\u001B[A\n",
      "Batch:  52%|█████▏    | 50/96 [00:19<00:15,  2.95it/s]\u001B[A\n",
      "Batch:  53%|█████▎    | 51/96 [00:19<00:14,  3.09it/s]\u001B[A\n",
      "Batch:  54%|█████▍    | 52/96 [00:20<00:13,  3.14it/s]\u001B[A\n",
      "Batch:  55%|█████▌    | 53/96 [00:20<00:13,  3.17it/s]\u001B[A\n",
      "Batch:  56%|█████▋    | 54/96 [00:20<00:15,  2.69it/s]\u001B[A\n",
      "Batch:  57%|█████▋    | 55/96 [00:21<00:14,  2.87it/s]\u001B[A\n",
      "Batch:  58%|█████▊    | 56/96 [00:21<00:13,  2.92it/s]\u001B[A\n",
      "Batch:  59%|█████▉    | 57/96 [00:21<00:13,  2.91it/s]\u001B[A\n",
      "Batch:  60%|██████    | 58/96 [00:22<00:13,  2.92it/s]\u001B[A\n",
      "Batch:  61%|██████▏   | 59/96 [00:22<00:14,  2.50it/s]\u001B[A\n",
      "Batch:  62%|██████▎   | 60/96 [00:23<00:14,  2.56it/s]\u001B[A\n",
      "Batch:  64%|██████▎   | 61/96 [00:23<00:13,  2.61it/s]\u001B[A\n",
      "Batch:  65%|██████▍   | 62/96 [00:23<00:12,  2.66it/s]\u001B[A\n",
      "Batch:  66%|██████▌   | 63/96 [00:24<00:12,  2.72it/s]\u001B[A\n",
      "Batch:  67%|██████▋   | 64/96 [00:24<00:11,  2.73it/s]\u001B[A\n",
      "Batch:  68%|██████▊   | 65/96 [00:25<00:12,  2.43it/s]\u001B[A\n",
      "Batch:  69%|██████▉   | 66/96 [00:25<00:11,  2.56it/s]\u001B[A\n",
      "Batch:  70%|██████▉   | 67/96 [00:25<00:10,  2.75it/s]\u001B[A\n",
      "Batch:  71%|███████   | 68/96 [00:25<00:09,  2.92it/s]\u001B[A\n",
      "Batch:  72%|███████▏  | 69/96 [00:26<00:09,  2.99it/s]\u001B[A\n",
      "Batch:  73%|███████▎  | 70/96 [00:26<00:09,  2.61it/s]\u001B[A\n",
      "Batch:  74%|███████▍  | 71/96 [00:27<00:09,  2.76it/s]\u001B[A\n",
      "Batch:  75%|███████▌  | 72/96 [00:27<00:08,  2.87it/s]\u001B[A\n",
      "Batch:  76%|███████▌  | 73/96 [00:27<00:07,  2.93it/s]\u001B[A\n",
      "Batch:  77%|███████▋  | 74/96 [00:28<00:07,  2.99it/s]\u001B[A\n",
      "Batch:  78%|███████▊  | 75/96 [00:28<00:07,  2.65it/s]\u001B[A\n",
      "Batch:  79%|███████▉  | 76/96 [00:28<00:07,  2.76it/s]\u001B[A\n",
      "Batch:  80%|████████  | 77/96 [00:29<00:06,  2.78it/s]\u001B[A\n",
      "Batch:  81%|████████▏ | 78/96 [00:29<00:06,  2.82it/s]\u001B[A\n",
      "Batch:  82%|████████▏ | 79/96 [00:29<00:06,  2.73it/s]\u001B[A\n",
      "Batch:  83%|████████▎ | 80/96 [00:30<00:05,  2.74it/s]\u001B[A\n",
      "Batch:  84%|████████▍ | 81/96 [00:30<00:06,  2.36it/s]\u001B[A\n",
      "Batch:  85%|████████▌ | 82/96 [00:31<00:05,  2.45it/s]\u001B[A\n",
      "Batch:  86%|████████▋ | 83/96 [00:31<00:05,  2.60it/s]\u001B[A\n",
      "Batch:  88%|████████▊ | 84/96 [00:31<00:04,  2.77it/s]\u001B[A\n",
      "Batch:  89%|████████▊ | 85/96 [00:32<00:03,  2.88it/s]\u001B[A\n",
      "Batch:  90%|████████▉ | 86/96 [00:32<00:03,  3.00it/s]\u001B[A\n",
      "Batch:  91%|█████████ | 87/96 [00:32<00:03,  2.64it/s]\u001B[A\n",
      "Batch:  92%|█████████▏| 88/96 [00:33<00:02,  2.82it/s]\u001B[A\n",
      "Batch:  93%|█████████▎| 89/96 [00:33<00:02,  2.91it/s]\u001B[A\n",
      "Batch:  94%|█████████▍| 90/96 [00:33<00:01,  3.01it/s]\u001B[A\n",
      "Batch:  95%|█████████▍| 91/96 [00:34<00:01,  3.06it/s]\u001B[A\n",
      "Batch:  96%|█████████▌| 92/96 [00:34<00:01,  2.59it/s]\u001B[A\n",
      "Batch:  97%|█████████▋| 93/96 [00:35<00:01,  2.66it/s]\u001B[A\n",
      "Batch:  98%|█████████▊| 94/96 [00:35<00:00,  2.71it/s]\u001B[A\n",
      "Batch:  99%|█████████▉| 95/96 [00:35<00:00,  2.76it/s]\u001B[A\n",
      "Batch: 100%|██████████| 96/96 [00:36<00:00,  2.76it/s]\u001B[A\n",
      "                                                      \u001B[A\n",
      "Batch:   0%|          | 0/5 [00:00<?, ?it/s]\u001B[A\n",
      "Batch:  20%|██        | 1/5 [00:00<00:00,  5.45it/s]\u001B[A\n",
      "Batch:  40%|████      | 2/5 [00:00<00:00,  3.66it/s]\u001B[A\n",
      "Batch:  60%|██████    | 3/5 [00:00<00:00,  4.37it/s]\u001B[A\n",
      "Batch:  80%|████████  | 4/5 [00:00<00:00,  4.90it/s]\u001B[A\n",
      "Epoch:  30%|███       | 3/10 [01:48<04:14, 36.41s/it][A"
     ]
    },
    {
     "name": "stdout",
     "output_type": "stream",
     "text": [
      "defaultdict(<class 'list'>, {'epoch': [0, 1, 2], 'train_loss': [4.713299865523974, 1.1311705857515335, 0.9304807179917892], 'train_mse': [2.7318716049194336, 1.1274348497390747, 0.9283083081245422], 'valid_loss': [1.4231931209564208, 1.2962042570114136, 1.25869562625885], 'valid_mse': [1.4215534925460815, 1.2875945568084717, 1.2539035081863403]})\n"
     ]
    },
    {
     "name": "stderr",
     "output_type": "stream",
     "text": [
      "\n",
      "Batch:   0%|          | 0/96 [00:00<?, ?it/s]\u001B[A\n",
      "Batch:   1%|          | 1/96 [00:00<00:40,  2.36it/s]\u001B[A\n",
      "Batch:   2%|▏         | 2/96 [00:00<00:38,  2.45it/s]\u001B[A\n",
      "Batch:   3%|▎         | 3/96 [00:01<00:36,  2.58it/s]\u001B[A\n",
      "Batch:   4%|▍         | 4/96 [00:01<00:40,  2.29it/s]\u001B[A\n",
      "Batch:   5%|▌         | 5/96 [00:02<00:35,  2.57it/s]\u001B[A\n",
      "Batch:   6%|▋         | 6/96 [00:02<00:32,  2.76it/s]\u001B[A\n",
      "Batch:   7%|▋         | 7/96 [00:02<00:30,  2.89it/s]\u001B[A\n",
      "Batch:   8%|▊         | 8/96 [00:02<00:30,  2.90it/s]\u001B[A\n",
      "Batch:   9%|▉         | 9/96 [00:03<00:34,  2.53it/s]\u001B[A\n",
      "Batch:  10%|█         | 10/96 [00:03<00:32,  2.63it/s]\u001B[A\n",
      "Batch:  11%|█▏        | 11/96 [00:04<00:30,  2.77it/s]\u001B[A\n",
      "Batch:  12%|█▎        | 12/96 [00:04<00:29,  2.83it/s]\u001B[A\n",
      "Batch:  14%|█▎        | 13/96 [00:04<00:28,  2.94it/s]\u001B[A\n",
      "Batch:  15%|█▍        | 14/96 [00:05<00:26,  3.05it/s]\u001B[A\n",
      "Batch:  16%|█▌        | 15/96 [00:05<00:30,  2.64it/s]\u001B[A\n",
      "Batch:  17%|█▋        | 16/96 [00:05<00:29,  2.72it/s]\u001B[A\n",
      "Batch:  18%|█▊        | 17/96 [00:06<00:28,  2.80it/s]\u001B[A\n",
      "Batch:  19%|█▉        | 18/96 [00:06<00:26,  2.89it/s]\u001B[A\n",
      "Batch:  20%|█▉        | 19/96 [00:06<00:26,  2.88it/s]\u001B[A\n",
      "Batch:  21%|██        | 20/96 [00:07<00:26,  2.90it/s]\u001B[A\n",
      "Batch:  22%|██▏       | 21/96 [00:07<00:29,  2.51it/s]\u001B[A\n",
      "Batch:  23%|██▎       | 22/96 [00:08<00:28,  2.59it/s]\u001B[A\n",
      "Batch:  24%|██▍       | 23/96 [00:08<00:28,  2.58it/s]\u001B[A\n",
      "Batch:  25%|██▌       | 24/96 [00:08<00:28,  2.56it/s]\u001B[A\n",
      "Batch:  26%|██▌       | 25/96 [00:09<00:27,  2.60it/s]\u001B[A\n",
      "Batch:  27%|██▋       | 26/96 [00:09<00:29,  2.34it/s]\u001B[A\n",
      "Batch:  28%|██▊       | 27/96 [00:10<00:26,  2.56it/s]\u001B[A\n",
      "Batch:  29%|██▉       | 28/96 [00:10<00:24,  2.76it/s]\u001B[A\n",
      "Batch:  30%|███       | 29/96 [00:10<00:23,  2.89it/s]\u001B[A\n",
      "Batch:  31%|███▏      | 30/96 [00:11<00:22,  2.94it/s]\u001B[A\n",
      "Batch:  32%|███▏      | 31/96 [00:11<00:21,  3.02it/s]\u001B[A\n",
      "Batch:  33%|███▎      | 32/96 [00:11<00:24,  2.65it/s]\u001B[A\n",
      "Batch:  34%|███▍      | 33/96 [00:12<00:22,  2.78it/s]\u001B[A\n",
      "Batch:  35%|███▌      | 34/96 [00:12<00:21,  2.87it/s]\u001B[A\n",
      "Batch:  36%|███▋      | 35/96 [00:12<00:20,  2.97it/s]\u001B[A\n",
      "Batch:  38%|███▊      | 36/96 [00:13<00:19,  3.08it/s]\u001B[A\n",
      "Batch:  39%|███▊      | 37/96 [00:13<00:22,  2.67it/s]\u001B[A\n",
      "Batch:  40%|███▉      | 38/96 [00:13<00:20,  2.78it/s]\u001B[A\n",
      "Batch:  41%|████      | 39/96 [00:14<00:19,  2.86it/s]\u001B[A\n",
      "Batch:  42%|████▏     | 40/96 [00:14<00:19,  2.86it/s]\u001B[A\n",
      "Batch:  43%|████▎     | 41/96 [00:14<00:19,  2.86it/s]\u001B[A\n",
      "Batch:  44%|████▍     | 42/96 [00:15<00:19,  2.83it/s]\u001B[A\n",
      "Batch:  45%|████▍     | 43/96 [00:15<00:21,  2.48it/s]\u001B[A\n",
      "Batch:  46%|████▌     | 44/96 [00:16<00:19,  2.61it/s]\u001B[A\n",
      "Batch:  47%|████▋     | 45/96 [00:16<00:18,  2.71it/s]\u001B[A\n",
      "Batch:  48%|████▊     | 46/96 [00:16<00:17,  2.82it/s]\u001B[A\n",
      "Batch:  49%|████▉     | 47/96 [00:17<00:16,  2.91it/s]\u001B[A\n",
      "Batch:  50%|█████     | 48/96 [00:17<00:18,  2.58it/s]\u001B[A\n",
      "Batch:  51%|█████     | 49/96 [00:17<00:17,  2.71it/s]\u001B[A\n",
      "Batch:  52%|█████▏    | 50/96 [00:18<00:16,  2.84it/s]\u001B[A\n",
      "Batch:  53%|█████▎    | 51/96 [00:18<00:15,  2.96it/s]\u001B[A\n",
      "Batch:  54%|█████▍    | 52/96 [00:18<00:14,  3.04it/s]\u001B[A\n",
      "Batch:  55%|█████▌    | 53/96 [00:19<00:14,  2.94it/s]\u001B[A\n",
      "Batch:  56%|█████▋    | 54/96 [00:19<00:16,  2.52it/s]\u001B[A\n",
      "Batch:  57%|█████▋    | 55/96 [00:20<00:15,  2.60it/s]\u001B[A\n",
      "Batch:  58%|█████▊    | 56/96 [00:20<00:14,  2.69it/s]\u001B[A\n",
      "Batch:  59%|█████▉    | 57/96 [00:20<00:13,  2.84it/s]\u001B[A\n",
      "Batch:  60%|██████    | 58/96 [00:21<00:12,  2.94it/s]\u001B[A\n",
      "Batch:  61%|██████▏   | 59/96 [00:21<00:14,  2.49it/s]\u001B[A\n",
      "Batch:  62%|██████▎   | 60/96 [00:22<00:14,  2.54it/s]\u001B[A\n",
      "Batch:  64%|██████▎   | 61/96 [00:22<00:13,  2.61it/s]\u001B[A\n",
      "Batch:  65%|██████▍   | 62/96 [00:22<00:12,  2.63it/s]\u001B[A\n",
      "Batch:  66%|██████▌   | 63/96 [00:23<00:12,  2.68it/s]\u001B[A\n",
      "Batch:  67%|██████▋   | 64/96 [00:23<00:13,  2.31it/s]\u001B[A\n",
      "Batch:  68%|██████▊   | 65/96 [00:24<00:12,  2.49it/s]\u001B[A\n",
      "Batch:  69%|██████▉   | 66/96 [00:24<00:11,  2.60it/s]\u001B[A\n",
      "Batch:  70%|██████▉   | 67/96 [00:24<00:10,  2.76it/s]\u001B[A\n",
      "Batch:  71%|███████   | 68/96 [00:24<00:09,  2.85it/s]\u001B[A\n",
      "Batch:  72%|███████▏  | 69/96 [00:25<00:09,  2.94it/s]\u001B[A\n",
      "Batch:  73%|███████▎  | 70/96 [00:25<00:09,  2.62it/s]\u001B[A\n",
      "Batch:  74%|███████▍  | 71/96 [00:26<00:08,  2.80it/s]\u001B[A\n",
      "Batch:  75%|███████▌  | 72/96 [00:26<00:08,  2.90it/s]\u001B[A\n",
      "Batch:  76%|███████▌  | 73/96 [00:26<00:07,  2.99it/s]\u001B[A\n",
      "Batch:  77%|███████▋  | 74/96 [00:27<00:07,  3.07it/s]\u001B[A\n",
      "Batch:  78%|███████▊  | 75/96 [00:27<00:07,  2.66it/s]\u001B[A\n",
      "Batch:  79%|███████▉  | 76/96 [00:27<00:07,  2.82it/s]\u001B[A\n",
      "Batch:  80%|████████  | 77/96 [00:28<00:06,  2.96it/s]\u001B[A\n",
      "Batch:  81%|████████▏ | 78/96 [00:28<00:05,  3.07it/s]\u001B[A\n",
      "Batch:  82%|████████▏ | 79/96 [00:28<00:05,  3.11it/s]\u001B[A\n",
      "Batch:  83%|████████▎ | 80/96 [00:29<00:06,  2.61it/s]\u001B[A\n",
      "Batch:  84%|████████▍ | 81/96 [00:29<00:05,  2.68it/s]\u001B[A\n",
      "Batch:  85%|████████▌ | 82/96 [00:30<00:05,  2.59it/s]\u001B[A\n",
      "Batch:  86%|████████▋ | 83/96 [00:30<00:05,  2.57it/s]\u001B[A\n",
      "Batch:  88%|████████▊ | 84/96 [00:30<00:04,  2.56it/s]\u001B[A\n",
      "Batch:  89%|████████▊ | 85/96 [00:31<00:04,  2.58it/s]\u001B[A\n",
      "Batch:  90%|████████▉ | 86/96 [00:31<00:04,  2.40it/s]\u001B[A\n",
      "Batch:  91%|█████████ | 87/96 [00:31<00:03,  2.60it/s]\u001B[A\n",
      "Batch:  92%|█████████▏| 88/96 [00:32<00:02,  2.79it/s]\u001B[A\n",
      "Batch:  93%|█████████▎| 89/96 [00:32<00:02,  2.89it/s]\u001B[A\n",
      "Batch:  94%|█████████▍| 90/96 [00:32<00:02,  2.96it/s]\u001B[A\n",
      "Batch:  95%|█████████▍| 91/96 [00:33<00:01,  2.59it/s]\u001B[A\n",
      "Batch:  96%|█████████▌| 92/96 [00:33<00:01,  2.75it/s]\u001B[A\n",
      "Batch:  97%|█████████▋| 93/96 [00:34<00:01,  2.89it/s]\u001B[A\n",
      "Batch:  98%|█████████▊| 94/96 [00:34<00:00,  3.00it/s]\u001B[A\n",
      "Batch:  99%|█████████▉| 95/96 [00:34<00:00,  3.12it/s]\u001B[A\n",
      "Batch: 100%|██████████| 96/96 [00:34<00:00,  3.04it/s]\u001B[A\n",
      "                                                      \u001B[A\n",
      "Batch:   0%|          | 0/5 [00:00<?, ?it/s]\u001B[A\n",
      "Batch:  20%|██        | 1/5 [00:00<00:01,  3.07it/s]\u001B[A\n",
      "Batch:  40%|████      | 2/5 [00:00<00:00,  4.40it/s]\u001B[A\n",
      "Batch:  60%|██████    | 3/5 [00:00<00:00,  5.06it/s]\u001B[A\n",
      "Batch:  80%|████████  | 4/5 [00:00<00:00,  5.56it/s]\u001B[A\n",
      "Epoch:  40%|████      | 4/10 [02:24<03:37, 36.17s/it][A"
     ]
    },
    {
     "name": "stdout",
     "output_type": "stream",
     "text": [
      "defaultdict(<class 'list'>, {'epoch': [0, 1, 2, 3], 'train_loss': [4.713299865523974, 1.1311705857515335, 0.9304807179917892, 0.9043613237639269], 'train_mse': [2.7318716049194336, 1.1274348497390747, 0.9283083081245422, 0.9029137492179871], 'valid_loss': [1.4231931209564208, 1.2962042570114136, 1.25869562625885, 1.2562135934829712], 'valid_mse': [1.4215534925460815, 1.2875945568084717, 1.2539035081863403, 1.2537249326705933]})\n"
     ]
    },
    {
     "name": "stderr",
     "output_type": "stream",
     "text": [
      "\n",
      "Batch:   0%|          | 0/96 [00:00<?, ?it/s]\u001B[A\n",
      "Batch:   1%|          | 1/96 [00:00<00:37,  2.52it/s]\u001B[A\n",
      "Batch:   2%|▏         | 2/96 [00:00<00:36,  2.58it/s]\u001B[A\n",
      "Batch:   3%|▎         | 3/96 [00:01<00:43,  2.14it/s]\u001B[A\n",
      "Batch:   4%|▍         | 4/96 [00:01<00:38,  2.37it/s]\u001B[A\n",
      "Batch:   5%|▌         | 5/96 [00:02<00:36,  2.49it/s]\u001B[A\n",
      "Batch:   6%|▋         | 6/96 [00:02<00:35,  2.55it/s]\u001B[A\n",
      "Batch:   7%|▋         | 7/96 [00:02<00:33,  2.63it/s]\u001B[A\n",
      "Batch:   8%|▊         | 8/96 [00:03<00:37,  2.36it/s]\u001B[A\n",
      "Batch:   9%|▉         | 9/96 [00:03<00:34,  2.51it/s]\u001B[A\n",
      "Batch:  10%|█         | 10/96 [00:03<00:32,  2.69it/s]\u001B[A\n",
      "Batch:  11%|█▏        | 11/96 [00:04<00:30,  2.81it/s]\u001B[A\n",
      "Batch:  12%|█▎        | 12/96 [00:04<00:28,  2.90it/s]\u001B[A\n",
      "Batch:  14%|█▎        | 13/96 [00:04<00:28,  2.93it/s]\u001B[A\n",
      "Batch:  15%|█▍        | 14/96 [00:05<00:32,  2.51it/s]\u001B[A\n",
      "Batch:  16%|█▌        | 15/96 [00:05<00:31,  2.58it/s]\u001B[A\n",
      "Batch:  17%|█▋        | 16/96 [00:06<00:30,  2.64it/s]\u001B[A\n",
      "Batch:  18%|█▊        | 17/96 [00:06<00:29,  2.72it/s]\u001B[A\n",
      "Batch:  19%|█▉        | 18/96 [00:06<00:27,  2.88it/s]\u001B[A\n",
      "Batch:  20%|█▉        | 19/96 [00:07<00:26,  2.95it/s]\u001B[A\n",
      "Batch:  21%|██        | 20/96 [00:07<00:29,  2.56it/s]\u001B[A\n",
      "Batch:  22%|██▏       | 21/96 [00:07<00:28,  2.68it/s]\u001B[A\n",
      "Batch:  23%|██▎       | 22/96 [00:08<00:27,  2.73it/s]\u001B[A\n",
      "Batch:  24%|██▍       | 23/96 [00:08<00:26,  2.78it/s]\u001B[A\n",
      "Batch:  25%|██▌       | 24/96 [00:09<00:25,  2.79it/s]\u001B[A\n",
      "Batch:  26%|██▌       | 25/96 [00:09<00:29,  2.44it/s]\u001B[A\n",
      "Batch:  27%|██▋       | 26/96 [00:09<00:27,  2.58it/s]\u001B[A\n",
      "Batch:  28%|██▊       | 27/96 [00:10<00:26,  2.65it/s]\u001B[A\n",
      "Batch:  29%|██▉       | 28/96 [00:10<00:24,  2.83it/s]\u001B[A\n",
      "Batch:  30%|███       | 29/96 [00:10<00:22,  2.99it/s]\u001B[A\n",
      "Batch:  31%|███▏      | 30/96 [00:11<00:21,  3.00it/s]\u001B[A\n",
      "Batch:  32%|███▏      | 31/96 [00:11<00:24,  2.60it/s]\u001B[A\n",
      "Batch:  33%|███▎      | 32/96 [00:11<00:23,  2.77it/s]\u001B[A\n",
      "Batch:  34%|███▍      | 33/96 [00:12<00:21,  2.87it/s]\u001B[A\n",
      "Batch:  35%|███▌      | 34/96 [00:12<00:20,  2.97it/s]\u001B[A\n",
      "Batch:  36%|███▋      | 35/96 [00:12<00:19,  3.09it/s]\u001B[A\n",
      "Batch:  38%|███▊      | 36/96 [00:13<00:22,  2.70it/s]\u001B[A\n",
      "Batch:  39%|███▊      | 37/96 [00:13<00:20,  2.83it/s]\u001B[A\n",
      "Batch:  40%|███▉      | 38/96 [00:14<00:19,  2.95it/s]\u001B[A\n",
      "Batch:  41%|████      | 39/96 [00:14<00:19,  2.99it/s]\u001B[A\n",
      "Batch:  42%|████▏     | 40/96 [00:14<00:18,  3.02it/s]\u001B[A\n",
      "Batch:  43%|████▎     | 41/96 [00:14<00:18,  3.04it/s]\u001B[A\n",
      "Batch:  44%|████▍     | 42/96 [00:15<00:20,  2.59it/s]\u001B[A\n",
      "Batch:  45%|████▍     | 43/96 [00:15<00:20,  2.56it/s]\u001B[A\n",
      "Batch:  46%|████▌     | 44/96 [00:16<00:20,  2.53it/s]\u001B[A\n",
      "Batch:  47%|████▋     | 45/96 [00:16<00:20,  2.53it/s]\u001B[A\n",
      "Batch:  48%|████▊     | 46/96 [00:17<00:19,  2.53it/s]\u001B[A\n",
      "Batch:  49%|████▉     | 47/96 [00:17<00:21,  2.28it/s]\u001B[A\n",
      "Batch:  50%|█████     | 48/96 [00:17<00:19,  2.48it/s]\u001B[A\n",
      "Batch:  51%|█████     | 49/96 [00:18<00:17,  2.68it/s]\u001B[A\n",
      "Batch:  52%|█████▏    | 50/96 [00:18<00:16,  2.79it/s]\u001B[A\n",
      "Batch:  53%|█████▎    | 51/96 [00:18<00:15,  2.89it/s]\u001B[A\n",
      "Batch:  54%|█████▍    | 52/96 [00:19<00:14,  2.94it/s]\u001B[A\n",
      "Batch:  55%|█████▌    | 53/96 [00:19<00:16,  2.57it/s]\u001B[A\n",
      "Batch:  56%|█████▋    | 54/96 [00:20<00:15,  2.73it/s]\u001B[A\n",
      "Batch:  57%|█████▋    | 55/96 [00:20<00:14,  2.89it/s]\u001B[A\n",
      "Batch:  58%|█████▊    | 56/96 [00:20<00:13,  2.99it/s]\u001B[A\n",
      "Batch:  59%|█████▉    | 57/96 [00:20<00:12,  3.04it/s]\u001B[A\n",
      "Batch:  60%|██████    | 58/96 [00:21<00:12,  3.05it/s]\u001B[A\n",
      "Batch:  61%|██████▏   | 59/96 [00:21<00:13,  2.67it/s]\u001B[A\n",
      "Batch:  62%|██████▎   | 60/96 [00:22<00:12,  2.79it/s]\u001B[A\n",
      "Batch:  64%|██████▎   | 61/96 [00:22<00:12,  2.90it/s]\u001B[A\n",
      "Batch:  65%|██████▍   | 62/96 [00:22<00:11,  2.96it/s]\u001B[A\n",
      "Batch:  66%|██████▌   | 63/96 [00:23<00:11,  2.94it/s]\u001B[A\n",
      "Batch:  67%|██████▋   | 64/96 [00:23<00:12,  2.55it/s]\u001B[A\n",
      "Batch:  68%|██████▊   | 65/96 [00:23<00:11,  2.66it/s]\u001B[A\n",
      "Batch:  69%|██████▉   | 66/96 [00:24<00:11,  2.70it/s]\u001B[A\n",
      "Batch:  70%|██████▉   | 67/96 [00:24<00:10,  2.73it/s]\u001B[A\n",
      "Batch:  71%|███████   | 68/96 [00:24<00:10,  2.79it/s]\u001B[A\n",
      "Batch:  72%|███████▏  | 69/96 [00:25<00:10,  2.49it/s]\u001B[A\n",
      "Batch:  73%|███████▎  | 70/96 [00:25<00:09,  2.67it/s]\u001B[A\n",
      "Batch:  74%|███████▍  | 71/96 [00:26<00:09,  2.77it/s]\u001B[A\n",
      "Batch:  75%|███████▌  | 72/96 [00:26<00:08,  2.84it/s]\u001B[A\n",
      "Batch:  76%|███████▌  | 73/96 [00:26<00:08,  2.83it/s]\u001B[A\n",
      "Batch:  77%|███████▋  | 74/96 [00:27<00:07,  2.85it/s]\u001B[A\n",
      "Batch:  78%|███████▊  | 75/96 [00:27<00:08,  2.47it/s]\u001B[A\n",
      "Batch:  79%|███████▉  | 76/96 [00:28<00:07,  2.65it/s]\u001B[A\n",
      "Batch:  80%|████████  | 77/96 [00:28<00:06,  2.81it/s]\u001B[A\n",
      "Batch:  81%|████████▏ | 78/96 [00:28<00:06,  2.89it/s]\u001B[A\n",
      "Batch:  82%|████████▏ | 79/96 [00:28<00:05,  2.95it/s]\u001B[A\n",
      "Batch:  83%|████████▎ | 80/96 [00:29<00:06,  2.62it/s]\u001B[A\n",
      "Batch:  84%|████████▍ | 81/96 [00:29<00:05,  2.79it/s]\u001B[A\n",
      "Batch:  85%|████████▌ | 82/96 [00:30<00:04,  2.91it/s]\u001B[A\n",
      "Batch:  86%|████████▋ | 83/96 [00:30<00:04,  2.90it/s]\u001B[A\n",
      "Batch:  88%|████████▊ | 84/96 [00:30<00:04,  2.86it/s]\u001B[A\n",
      "Batch:  89%|████████▊ | 85/96 [00:31<00:03,  2.89it/s]\u001B[A\n",
      "Batch:  90%|████████▉ | 86/96 [00:31<00:03,  2.50it/s]\u001B[A\n",
      "Batch:  91%|█████████ | 87/96 [00:31<00:03,  2.62it/s]\u001B[A\n",
      "Batch:  92%|█████████▏| 88/96 [00:32<00:02,  2.68it/s]\u001B[A\n",
      "Batch:  93%|█████████▎| 89/96 [00:32<00:02,  2.75it/s]\u001B[A\n",
      "Batch:  94%|█████████▍| 90/96 [00:32<00:02,  2.85it/s]\u001B[A\n",
      "Batch:  95%|█████████▍| 91/96 [00:33<00:01,  2.51it/s]\u001B[A\n",
      "Batch:  96%|█████████▌| 92/96 [00:33<00:01,  2.67it/s]\u001B[A\n",
      "Batch:  97%|█████████▋| 93/96 [00:34<00:01,  2.75it/s]\u001B[A\n",
      "Batch:  98%|█████████▊| 94/96 [00:34<00:00,  2.84it/s]\u001B[A\n",
      "Batch:  99%|█████████▉| 95/96 [00:34<00:00,  2.91it/s]\u001B[A\n",
      "Batch: 100%|██████████| 96/96 [00:35<00:00,  2.88it/s]\u001B[A\n",
      "                                                      \u001B[A\n",
      "Batch:   0%|          | 0/5 [00:00<?, ?it/s]\u001B[A\n",
      "Batch:  20%|██        | 1/5 [00:00<00:01,  3.25it/s]\u001B[A\n",
      "Batch:  40%|████      | 2/5 [00:00<00:00,  4.64it/s]\u001B[A\n",
      "Batch:  60%|██████    | 3/5 [00:00<00:00,  5.43it/s]\u001B[A\n",
      "Batch:  80%|████████  | 4/5 [00:00<00:00,  5.89it/s]\u001B[A\n",
      "Epoch:  50%|█████     | 5/10 [03:00<03:00, 36.08s/it][A"
     ]
    },
    {
     "name": "stdout",
     "output_type": "stream",
     "text": [
      "defaultdict(<class 'list'>, {'epoch': [0, 1, 2, 3, 4], 'train_loss': [4.713299865523974, 1.1311705857515335, 0.9304807179917892, 0.9043613237639269, 0.8985894272724787], 'train_mse': [2.7318716049194336, 1.1274348497390747, 0.9283083081245422, 0.9029137492179871, 0.8971566557884216], 'valid_loss': [1.4231931209564208, 1.2962042570114136, 1.25869562625885, 1.2562135934829712, 1.2520524978637695], 'valid_mse': [1.4215534925460815, 1.2875945568084717, 1.2539035081863403, 1.2537249326705933, 1.2494763135910034]})\n"
     ]
    },
    {
     "name": "stderr",
     "output_type": "stream",
     "text": [
      "\n",
      "Batch:   0%|          | 0/96 [00:00<?, ?it/s]\u001B[A\n",
      "Batch:   1%|          | 1/96 [00:00<00:34,  2.79it/s]\u001B[A\n",
      "Batch:   2%|▏         | 2/96 [00:00<00:40,  2.33it/s]\u001B[A\n",
      "Batch:   3%|▎         | 3/96 [00:01<00:38,  2.39it/s]\u001B[A\n",
      "Batch:   4%|▍         | 4/96 [00:01<00:36,  2.50it/s]\u001B[A\n",
      "Batch:   5%|▌         | 5/96 [00:02<00:38,  2.33it/s]\u001B[A\n",
      "Batch:   6%|▋         | 6/96 [00:02<00:37,  2.38it/s]\u001B[A\n",
      "Batch:   7%|▋         | 7/96 [00:02<00:36,  2.45it/s]\u001B[A\n",
      "Batch:   8%|▊         | 8/96 [00:03<00:40,  2.17it/s]\u001B[A\n",
      "Batch:   9%|▉         | 9/96 [00:03<00:37,  2.33it/s]\u001B[A\n",
      "Batch:  10%|█         | 10/96 [00:04<00:34,  2.47it/s]\u001B[A\n",
      "Batch:  11%|█▏        | 11/96 [00:04<00:31,  2.66it/s]\u001B[A\n",
      "Batch:  12%|█▎        | 12/96 [00:04<00:30,  2.77it/s]\u001B[A\n",
      "Batch:  14%|█▎        | 13/96 [00:05<00:33,  2.48it/s]\u001B[A\n",
      "Batch:  15%|█▍        | 14/96 [00:05<00:30,  2.66it/s]\u001B[A\n",
      "Batch:  16%|█▌        | 15/96 [00:05<00:29,  2.77it/s]\u001B[A\n",
      "Batch:  17%|█▋        | 16/96 [00:06<00:27,  2.87it/s]\u001B[A\n",
      "Batch:  18%|█▊        | 17/96 [00:06<00:27,  2.92it/s]\u001B[A\n",
      "Batch:  19%|█▉        | 18/96 [00:06<00:26,  2.99it/s]\u001B[A\n",
      "Batch:  20%|█▉        | 19/96 [00:07<00:28,  2.66it/s]\u001B[A\n",
      "Batch:  21%|██        | 20/96 [00:07<00:27,  2.77it/s]\u001B[A\n",
      "Batch:  22%|██▏       | 21/96 [00:08<00:26,  2.88it/s]\u001B[A\n",
      "Batch:  23%|██▎       | 22/96 [00:08<00:25,  2.94it/s]\u001B[A\n",
      "Batch:  24%|██▍       | 23/96 [00:08<00:24,  3.00it/s]\u001B[A\n",
      "Batch:  25%|██▌       | 24/96 [00:08<00:23,  3.06it/s]\u001B[A\n",
      "Batch:  26%|██▌       | 25/96 [00:09<00:27,  2.59it/s]\u001B[A\n",
      "Batch:  27%|██▋       | 26/96 [00:09<00:26,  2.67it/s]\u001B[A\n",
      "Batch:  28%|██▊       | 27/96 [00:10<00:25,  2.75it/s]\u001B[A\n",
      "Batch:  29%|██▉       | 28/96 [00:10<00:24,  2.80it/s]\u001B[A\n",
      "Batch:  30%|███       | 29/96 [00:10<00:23,  2.82it/s]\u001B[A\n",
      "Batch:  31%|███▏      | 30/96 [00:11<00:26,  2.49it/s]\u001B[A\n",
      "Batch:  32%|███▏      | 31/96 [00:11<00:24,  2.62it/s]\u001B[A\n",
      "Batch:  33%|███▎      | 32/96 [00:12<00:24,  2.61it/s]\u001B[A\n",
      "Batch:  34%|███▍      | 33/96 [00:12<00:24,  2.62it/s]\u001B[A\n",
      "Batch:  35%|███▌      | 34/96 [00:12<00:23,  2.59it/s]\u001B[A\n",
      "Batch:  36%|███▋      | 35/96 [00:13<00:23,  2.58it/s]\u001B[A\n",
      "Batch:  38%|███▊      | 36/96 [00:14<00:34,  1.73it/s]\u001B[A\n",
      "Batch:  39%|███▊      | 37/96 [00:14<00:30,  1.91it/s]\u001B[A\n",
      "Batch:  40%|███▉      | 38/96 [00:15<00:26,  2.15it/s]\u001B[A\n",
      "Batch:  41%|████      | 39/96 [00:15<00:24,  2.35it/s]\u001B[A\n",
      "Batch:  42%|████▏     | 40/96 [00:15<00:22,  2.54it/s]\u001B[A\n",
      "Batch:  43%|████▎     | 41/96 [00:16<00:20,  2.67it/s]\u001B[A\n",
      "Batch:  44%|████▍     | 42/96 [00:16<00:23,  2.34it/s]\u001B[A\n",
      "Batch:  45%|████▍     | 43/96 [00:16<00:22,  2.39it/s]\u001B[A\n",
      "Batch:  46%|████▌     | 44/96 [00:17<00:20,  2.50it/s]\u001B[A\n",
      "Batch:  47%|████▋     | 45/96 [00:17<00:19,  2.60it/s]\u001B[A\n",
      "Batch:  48%|████▊     | 46/96 [00:18<00:18,  2.64it/s]\u001B[A\n",
      "Batch:  49%|████▉     | 47/96 [00:18<00:21,  2.33it/s]\u001B[A\n",
      "Batch:  50%|█████     | 48/96 [00:18<00:19,  2.49it/s]\u001B[A\n",
      "Batch:  51%|█████     | 49/96 [00:19<00:18,  2.59it/s]\u001B[A\n",
      "Batch:  52%|█████▏    | 50/96 [00:19<00:16,  2.76it/s]\u001B[A\n",
      "Batch:  53%|█████▎    | 51/96 [00:19<00:15,  2.83it/s]\u001B[A\n",
      "Batch:  54%|█████▍    | 52/96 [00:20<00:15,  2.92it/s]\u001B[A\n",
      "Batch:  55%|█████▌    | 53/96 [00:20<00:16,  2.61it/s]\u001B[A\n",
      "Batch:  56%|█████▋    | 54/96 [00:21<00:15,  2.76it/s]\u001B[A\n",
      "Batch:  57%|█████▋    | 55/96 [00:21<00:14,  2.85it/s]\u001B[A\n",
      "Batch:  58%|█████▊    | 56/96 [00:21<00:13,  2.90it/s]\u001B[A\n",
      "Batch:  59%|█████▉    | 57/96 [00:21<00:13,  2.93it/s]\u001B[A\n",
      "Batch:  60%|██████    | 58/96 [00:22<00:14,  2.63it/s]\u001B[A\n",
      "Batch:  61%|██████▏   | 59/96 [00:22<00:13,  2.71it/s]\u001B[A\n",
      "Batch:  62%|██████▎   | 60/96 [00:23<00:12,  2.78it/s]\u001B[A\n",
      "Batch:  64%|██████▎   | 61/96 [00:23<00:12,  2.82it/s]\u001B[A\n",
      "Batch:  65%|██████▍   | 62/96 [00:23<00:11,  2.86it/s]\u001B[A\n",
      "Batch:  66%|██████▌   | 63/96 [00:24<00:11,  2.78it/s]\u001B[A\n",
      "Batch:  67%|██████▋   | 64/96 [00:24<00:13,  2.44it/s]\u001B[A\n",
      "Batch:  68%|██████▊   | 65/96 [00:25<00:12,  2.56it/s]\u001B[A\n",
      "Batch:  69%|██████▉   | 66/96 [00:25<00:11,  2.66it/s]\u001B[A\n",
      "Batch:  70%|██████▉   | 67/96 [00:25<00:10,  2.73it/s]\u001B[A\n",
      "Batch:  71%|███████   | 68/96 [00:26<00:10,  2.76it/s]\u001B[A\n",
      "Batch:  72%|███████▏  | 69/96 [00:26<00:11,  2.43it/s]\u001B[A\n",
      "Batch:  73%|███████▎  | 70/96 [00:26<00:09,  2.62it/s]\u001B[A\n",
      "Batch:  74%|███████▍  | 71/96 [00:27<00:08,  2.78it/s]\u001B[A\n",
      "Batch:  75%|███████▌  | 72/96 [00:27<00:08,  2.95it/s]\u001B[A\n",
      "Batch:  76%|███████▌  | 73/96 [00:27<00:07,  3.02it/s]\u001B[A\n",
      "Batch:  77%|███████▋  | 74/96 [00:28<00:07,  3.04it/s]\u001B[A\n",
      "Batch:  78%|███████▊  | 75/96 [00:28<00:07,  2.63it/s]\u001B[A\n",
      "Batch:  79%|███████▉  | 76/96 [00:28<00:07,  2.81it/s]\u001B[A\n",
      "Batch:  80%|████████  | 77/96 [00:29<00:06,  2.94it/s]\u001B[A\n",
      "Batch:  81%|████████▏ | 78/96 [00:29<00:05,  3.02it/s]\u001B[A\n",
      "Batch:  82%|████████▏ | 79/96 [00:29<00:05,  3.09it/s]\u001B[A\n",
      "Batch:  83%|████████▎ | 80/96 [00:30<00:05,  2.73it/s]\u001B[A\n",
      "Batch:  84%|████████▍ | 81/96 [00:30<00:05,  2.86it/s]\u001B[A\n",
      "Batch:  85%|████████▌ | 82/96 [00:30<00:04,  2.95it/s]\u001B[A\n",
      "Batch:  86%|████████▋ | 83/96 [00:31<00:04,  3.01it/s]\u001B[A\n",
      "Batch:  88%|████████▊ | 84/96 [00:31<00:04,  2.99it/s]\u001B[A\n",
      "Batch:  89%|████████▊ | 85/96 [00:32<00:03,  2.91it/s]\u001B[A\n",
      "Batch:  90%|████████▉ | 86/96 [00:32<00:03,  2.52it/s]\u001B[A\n",
      "Batch:  91%|█████████ | 87/96 [00:32<00:03,  2.61it/s]\u001B[A\n",
      "Batch:  92%|█████████▏| 88/96 [00:33<00:02,  2.69it/s]\u001B[A\n",
      "Batch:  93%|█████████▎| 89/96 [00:33<00:02,  2.65it/s]\u001B[A\n",
      "Batch:  94%|█████████▍| 90/96 [00:33<00:02,  2.70it/s]\u001B[A\n",
      "Batch:  95%|█████████▍| 91/96 [00:34<00:02,  2.39it/s]\u001B[A\n",
      "Batch:  96%|█████████▌| 92/96 [00:34<00:01,  2.51it/s]\u001B[A\n",
      "Batch:  97%|█████████▋| 93/96 [00:35<00:01,  2.71it/s]\u001B[A\n",
      "Batch:  98%|█████████▊| 94/96 [00:35<00:00,  2.86it/s]\u001B[A\n",
      "Batch:  99%|█████████▉| 95/96 [00:35<00:00,  2.93it/s]\u001B[A\n",
      "Batch: 100%|██████████| 96/96 [00:36<00:00,  2.87it/s]\u001B[A\n",
      "                                                      \u001B[A\n",
      "Batch:   0%|          | 0/5 [00:00<?, ?it/s]\u001B[A\n",
      "Batch:  20%|██        | 1/5 [00:00<00:01,  3.01it/s]\u001B[A\n",
      "Batch:  40%|████      | 2/5 [00:00<00:00,  4.33it/s]\u001B[A\n",
      "Batch:  60%|██████    | 3/5 [00:00<00:00,  5.11it/s]\u001B[A\n",
      "Batch:  80%|████████  | 4/5 [00:00<00:00,  5.58it/s]\u001B[A\n",
      "Epoch:  60%|██████    | 6/10 [03:37<02:25, 36.39s/it][A"
     ]
    },
    {
     "name": "stdout",
     "output_type": "stream",
     "text": [
      "defaultdict(<class 'list'>, {'epoch': [0, 1, 2, 3, 4, 5], 'train_loss': [4.713299865523974, 1.1311705857515335, 0.9304807179917892, 0.9043613237639269, 0.8985894272724787, 0.8964039248724779], 'train_mse': [2.7318716049194336, 1.1274348497390747, 0.9283083081245422, 0.9029137492179871, 0.8971566557884216, 0.8951750993728638], 'valid_loss': [1.4231931209564208, 1.2962042570114136, 1.25869562625885, 1.2562135934829712, 1.2520524978637695, 1.2847185134887695], 'valid_mse': [1.4215534925460815, 1.2875945568084717, 1.2539035081863403, 1.2537249326705933, 1.2494763135910034, 1.2805554866790771]})\n"
     ]
    },
    {
     "name": "stderr",
     "output_type": "stream",
     "text": [
      "\n",
      "Batch:   0%|          | 0/96 [00:00<?, ?it/s]\u001B[A\n",
      "Batch:   1%|          | 1/96 [00:00<00:34,  2.74it/s]\u001B[A\n",
      "Batch:   2%|▏         | 2/96 [00:00<00:31,  2.98it/s]\u001B[A\n",
      "Batch:   3%|▎         | 3/96 [00:01<00:39,  2.37it/s]\u001B[A\n",
      "Batch:   4%|▍         | 4/96 [00:01<00:35,  2.59it/s]\u001B[A\n",
      "Batch:   5%|▌         | 5/96 [00:01<00:34,  2.67it/s]\u001B[A\n",
      "Batch:   6%|▋         | 6/96 [00:02<00:33,  2.65it/s]\u001B[A\n",
      "Batch:   7%|▋         | 7/96 [00:02<00:33,  2.67it/s]\u001B[A\n",
      "Batch:   8%|▊         | 8/96 [00:03<00:39,  2.24it/s]\u001B[A\n",
      "Batch:   9%|▉         | 9/96 [00:03<00:36,  2.37it/s]\u001B[A\n",
      "Batch:  10%|█         | 10/96 [00:03<00:34,  2.49it/s]\u001B[A\n",
      "Batch:  11%|█▏        | 11/96 [00:04<00:33,  2.57it/s]\u001B[A\n",
      "Batch:  12%|█▎        | 12/96 [00:04<00:30,  2.73it/s]\u001B[A\n",
      "Batch:  14%|█▎        | 13/96 [00:04<00:29,  2.79it/s]\u001B[A\n",
      "Batch:  15%|█▍        | 14/96 [00:05<00:32,  2.51it/s]\u001B[A\n",
      "Batch:  16%|█▌        | 15/96 [00:05<00:30,  2.65it/s]\u001B[A\n",
      "Batch:  17%|█▋        | 16/96 [00:06<00:28,  2.83it/s]\u001B[A\n",
      "Batch:  18%|█▊        | 17/96 [00:06<00:27,  2.91it/s]\u001B[A\n",
      "Batch:  19%|█▉        | 18/96 [00:06<00:26,  2.93it/s]\u001B[A\n",
      "Batch:  20%|█▉        | 19/96 [00:07<00:30,  2.52it/s]\u001B[A\n",
      "Batch:  21%|██        | 20/96 [00:07<00:28,  2.66it/s]\u001B[A\n",
      "Batch:  22%|██▏       | 21/96 [00:07<00:27,  2.72it/s]\u001B[A\n",
      "Batch:  23%|██▎       | 22/96 [00:08<00:26,  2.75it/s]\u001B[A\n",
      "Batch:  24%|██▍       | 23/96 [00:08<00:26,  2.72it/s]\u001B[A\n",
      "Batch:  25%|██▌       | 24/96 [00:09<00:25,  2.84it/s]\u001B[A\n",
      "Batch:  26%|██▌       | 25/96 [00:09<00:28,  2.52it/s]\u001B[A\n",
      "Batch:  27%|██▋       | 26/96 [00:09<00:27,  2.59it/s]\u001B[A\n",
      "Batch:  28%|██▊       | 27/96 [00:10<00:26,  2.63it/s]\u001B[A\n",
      "Batch:  29%|██▉       | 28/96 [00:10<00:25,  2.69it/s]\u001B[A\n",
      "Batch:  30%|███       | 29/96 [00:10<00:24,  2.72it/s]\u001B[A\n",
      "Batch:  31%|███▏      | 30/96 [00:11<00:27,  2.40it/s]\u001B[A\n",
      "Batch:  32%|███▏      | 31/96 [00:11<00:25,  2.53it/s]\u001B[A\n",
      "Batch:  33%|███▎      | 32/96 [00:12<00:23,  2.69it/s]\u001B[A\n",
      "Batch:  34%|███▍      | 33/96 [00:12<00:22,  2.80it/s]\u001B[A\n",
      "Batch:  35%|███▌      | 34/96 [00:12<00:21,  2.92it/s]\u001B[A\n",
      "Batch:  36%|███▋      | 35/96 [00:13<00:20,  3.01it/s]\u001B[A\n",
      "Batch:  38%|███▊      | 36/96 [00:13<00:22,  2.63it/s]\u001B[A\n",
      "Batch:  39%|███▊      | 37/96 [00:13<00:21,  2.76it/s]\u001B[A\n",
      "Batch:  40%|███▉      | 38/96 [00:14<00:20,  2.87it/s]\u001B[A\n",
      "Batch:  41%|████      | 39/96 [00:14<00:19,  2.98it/s]\u001B[A\n",
      "Batch:  42%|████▏     | 40/96 [00:14<00:18,  3.05it/s]\u001B[A\n",
      "Batch:  43%|████▎     | 41/96 [00:15<00:20,  2.64it/s]\u001B[A\n",
      "Batch:  44%|████▍     | 42/96 [00:15<00:19,  2.80it/s]\u001B[A\n",
      "Batch:  45%|████▍     | 43/96 [00:15<00:18,  2.92it/s]\u001B[A\n",
      "Batch:  46%|████▌     | 44/96 [00:16<00:17,  2.97it/s]\u001B[A\n",
      "Batch:  47%|████▋     | 45/96 [00:16<00:16,  3.03it/s]\u001B[A\n",
      "Batch:  48%|████▊     | 46/96 [00:16<00:16,  2.96it/s]\u001B[A\n",
      "Batch:  49%|████▉     | 47/96 [00:17<00:19,  2.53it/s]\u001B[A\n",
      "Batch:  50%|█████     | 48/96 [00:17<00:18,  2.55it/s]\u001B[A\n",
      "Batch:  51%|█████     | 49/96 [00:18<00:18,  2.52it/s]\u001B[A\n",
      "Batch:  52%|█████▏    | 50/96 [00:18<00:17,  2.56it/s]\u001B[A\n",
      "Batch:  53%|█████▎    | 51/96 [00:19<00:17,  2.58it/s]\u001B[A\n",
      "Batch:  54%|█████▍    | 52/96 [00:19<00:18,  2.33it/s]\u001B[A\n",
      "Batch:  55%|█████▌    | 53/96 [00:19<00:17,  2.52it/s]\u001B[A\n",
      "Batch:  56%|█████▋    | 54/96 [00:20<00:15,  2.72it/s]\u001B[A\n",
      "Batch:  57%|█████▋    | 55/96 [00:20<00:14,  2.86it/s]\u001B[A\n",
      "Batch:  58%|█████▊    | 56/96 [00:20<00:13,  2.94it/s]\u001B[A\n",
      "Batch:  59%|█████▉    | 57/96 [00:21<00:12,  3.08it/s]\u001B[A\n",
      "Batch:  60%|██████    | 58/96 [00:21<00:14,  2.70it/s]\u001B[A\n",
      "Batch:  61%|██████▏   | 59/96 [00:21<00:13,  2.81it/s]\u001B[A\n",
      "Batch:  62%|██████▎   | 60/96 [00:22<00:12,  2.97it/s]\u001B[A\n",
      "Batch:  64%|██████▎   | 61/96 [00:22<00:11,  3.09it/s]\u001B[A\n",
      "Batch:  65%|██████▍   | 62/96 [00:22<00:10,  3.12it/s]\u001B[A\n",
      "Batch:  66%|██████▌   | 63/96 [00:23<00:12,  2.73it/s]\u001B[A\n",
      "Batch:  67%|██████▋   | 64/96 [00:23<00:11,  2.85it/s]\u001B[A\n",
      "Batch:  68%|██████▊   | 65/96 [00:23<00:10,  2.94it/s]\u001B[A\n",
      "Batch:  69%|██████▉   | 66/96 [00:24<00:10,  2.96it/s]\u001B[A\n",
      "Batch:  70%|██████▉   | 67/96 [00:24<00:09,  2.94it/s]\u001B[A\n",
      "Batch:  71%|███████   | 68/96 [00:24<00:09,  2.96it/s]\u001B[A\n",
      "Batch:  72%|███████▏  | 69/96 [00:25<00:10,  2.52it/s]\u001B[A\n",
      "Batch:  73%|███████▎  | 70/96 [00:25<00:09,  2.61it/s]\u001B[A\n",
      "Batch:  74%|███████▍  | 71/96 [00:26<00:09,  2.68it/s]\u001B[A\n",
      "Batch:  75%|███████▌  | 72/96 [00:26<00:08,  2.73it/s]\u001B[A\n",
      "Batch:  76%|███████▌  | 73/96 [00:26<00:08,  2.84it/s]\u001B[A\n",
      "Batch:  77%|███████▋  | 74/96 [00:27<00:08,  2.54it/s]\u001B[A\n",
      "Batch:  78%|███████▊  | 75/96 [00:27<00:07,  2.66it/s]\u001B[A\n",
      "Batch:  79%|███████▉  | 76/96 [00:27<00:07,  2.78it/s]\u001B[A\n",
      "Batch:  80%|████████  | 77/96 [00:28<00:06,  2.84it/s]\u001B[A\n",
      "Batch:  81%|████████▏ | 78/96 [00:28<00:06,  2.84it/s]\u001B[A\n",
      "Batch:  82%|████████▏ | 79/96 [00:28<00:06,  2.80it/s]\u001B[A\n",
      "Batch:  83%|████████▎ | 80/96 [00:29<00:06,  2.42it/s]\u001B[A\n",
      "Batch:  84%|████████▍ | 81/96 [00:29<00:05,  2.56it/s]\u001B[A\n",
      "Batch:  85%|████████▌ | 82/96 [00:30<00:05,  2.64it/s]\u001B[A\n",
      "Batch:  86%|████████▋ | 83/96 [00:30<00:04,  2.73it/s]\u001B[A\n",
      "Batch:  88%|████████▊ | 84/96 [00:30<00:04,  2.87it/s]\u001B[A\n",
      "Batch:  89%|████████▊ | 85/96 [00:31<00:04,  2.36it/s]\u001B[A\n",
      "Batch:  90%|████████▉ | 86/96 [00:31<00:04,  2.48it/s]\u001B[A\n",
      "Batch:  91%|█████████ | 87/96 [00:32<00:03,  2.58it/s]\u001B[A\n",
      "Batch:  92%|█████████▏| 88/96 [00:32<00:03,  2.61it/s]\u001B[A\n",
      "Batch:  93%|█████████▎| 89/96 [00:32<00:02,  2.69it/s]\u001B[A\n",
      "Batch:  94%|█████████▍| 90/96 [00:33<00:02,  2.76it/s]\u001B[A\n",
      "Batch:  95%|█████████▍| 91/96 [00:33<00:02,  2.47it/s]\u001B[A\n",
      "Batch:  96%|█████████▌| 92/96 [00:34<00:01,  2.69it/s]\u001B[A\n",
      "Batch:  97%|█████████▋| 93/96 [00:34<00:01,  2.85it/s]\u001B[A\n",
      "Batch:  98%|█████████▊| 94/96 [00:34<00:00,  3.01it/s]\u001B[A\n",
      "Batch:  99%|█████████▉| 95/96 [00:34<00:00,  3.12it/s]\u001B[A\n",
      "Batch: 100%|██████████| 96/96 [00:35<00:00,  3.09it/s]\u001B[A\n",
      "                                                      \u001B[A\n",
      "Batch:   0%|          | 0/5 [00:00<?, ?it/s]\u001B[A\n",
      "Batch:  20%|██        | 1/5 [00:00<00:01,  3.20it/s]\u001B[A\n",
      "Batch:  40%|████      | 2/5 [00:00<00:00,  4.60it/s]\u001B[A\n",
      "Batch:  60%|██████    | 3/5 [00:00<00:00,  5.33it/s]\u001B[A\n",
      "Batch:  80%|████████  | 4/5 [00:00<00:00,  5.83it/s]\u001B[A\n",
      "Epoch:  70%|███████   | 7/10 [04:13<01:48, 36.28s/it][A"
     ]
    },
    {
     "name": "stdout",
     "output_type": "stream",
     "text": [
      "defaultdict(<class 'list'>, {'epoch': [0, 1, 2, 3, 4, 5, 6], 'train_loss': [4.713299865523974, 1.1311705857515335, 0.9304807179917892, 0.9043613237639269, 0.8985894272724787, 0.8964039248724779, 0.8941304354617993], 'train_mse': [2.7318716049194336, 1.1274348497390747, 0.9283083081245422, 0.9029137492179871, 0.8971566557884216, 0.8951750993728638, 0.8927780389785767], 'valid_loss': [1.4231931209564208, 1.2962042570114136, 1.25869562625885, 1.2562135934829712, 1.2520524978637695, 1.2847185134887695, 1.229953908920288], 'valid_mse': [1.4215534925460815, 1.2875945568084717, 1.2539035081863403, 1.2537249326705933, 1.2494763135910034, 1.2805554866790771, 1.2281664609909058]})\n"
     ]
    },
    {
     "name": "stderr",
     "output_type": "stream",
     "text": [
      "\n",
      "Batch:   0%|          | 0/96 [00:00<?, ?it/s]\u001B[A\n",
      "Batch:   1%|          | 1/96 [00:00<00:35,  2.70it/s]\u001B[A\n",
      "Batch:   2%|▏         | 2/96 [00:00<00:41,  2.26it/s]\u001B[A\n",
      "Batch:   3%|▎         | 3/96 [00:01<00:35,  2.59it/s]\u001B[A\n",
      "Batch:   4%|▍         | 4/96 [00:01<00:32,  2.82it/s]\u001B[A\n",
      "Batch:   5%|▌         | 5/96 [00:01<00:30,  2.96it/s]\u001B[A\n",
      "Batch:   6%|▋         | 6/96 [00:02<00:29,  3.10it/s]\u001B[A\n",
      "Batch:   7%|▋         | 7/96 [00:02<00:28,  3.07it/s]\u001B[A\n",
      "Batch:   8%|▊         | 8/96 [00:02<00:34,  2.57it/s]\u001B[A\n",
      "Batch:   9%|▉         | 9/96 [00:03<00:33,  2.61it/s]\u001B[A\n",
      "Batch:  10%|█         | 10/96 [00:03<00:33,  2.54it/s]\u001B[A\n",
      "Batch:  11%|█▏        | 11/96 [00:04<00:33,  2.55it/s]\u001B[A\n",
      "Batch:  12%|█▎        | 12/96 [00:04<00:33,  2.53it/s]\u001B[A\n",
      "Batch:  14%|█▎        | 13/96 [00:05<00:37,  2.19it/s]\u001B[A\n",
      "Batch:  15%|█▍        | 14/96 [00:05<00:34,  2.40it/s]\u001B[A\n",
      "Batch:  16%|█▌        | 15/96 [00:05<00:32,  2.52it/s]\u001B[A\n",
      "Batch:  17%|█▋        | 16/96 [00:06<00:29,  2.73it/s]\u001B[A\n",
      "Batch:  18%|█▊        | 17/96 [00:06<00:27,  2.87it/s]\u001B[A\n",
      "Batch:  19%|█▉        | 18/96 [00:06<00:26,  3.00it/s]\u001B[A\n",
      "Batch:  20%|█▉        | 19/96 [00:07<00:29,  2.65it/s]\u001B[A\n",
      "Batch:  21%|██        | 20/96 [00:07<00:26,  2.82it/s]\u001B[A\n",
      "Batch:  22%|██▏       | 21/96 [00:07<00:25,  2.95it/s]\u001B[A\n",
      "Batch:  23%|██▎       | 22/96 [00:08<00:23,  3.10it/s]\u001B[A\n",
      "Batch:  24%|██▍       | 23/96 [00:08<00:22,  3.19it/s]\u001B[A\n",
      "Batch:  25%|██▌       | 24/96 [00:08<00:25,  2.77it/s]\u001B[A\n",
      "Batch:  26%|██▌       | 25/96 [00:09<00:24,  2.89it/s]\u001B[A\n",
      "Batch:  27%|██▋       | 26/96 [00:09<00:23,  3.02it/s]\u001B[A\n",
      "Batch:  28%|██▊       | 27/96 [00:09<00:22,  3.12it/s]\u001B[A\n",
      "Batch:  29%|██▉       | 28/96 [00:10<00:21,  3.21it/s]\u001B[A\n",
      "Batch:  30%|███       | 29/96 [00:10<00:21,  3.18it/s]\u001B[A\n",
      "Batch:  31%|███▏      | 30/96 [00:10<00:24,  2.65it/s]\u001B[A\n",
      "Batch:  32%|███▏      | 31/96 [00:11<00:23,  2.76it/s]\u001B[A\n",
      "Batch:  33%|███▎      | 32/96 [00:11<00:22,  2.79it/s]\u001B[A\n",
      "Batch:  34%|███▍      | 33/96 [00:11<00:22,  2.81it/s]\u001B[A\n",
      "Batch:  35%|███▌      | 34/96 [00:12<00:21,  2.84it/s]\u001B[A\n",
      "Batch:  36%|███▋      | 35/96 [00:12<00:24,  2.47it/s]\u001B[A\n",
      "Batch:  38%|███▊      | 36/96 [00:13<00:22,  2.62it/s]\u001B[A\n",
      "Batch:  39%|███▊      | 37/96 [00:13<00:20,  2.81it/s]\u001B[A\n",
      "Batch:  40%|███▉      | 38/96 [00:13<00:19,  2.96it/s]\u001B[A"
     ]
    }
   ],
   "source": [
    "NOW = datetime.now().strftime('%Y%m%d-%H%M')\n",
    "LOG_DIR = ROOT.joinpath('runs', NOW)\n",
    "BATCH = 10_000\n",
    "\n",
    "train_loader = DataLoader(train, batch_size=BATCH, shuffle=True)\n",
    "test_loader = DataLoader(test, batch_size=BATCH)\n",
    "\n",
    "device = set_device()\n",
    "mod = RecModel(metadata=meta)\n",
    "opt = torch.optim.AdamW(mod.parameters(), lr=0.01)\n",
    "trainer = Trainer(\n",
    "    mod, epochs=10, device=device, log_dir=LOG_DIR, checkpoint_file=LOG_DIR.joinpath('model.pt'),\n",
    "    optimizer=opt, score_funcs={'mse': torchmetrics.MeanSquaredError()}\n",
    ")\n",
    "trainer.fit(train_loader, test_loader, verbose=True)"
   ],
   "metadata": {
    "collapsed": false,
    "pycharm": {
     "is_executing": true
    }
   }
  },
  {
   "cell_type": "code",
   "execution_count": null,
   "outputs": [],
   "source": [
    "import matplotlib.pyplot as plt\n",
    "\n",
    "plt.plot(trainer.results['valid_mse'], label='Valid')\n",
    "plt.plot(trainer.results['train_mse'], label='Train')\n",
    "plt.legend()\n",
    "plt.ylabel('MSE')\n",
    "plt.xlabel('Epoch')\n",
    "plt.title('MSE by Epoch')\n",
    "plt.show()"
   ],
   "metadata": {
    "collapsed": false,
    "pycharm": {
     "is_executing": true
    }
   }
  },
  {
   "cell_type": "code",
   "execution_count": null,
   "outputs": [],
   "source": [
    "{e:v for e,v in enumerate(torch.sqrt(torch.tensor(trainer.results['valid_mse'])))}"
   ],
   "metadata": {
    "collapsed": false
   }
  },
  {
   "cell_type": "markdown",
   "source": [
    "<hr>\n",
    "\n",
    "# DEBUGGING"
   ],
   "metadata": {
    "collapsed": false
   }
  },
  {
   "cell_type": "code",
   "execution_count": 62,
   "outputs": [
    {
     "data": {
      "text/plain": "[{'user': tensor([  66, 1566, 1665,   60,   30, 2355, 1692,   64,  934, 1067, 1065, 2515,\n           566, 1637,  862,  129,  219, 1960,   17,   28,  441,  327,   53,  431,\n            27,  812, 2028,  803,  137, 2515, 1158,  682]),\n  'movie': tensor([3132, 3132, 3132, 3132, 3132, 2821, 3132, 3132, 3132, 3132, 3132, 3132,\n          3132, 3132, 3132, 3132, 3132, 3132, 3132, 2823, 3132, 3132, 3132, 3132,\n          3132, 3132, 3132, 3132, 3132, 3132, 3132, 2823]),\n  'hour': tensor([ 1,  3, 17, 20,  6, 21,  6,  7, 23, 23, 12, 21, 21, 21,  0,  0,  2, 14,\n          15, 18,  4, 13, 16, 16, 17,  8, 21,  2,  3,  4,  6,  8]),\n  'day_of_week': tensor([2, 2, 5, 2, 6, 2, 0, 5, 3, 3, 2, 5, 4, 5, 4, 5, 0, 3, 3, 0, 6, 3, 0, 1,\n          5, 1, 2, 4, 1, 0, 2, 2]),\n  'month': tensor([ 4,  4,  4,  4,  5,  5,  6,  6,  6,  6,  7,  7,  7,  7,  8,  8,  8,  8,\n           8,  8,  9,  9,  9,  9,  9, 10, 10, 11, 11, 11, 11, 11]),\n  'gender': tensor([1, 1, 1, 0, 1, 0, 1, 1, 0, 0, 1, 1, 1, 0, 1, 0, 1, 1, 0, 1, 0, 0, 1, 1,\n          1, 1, 0, 1, 1, 1, 1, 1]),\n  'age': tensor([25, 45, 45, 45, 35, 35, 50, 25, 56, 35, 35, 25, 35, 45, 25, 56, 45, 45,\n          25, 25, 35, 45, 50, 25, 25, 35, 45, 56, 45, 50, 50, 45]),\n  'occupation': tensor([15,  1,  0,  1,  1, 14,  1,  7, 20,  0,  4, 14,  6,  1,  3, 14,  1,  3,\n          19,  4, 20, 20,  6, 20, 14, 20, 11,  7,  6, 14, 20,  2]),\n  'city': tensor([ 61,  34, 466,  38,  59, 466, 127,   6, 242,  35, 466,   2,  15, 466,\n            7,  94,  14, 416, 175,  13, 136, 195,  51, 135, 187,   5,   2, 466,\n           65,  27,  17, 260]),\n  'state': tensor([ 9,  4, 20, 20, 20, 20,  8,  0,  0, 13,  6,  0,  7, 10,  0,  0,  6,  7,\n           1,  4,  0, 20,  4,  0,  0,  8,  0,  5,  5, 20,  1, 20]),\n  'year': tensor([1919, 1919, 1919, 1919, 1919, 1919, 1919, 1919, 1919, 1919, 1919, 1919,\n          1919, 1919, 1919, 1919, 1919, 1919, 1919, 1919, 1919, 1919, 1919, 1919,\n          1919, 1919, 1919, 1919, 1919, 1919, 1919, 1919]),\n  'genre_action': tensor([0, 0, 0, 0, 0, 0, 0, 0, 0, 0, 0, 0, 0, 0, 0, 0, 0, 0, 0, 1, 0, 0, 0, 0,\n          0, 0, 0, 0, 0, 0, 0, 1]),\n  'genre_adventure': tensor([0, 0, 0, 0, 0, 1, 0, 0, 0, 0, 0, 0, 0, 0, 0, 0, 0, 0, 0, 0, 0, 0, 0, 0,\n          0, 0, 0, 0, 0, 0, 0, 0]),\n  'genre_animation': tensor([0, 0, 0, 0, 0, 0, 0, 0, 0, 0, 0, 0, 0, 0, 0, 0, 0, 0, 0, 0, 0, 0, 0, 0,\n          0, 0, 0, 0, 0, 0, 0, 0]),\n  'genre_childrens': tensor([0, 0, 0, 0, 0, 0, 0, 0, 0, 0, 0, 0, 0, 0, 0, 0, 0, 0, 0, 0, 0, 0, 0, 0,\n          0, 0, 0, 0, 0, 0, 0, 0]),\n  'genre_comedy': tensor([1, 1, 1, 1, 1, 0, 1, 1, 1, 1, 1, 1, 1, 1, 1, 1, 1, 1, 1, 0, 1, 1, 1, 1,\n          1, 1, 1, 1, 1, 1, 1, 0]),\n  'genre_crime': tensor([0, 0, 0, 0, 0, 0, 0, 0, 0, 0, 0, 0, 0, 0, 0, 0, 0, 0, 0, 0, 0, 0, 0, 0,\n          0, 0, 0, 0, 0, 0, 0, 0]),\n  'genre_documentary': tensor([0, 0, 0, 0, 0, 0, 0, 0, 0, 0, 0, 0, 0, 0, 0, 0, 0, 0, 0, 0, 0, 0, 0, 0,\n          0, 0, 0, 0, 0, 0, 0, 0]),\n  'genre_drama': tensor([0, 0, 0, 0, 0, 1, 0, 0, 0, 0, 0, 0, 0, 0, 0, 0, 0, 0, 0, 1, 0, 0, 0, 0,\n          0, 0, 0, 0, 0, 0, 0, 1]),\n  'genre_fantasy': tensor([0, 0, 0, 0, 0, 0, 0, 0, 0, 0, 0, 0, 0, 0, 0, 0, 0, 0, 0, 0, 0, 0, 0, 0,\n          0, 0, 0, 0, 0, 0, 0, 0]),\n  'genre_filmnoir': tensor([0, 0, 0, 0, 0, 0, 0, 0, 0, 0, 0, 0, 0, 0, 0, 0, 0, 0, 0, 0, 0, 0, 0, 0,\n          0, 0, 0, 0, 0, 0, 0, 0]),\n  'genre_horror': tensor([0, 0, 0, 0, 0, 0, 0, 0, 0, 0, 0, 0, 0, 0, 0, 0, 0, 0, 0, 0, 0, 0, 0, 0,\n          0, 0, 0, 0, 0, 0, 0, 0]),\n  'genre_musical': tensor([0, 0, 0, 0, 0, 0, 0, 0, 0, 0, 0, 0, 0, 0, 0, 0, 0, 0, 0, 0, 0, 0, 0, 0,\n          0, 0, 0, 0, 0, 0, 0, 0]),\n  'genre_mystery': tensor([0, 0, 0, 0, 0, 0, 0, 0, 0, 0, 0, 0, 0, 0, 0, 0, 0, 0, 0, 0, 0, 0, 0, 0,\n          0, 0, 0, 0, 0, 0, 0, 0]),\n  'genre_romance': tensor([0, 0, 0, 0, 0, 0, 0, 0, 0, 0, 0, 0, 0, 0, 0, 0, 0, 0, 0, 0, 0, 0, 0, 0,\n          0, 0, 0, 0, 0, 0, 0, 0]),\n  'genre_scifi': tensor([0, 0, 0, 0, 0, 0, 0, 0, 0, 0, 0, 0, 0, 0, 0, 0, 0, 0, 0, 0, 0, 0, 0, 0,\n          0, 0, 0, 0, 0, 0, 0, 0]),\n  'genre_thriller': tensor([0, 0, 0, 0, 0, 0, 0, 0, 0, 0, 0, 0, 0, 0, 0, 0, 0, 0, 0, 0, 0, 0, 0, 0,\n          0, 0, 0, 0, 0, 0, 0, 0]),\n  'genre_war': tensor([0, 0, 0, 0, 0, 0, 0, 0, 0, 0, 0, 0, 0, 0, 0, 0, 0, 0, 0, 0, 0, 0, 0, 0,\n          0, 0, 0, 0, 0, 0, 0, 0]),\n  'genre_western': tensor([0, 0, 0, 0, 0, 0, 0, 0, 0, 0, 0, 0, 0, 0, 0, 0, 0, 0, 0, 0, 0, 0, 0, 0,\n          0, 0, 0, 0, 0, 0, 0, 0]),\n  'embed_0': tensor([-3.2278, -3.2278, -3.2278, -3.2278, -3.2278, -1.4783, -3.2278, -3.2278,\n          -3.2278, -3.2278, -3.2278, -3.2278, -3.2278, -3.2278, -3.2278, -3.2278,\n          -3.2278, -3.2278, -3.2278,  5.3274, -3.2278, -3.2278, -3.2278, -3.2278,\n          -3.2278, -3.2278, -3.2278, -3.2278, -3.2278, -3.2278, -3.2278,  5.3274],\n         dtype=torch.float64),\n  'embed_1': tensor([-0.0905, -0.0905, -0.0905, -0.0905, -0.0905, -0.0899, -0.0905, -0.0905,\n          -0.0905, -0.0905, -0.0905, -0.0905, -0.0905, -0.0905, -0.0905, -0.0905,\n          -0.0905, -0.0905, -0.0905, -1.1371, -0.0905, -0.0905, -0.0905, -0.0905,\n          -0.0905, -0.0905, -0.0905, -0.0905, -0.0905, -0.0905, -0.0905, -1.1371],\n         dtype=torch.float64),\n  'embed_2': tensor([ 1.2616,  1.2616,  1.2616,  1.2616,  1.2616, -0.3488,  1.2616,  1.2616,\n           1.2616,  1.2616,  1.2616,  1.2616,  1.2616,  1.2616,  1.2616,  1.2616,\n           1.2616,  1.2616,  1.2616,  0.0224,  1.2616,  1.2616,  1.2616,  1.2616,\n           1.2616,  1.2616,  1.2616,  1.2616,  1.2616,  1.2616,  1.2616,  0.0224],\n         dtype=torch.float64),\n  'embed_3': tensor([ 0.6548,  0.6548,  0.6548,  0.6548,  0.6548, -0.7970,  0.6548,  0.6548,\n           0.6548,  0.6548,  0.6548,  0.6548,  0.6548,  0.6548,  0.6548,  0.6548,\n           0.6548,  0.6548,  0.6548, -1.4486,  0.6548,  0.6548,  0.6548,  0.6548,\n           0.6548,  0.6548,  0.6548,  0.6548,  0.6548,  0.6548,  0.6548, -1.4486],\n         dtype=torch.float64),\n  'embed_4': tensor([ 0.5871,  0.5871,  0.5871,  0.5871,  0.5871,  2.0920,  0.5871,  0.5871,\n           0.5871,  0.5871,  0.5871,  0.5871,  0.5871,  0.5871,  0.5871,  0.5871,\n           0.5871,  0.5871,  0.5871, -2.0371,  0.5871,  0.5871,  0.5871,  0.5871,\n           0.5871,  0.5871,  0.5871,  0.5871,  0.5871,  0.5871,  0.5871, -2.0371],\n         dtype=torch.float64),\n  'embed_5': tensor([ 1.1163,  1.1163,  1.1163,  1.1163,  1.1163, -1.2675,  1.1163,  1.1163,\n           1.1163,  1.1163,  1.1163,  1.1163,  1.1163,  1.1163,  1.1163,  1.1163,\n           1.1163,  1.1163,  1.1163,  3.3954,  1.1163,  1.1163,  1.1163,  1.1163,\n           1.1163,  1.1163,  1.1163,  1.1163,  1.1163,  1.1163,  1.1163,  3.3954],\n         dtype=torch.float64),\n  'embed_6': tensor([ 3.0645,  3.0645,  3.0645,  3.0645,  3.0645,  3.7290,  3.0645,  3.0645,\n           3.0645,  3.0645,  3.0645,  3.0645,  3.0645,  3.0645,  3.0645,  3.0645,\n           3.0645,  3.0645,  3.0645, -1.7011,  3.0645,  3.0645,  3.0645,  3.0645,\n           3.0645,  3.0645,  3.0645,  3.0645,  3.0645,  3.0645,  3.0645, -1.7011],\n         dtype=torch.float64),\n  'embed_7': tensor([-0.3949, -0.3949, -0.3949, -0.3949, -0.3949, -0.3805, -0.3949, -0.3949,\n          -0.3949, -0.3949, -0.3949, -0.3949, -0.3949, -0.3949, -0.3949, -0.3949,\n          -0.3949, -0.3949, -0.3949, -4.7617, -0.3949, -0.3949, -0.3949, -0.3949,\n          -0.3949, -0.3949, -0.3949, -0.3949, -0.3949, -0.3949, -0.3949, -4.7617],\n         dtype=torch.float64),\n  'embed_8': tensor([-1.4985, -1.4985, -1.4985, -1.4985, -1.4985,  0.2837, -1.4985, -1.4985,\n          -1.4985, -1.4985, -1.4985, -1.4985, -1.4985, -1.4985, -1.4985, -1.4985,\n          -1.4985, -1.4985, -1.4985,  0.2152, -1.4985, -1.4985, -1.4985, -1.4985,\n          -1.4985, -1.4985, -1.4985, -1.4985, -1.4985, -1.4985, -1.4985,  0.2152],\n         dtype=torch.float64),\n  'embed_9': tensor([ 0.7480,  0.7480,  0.7480,  0.7480,  0.7480,  0.2406,  0.7480,  0.7480,\n           0.7480,  0.7480,  0.7480,  0.7480,  0.7480,  0.7480,  0.7480,  0.7480,\n           0.7480,  0.7480,  0.7480, -1.0419,  0.7480,  0.7480,  0.7480,  0.7480,\n           0.7480,  0.7480,  0.7480,  0.7480,  0.7480,  0.7480,  0.7480, -1.0419],\n         dtype=torch.float64),\n  'embed_10': tensor([-0.8427, -0.8427, -0.8427, -0.8427, -0.8427,  0.0801, -0.8427, -0.8427,\n          -0.8427, -0.8427, -0.8427, -0.8427, -0.8427, -0.8427, -0.8427, -0.8427,\n          -0.8427, -0.8427, -0.8427, -0.6382, -0.8427, -0.8427, -0.8427, -0.8427,\n          -0.8427, -0.8427, -0.8427, -0.8427, -0.8427, -0.8427, -0.8427, -0.6382],\n         dtype=torch.float64),\n  'embed_11': tensor([ 0.5493,  0.5493,  0.5493,  0.5493,  0.5493, -0.9175,  0.5493,  0.5493,\n           0.5493,  0.5493,  0.5493,  0.5493,  0.5493,  0.5493,  0.5493,  0.5493,\n           0.5493,  0.5493,  0.5493,  5.7177,  0.5493,  0.5493,  0.5493,  0.5493,\n           0.5493,  0.5493,  0.5493,  0.5493,  0.5493,  0.5493,  0.5493,  5.7177],\n         dtype=torch.float64),\n  'embed_12': tensor([-11.3576, -11.3576, -11.3576, -11.3576, -11.3576, -12.9007, -11.3576,\n          -11.3576, -11.3576, -11.3576, -11.3576, -11.3576, -11.3576, -11.3576,\n          -11.3576, -11.3576, -11.3576, -11.3576, -11.3576, -18.5922, -11.3576,\n          -11.3576, -11.3576, -11.3576, -11.3576, -11.3576, -11.3576, -11.3576,\n          -11.3576, -11.3576, -11.3576, -18.5922], dtype=torch.float64),\n  'embed_13': tensor([-0.4556, -0.4556, -0.4556, -0.4556, -0.4556,  0.1208, -0.4556, -0.4556,\n          -0.4556, -0.4556, -0.4556, -0.4556, -0.4556, -0.4556, -0.4556, -0.4556,\n          -0.4556, -0.4556, -0.4556, -3.5370, -0.4556, -0.4556, -0.4556, -0.4556,\n          -0.4556, -0.4556, -0.4556, -0.4556, -0.4556, -0.4556, -0.4556, -3.5370],\n         dtype=torch.float64),\n  'embed_14': tensor([-0.5682, -0.5682, -0.5682, -0.5682, -0.5682, -1.9190, -0.5682, -0.5682,\n          -0.5682, -0.5682, -0.5682, -0.5682, -0.5682, -0.5682, -0.5682, -0.5682,\n          -0.5682, -0.5682, -0.5682,  0.1743, -0.5682, -0.5682, -0.5682, -0.5682,\n          -0.5682, -0.5682, -0.5682, -0.5682, -0.5682, -0.5682, -0.5682,  0.1743],\n         dtype=torch.float64),\n  'embed_15': tensor([0.5117, 0.5117, 0.5117, 0.5117, 0.5117, 1.6354, 0.5117, 0.5117, 0.5117,\n          0.5117, 0.5117, 0.5117, 0.5117, 0.5117, 0.5117, 0.5117, 0.5117, 0.5117,\n          0.5117, 1.5627, 0.5117, 0.5117, 0.5117, 0.5117, 0.5117, 0.5117, 0.5117,\n          0.5117, 0.5117, 0.5117, 0.5117, 1.5627], dtype=torch.float64),\n  'embed_16': tensor([1.4649, 1.4649, 1.4649, 1.4649, 1.4649, 0.3634, 1.4649, 1.4649, 1.4649,\n          1.4649, 1.4649, 1.4649, 1.4649, 1.4649, 1.4649, 1.4649, 1.4649, 1.4649,\n          1.4649, 4.9485, 1.4649, 1.4649, 1.4649, 1.4649, 1.4649, 1.4649, 1.4649,\n          1.4649, 1.4649, 1.4649, 1.4649, 4.9485], dtype=torch.float64),\n  'embed_17': tensor([-2.4697, -2.4697, -2.4697, -2.4697, -2.4697, -1.5919, -2.4697, -2.4697,\n          -2.4697, -2.4697, -2.4697, -2.4697, -2.4697, -2.4697, -2.4697, -2.4697,\n          -2.4697, -2.4697, -2.4697,  2.8856, -2.4697, -2.4697, -2.4697, -2.4697,\n          -2.4697, -2.4697, -2.4697, -2.4697, -2.4697, -2.4697, -2.4697,  2.8856],\n         dtype=torch.float64),\n  'embed_18': tensor([-1.1962, -1.1962, -1.1962, -1.1962, -1.1962,  0.7238, -1.1962, -1.1962,\n          -1.1962, -1.1962, -1.1962, -1.1962, -1.1962, -1.1962, -1.1962, -1.1962,\n          -1.1962, -1.1962, -1.1962, -5.2075, -1.1962, -1.1962, -1.1962, -1.1962,\n          -1.1962, -1.1962, -1.1962, -1.1962, -1.1962, -1.1962, -1.1962, -5.2075],\n         dtype=torch.float64),\n  'embed_19': tensor([-7.9460e-01, -7.9460e-01, -7.9460e-01, -7.9460e-01, -7.9460e-01,\n           2.7999e-04, -7.9460e-01, -7.9460e-01, -7.9460e-01, -7.9460e-01,\n          -7.9460e-01, -7.9460e-01, -7.9460e-01, -7.9460e-01, -7.9460e-01,\n          -7.9460e-01, -7.9460e-01, -7.9460e-01, -7.9460e-01, -2.8623e+00,\n          -7.9460e-01, -7.9460e-01, -7.9460e-01, -7.9460e-01, -7.9460e-01,\n          -7.9460e-01, -7.9460e-01, -7.9460e-01, -7.9460e-01, -7.9460e-01,\n          -7.9460e-01, -2.8623e+00], dtype=torch.float64),\n  'embed_20': tensor([-0.0946, -0.0946, -0.0946, -0.0946, -0.0946,  0.6792, -0.0946, -0.0946,\n          -0.0946, -0.0946, -0.0946, -0.0946, -0.0946, -0.0946, -0.0946, -0.0946,\n          -0.0946, -0.0946, -0.0946, -1.1122, -0.0946, -0.0946, -0.0946, -0.0946,\n          -0.0946, -0.0946, -0.0946, -0.0946, -0.0946, -0.0946, -0.0946, -1.1122],\n         dtype=torch.float64),\n  'embed_21': tensor([2.8478, 2.8478, 2.8478, 2.8478, 2.8478, 2.4738, 2.8478, 2.8478, 2.8478,\n          2.8478, 2.8478, 2.8478, 2.8478, 2.8478, 2.8478, 2.8478, 2.8478, 2.8478,\n          2.8478, 4.7896, 2.8478, 2.8478, 2.8478, 2.8478, 2.8478, 2.8478, 2.8478,\n          2.8478, 2.8478, 2.8478, 2.8478, 4.7896], dtype=torch.float64),\n  'embed_22': tensor([ 2.1752,  2.1752,  2.1752,  2.1752,  2.1752, -0.7170,  2.1752,  2.1752,\n           2.1752,  2.1752,  2.1752,  2.1752,  2.1752,  2.1752,  2.1752,  2.1752,\n           2.1752,  2.1752,  2.1752, -3.9458,  2.1752,  2.1752,  2.1752,  2.1752,\n           2.1752,  2.1752,  2.1752,  2.1752,  2.1752,  2.1752,  2.1752, -3.9458],\n         dtype=torch.float64),\n  'embed_23': tensor([ 1.0343,  1.0343,  1.0343,  1.0343,  1.0343, -3.2511,  1.0343,  1.0343,\n           1.0343,  1.0343,  1.0343,  1.0343,  1.0343,  1.0343,  1.0343,  1.0343,\n           1.0343,  1.0343,  1.0343, -2.9636,  1.0343,  1.0343,  1.0343,  1.0343,\n           1.0343,  1.0343,  1.0343,  1.0343,  1.0343,  1.0343,  1.0343, -2.9636],\n         dtype=torch.float64),\n  'embed_24': tensor([-0.7503, -0.7503, -0.7503, -0.7503, -0.7503, -2.0514, -0.7503, -0.7503,\n          -0.7503, -0.7503, -0.7503, -0.7503, -0.7503, -0.7503, -0.7503, -0.7503,\n          -0.7503, -0.7503, -0.7503,  3.5077, -0.7503, -0.7503, -0.7503, -0.7503,\n          -0.7503, -0.7503, -0.7503, -0.7503, -0.7503, -0.7503, -0.7503,  3.5077],\n         dtype=torch.float64)},\n tensor([[5.],\n         [4.],\n         [5.],\n         [3.],\n         [4.],\n         [2.],\n         [2.],\n         [3.],\n         [3.],\n         [4.],\n         [3.],\n         [4.],\n         [4.],\n         [5.],\n         [3.],\n         [4.],\n         [3.],\n         [4.],\n         [3.],\n         [5.],\n         [3.],\n         [4.],\n         [4.],\n         [3.],\n         [5.],\n         [3.],\n         [4.],\n         [4.],\n         [4.],\n         [5.],\n         [4.],\n         [3.]])]"
     },
     "execution_count": 62,
     "metadata": {},
     "output_type": "execute_result"
    }
   ],
   "source": [
    "dl = DataLoader(train, 32)\n",
    "z = next(iter(dl))\n",
    "z"
   ],
   "metadata": {
    "collapsed": false
   }
  },
  {
   "cell_type": "code",
   "execution_count": null,
   "outputs": [],
   "source": [],
   "metadata": {
    "collapsed": false
   }
  },
  {
   "cell_type": "code",
   "execution_count": 86,
   "outputs": [],
   "source": [
    "user_embeds = nn.Embedding(\n",
    "    num_embeddings=max(meta['occupations'])+1,\n",
    "    embedding_dim=25\n",
    ")"
   ],
   "metadata": {
    "collapsed": false
   }
  },
  {
   "cell_type": "code",
   "execution_count": 93,
   "outputs": [
    {
     "data": {
      "text/plain": "torch.Size([32, 25])"
     },
     "execution_count": 93,
     "metadata": {},
     "output_type": "execute_result"
    }
   ],
   "source": [
    "user_embeds(z[0]['occupation']).shape"
   ],
   "metadata": {
    "collapsed": false
   }
  },
  {
   "cell_type": "code",
   "execution_count": 120,
   "outputs": [
    {
     "data": {
      "text/plain": "torch.int64"
     },
     "execution_count": 120,
     "metadata": {},
     "output_type": "execute_result"
    }
   ],
   "source": [
    "z[0]['gender'].dtype"
   ],
   "metadata": {
    "collapsed": false
   }
  },
  {
   "cell_type": "code",
   "execution_count": 121,
   "outputs": [
    {
     "data": {
      "text/plain": "tensor([[0., 0., 0., 0., 1., 0., 0., 0., 0., 0., 0., 0., 0., 0., 0., 0., 0., 0.],\n        [0., 0., 0., 0., 1., 0., 0., 0., 0., 0., 0., 0., 0., 0., 0., 0., 0., 0.],\n        [0., 0., 0., 0., 1., 0., 0., 0., 0., 0., 0., 0., 0., 0., 0., 0., 0., 0.],\n        [0., 0., 0., 0., 1., 0., 0., 0., 0., 0., 0., 0., 0., 0., 0., 0., 0., 0.],\n        [0., 0., 0., 0., 1., 0., 0., 0., 0., 0., 0., 0., 0., 0., 0., 0., 0., 0.],\n        [0., 1., 0., 0., 0., 0., 0., 1., 0., 0., 0., 0., 0., 0., 0., 0., 0., 0.],\n        [0., 0., 0., 0., 1., 0., 0., 0., 0., 0., 0., 0., 0., 0., 0., 0., 0., 0.],\n        [0., 0., 0., 0., 1., 0., 0., 0., 0., 0., 0., 0., 0., 0., 0., 0., 0., 0.],\n        [0., 0., 0., 0., 1., 0., 0., 0., 0., 0., 0., 0., 0., 0., 0., 0., 0., 0.],\n        [0., 0., 0., 0., 1., 0., 0., 0., 0., 0., 0., 0., 0., 0., 0., 0., 0., 0.],\n        [0., 0., 0., 0., 1., 0., 0., 0., 0., 0., 0., 0., 0., 0., 0., 0., 0., 0.],\n        [0., 0., 0., 0., 1., 0., 0., 0., 0., 0., 0., 0., 0., 0., 0., 0., 0., 0.],\n        [0., 0., 0., 0., 1., 0., 0., 0., 0., 0., 0., 0., 0., 0., 0., 0., 0., 0.],\n        [0., 0., 0., 0., 1., 0., 0., 0., 0., 0., 0., 0., 0., 0., 0., 0., 0., 0.],\n        [0., 0., 0., 0., 1., 0., 0., 0., 0., 0., 0., 0., 0., 0., 0., 0., 0., 0.],\n        [0., 0., 0., 0., 1., 0., 0., 0., 0., 0., 0., 0., 0., 0., 0., 0., 0., 0.],\n        [0., 0., 0., 0., 1., 0., 0., 0., 0., 0., 0., 0., 0., 0., 0., 0., 0., 0.],\n        [0., 0., 0., 0., 1., 0., 0., 0., 0., 0., 0., 0., 0., 0., 0., 0., 0., 0.],\n        [0., 0., 0., 0., 1., 0., 0., 0., 0., 0., 0., 0., 0., 0., 0., 0., 0., 0.],\n        [1., 0., 0., 0., 0., 0., 0., 1., 0., 0., 0., 0., 0., 0., 0., 0., 0., 0.],\n        [0., 0., 0., 0., 1., 0., 0., 0., 0., 0., 0., 0., 0., 0., 0., 0., 0., 0.],\n        [0., 0., 0., 0., 1., 0., 0., 0., 0., 0., 0., 0., 0., 0., 0., 0., 0., 0.],\n        [0., 0., 0., 0., 1., 0., 0., 0., 0., 0., 0., 0., 0., 0., 0., 0., 0., 0.],\n        [0., 0., 0., 0., 1., 0., 0., 0., 0., 0., 0., 0., 0., 0., 0., 0., 0., 0.],\n        [0., 0., 0., 0., 1., 0., 0., 0., 0., 0., 0., 0., 0., 0., 0., 0., 0., 0.],\n        [0., 0., 0., 0., 1., 0., 0., 0., 0., 0., 0., 0., 0., 0., 0., 0., 0., 0.],\n        [0., 0., 0., 0., 1., 0., 0., 0., 0., 0., 0., 0., 0., 0., 0., 0., 0., 0.],\n        [0., 0., 0., 0., 1., 0., 0., 0., 0., 0., 0., 0., 0., 0., 0., 0., 0., 0.],\n        [0., 0., 0., 0., 1., 0., 0., 0., 0., 0., 0., 0., 0., 0., 0., 0., 0., 0.],\n        [0., 0., 0., 0., 1., 0., 0., 0., 0., 0., 0., 0., 0., 0., 0., 0., 0., 0.],\n        [0., 0., 0., 0., 1., 0., 0., 0., 0., 0., 0., 0., 0., 0., 0., 0., 0., 0.],\n        [1., 0., 0., 0., 0., 0., 0., 1., 0., 0., 0., 0., 0., 0., 0., 0., 0., 0.]])"
     },
     "execution_count": 121,
     "metadata": {},
     "output_type": "execute_result"
    }
   ],
   "source": [
    "stack_features(z[0], 'genre').float()"
   ],
   "metadata": {
    "collapsed": false
   }
  },
  {
   "cell_type": "code",
   "execution_count": 122,
   "outputs": [
    {
     "data": {
      "text/plain": "{'2858': 0.003427283697707179,\n '260': 0.002990375011622571,\n '1196': 0.002989375220578899,\n '1210': 0.0028823975789060087,\n '480': 0.0026714416686912435,\n '2028': 0.002652445638861478,\n '589': 0.0026484464746867904,\n '2571': 0.0025894588031101498,\n '1270': 0.002582460265804447,\n '593': 0.0025774613105860873,\n '1580': 0.0025374696688392124,\n '1198': 0.0025134746837910875,\n '608': 0.0025124748927474157,\n '2762': 0.002458486176389135,\n '110': 0.002442489519690385,\n '2396': 0.002368504982458666,\n '1197': 0.0023175156392314005,\n '527': 0.0023035185646199945,\n '1617': 0.0022875219079212445,\n '1265': 0.0022775239974845256,\n '1097': 0.002268525878091479,\n '2628': 0.002249529848261713,\n '2997': 0.0022405317288686664,\n '318': 0.0022265346542572604,\n '858': 0.002222535490082573,\n '356': 0.0021935415498160883,\n '2716': 0.002180544266248354,\n '296': 0.0021705463558116356,\n '1240': 0.0020975616096235885,\n '1': 0.0020765659977064793,\n '1214': 0.00202357707239187,\n '2916': 0.0019955829231690578,\n '457': 0.0019945831321253856,\n '3578': 0.0019235979680246827,\n '1200': 0.001819619699482808,\n '541': 0.0017996238786093706,\n '2987': 0.0017986240875656988,\n '1259': 0.0017846270129542926,\n '50': 0.0017826274308669488,\n '34': 0.001750634117469449,\n '2791': 0.0017306382965960115,\n '780': 0.0017296385055523395,\n '3175': 0.0017276389234649958,\n '1193': 0.0017246395503339802,\n '919': 0.001717641013028277,\n '924': 0.0017156414309409333,\n '1127': 0.0017146416398972615,\n '2355': 0.001702644147373199,\n '1387': 0.0016966454011111678,\n '1221': 0.0016916464458928083,\n '912': 0.0016686512518883554,\n '1036': 0.0016656518787573397,\n '1213': 0.001656653759364293,\n '1610': 0.0016516548041459334,\n '377': 0.0016496552220585897,\n '1291': 0.0016276598190978085,\n '2000': 0.0016266600280541367,\n '1136': 0.0015986658788313243,\n '3114': 0.001584668804219918,\n '1307': 0.0015676723564774962,\n '1704': 0.0015476765356040587,\n '1721': 0.001545676953516715,\n '1968': 0.001538678416211012,\n '648': 0.0015266809236869495,\n '2599': 0.00152168196846859,\n '3793': 0.0015106842669881995,\n '32': 0.0015106842669881995,\n '2174': 0.0014946876102894496,\n '2797': 0.001490688446114762,\n '2291': 0.0014726922073286684,\n '2918': 0.0014726922073286684,\n '590': 0.0014506968043678872,\n '3471': 0.0014506968043678872,\n '2959': 0.0014506968043678872,\n '1374': 0.0014476974312368715,\n '2683': 0.0014337003566254653,\n '1394': 0.0014337003566254653,\n '592': 0.0014307009834944498,\n '1784': 0.0014237024461887465,\n '1573': 0.001420703073057731,\n '1304': 0.0014187034909703873,\n '3418': 0.0014167039088830435,\n '223': 0.001411704953664684,\n '380': 0.0013997074611406216,\n '2706': 0.0013887097596602311,\n '1225': 0.001381711222354528,\n '1584': 0.001381711222354528,\n '1527': 0.0013767122671361686,\n '3481': 0.0013727131029614812,\n '1923': 0.0013707135208741374,\n '2699': 0.00136671435669945,\n '750': 0.00136671435669945,\n '39': 0.0013617154014810904,\n '21': 0.0013557166552190592,\n '1393': 0.0013527172820880437,\n '2804': 0.0013517174910443717,\n '588': 0.0013507177000007,\n '2406': 0.0013447189537386687,\n '1220': 0.0013407197895639812,\n '733': 0.0013397199985203093,\n '1230': 0.001333721252258278,\n '3176': 0.0013307218791272623,\n '1961': 0.0013297220880835905,\n '3751': 0.0013287222970399185,\n '1079': 0.001325722923908903,\n '908': 0.0013147252224285123,\n '3408': 0.0013147252224285123,\n '1073': 0.0013127256403411686,\n '3623': 0.0013127256403411686,\n '1356': 0.001309726267210153,\n '3527': 0.0012967289836424186,\n '2700': 0.0012687348344196062,\n '1219': 0.001262736088157575,\n '1247': 0.0012607365060702312,\n '1089': 0.0012587369239828875,\n '1544': 0.0012547377598082,\n '1222': 0.0012537379687645282,\n '150': 0.0012507385956335125,\n '3753': 0.001239740894153122,\n '111': 0.001239740894153122,\n '2710': 0.0012367415210221063,\n '2657': 0.0012327423568474188,\n '357': 0.0012327423568474188,\n '1094': 0.0012287431926727313,\n '2985': 0.0012287431926727313,\n '1206': 0.0012287431926727313,\n '3147': 0.0012217446553670283,\n '2640': 0.0012217446553670283,\n '2395': 0.0012197450732796846,\n '3421': 0.0012067477897119501,\n '1517': 0.0012047482076246064,\n '1641': 0.0011987494613625751,\n '1278': 0.001192750715100544,\n '1252': 0.001184752386751169,\n '367': 0.0011787536404891377,\n '1358': 0.001176754058401794,\n '1208': 0.0011757542673581222,\n '2100': 0.0011627569837903877,\n '1676': 0.0011627569837903877,\n '2529': 0.001161757192746716,\n '2321': 0.0011577580285720285,\n '2011': 0.0011577580285720285,\n '920': 0.0011557584464846847,\n '2324': 0.0011517592823099972,\n '2012': 0.0011477601181353098,\n '1090': 0.0011427611629169503,\n '47': 0.001136762416654919,\n '1500': 0.0011357626256112473,\n '1370': 0.0011347628345675753,\n '1954': 0.001128764088305544,\n '1673': 0.0011277642972618723,\n '2194': 0.0011267645062182003,\n '2115': 0.0011267645062182003,\n '1376': 0.0011257647151745286,\n '587': 0.0011237651330871848,\n '364': 0.001120765759956169,\n '3253': 0.0011197659689124973,\n '3671': 0.0011187661778688253,\n '1288': 0.0011177663868251536,\n '923': 0.0011157668047378098,\n '316': 0.0011157668047378098,\n '3160': 0.001112767431606794,\n '1242': 0.0011117676405631223,\n '1917': 0.0011097680584757786,\n '736': 0.0011097680584757786,\n '3255': 0.001098770356995388,\n '1294': 0.001098770356995388,\n '1732': 0.0010967707749080441,\n '3361': 0.0010947711928207004,\n '1396': 0.001090772028646013,\n '2763': 0.0010887724465586692,\n '1258': 0.0010867728644713254,\n '2302': 0.0010857730734276537,\n '3448': 0.0010817739092529662,\n '1653': 0.0010767749540346067,\n '1608': 0.001075775162990935,\n '1391': 0.0010737755809035912,\n '2692': 0.0010717759988162474,\n '2455': 0.0010707762077725755,\n '3702': 0.0010657772525542162,\n '3081': 0.0010657772525542162,\n '2268': 0.0010607782973358567,\n '595': 0.001059778506292185,\n '349': 0.001058778715248513,\n '969': 0.0010567791331611693,\n '3256': 0.00105178017794281,\n '904': 0.0010497805958554663,\n '1234': 0.0010487808048117943,\n '597': 0.0010457814316807788,\n '1674': 0.0010457814316807788,\n '2054': 0.0010447816406371068,\n '913': 0.001042782058549763,\n '2081': 0.001034783730200388,\n '3703': 0.0010337839391567163,\n '11': 0.0010327841481130443,\n '1377': 0.0010307845660257006,\n '2890': 0.0010207866555889818,\n '3755': 0.0010127883272396069,\n '2001': 0.0010107887451522631,\n '1028': 0.0010107887451522631,\n '2968': 0.0010097889541085914,\n '1101': 0.0010097889541085914,\n '2617': 0.0010067895809775756,\n '2407': 0.0010057897899339039,\n '1682': 0.0010047899988902319,\n '1233': 0.0010007908347155444,\n '1372': 0.0010007908347155444,\n '1266': 0.000996791670540857,\n '1909': 0.0009957918794971851,\n '551': 0.0009957918794971851,\n '3897': 0.0009937922974098414,\n '3363': 0.000989793133235154,\n '329': 0.000989793133235154,\n '1183': 0.000988793342191482,\n '3052': 0.000988793342191482,\n '2353': 0.0009877935511478102,\n '539': 0.0009857939690604664,\n '2006': 0.0009827945959294507,\n '3072': 0.000981794804885779,\n '25': 0.0009797952227984352,\n '2289': 0.0009777956407110914,\n '1408': 0.0009747962675800757,\n '474': 0.0009717968944490601,\n '2105': 0.0009697973123617164,\n '3552': 0.0009667979392307007,\n '1639': 0.0009657981481870289,\n '1552': 0.0009538006556629664,\n '440': 0.0009478019094009352,\n '788': 0.0009478019094009352,\n '3108': 0.0009448025362699195,\n '2712': 0.0009448025362699195,\n '1215': 0.0009448025362699195,\n '1282': 0.0009428029541825758,\n '6': 0.0009398035810515602,\n '2336': 0.0009378039989642164,\n '1250': 0.0009378039989642164,\n '2746': 0.0009358044168768727,\n '2770': 0.0009348046258332008,\n '1276': 0.0009298056706148415,\n '1207': 0.0009278060885274977,\n '36': 0.0009278060885274977,\n '235': 0.0009268062974838258,\n '1375': 0.0009268062974838258,\n '1080': 0.000925806506440154,\n '1320': 0.0009248067153964821,\n '293': 0.0009228071333091383,\n '70': 0.0009138090139160915,\n '2248': 0.0009138090139160915,\n '1199': 0.0009128092228724196,\n '2470': 0.0009118094318287478,\n '1777': 0.0009088100586977321,\n '1912': 0.0009078102676540603,\n '3555': 0.0009078102676540603,\n '1747': 0.0009068104766103884,\n '903': 0.0009048108945230446,\n '2701': 0.000901811521392029,\n '3033': 0.0008988121482610134,\n '2947': 0.0008968125661736697,\n '1876': 0.0008948129840863259,\n '10': 0.0008878144467806228,\n '1407': 0.0008858148646932791,\n '3210': 0.0008858148646932791,\n '1997': 0.0008848150736496072,\n '1179': 0.0008848150736496072,\n '3006': 0.0008838152826059353,\n '3499': 0.0008838152826059353,\n '1129': 0.0008838152826059353,\n '1625': 0.0008818157005185916,\n '1035': 0.0008818157005185916,\n '1148': 0.0008818157005185916,\n '1748': 0.0008738173721692166,\n '3174': 0.0008738173721692166,\n '2502': 0.0008718177900818729,\n '3107': 0.0008688184169508572,\n '3699': 0.0008648192527761697,\n '2080': 0.0008638194617324979,\n '3082': 0.0008618198796451541,\n '1722': 0.0008618198796451541,\n '3948': 0.0008618198796451541,\n '1953': 0.0008608200886014823,\n '3608': 0.0008608200886014823,\n '1246': 0.000854821342339451,\n '2723': 0.0008528217602521073,\n '2915': 0.0008518219692084354,\n '2908': 0.0008498223871210917,\n '2641': 0.0008458232229464042,\n '2369': 0.0008398244766843729,\n '3039': 0.0008388246856407011,\n '3543': 0.0008388246856407011,\n '500': 0.0008378248945970292,\n '2424': 0.0008378248945970292,\n '2352': 0.0008378248945970292,\n '17': 0.0008348255214660136,\n '910': 0.000831826148334998,\n '1204': 0.0008308263572913261,\n '1645': 0.0008258274020729667,\n '2108': 0.0008248276110292949,\n '165': 0.0008248276110292949,\n '454': 0.000823827819985623,\n '1201': 0.0008218282378982792,\n '3510': 0.0008208284468546074,\n '1569': 0.0008198286558109355,\n '1380': 0.0008168292826799199,\n '3809': 0.0008168292826799199,\n '1597': 0.0008108305364178886,\n '3526': 0.0008108305364178886,\n '3450': 0.0008088309543305449,\n '2167': 0.0008088309543305449,\n '2393': 0.0008068313722432011,\n '2278': 0.0008058315811995293,\n '1285': 0.0008028322080685137,\n '2427': 0.0008028322080685137,\n '2193': 0.0008018324170248418,\n '2002': 0.0008018324170248418,\n '3101': 0.0008018324170248418,\n '368': 0.0008018324170248418,\n '2058': 0.0007988330438938262,\n '2064': 0.0007978332528501543,\n '1994': 0.0007948338797191387,\n '3354': 0.0007928342976317949,\n '1371': 0.0007918345065881231,\n '2694': 0.0007908347155444512,\n '3624': 0.0007908347155444512,\n '2243': 0.0007888351334571074,\n '2021': 0.0007888351334571074,\n '1060': 0.0007858357603260918,\n '2881': 0.0007858357603260918,\n '3424': 0.0007808368051077325,\n '2671': 0.0007798370140640606,\n '1690': 0.0007788372230203887,\n '2605': 0.000776837640933045,\n '153': 0.000776837640933045,\n '2003': 0.0007758378498893731,\n '2023': 0.0007738382678020294,\n '2020': 0.0007728384767583575,\n '2490': 0.0007728384767583575,\n '265': 0.0007718386857146856,\n '2948': 0.0007708388946710137,\n '1302': 0.0007678395215399981,\n '344': 0.0007658399394526544,\n '785': 0.0007648401484089825,\n '3104': 0.0007648401484089825,\n '1267': 0.0007648401484089825,\n '3362': 0.0007648401484089825,\n '594': 0.0007628405663216388,\n '1947': 0.000760840984234295,\n '161': 0.0007598411931906231,\n '3386': 0.0007558420290159357,\n '2366': 0.0007558420290159357,\n '1513': 0.0007548422379722638,\n '778': 0.0007508430737975763,\n '899': 0.0007508430737975763,\n '1092': 0.0007508430737975763,\n '1965': 0.0007508430737975763,\n '2826': 0.0007498432827539044,\n '1231': 0.0007498432827539044,\n '2391': 0.0007448443275355451,\n '1077': 0.0007438445364918732,\n '3396': 0.0007438445364918732,\n '2872': 0.0007418449544045294,\n '1275': 0.0007408451633608576,\n '2288': 0.0007408451633608576,\n '1663': 0.0007398453723171857,\n '253': 0.000737845790229842,\n '2094': 0.0007358462081424982,\n '353': 0.0007338466260551545,\n '1249': 0.0007328468350114826,\n '292': 0.0007328468350114826,\n '1333': 0.0007328468350114826,\n '1299': 0.0007318470439678107,\n '3698': 0.000729847461880467,\n '2871': 0.0007288476708367951,\n '953': 0.0007288476708367951,\n '1729': 0.0007238487156184357,\n '2580': 0.0007228489245747639,\n '3704': 0.000721849133531092,\n '3489': 0.000721849133531092,\n '529': 0.0007198495514437482,\n '1466': 0.0007188497604000764,\n '2144': 0.0007188497604000764,\n '1244': 0.0007178499693564045,\n '246': 0.0007158503872690608,\n '2005': 0.0007158503872690608,\n '968': 0.0007148505962253889,\n '2124': 0.000713850805181717,\n '2160': 0.0007118512230943733,\n '3148': 0.0007108514320507014,\n '2140': 0.0007098516410070295,\n '2944': 0.0007068522678760139,\n '266': 0.0007048526857886702,\n '300': 0.0007048526857886702,\n '1287': 0.0007038528947449983,\n '2359': 0.0007028531037013264,\n '2': 0.0007008535216139827,\n '3763': 0.0007008535216139827,\n '288': 0.0006998537305703108,\n '2572': 0.0006998537305703108,\n '1263': 0.0006998537305703108,\n '2161': 0.0006988539395266389,\n '1235': 0.0006968543574392952,\n '1262': 0.0006958545663956233,\n '2150': 0.0006948547753519514,\n '337': 0.0006928551932646077,\n '2145': 0.0006928551932646077,\n '3868': 0.0006918554022209358,\n '2688': 0.000690855611177264,\n '3504': 0.0006878562380462483,\n '1088': 0.0006868564470025765,\n '1343': 0.0006868564470025765,\n '1084': 0.0006858566559589046,\n '434': 0.0006858566559589046,\n '104': 0.0006818574917842171,\n '543': 0.0006818574917842171,\n '141': 0.0006818574917842171,\n '16': 0.0006818574917842171,\n '1093': 0.0006798579096968734,\n '3105': 0.0006798579096968734,\n '708': 0.0006788581186532015,\n '1228': 0.0006768585365658577,\n '902': 0.0006758587455221859,\n '1188': 0.0006758587455221859,\n '586': 0.000674858954478514,\n '2761': 0.0006738591634348421,\n '2405': 0.0006728593723911702,\n '339': 0.0006728593723911702,\n '1339': 0.0006718595813474984,\n '1269': 0.0006718595813474984,\n '1293': 0.0006708597903038265,\n '1918': 0.0006688602082164828,\n '3476': 0.000666860626129139,\n '497': 0.000666860626129139,\n '1831': 0.000666860626129139,\n '3263': 0.000666860626129139,\n '3247': 0.0006658608350854671,\n '1485': 0.0006658608350854671,\n '2078': 0.0006638612529981234,\n '1883': 0.0006638612529981234,\n '1952': 0.0006628614619544515,\n '231': 0.0006598620888234359,\n '555': 0.0006578625067360922,\n '3863': 0.0006578625067360922,\n '2300': 0.0006578625067360922,\n '745': 0.0006568627156924203,\n '3911': 0.0006568627156924203,\n '2076': 0.0006538633425614047,\n '1962': 0.0006518637604740609,\n '3638': 0.0006518637604740609,\n '208': 0.000650863969430389,\n '2724': 0.0006498641783867172,\n '2949': 0.0006458650142120297,\n '2294': 0.0006448652231683578,\n '1272': 0.0006448652231683578,\n '441': 0.0006428656410810141,\n '3697': 0.0006428656410810141,\n '317': 0.0006408660589936703,\n '442': 0.0006398662679499985,\n '2329': 0.0006398662679499985,\n '3005': 0.0006398662679499985,\n '95': 0.0006378666858626547,\n '914': 0.000635867103775311,\n '1960': 0.000635867103775311,\n '2527': 0.000635867103775311,\n '2707': 0.0006338675216879672,\n '1957': 0.0006338675216879672,\n '800': 0.0006298683575132797,\n '3535': 0.0006298683575132797,\n '3591': 0.000627868775425936,\n '2019': 0.000627868775425936,\n '2664': 0.000627868775425936,\n '3683': 0.000627868775425936,\n '1711': 0.000627868775425936,\n '2273': 0.0006268689843822641,\n '2528': 0.0006258691933385922,\n '1959': 0.0006258691933385922,\n '3257': 0.0006258691933385922,\n '1805': 0.0006258691933385922,\n '2542': 0.0006248694022949204,\n '24': 0.0006238696112512485,\n '2581': 0.0006238696112512485,\n '2616': 0.0006238696112512485,\n '3100': 0.0006228698202075766,\n '2013': 0.0006218700291639048,\n '610': 0.0006178708649892173,\n '1203': 0.0006158712829018735,\n '2539': 0.0006158712829018735,\n '1172': 0.0006148714918582016,\n '852': 0.0006148714918582016,\n '1037': 0.0006148714918582016,\n '3785': 0.0006128719097708579,\n '1373': 0.0006128719097708579,\n '1921': 0.0006128719097708579,\n '2433': 0.000611872118727186,\n '653': 0.000611872118727186,\n '3070': 0.0006108723276835142,\n '1885': 0.0006078729545524985,\n '509': 0.0006078729545524985,\n '1562': 0.0006058733724651548,\n '198': 0.0006048735814214829,\n '3301': 0.0006018742082904673,\n '471': 0.0005988748351594517,\n '2371': 0.0005988748351594517,\n '2722': 0.0005978750441157798,\n '1256': 0.0005938758799410923,\n '2087': 0.0005938758799410923,\n '1271': 0.0005928760888974205,\n '1292': 0.0005908765068100767,\n '3037': 0.0005908765068100767,\n '3360': 0.0005898767157664048,\n '3298': 0.0005898767157664048,\n '2018': 0.000588876924722733,\n '2501': 0.0005878771336790611,\n '3717': 0.0005838779695043736,\n '3740': 0.0005838779695043736,\n '3044': 0.0005828781784607017,\n '2686': 0.0005828781784607017,\n '898': 0.0005818783874170299,\n '2394': 0.0005788790142860142,\n '2333': 0.0005778792232423424,\n '3273': 0.0005768794321986705,\n '1022': 0.0005768794321986705,\n '1019': 0.0005748798501113267,\n '466': 0.000572880268023983,\n '2109': 0.000572880268023983,\n '866': 0.0005718804769803111,\n '1587': 0.0005718804769803111,\n '1095': 0.0005708806859366393,\n '112': 0.0005698808948929674,\n '2478': 0.0005688811038492955,\n '185': 0.0005688811038492955,\n '1029': 0.0005678813128056236,\n '1345': 0.0005668815217619518,\n '160': 0.000564881939674608,\n '2662': 0.000564881939674608,\n '2085': 0.000564881939674608,\n '2717': 0.000564881939674608,\n '832': 0.0005638821486309362,\n '173': 0.0005638821486309362,\n '2067': 0.0005638821486309362,\n '3113': 0.0005638821486309362,\n '1479': 0.0005628823575872643,\n '673': 0.0005628823575872643,\n '1186': 0.0005618825665435924,\n '1378': 0.0005618825665435924,\n '508': 0.0005608827754999205,\n '1296': 0.0005598829844562487,\n '3752': 0.0005598829844562487,\n '3893': 0.0005588831934125768,\n '1253': 0.0005588831934125768,\n '2541': 0.0005588831934125768,\n '3060': 0.0005578834023689049,\n '2792': 0.0005578834023689049,\n '1586': 0.000556883611325233,\n '2976': 0.000556883611325233,\n '3252': 0.0005548840292378893,\n '151': 0.0005538842381942174,\n '1967': 0.0005538842381942174,\n '553': 0.0005528844471505456,\n '3435': 0.0005508848650632018,\n '196': 0.0005498850740195299,\n '2795': 0.0005488852829758581,\n '1321': 0.0005488852829758581,\n '3098': 0.0005478854919321862,\n '1261': 0.0005478854919321862,\n '1357': 0.0005478854919321862,\n '3685': 0.0005448861188011706,\n '45': 0.0005438863277574987,\n '3300': 0.000541886745670155,\n '3479': 0.000541886745670155,\n '3614': 0.000541886745670155,\n '1779': 0.0005408869546264831,\n '62': 0.0005408869546264831,\n '1284': 0.0005408869546264831,\n '2133': 0.0005408869546264831,\n '163': 0.0005398871635828112,\n '2046': 0.0005358879994081237,\n '3745': 0.0005348882083644519,\n '3438': 0.00053388841732078,\n '3524': 0.00053388841732078,\n '435': 0.0005328886262771081,\n '2598': 0.0005328886262771081,\n '1958': 0.0005298892531460925,\n '552': 0.0005288894621024206,\n '1042': 0.0005278896710587487,\n '1911': 0.0005268898800150769,\n '661': 0.0005248902979277331,\n '1032': 0.0005248902979277331,\n '3020': 0.0005238905068840613,\n '2384': 0.0005228907158403894,\n '2951': 0.0005218909247967175,\n '3095': 0.0005208911337530456,\n '3157': 0.0005198913427093738,\n '3359': 0.0005198913427093738,\n '1945': 0.0005188915516657019,\n '342': 0.00051789176062203,\n '2863': 0.00051789176062203,\n '3087': 0.0005158921785346863,\n '2423': 0.0005148923874910144,\n '350': 0.0005148923874910144,\n '1248': 0.0005138925964473425,\n '2245': 0.0005138925964473425,\n '2428': 0.0005128928054036707,\n '3264': 0.0005118930143599988,\n '2642': 0.0005108932233163269,\n '849': 0.0005108932233163269,\n '2096': 0.0005108932233163269,\n '2134': 0.000509893432272655,\n '3178': 0.0005088936412289832,\n '1956': 0.0005068940591416394,\n '1635': 0.0005068940591416394,\n '2469': 0.0005058942680979676,\n '1982': 0.0005058942680979676,\n '3534': 0.0005048944770542957,\n '2917': 0.0005038946860106238,\n '3701': 0.0005038946860106238,\n '3654': 0.0005018951039232801,\n '58': 0.0005008953128796082,\n '838': 0.0005008953128796082,\n '485': 0.0004998955218359363,\n '1882': 0.0004988957307922644,\n '1476': 0.0004988957307922644,\n '596': 0.0004978959397485926,\n '1590': 0.0004978959397485926,\n '3203': 0.0004968961487049207,\n '2137': 0.0004968961487049207,\n '3317': 0.0004958963576612488,\n '3735': 0.000494896566617577,\n '2126': 0.000494896566617577,\n '2986': 0.0004928969845302332,\n '1834': 0.0004928969845302332,\n '2420': 0.0004928969845302332,\n '1589': 0.0004918971934865613,\n '162': 0.0004908974024428895,\n '1907': 0.0004898976113992176,\n '3536': 0.0004888978203555457,\n '3635': 0.0004868982382682019,\n '2841': 0.0004868982382682019,\n '3168': 0.0004848986561808582,\n '628': 0.0004848986561808582,\n '3173': 0.00048289907409351443,\n '1104': 0.00048289907409351443,\n '3267': 0.00048289907409351443,\n '2186': 0.00048189928304984256,\n '1441': 0.0004808994920061707,\n '2454': 0.0004798997009624988,\n '3260': 0.0004798997009624988,\n '1212': 0.0004798997009624988,\n '1059': 0.00047889990991882694,\n '2065': 0.00047889990991882694,\n '3': 0.00047790011887515507,\n '562': 0.00047790011887515507,\n '3827': 0.00047790011887515507,\n '3269': 0.0004769003278314832,\n '2421': 0.0004769003278314832,\n '247': 0.0004769003278314832,\n '524': 0.0004759005367878113,\n '2719': 0.0004759005367878113,\n '1405': 0.00047490074574413945,\n '1644': 0.00047490074574413945,\n '3246': 0.00047490074574413945,\n '2463': 0.00047490074574413945,\n '1591': 0.00047490074574413945,\n '3441': 0.00047490074574413945,\n '1678': 0.0004739009547004676,\n '1041': 0.0004739009547004676,\n '2431': 0.0004739009547004676,\n '2912': 0.0004739009547004676,\n '1223': 0.0004729011636567957,\n '1257': 0.00047190137261312383,\n '1694': 0.00047090158156945196,\n '2088': 0.00047090158156945196,\n '1894': 0.00047090158156945196,\n '922': 0.0004699017905257801,\n '2311': 0.0004699017905257801,\n '1566': 0.0004689019994821082,\n '345': 0.0004689019994821082,\n '2734': 0.0004659026263510926,\n '1680': 0.00046390304426374886,\n '2533': 0.000462903253220077,\n '410': 0.000462903253220077,\n '3798': 0.000462903253220077,\n '1449': 0.0004619034621764051,\n '1385': 0.00046090367113273324,\n '3639': 0.00046090367113273324,\n '3334': 0.00046090367113273324,\n '786': 0.00045990388008906137,\n '2973': 0.00045990388008906137,\n '2735': 0.0004589040890453895,\n '3409': 0.0004589040890453895,\n '7': 0.0004579042980017176,\n '172': 0.0004579042980017176,\n '2313': 0.00045690450695804575,\n '671': 0.0004559047159143739,\n '1120': 0.0004559047159143739,\n '348': 0.000454904924870702,\n '1717': 0.000454904924870702,\n '3512': 0.00045390513382703013,\n '1185': 0.00045290534278335826,\n '3730': 0.00045290534278335826,\n '1254': 0.00045290534278335826,\n '3159': 0.00045290534278335826,\n '1274': 0.0004519055517396864,\n '1955': 0.0004519055517396864,\n '1049': 0.0004509057606960145,\n '1347': 0.0004509057606960145,\n '180': 0.0004509057606960145,\n '2788': 0.0004509057606960145,\n '3468': 0.00044990596965234264,\n '2739': 0.00044990596965234264,\n '515': 0.00044990596965234264,\n '994': 0.00044990596965234264,\n '1792': 0.0004479063875649989,\n '3706': 0.0004479063875649989,\n '2805': 0.0004479063875649989,\n '3016': 0.000446906596521327,\n '3219': 0.000446906596521327,\n '3358': 0.00044590680547765515,\n '2409': 0.0004449070144339833,\n '930': 0.0004449070144339833,\n '2926': 0.0004449070144339833,\n '3545': 0.00044290743234663953,\n '2413': 0.00044290743234663953,\n '933': 0.00044290743234663953,\n '1297': 0.00044190764130296766,\n '2687': 0.00044190764130296766,\n '647': 0.0004409078502592958,\n '2253': 0.0004399080592156239,\n '2116': 0.00043790847712828017,\n '3274': 0.00043790847712828017,\n '720': 0.00043790847712828017,\n '3916': 0.0004369086860846083,\n '379': 0.00043590889504093643,\n '3791': 0.00043490910399726456,\n '1081': 0.0004339093129535927,\n '2450': 0.0004339093129535927,\n '1047': 0.0004339093129535927,\n '3254': 0.0004329095219099208,\n '144': 0.0004329095219099208,\n '3186': 0.00043090993982257707,\n '52': 0.00043090993982257707,\n '3869': 0.00043090993982257707,\n '2759': 0.0004299101487789052,\n '3261': 0.0004289103577352333,\n '2966': 0.0004289103577352333,\n '372': 0.00042791056669156145,\n '1614': 0.00042791056669156145,\n '802': 0.0004269107756478896,\n '2728': 0.0004259109846042177,\n '1224': 0.0004259109846042177,\n '2989': 0.00042491119356054583,\n '916': 0.00042491119356054583,\n '3285': 0.0004229116114732021,\n '2991': 0.0004219118204295302,\n '2009': 0.0004219118204295302,\n '3035': 0.00042091202938585834,\n '2713': 0.00042091202938585834,\n '3744': 0.00042091202938585834,\n '3513': 0.00041991223834218647,\n '2335': 0.00041991223834218647,\n '1100': 0.00041991223834218647,\n '2840': 0.0004189124472985146,\n '3617': 0.0004189124472985146,\n '303': 0.0004179126562548427,\n '585': 0.0004179126562548427,\n '2375': 0.0004179126562548427,\n '909': 0.00041691286521117085,\n '748': 0.00041691286521117085,\n '724': 0.000415913074167499,\n '494': 0.000415913074167499,\n '2125': 0.000415913074167499,\n '3019': 0.000415913074167499,\n '2622': 0.0004149132831238271,\n '1171': 0.0004149132831238271,\n '2471': 0.00041391349208015523,\n '3686': 0.00041291370103648336,\n '2378': 0.00041291370103648336,\n '955': 0.00041291370103648336,\n '370': 0.0004119139099928115,\n '333': 0.00040991432790546774,\n '2485': 0.00040991432790546774,\n '2600': 0.00040991432790546774,\n '1350': 0.00040891453686179587,\n '3844': 0.000407914745818124,\n '1135': 0.00040691495477445213,\n '2648': 0.00040591516373078026,\n '3826': 0.0004049153726871084,\n '1124': 0.0004049153726871084,\n '2993': 0.0004039155816434365,\n '2141': 0.0004039155816434365,\n '1283': 0.00040291579059976464,\n '29': 0.00040291579059976464,\n '3259': 0.00040291579059976464,\n '926': 0.00040291579059976464,\n '1103': 0.00040191599955609277,\n '2402': 0.0004009162085124209,\n '1892': 0.0004009162085124209,\n '2410': 0.0004009162085124209,\n '3551': 0.000399916417468749,\n '1499': 0.00039891662642507715,\n '2857': 0.00039891662642507715,\n '3185': 0.0003979168353814053,\n '951': 0.0003969170443377334,\n '2403': 0.0003969170443377334,\n '1616': 0.00039491746225038966,\n '1620': 0.00039491746225038966,\n '2702': 0.00039491746225038966,\n '3196': 0.0003939176712067178,\n '3083': 0.0003939176712067178,\n '1020': 0.00039191808911937404,\n '1409': 0.00039191808911937404,\n '432': 0.00039191808911937404,\n '1801': 0.00039091829807570217,\n '2672': 0.00039091829807570217,\n '2919': 0.00039091829807570217,\n '2690': 0.0003899185070320303,\n '783': 0.0003899185070320303,\n '532': 0.0003889187159883584,\n '3507': 0.0003889187159883584,\n '19': 0.0003889187159883584,\n '3952': 0.00038791892494468655,\n '2010': 0.00038791892494468655,\n '1754': 0.00038791892494468655,\n '1298': 0.0003869191339010147,\n '1888': 0.0003869191339010147,\n '105': 0.0003869191339010147,\n '674': 0.0003859193428573428,\n '224': 0.0003859193428573428,\n '2334': 0.0003859193428573428,\n '928': 0.0003859193428573428,\n '784': 0.00038491955181367093,\n '2990': 0.00038491955181367093,\n '2794': 0.00038491955181367093,\n '1125': 0.00038491955181367093,\n '2718': 0.0003829199697263272,\n '272': 0.0003829199697263272,\n '954': 0.0003829199697263272,\n '3156': 0.0003829199697263272,\n '48': 0.0003819201786826553,\n '517': 0.0003819201786826553,\n '1411': 0.0003819201786826553,\n '2053': 0.00038092038763898344,\n '1719': 0.00038092038763898344,\n '2398': 0.00037992059659531157,\n '3705': 0.00037992059659531157,\n '2015': 0.00037992059659531157,\n '1459': 0.00037992059659531157,\n '3068': 0.0003789208055516397,\n '1086': 0.0003789208055516397,\n '164': 0.0003789208055516397,\n '2414': 0.0003789208055516397,\n '22': 0.00037792101450796783,\n '940': 0.00037792101450796783,\n '2411': 0.0003749216413769522,\n '3836': 0.0003749216413769522,\n '2808': 0.0003749216413769522,\n '1061': 0.00037392185033328034,\n '520': 0.00037392185033328034,\n '2468': 0.00037392185033328034,\n '905': 0.00037392185033328034,\n '1091': 0.00037292205928960847,\n '1301': 0.00037292205928960847,\n '2720': 0.00037292205928960847,\n '2565': 0.0003719222682459366,\n '1078': 0.0003719222682459366,\n '1914': 0.0003719222682459366,\n '2004': 0.0003719222682459366,\n '2301': 0.0003709224772022647,\n '1388': 0.00036992268615859285,\n '2139': 0.000368922895114921,\n '1379': 0.000368922895114921,\n '3618': 0.000368922895114921,\n '431': 0.000368922895114921,\n '1175': 0.0003679231040712491,\n '1556': 0.00036692331302757723,\n '252': 0.00036692331302757723,\n '2110': 0.00036692331302757723,\n '1835': 0.00036592352198390536,\n '3250': 0.00036592352198390536,\n '2247': 0.0003649237309402335,\n '2530': 0.0003649237309402335,\n '915': 0.0003649237309402335,\n '3712': 0.0003649237309402335,\n '3508': 0.0003649237309402335,\n '1944': 0.0003639239398965616,\n '1920': 0.0003639239398965616,\n '1367': 0.0003639239398965616,\n '1277': 0.00036292414885288974,\n '2118': 0.00036292414885288974,\n '1619': 0.00036192435780921787,\n '145': 0.00036192435780921787,\n '168': 0.00036192435780921787,\n '2942': 0.00036192435780921787,\n '1344': 0.000360924566765546,\n '2082': 0.000360924566765546,\n '3525': 0.0003599247757218741,\n '2496': 0.0003599247757218741,\n '3811': 0.0003599247757218741,\n '3201': 0.00035892498467820225,\n '3684': 0.0003579251936345304,\n '3397': 0.0003579251936345304,\n '327': 0.0003579251936345304,\n '1245': 0.0003579251936345304,\n '2532': 0.0003579251936345304,\n '60': 0.0003569254025908585,\n '1217': 0.0003569254025908585,\n '2747': 0.00035592561154718663,\n '3088': 0.00035592561154718663,\n '3668': 0.00035592561154718663,\n '216': 0.00035492582050351476,\n '2143': 0.00035492582050351476,\n '2297': 0.00035492582050351476,\n '1327': 0.00035492582050351476,\n '3505': 0.00035492582050351476,\n '1518': 0.0003539260294598429,\n '2416': 0.0003539260294598429,\n '3152': 0.0003539260294598429,\n '2861': 0.0003539260294598429,\n '1916': 0.0003539260294598429,\n '3067': 0.000352926238416171,\n '3633': 0.000352926238416171,\n '3461': 0.000352926238416171,\n '1810': 0.000352926238416171,\n '420': 0.00035192644737249914,\n '2146': 0.00035192644737249914,\n '3062': 0.00035192644737249914,\n '1238': 0.00035092665632882727,\n '1693': 0.00035092665632882727,\n '546': 0.0003499268652851554,\n '3451': 0.0003499268652851554,\n '376': 0.0003499268652851554,\n '1537': 0.0003499268652851554,\n '468': 0.0003499268652851554,\n '230': 0.00034892707424148353,\n '1603': 0.00034792728319781166,\n '1950': 0.00034792728319781166,\n '3927': 0.00034792728319781166,\n '2112': 0.0003459277011104679,\n '232': 0.0003459277011104679,\n '514': 0.0003459277011104679,\n '2803': 0.0003459277011104679,\n '2950': 0.0003459277011104679,\n '2231': 0.00034492791006679604,\n '2779': 0.00034492791006679604,\n '3000': 0.00034492791006679604,\n '3615': 0.00034492791006679604,\n '1096': 0.00034392811902312417,\n '1027': 0.00034392811902312417,\n '2340': 0.00034392811902312417,\n '805': 0.00034392811902312417,\n '2474': 0.0003429283279794523,\n '900': 0.0003429283279794523,\n '3034': 0.0003429283279794523,\n '3593': 0.0003419285369357804,\n '3053': 0.00034092874589210855,\n '2953': 0.00034092874589210855,\n '3398': 0.00034092874589210855,\n '2995': 0.00034092874589210855,\n '3249': 0.0003399289548484367,\n '3258': 0.0003389291638047648,\n '3688': 0.0003389291638047648,\n '799': 0.00033792937276109293,\n '1334': 0.00033792937276109293,\n '3770': 0.00033792937276109293,\n '531': 0.00033792937276109293,\n '1687': 0.00033692958171742106,\n '492': 0.0003349299996300773,\n '306': 0.00033393020858640544,\n '3155': 0.00033293041754273357,\n '2643': 0.0003319306264990617,\n '3452': 0.0003309308354553898,\n '2312': 0.0003309308354553898,\n '2390': 0.00032993104441171795,\n '2901': 0.00032993104441171795,\n '1300': 0.00032993104441171795,\n '222': 0.0003289312533680461,\n '2827': 0.0003279314623243742,\n '3271': 0.0003279314623243742,\n '3556': 0.0003279314623243742,\n '3265': 0.00032693167128070233,\n '3071': 0.00032693167128070233,\n '236': 0.00032593188023703046,\n '2262': 0.00032593188023703046,\n '2303': 0.0003249320891933586,\n '2376': 0.0003249320891933586,\n '3681': 0.0003249320891933586,\n '1243': 0.0003249320891933586,\n '3198': 0.0003249320891933586,\n '880': 0.0003239322981496867,\n '2467': 0.0003239322981496867,\n '1030': 0.00032293250710601484,\n '3244': 0.00032193271606234297,\n '170': 0.0003209329250186711,\n '1672': 0.0003209329250186711,\n '1438': 0.0003209329250186711,\n '3528': 0.0003209329250186711,\n '3494': 0.00031993313397499923,\n '2318': 0.00031993313397499923,\n '69': 0.00031893334293132735,\n '2819': 0.00031893334293132735,\n '1769': 0.00031893334293132735,\n '1031': 0.00031893334293132735,\n ...}"
     },
     "execution_count": 122,
     "metadata": {},
     "output_type": "execute_result"
    }
   ],
   "source": [
    "meta['movie']"
   ],
   "metadata": {
    "collapsed": false
   }
  },
  {
   "cell_type": "code",
   "execution_count": null,
   "outputs": [],
   "source": [],
   "metadata": {
    "collapsed": false
   }
  }
 ],
 "metadata": {
  "kernelspec": {
   "display_name": "Python 3",
   "language": "python",
   "name": "python3"
  },
  "language_info": {
   "codemirror_mode": {
    "name": "ipython",
    "version": 2
   },
   "file_extension": ".py",
   "mimetype": "text/x-python",
   "name": "python",
   "nbconvert_exporter": "python",
   "pygments_lexer": "ipython2",
   "version": "2.7.6"
  }
 },
 "nbformat": 4,
 "nbformat_minor": 0
}
